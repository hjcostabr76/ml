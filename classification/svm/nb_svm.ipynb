{
 "cells": [
  {
   "cell_type": "markdown",
   "metadata": {},
   "source": [
    "# SVM: Support Vector Machine\n",
    "\n",
    "    Not linear classification algorithm"
   ]
  },
  {
   "cell_type": "markdown",
   "metadata": {},
   "source": [
    "Imports"
   ]
  },
  {
   "cell_type": "code",
   "execution_count": 1,
   "metadata": {},
   "outputs": [],
   "source": [
    "import math\n",
    "\n",
    "\n",
    "import numpy as np\n",
    "import pandas as pd\n",
    "import matplotlib.pyplot as plt\n",
    "import math\n",
    "\n",
    "from scipy import stats\n",
    "from sklearn import model_selection\n",
    "from sklearn import svm"
   ]
  },
  {
   "cell_type": "markdown",
   "metadata": {},
   "source": [
    "## Generate Data set"
   ]
  },
  {
   "cell_type": "markdown",
   "metadata": {},
   "source": [
    "Generator took from [here](https://gist.github.com/45deg/e731d9e7f478de134def5668324c44c5)"
   ]
  },
  {
   "cell_type": "code",
   "execution_count": 2,
   "metadata": {},
   "outputs": [],
   "source": [
    "N = 500\n",
    "\n",
    "# Generate points\n",
    "theta = np.sqrt(np.random.rand(N))*2*np.pi # np.linspace(0,2*pi,100)\n",
    "\n",
    "r_a = 2*theta + np.pi\n",
    "data_a = np.array([np.cos(theta)*r_a, np.sin(theta)*r_a]).T\n",
    "x_a = data_a + np.random.randn(N,2)\n",
    "\n",
    "r_b = -2*theta - np.pi\n",
    "data_b = np.array([np.cos(theta)*r_b, np.sin(theta)*r_b]).T\n",
    "x_b = data_b + np.random.randn(N,2)\n",
    "\n",
    "res_a = np.append(x_a, np.zeros((N,1)), axis=1)\n",
    "res_b = np.append(x_b, np.ones((N,1)), axis=1)\n",
    "\n",
    "res = np.append(res_a, res_b, axis=0)\n",
    "np.random.shuffle(res)\n",
    "\n",
    "\n",
    "# Save DS File\n",
    "ds = pd.DataFrame(columns=['x', 'y', 'label'], data=res)\n",
    "# np.savetxt(\"result.csv\", res, delimiter=\",\", header=\"x,y,label\", comments=\"\", fmt='%.5f')"
   ]
  },
  {
   "cell_type": "markdown",
   "metadata": {},
   "source": [
    "Plot DS"
   ]
  },
  {
   "cell_type": "code",
   "execution_count": 3,
   "metadata": {},
   "outputs": [],
   "source": [
    "\n",
    "# plt.rcParams[\"figure.figsize\"] = (10, 10)\n",
    "# plt.scatter(x_a[:,0],x_a[:,1])\n",
    "# plt.scatter(x_b[:,0],x_b[:,1])\n",
    "# plt.show()"
   ]
  },
  {
   "cell_type": "markdown",
   "metadata": {},
   "source": [
    "Split data (train x test)"
   ]
  },
  {
   "cell_type": "code",
   "execution_count": 4,
   "metadata": {},
   "outputs": [],
   "source": [
    "\n",
    "# Set parameters\n",
    "class1 = 1\n",
    "class2 = 0\n",
    "\n",
    "isReproduceble = True\n",
    "randomState = 100 if isReproduceble else None\n",
    "\n",
    "features = ds[ ['x', 'y'] ]\n",
    "labels = ds['label']\n",
    "testSize = .4\n",
    "\n",
    "# Split data\n",
    "xTrain, xTest, yTrain, yTest = model_selection.train_test_split(features, labels, test_size=testSize, random_state=randomState)\n",
    "\n",
    "# Test DF\n",
    "rows = xTest.shape[0]\n",
    "cols = xTest.shape[1] + 1\n",
    "testDF = np.zeros( (rows, cols) )\n",
    "testDF[:, 0:2] = xTest\n",
    "testDF[:, -1] = yTest\n",
    "testDF = pd.DataFrame(data=testDF, columns=['x', 'y', 'label'])\n",
    "\n",
    "# Train DF\n",
    "rows = xTrain.shape[0]\n",
    "cols = xTrain.shape[1] + 1\n",
    "trainDF = np.zeros( (rows, cols) )\n",
    "trainDF[:, 0:2] = xTrain\n",
    "trainDF[:, -1] = yTrain\n",
    "trainDF = pd.DataFrame(data=trainDF, columns=['x', 'y', 'label'])\n"
   ]
  },
  {
   "cell_type": "markdown",
   "metadata": {},
   "source": [
    "## Parameters Selection\n",
    "\n",
    "Here we simulate the classification for many parameters configurations. Every simulation is visualized through a graph.\n",
    "\n",
    "- The graphs have the _class 01_ training samples as light `blue dots`;\n",
    "- The class 02 training samples as `white dots`;\n",
    "- _Class 01 correctly predicted_ test samples as `blue circles`;\n",
    "- _Class 02 correctly predicted_ test samples as `yellow circles`;\n",
    "- _Class 01 wrongly predicted_ test samples as `red crosses`;\n",
    "- _Class 02 wrongly predicted_ test samples as `pink crosses`;"
   ]
  },
  {
   "cell_type": "code",
   "execution_count": null,
   "metadata": {},
   "outputs": [],
   "source": [
    "# Svm params\n",
    "kernels = ['linear', 'poly', 'rbf', 'sigmoid']\n",
    "cValues = [1, 2, 3, 5, 8]\n",
    "\n",
    "pDegrees = [2] # For degrees greater than 02 the process takes a HUGH time...\n",
    "pDegreeKenels = ['poly']\n",
    "\n",
    "gammaValues = [.5, 1, 1.5, 3, 5] # ['scale', 'auto']\n",
    "gammaKernels = ['poly', 'rbf', 'sigmoid']\n",
    "\n",
    "# Graphs grid params\n",
    "colHeight = 6\n",
    "colWidth = 7\n",
    "legendLocation = 'lower left'\n",
    "\n",
    "# Plotter \n",
    "def plotOne(a: plt.subplot2grid, x: np.array, y: np.array, title = 'svm', color = 'w', marker = '.', label = '') -> None:\n",
    "    a.scatter(x, y, color=color, marker=marker, label=label)\n",
    "    a.set_title(title)\n",
    "    a.legend(loc=legendLocation)\n",
    "\n",
    "# Plot simulations\n",
    "for kernel in kernels:\n",
    "    \n",
    "    isUsingPDegree = kernel in pDegreeKenels\n",
    "    pDegreesToTest = pDegrees if isUsingPDegree else [1]\n",
    "\n",
    "    isUsingGamma = kernel in gammaKernels\n",
    "    gammasToTest = gammaValues if isUsingGamma else [1]\n",
    "\n",
    "    nRows = len(pDegreesToTest)\n",
    "    nCols = len(gammasToTest)\n",
    "    gridShape = (nRows, nCols)\n",
    "    \n",
    "    for c in cValues:\n",
    "\n",
    "        # Create grid\n",
    "        figure = plt.figure(figsize=(colWidth*nCols, colHeight*nRows))\n",
    "        figure.suptitle('SVM - Kernel: ' + str(kernel) + ' | C = ' + str(c))\n",
    "        \n",
    "        for row, pDegree in enumerate(pDegreesToTest):\n",
    "            for col, gamma in enumerate(gammasToTest):\n",
    "                \n",
    "                # Train\n",
    "                classifier = svm.SVC(C=c, kernel=kernel, degree=pDegree, gamma=gamma)\n",
    "                classifier.fit(trainDF[ ['x', 'y'] ], trainDF['label'])\n",
    "                approxY = classifier.predict(xTest)\n",
    "                accuracy = np.sum(approxY == yTest) / yTest.shape[0]\n",
    "                accuracyTxt = 'Accuracy: {:.4f} %'.format(100*accuracy)\n",
    "\n",
    "                # Plot training points\n",
    "                a = plt.subplot2grid(gridShape, (row, col), fig=figure)\n",
    "                plotTitle1 = 'pDegree = ' + str(pDegree) if isUsingPDegree else ''\n",
    "                plotTitle2 = 'gamma = ' + str(gamma) if isUsingGamma else ''\n",
    "                plotTitle = plotTitle1+ ' | ' +plotTitle2 if (plotTitle1 and plotTitle2) else plotTitle1+plotTitle2\n",
    "\n",
    "                c1Points = trainDF[ trainDF['label'] == class1 ]\n",
    "                c2Points = trainDF[ trainDF['label'] == class2 ]\n",
    "\n",
    "                plotOne(a=a, x=c1Points['x'].values, y=c1Points['y'].values, title=plotTitle, color='c', label=accuracyTxt)\n",
    "                plotOne(a=a, x=c2Points['x'].values, y=c2Points['y'].values, title=plotTitle, color='w')\n",
    "\n",
    "                # Plot valid test points\n",
    "                validPoints = testDF[testDF['label'] == approxY]\n",
    "                validC1 = validPoints[ validPoints['label'] == class1 ]\n",
    "                validC2 = validPoints[ validPoints['label'] == class2 ]\n",
    "\n",
    "                plotOne(a=a, x=validC1['x'].values, y=validC1['y'].values, title=plotTitle, color='b', marker='*')\n",
    "                plotOne(a=a, x=validC2['x'].values, y=validC2['y'].values, title=plotTitle, color='y', marker='*')\n",
    "\n",
    "                # Plot invalid test points\n",
    "                invalidPoints = testDF[testDF['label'] != approxY]\n",
    "                invalidC1 = invalidPoints[ invalidPoints['label'] == class1 ]\n",
    "                invalidC2 = invalidPoints[ invalidPoints['label'] == class2 ]\n",
    "\n",
    "                plotOne(a=a, x=invalidC1['x'].values, y=invalidC1['y'].values, title=plotTitle, color='r', marker='X')\n",
    "                plotOne(a=a, x=invalidC2['x'].values, y=invalidC2['y'].values, title=plotTitle, color='m', marker='X')\n",
    "\n",
    "        plt.savefig('./file/out_graph-svm-kernel-'+ str(kernel) + '-c=' + str(c))"
   ]
  }
 ],
 "metadata": {
  "interpreter": {
   "hash": "916dbcbb3f70747c44a77c7bcd40155683ae19c65e1c03b4aa3499c5328201f1"
  },
  "kernelspec": {
   "display_name": "Python 3.8.10 64-bit",
   "language": "python",
   "name": "python3"
  },
  "language_info": {
   "codemirror_mode": {
    "name": "ipython",
    "version": 3
   },
   "file_extension": ".py",
   "mimetype": "text/x-python",
   "name": "python",
   "nbconvert_exporter": "python",
   "pygments_lexer": "ipython3",
   "version": "3.8.10"
  },
  "orig_nbformat": 4
 },
 "nbformat": 4,
 "nbformat_minor": 2
}
