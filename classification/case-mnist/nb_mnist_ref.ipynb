{
  "cells": [
    {
      "cell_type": "markdown",
      "metadata": {
        "id": "EhCPywrF2TVr"
      },
      "source": [
        "# **Exercise 1**\n",
        "étudiants : \n",
        "  João Pedro ARAUJO FERREIRA CAMPOS et Fabrício VELLONE\n",
        "\n",
        "\n"
      ]
    },
    {
      "cell_type": "markdown",
      "metadata": {
        "id": "kcrRQaPjK8_r"
      },
      "source": [
        "import libraries"
      ]
    },
    {
      "cell_type": "code",
      "execution_count": null,
      "metadata": {
        "id": "dVrHEUEi2qk8",
        "vscode": {
          "languageId": "python"
        }
      },
      "outputs": [],
      "source": [
        "import torch\n",
        "import torch.nn as nn\n",
        "import torch.nn.functional as F\n",
        "import torch.optim as optim\n",
        "import torchvision\n",
        "\n",
        "from torch.utils.tensorboard import SummaryWriter\n"
      ]
    },
    {
      "cell_type": "markdown",
      "metadata": {
        "id": "HdHSc74Ep2F4"
      },
      "source": [
        "# MNIST DATASET"
      ]
    },
    {
      "cell_type": "markdown",
      "metadata": {
        "id": "P5Zq2XY8qFbe"
      },
      "source": [
        "Définition des paramètres"
      ]
    },
    {
      "cell_type": "code",
      "execution_count": null,
      "metadata": {
        "colab": {
          "base_uri": "https://localhost:8080/"
        },
        "id": "-N8a7rGLED8l",
        "outputId": "3b1925e4-1ce1-4e40-9505-ab9929e8f31f",
        "vscode": {
          "languageId": "python"
        }
      },
      "outputs": [
        {
          "data": {
            "text/plain": [
              "device(type='cuda', index=0)"
            ]
          },
          "execution_count": 3,
          "metadata": {},
          "output_type": "execute_result"
        }
      ],
      "source": [
        "# parameters and hyper parameters\n",
        "# batch_size_train is batch size; D_in is input dimension;\n",
        "# H is hidden dimension; D_out is output dimension.\n",
        "# N, D_in, H, D_out = 64, 1000, 100, 10\n",
        "D_in = 28 * 28 # Dimensoes das imagens (tem que ser)\n",
        "H = 100 # H -> camada escondida (dimensao: 100 i.e: 10 neuronios / unidades)\n",
        "D_out = 10 # 10 classes\n",
        "\n",
        "num_epochs = 10\n",
        "\n",
        "learning_rate = 0.01\n",
        "w_decay = 1e-3\n",
        "momentum = 0.9\n",
        "\n",
        "batch_size_train = 64\n",
        "batch_size_test = 1000\n",
        "\n",
        "DEVICE = torch.device(\"cuda:0\" if torch.cuda.is_available() else \"cpu\")"
      ]
    },
    {
      "cell_type": "markdown",
      "metadata": {
        "id": "i1qlSNKs1XbS"
      },
      "source": [
        "On télécharge les données de MNIST:"
      ]
    },
    {
      "cell_type": "code",
      "execution_count": null,
      "metadata": {
        "colab": {
          "base_uri": "https://localhost:8080/",
          "height": 423,
          "referenced_widgets": [
            "30f40d5bbc2e4c189bb468c992a6ef01",
            "cd0887edc43a4fb8a1056daa44671a08",
            "0d8fbdbf26b44dd894d9ba8fd5397363",
            "9b363be7c8fc485e8930330395d6d7cc",
            "6eed40c6ccf940eeb8cac784c351aa1a",
            "f148126438d74366be073c3ffda11bba",
            "2241ba7ce86c4bbeb709a90a493e42f1",
            "817714eef49541dd970acb244effa86a",
            "e39b7686a50d40a2ad36cd973a62ae4f",
            "b46899de39b24b44bf79b95c3b8404dc",
            "de1d7f8182004c0392decfbf43b37a11",
            "4b84481d86824c08bf2162731860de8e",
            "f8d6a2a6b2b34e93ba8e9a69e49942d1",
            "ea9e480c7d094c5383eab08d80398fe1",
            "eaabbadc11134e1c89abf844d76febfb",
            "f099359e18b24e868d9b7b64fcdb3e9e",
            "f40e93cc34d448b8a8efa1a967e09357",
            "16be2b4a29164418becc5d822e9d48a0",
            "9da1799f1c3b414a94fcf0bd167dd339",
            "73889ad9342e42ec80a865266c40b6f9",
            "f784e6ca56b1469aab465b6d1b727e88",
            "77c22b93b5664db582960cd87e944f4e",
            "31a5fc449e3149f39fa2612708e622aa",
            "f9ee97d69e564df58d9f76ef17bfdb6f",
            "4e5923fd51194d4c8d5cc06241d7763a",
            "be69f191aa7348a89e72b3c5cde2b094",
            "5108b8dfa05c43809845917c75e4bcd2",
            "5631a6f51bb540d890bbae6bafed4ebb",
            "72d5a52ed47e4001b0a848b281f56f45",
            "cb2c974afe4343a395b918f28a653bd6",
            "e1c90090be244604aac1426096fc285b",
            "b75cfbe7a3614a4bbad5d477c07143c9",
            "82ddeed28e59443db3e57915f2fd77f2",
            "4210d78e6a4746e2b6d6d3f9bdc9d05c",
            "22389b21d19f419bb22f9ef3a276da7f",
            "4862f53d74694719a736a748b3de5c8f",
            "f3de7f40010d4d1cb061600b2df47ba0",
            "d847b3d69a31494cb25f8416c295dcd3",
            "82a1b936accb4a1682c449b5ffcf0922",
            "8839cb7fa92d4fb5abbad71437cc0ce3",
            "7dc5c07d1dc249ad9e3bfa287b44f901",
            "81b5a070499942379e6252efbc4b23be",
            "e2593e5d99814786891afa6e98979941",
            "f5db0127931943b7a798c92bd465228b"
          ]
        },
        "id": "KpDYcCTwqST6",
        "outputId": "8cd6b7fc-e22a-4d12-cdc3-d51dc8d0a916",
        "vscode": {
          "languageId": "python"
        }
      },
      "outputs": [],
      "source": [
        "#moyenne = 0.1307 ; std deviation = 0.3081 ; pour normalisation des données\n",
        "train_loader = torch.utils.data.DataLoader(\n",
        "  torchvision.datasets.MNIST('/files/', train=True, download=True,\n",
        "                             transform=torchvision.transforms.Compose([\n",
        "                               torchvision.transforms.ToTensor(),\n",
        "                               torchvision.transforms.Normalize(\n",
        "                                 (0.1307,), (0.3081,))\n",
        "                             ])),\n",
        "  batch_size=batch_size_train, shuffle=True)\n",
        "\n",
        "test_loader = torch.utils.data.DataLoader(\n",
        "  torchvision.datasets.MNIST('/files/', train=False, download=True,\n",
        "                             transform=torchvision.transforms.Compose([\n",
        "                               torchvision.transforms.ToTensor(),\n",
        "                               torchvision.transforms.Normalize(\n",
        "                                 (0.1307,), (0.3081,))\n",
        "                             ])),\n",
        "  batch_size=batch_size_test, shuffle=True)"
      ]
    },
    {
      "cell_type": "markdown",
      "metadata": {
        "id": "rbs1q454rnDX"
      },
      "source": [
        "Visualisation des données:"
      ]
    },
    {
      "cell_type": "code",
      "execution_count": null,
      "metadata": {
        "colab": {
          "base_uri": "https://localhost:8080/",
          "height": 551
        },
        "id": "qY5b8_VBrfK-",
        "outputId": "86cc8eb3-12a7-472c-9528-d27bd544e6f3",
        "vscode": {
          "languageId": "python"
        }
      },
      "outputs": [
        {
          "data": {
            "image/png": "[encoded data removed]",
            "text/plain": [
              "<Figure size 432x288 with 6 Axes>"
            ]
          },
          "execution_count": 14,
          "metadata": {},
          "output_type": "execute_result"
        },
        {
          "data": {
            "image/png": "[encoded data removed]",
            "text/plain": [
              "<Figure size 432x288 with 6 Axes>"
            ]
          },
          "metadata": {},
          "output_type": "display_data"
        }
      ],
      "source": [
        "examples = enumerate(test_loader)\n",
        "batch_idx, (example_data, example_targets) = next(examples)\n",
        "\n",
        "import matplotlib.pyplot as plt\n",
        "\n",
        "fig = plt.figure()\n",
        "for i in range(6):\n",
        "  plt.subplot(2,3,i+1)\n",
        "  plt.tight_layout()\n",
        "  plt.imshow(example_data[i][0], cmap='gray', interpolation='none')\n",
        "  plt.title(\"Ground Truth: {}\".format(example_targets[i]))\n",
        "  plt.xticks([])\n",
        "  plt.yticks([])\n",
        "fig"
      ]
    },
    {
      "cell_type": "markdown",
      "metadata": {
        "id": "D3uP74aRDdMQ"
      },
      "source": [
        "# Simple DNN"
      ]
    },
    {
      "cell_type": "markdown",
      "metadata": {
        "id": "p484A_rWLDOQ"
      },
      "source": [
        "Define the simple network :"
      ]
    },
    {
      "cell_type": "code",
      "execution_count": null,
      "metadata": {
        "id": "1G09dyXaEi-M",
        "vscode": {
          "languageId": "python"
        }
      },
      "outputs": [],
      "source": [
        "class Net(nn.Module):\n",
        "  # Toda rede é uma classe que extende nn.Module\n",
        "  # No min tem que implementar esses 02 metodos\n",
        "  # Pode ter varios forwards\n",
        "  # auxilares: e.g: definir estatisticas, etc.\n",
        "\n",
        "\n",
        "\n",
        "    # Censarios comuns\n",
        "      # regressao -> nao usa funcao de ativacao na saida (equivale a func identidade)\n",
        "      # classificacao binaria -> Regressao logistica\n",
        "      # classificacao multiclasse -> softmax (transforma tudo em distribuicao) / depois tira o max\n",
        "\n",
        "  def __init__(self):\n",
        "    # construtor pode ser qqr coisa\n",
        "    # boa pratica: Pasasr numero de classes como parametro\n",
        "    super(Net, self).__init__()\n",
        "    self.fc1 = nn.Linear(D_in, H) # FC: Fully connected (pq é linear)\n",
        "    self.fc2 = nn.Linear(H, D_out) # Cada camada eh 01 matriz / isso é 01 jeito bonito de multiplicar matrizes\n",
        "    # Cada camada é 01 matriz multiplicando\n",
        "    # multiplicação de matriz é a coisa mais linear que tem\n",
        "    # coisa linear é 'inutil'\n",
        "    # RNA sem func ativacao é multiplicacao de matriz\n",
        "    # func ativacao vai entrar na funcao forward\n",
        "\n",
        "  def forward(self, x):\n",
        "    # Voce que tem que implementar\n",
        "    # Normalmente vc passa por todas as camadas\n",
        "    \n",
        "    # flatten\n",
        "    x = x.view(-1,784)\n",
        "    x = F.relu(self.fc1(x))\n",
        "    x = self.fc2(x)\n",
        "    return x"
      ]
    },
    {
      "cell_type": "markdown",
      "metadata": {
        "id": "CcEqLwoO3RW7"
      },
      "source": [
        "Initialisation\n"
      ]
    },
    {
      "cell_type": "code",
      "execution_count": null,
      "metadata": {
        "id": "yhSdr6ii3OzE",
        "vscode": {
          "languageId": "python"
        }
      },
      "outputs": [],
      "source": [
        "model = Net()\n",
        "model = model.to(DEVICE) #pour utiliser GPU (cuda)\n",
        "# Aqui: Modelo ta na gpu\n",
        "# Falta jogar as imagens pra gpu tb\n"
      ]
    },
    {
      "cell_type": "markdown",
      "metadata": {
        "id": "jJuqc1ln7Fkf"
      },
      "source": [
        "Lancer l'optimizer"
      ]
    },
    {
      "cell_type": "code",
      "execution_count": null,
      "metadata": {
        "id": "1Puih-zX3XLX",
        "vscode": {
          "languageId": "python"
        }
      },
      "outputs": [],
      "source": [
        "\n",
        "# se quiser usar gpu tem que jogar tudo na gpu (nao esquecer)\n",
        "\n",
        "criterion = nn.CrossEntropyLoss() # criterio -> funcao de custo (esses nomes sao padrao)\n",
        "#  entropia cruzada pq tem n classes\n",
        "# se fosse binario -> entropia binaria\n",
        "# se fosse regressao -> minimos quadrados\n",
        "\n",
        "\n",
        "# Funcao de custo é 01 superficie\n",
        "# queremos achar o vale dela\n",
        "# sgd: sthocastic gradient descent\n",
        "# adam: outra opcao muito usada hoje em dia (tem mais uns 10 se quiser)\n",
        "# decaimento: fator de regularizacao (manter a norma dos pesos prox de zero. Isso deixa o modelo mais simples e evita OF) / nao tem a ver com grad vanishing\n",
        "# com 02 camadas n precisa preocupar com o vaninshing (eh mais comum em rnn. mlp & cnn sofre menos com isso)\n",
        "# Momento: tem a ver com a inercia do gradiente (se eu detectar 01 plato é inutil andar pouquinho. Mas NAO é variar o passo)\n",
        "# Estrategia de variar o passo é feito usando mais de 01 otimizador\n",
        "# usa media dos gradientes passados pra nao deixar o gradiente variar demais\n",
        "optimizer = optim.SGD(model.parameters(), lr=learning_rate, weight_decay = w_decay, momentum=momentum)\n"
      ]
    },
    {
      "cell_type": "markdown",
      "metadata": {
        "id": "aHOTKN6docrj"
      },
      "source": [
        "Train the simple net"
      ]
    },
    {
      "cell_type": "code",
      "execution_count": null,
      "metadata": {
        "colab": {
          "base_uri": "https://localhost:8080/",
          "height": 1000
        },
        "id": "1B_FuPFRogyX",
        "outputId": "bf7cb2cc-4643-4531-8f82-300bdfc94e74",
        "vscode": {
          "languageId": "python"
        }
      },
      "outputs": [
        {
          "name": "stdout",
          "output_type": "stream",
          "text": [
            "Train Epoch: 0 [0/60000 (0%)]\tLoss: 2.316399\n",
            "Train Epoch: 0 [6400/60000 (11%)]\tLoss: 0.265884\n",
            "Train Epoch: 0 [12800/60000 (21%)]\tLoss: 0.372636\n",
            "Train Epoch: 0 [19200/60000 (32%)]\tLoss: 0.366651\n",
            "Train Epoch: 0 [25600/60000 (43%)]\tLoss: 0.123314\n",
            "Train Epoch: 0 [32000/60000 (53%)]\tLoss: 0.222799\n",
            "Train Epoch: 0 [38400/60000 (64%)]\tLoss: 0.499310\n",
            "Train Epoch: 0 [44800/60000 (75%)]\tLoss: 0.315674\n",
            "Train Epoch: 0 [51200/60000 (85%)]\tLoss: 0.251282\n",
            "Train Epoch: 0 [57600/60000 (96%)]\tLoss: 0.115809\n",
            "Epoch 0 average train loss: 0.004465833763343592\n",
            "Epoch 0 average train accuracy: 0.9164833426475525\n",
            "\n",
            "Train Epoch: 1 [0/60000 (0%)]\tLoss: 0.188906\n",
            "Train Epoch: 1 [6400/60000 (11%)]\tLoss: 0.102209\n",
            "Train Epoch: 1 [12800/60000 (21%)]\tLoss: 0.104020\n",
            "Train Epoch: 1 [19200/60000 (32%)]\tLoss: 0.073171\n",
            "Train Epoch: 1 [25600/60000 (43%)]\tLoss: 0.070918\n",
            "Train Epoch: 1 [32000/60000 (53%)]\tLoss: 0.093207\n",
            "Train Epoch: 1 [38400/60000 (64%)]\tLoss: 0.100714\n",
            "Train Epoch: 1 [44800/60000 (75%)]\tLoss: 0.049638\n",
            "Train Epoch: 1 [51200/60000 (85%)]\tLoss: 0.048908\n",
            "Train Epoch: 1 [57600/60000 (96%)]\tLoss: 0.094004\n",
            "Epoch 1 average train loss: 0.0019555450982258965\n",
            "Epoch 1 average train accuracy: 0.9641166925430298\n",
            "\n",
            "Train Epoch: 2 [0/60000 (0%)]\tLoss: 0.042432\n",
            "Train Epoch: 2 [6400/60000 (11%)]\tLoss: 0.130819\n",
            "Train Epoch: 2 [12800/60000 (21%)]\tLoss: 0.032957\n",
            "Train Epoch: 2 [19200/60000 (32%)]\tLoss: 0.015414\n",
            "Train Epoch: 2 [25600/60000 (43%)]\tLoss: 0.076374\n",
            "Train Epoch: 2 [32000/60000 (53%)]\tLoss: 0.095745\n",
            "Train Epoch: 2 [38400/60000 (64%)]\tLoss: 0.056025\n",
            "Train Epoch: 2 [44800/60000 (75%)]\tLoss: 0.027898\n",
            "Train Epoch: 2 [51200/60000 (85%)]\tLoss: 0.101059\n",
            "Train Epoch: 2 [57600/60000 (96%)]\tLoss: 0.099635\n",
            "Epoch 2 average train loss: 0.0014309918529198816\n",
            "Epoch 2 average train accuracy: 0.9738333225250244\n",
            "\n",
            "Train Epoch: 3 [0/60000 (0%)]\tLoss: 0.061204\n",
            "Train Epoch: 3 [6400/60000 (11%)]\tLoss: 0.083489\n",
            "Train Epoch: 3 [12800/60000 (21%)]\tLoss: 0.059039\n",
            "Train Epoch: 3 [19200/60000 (32%)]\tLoss: 0.163964\n",
            "Train Epoch: 3 [25600/60000 (43%)]\tLoss: 0.107501\n",
            "Train Epoch: 3 [32000/60000 (53%)]\tLoss: 0.060378\n",
            "Train Epoch: 3 [38400/60000 (64%)]\tLoss: 0.049272\n",
            "Train Epoch: 3 [44800/60000 (75%)]\tLoss: 0.056605\n",
            "Train Epoch: 3 [51200/60000 (85%)]\tLoss: 0.065410\n",
            "Train Epoch: 3 [57600/60000 (96%)]\tLoss: 0.132869\n",
            "Epoch 3 average train loss: 0.00114924813209412\n",
            "Epoch 3 average train accuracy: 0.9783999919891357\n",
            "\n",
            "Train Epoch: 4 [0/60000 (0%)]\tLoss: 0.109669\n",
            "Train Epoch: 4 [6400/60000 (11%)]\tLoss: 0.055929\n",
            "Train Epoch: 4 [12800/60000 (21%)]\tLoss: 0.019940\n",
            "Train Epoch: 4 [19200/60000 (32%)]\tLoss: 0.064668\n",
            "Train Epoch: 4 [25600/60000 (43%)]\tLoss: 0.079950\n",
            "Train Epoch: 4 [32000/60000 (53%)]\tLoss: 0.118538\n",
            "Train Epoch: 4 [38400/60000 (64%)]\tLoss: 0.116508\n",
            "Train Epoch: 4 [44800/60000 (75%)]\tLoss: 0.111634\n",
            "Train Epoch: 4 [51200/60000 (85%)]\tLoss: 0.051030\n",
            "Train Epoch: 4 [57600/60000 (96%)]\tLoss: 0.039590\n",
            "Epoch 4 average train loss: 0.0009897186916011074\n",
            "Epoch 4 average train accuracy: 0.9820166826248169\n",
            "\n",
            "Train Epoch: 5 [0/60000 (0%)]\tLoss: 0.030891\n",
            "Train Epoch: 5 [6400/60000 (11%)]\tLoss: 0.086163\n",
            "Train Epoch: 5 [12800/60000 (21%)]\tLoss: 0.180399\n",
            "Train Epoch: 5 [19200/60000 (32%)]\tLoss: 0.056990\n",
            "Train Epoch: 5 [25600/60000 (43%)]\tLoss: 0.083107\n",
            "Train Epoch: 5 [32000/60000 (53%)]\tLoss: 0.026379\n",
            "Train Epoch: 5 [38400/60000 (64%)]\tLoss: 0.076760\n",
            "Train Epoch: 5 [44800/60000 (75%)]\tLoss: 0.020706\n",
            "Train Epoch: 5 [51200/60000 (85%)]\tLoss: 0.010329\n",
            "Train Epoch: 5 [57600/60000 (96%)]\tLoss: 0.022144\n",
            "Epoch 5 average train loss: 0.0008731051705855255\n",
            "Epoch 5 average train accuracy: 0.984083354473114\n",
            "\n",
            "Train Epoch: 6 [0/60000 (0%)]\tLoss: 0.106714\n",
            "Train Epoch: 6 [6400/60000 (11%)]\tLoss: 0.054623\n",
            "Train Epoch: 6 [12800/60000 (21%)]\tLoss: 0.039435\n",
            "Train Epoch: 6 [19200/60000 (32%)]\tLoss: 0.038512\n",
            "Train Epoch: 6 [25600/60000 (43%)]\tLoss: 0.075107\n",
            "Train Epoch: 6 [32000/60000 (53%)]\tLoss: 0.067527\n",
            "Train Epoch: 6 [38400/60000 (64%)]\tLoss: 0.038672\n",
            "Train Epoch: 6 [44800/60000 (75%)]\tLoss: 0.048166\n",
            "Train Epoch: 6 [51200/60000 (85%)]\tLoss: 0.040849\n",
            "Train Epoch: 6 [57600/60000 (96%)]\tLoss: 0.053918\n",
            "Epoch 6 average train loss: 0.0007907415721798316\n",
            "Epoch 6 average train accuracy: 0.9861833453178406\n",
            "\n",
            "Train Epoch: 7 [0/60000 (0%)]\tLoss: 0.074404\n",
            "Train Epoch: 7 [6400/60000 (11%)]\tLoss: 0.052539\n",
            "Train Epoch: 7 [12800/60000 (21%)]\tLoss: 0.062082\n",
            "Train Epoch: 7 [19200/60000 (32%)]\tLoss: 0.067094\n",
            "Train Epoch: 7 [25600/60000 (43%)]\tLoss: 0.066890\n",
            "Train Epoch: 7 [32000/60000 (53%)]\tLoss: 0.039671\n",
            "Train Epoch: 7 [38400/60000 (64%)]\tLoss: 0.037484\n",
            "Train Epoch: 7 [44800/60000 (75%)]\tLoss: 0.100789\n",
            "Train Epoch: 7 [51200/60000 (85%)]\tLoss: 0.028715\n",
            "Train Epoch: 7 [57600/60000 (96%)]\tLoss: 0.079553\n",
            "Epoch 7 average train loss: 0.0007290978362046493\n",
            "Epoch 7 average train accuracy: 0.9875333309173584\n",
            "\n",
            "Train Epoch: 8 [0/60000 (0%)]\tLoss: 0.042559\n",
            "Train Epoch: 8 [6400/60000 (11%)]\tLoss: 0.058958\n",
            "Train Epoch: 8 [12800/60000 (21%)]\tLoss: 0.062587\n",
            "Train Epoch: 8 [19200/60000 (32%)]\tLoss: 0.073922\n",
            "Train Epoch: 8 [25600/60000 (43%)]\tLoss: 0.037501\n",
            "Train Epoch: 8 [32000/60000 (53%)]\tLoss: 0.032799\n",
            "Train Epoch: 8 [38400/60000 (64%)]\tLoss: 0.068853\n",
            "Train Epoch: 8 [44800/60000 (75%)]\tLoss: 0.011283\n",
            "Train Epoch: 8 [51200/60000 (85%)]\tLoss: 0.015095\n",
            "Train Epoch: 8 [57600/60000 (96%)]\tLoss: 0.078681\n",
            "Epoch 8 average train loss: 0.0006797222921935221\n",
            "Epoch 8 average train accuracy: 0.9884333610534668\n",
            "\n",
            "Train Epoch: 9 [0/60000 (0%)]\tLoss: 0.019708\n",
            "Train Epoch: 9 [6400/60000 (11%)]\tLoss: 0.030961\n",
            "Train Epoch: 9 [12800/60000 (21%)]\tLoss: 0.080644\n",
            "Train Epoch: 9 [19200/60000 (32%)]\tLoss: 0.035120\n",
            "Train Epoch: 9 [25600/60000 (43%)]\tLoss: 0.026817\n",
            "Train Epoch: 9 [32000/60000 (53%)]\tLoss: 0.036876\n",
            "Train Epoch: 9 [38400/60000 (64%)]\tLoss: 0.075386\n",
            "Train Epoch: 9 [44800/60000 (75%)]\tLoss: 0.028893\n",
            "Train Epoch: 9 [51200/60000 (85%)]\tLoss: 0.034919\n",
            "Train Epoch: 9 [57600/60000 (96%)]\tLoss: 0.016352\n",
            "Epoch 9 average train loss: 0.0006511719935806468\n",
            "Epoch 9 average train accuracy: 0.9889500141143799\n",
            "\n"
          ]
        },
        {
          "data": {
            "text/plain": [
              "[<matplotlib.lines.Line2D at 0x7fd99f70fb50>]"
            ]
          },
          "execution_count": 18,
          "metadata": {},
          "output_type": "execute_result"
        },
        {
          "data": {
            "image/png": "[encoded data removed]",
            "text/plain": [
              "<Figure size 432x288 with 1 Axes>"
            ]
          },
          "metadata": {
            "needs_background": "light"
          },
          "output_type": "display_data"
        }
      ],
      "source": [
        "train_losses = []\n",
        "train_counter = []\n",
        "writer = SummaryWriter('Res/Simple_net_train')\n",
        "loss_l = []\n",
        "for epoch in range(num_epochs):\n",
        "  average_acc = 0\n",
        "  average_loss = 0\n",
        "  for batch_idx, (data, target) in enumerate(train_loader):\n",
        "    data, target = data.to(DEVICE), target.to(DEVICE)\n",
        "    optimizer.zero_grad() #zero the gradient so it doesn't get acumulated\n",
        "    output = model(data) #forward pass\n",
        "    # saida da softmax seria os logits (estatistica antes da predicao)\n",
        "\n",
        "    #train accuracy\n",
        "    y_hat = output.data.max(1, keepdim=True)[1] # certo era usar o softmax\n",
        "    # logit\n",
        "    # tensor == matriz dentro do pytorch\n",
        "    # torch.tensor (todo dado tem que entrar assim. Tem que transformar imagens em torch tensor)\n",
        "    train_acc = y_hat.eq(target.data.view_as(y_hat)).sum()\n",
        "    average_acc += train_acc\n",
        "    train_acc = train_acc /len(target.data)\n",
        "\n",
        "    loss = criterion(output, target) #calculates the loss function (criterion == funcao de custo)\n",
        "    average_loss += loss.item()\n",
        "\n",
        "    loss.backward() #backward pass (backpropagation) (loss nao é 01 numero é 01 'nó' do grafo)\n",
        "    optimizer.step() #updates the weights\n",
        "    if batch_idx % 100 == 0:\n",
        "      print('Train Epoch: {} [{}/{} ({:.0f}%)]\\tLoss: {:.6f}'.format(\n",
        "        epoch, batch_idx * len(data), len(train_loader.dataset),\n",
        "        100. * batch_idx / len(train_loader), loss.item()))\n",
        "      train_losses.append(loss.item())\n",
        "      train_counter.append(\n",
        "        (batch_idx*64) + ((epoch-1)*len(train_loader.dataset)))\n",
        "      writer.add_scalar('Loss/train', loss.item(),\n",
        "                        (epoch - 1) * len(train_loader) + batch_idx)\n",
        "      writer.add_scalar('Accuracy/train', train_acc,\n",
        "                        (epoch - 1) * len(train_loader) + batch_idx)\n",
        "      \n",
        "  writer.close()\n",
        "  loss_l.append(loss.item())\n",
        "  print(f\"Epoch {epoch} average train loss: {average_loss / len(train_loader.dataset)}\\n\" f\"Epoch {epoch} average train accuracy: {average_acc / len(train_loader.dataset)}\\n\")\n",
        "        \n",
        "# ----------------\n",
        "plt.plot(loss_l)"
      ]
    },
    {
      "cell_type": "markdown",
      "metadata": {
        "id": "aHr72Gpmpl7i"
      },
      "source": [
        "Test the net"
      ]
    },
    {
      "cell_type": "code",
      "execution_count": null,
      "metadata": {
        "colab": {
          "base_uri": "https://localhost:8080/"
        },
        "id": "9K2YckSgplHC",
        "outputId": "2f1198ab-884b-4686-d46b-a4c24ef4f7d1",
        "vscode": {
          "languageId": "python"
        }
      },
      "outputs": [
        {
          "name": "stdout",
          "output_type": "stream",
          "text": [
            "\n",
            "Test set: Avg. loss: 0.0001, Accuracy: 9787/10000 (98%)\n",
            "\n"
          ]
        }
      ],
      "source": [
        "test_losses = []\n",
        "test_loss = 0\n",
        "correct = 0\n",
        "\n",
        "# modelo tem 02 modos: train (defaut) / eval\n",
        "model.eval() # muda modo do modelo para avaliacao\n",
        "# eh boa pratica usar isso sempre\n",
        "# tem modelos com camadas que so existem durante o treinamento\n",
        "# regularizacao\n",
        "# eval congela tudo que so faz sentido o modelo fazer durante o treinamento\n",
        "# dropout: quando elmina camadas durante o treinamento\n",
        "# \n",
        "\n",
        "with torch.no_grad():\n",
        "  # nao muda nada nomodlo. E mais pra economizar energia\n",
        "  # inferencia: modelo ja esta treinado -> mudar modo do modelo & congenlar o gradiente\n",
        "  for data, target in test_loader:\n",
        "    data, target = data.to(DEVICE), target.to(DEVICE)\n",
        "    output = model(data)\n",
        "    test_loss += criterion(output, target)\n",
        "    pred = output.data.max(1, keepdim=True)[1]\n",
        "    correct += pred.eq(target.data.view_as(pred)).sum()\n",
        "test_loss /= len(test_loader.dataset)\n",
        "test_losses.append(test_loss)\n",
        "print('\\nTest set: Avg. loss: {:.4f}, Accuracy: {}/{} ({:.0f}%)\\n'.format(\n",
        "  test_loss, correct, len(test_loader.dataset),\n",
        "  100. * correct / len(test_loader.dataset)))"
      ]
    },
    {
      "cell_type": "code",
      "execution_count": null,
      "metadata": {
        "colab": {
          "base_uri": "https://localhost:8080/",
          "height": 167
        },
        "id": "KkxG73kvEnBr",
        "outputId": "9a97d265-d0fd-4d6a-c6f9-208b98b9b04b",
        "vscode": {
          "languageId": "python"
        }
      },
      "outputs": [
        {
          "ename": "NameError",
          "evalue": "ignored",
          "output_type": "error",
          "traceback": [
            "\u001b[0;31m---------------------------------------------------------------------------\u001b[0m",
            "\u001b[0;31mNameError\u001b[0m                                 Traceback (most recent call last)",
            "\u001b[0;32m<ipython-input-20-b7f558e4d176>\u001b[0m in \u001b[0;36m<module>\u001b[0;34m()\u001b[0m\n\u001b[0;32m----> 1\u001b[0;31m \u001b[0minterrupt\u001b[0m \u001b[0;31m#juste pour interrompre l'execution ici\u001b[0m\u001b[0;34m\u001b[0m\u001b[0;34m\u001b[0m\u001b[0m\n\u001b[0m",
            "\u001b[0;31mNameError\u001b[0m: name 'interrupt' is not defined"
          ]
        }
      ],
      "source": [
        "interrupt #juste pour interrompre l'execution ici"
      ]
    },
    {
      "cell_type": "markdown",
      "metadata": {
        "id": "YexCZX8aD-0Z"
      },
      "source": [
        "# Convolutional NN"
      ]
    },
    {
      "cell_type": "markdown",
      "metadata": {
        "id": "VLS7YddU3N58"
      },
      "source": [
        "Définition du réseau CNN simple"
      ]
    },
    {
      "cell_type": "code",
      "execution_count": null,
      "metadata": {
        "id": "6-kgVtCD3B0d",
        "vscode": {
          "languageId": "python"
        }
      },
      "outputs": [],
      "source": [
        "# CNN -> 02 etapas\n",
        "# 01: extracao de caracteristicas (pelas convolucoes)\n",
        "# 02: classificacao\n",
        "\n",
        "# vc nk faz a conv sozinha -> conv, pooling + func de ativacao (geralmente nessa ordem)\n",
        "\n",
        "# pooling: reduz a dimensao do tensor\n",
        "# max pooling -> \n",
        "\n",
        "class CNN(nn.Module):\n",
        "    #build the class, 1 channel and 10 classes (B&W images, 10 digits in the MNIST set) \n",
        "    def __init__(self, in_channels=1, num_classes=10):\n",
        "        super(Net, self).__init__()\n",
        "        \n",
        "        # extracao de caracteristicas | kernel size -> tamanho do filtros\n",
        "        self.conv1 = nn.Conv2d(in_channels, out_channels = 10, kernel_size=5) #2D convolutional layer |canais de entrada : 01 (p&b), senao seriam 03 (rgb) / dim de saida -> 10 (profundidade 10) / num de canais de saida === numero de filtros / nesse caso: 10 flitron de tamanho 5 \n",
        "        \n",
        "        # 01: 10 filtros em cima da mesma img (original)\n",
        "        \n",
        "        # 02: aplica 20 filtros em cima da 'imag' de 10 canais\n",
        "        self.conv2 = nn.Conv2d(10, 20, kernel_size=5)\n",
        "        \n",
        "\n",
        "        # Na img original quero extrair 20 estatisticas\n",
        "        # Na 2a quero ver em cima de 10, etc.\n",
        "\n",
        "        # Reception field (vai aumentando a medida que a camada aprofunda)\n",
        "\n",
        "        # conv sempre vem acompanhada do pooling (diminui a resolucao)\n",
        "\n",
        "\n",
        "        # no inicio: 28 x 28 x 1\n",
        "        # a medida que aprofunda vc vai tendo menos resolucao e mais profundidade\n",
        "\n",
        "        # nao elimina camada inteira, apenas alguns neuronios (ajuda a regularizar)\n",
        "        self.conv2_drop = nn.Dropout2d()\n",
        "\n",
        "        # pra fazer a classificacao\n",
        "        self.fc1 = nn.Linear(320, 50) #fully connected\n",
        "        self.fc2 = nn.Linear(50, 10)\n",
        "\n",
        "    def forward(self, x):\n",
        "        \n",
        "        # self.activation... (definir no init())\n",
        "\n",
        "\n",
        "        x = F.relu(F.max_pool2d(self.conv1(x), 2)) # conv -> pool -> ...\n",
        "        x = F.relu(F.max_pool2d(self.conv2_drop(self.conv2(x)), 2))\n",
        "        \n",
        "        x = x.view(-1, 320) # pq 320? Pq sim... | view ~ reshape\n",
        "        x = F.relu(self.fc1(x))\n",
        "        x = F.dropout(x, training=self.training)\n",
        "        x = self.fc2(x)\n",
        "        return F.log_softmax(x)"
      ]
    },
    {
      "cell_type": "markdown",
      "metadata": {
        "id": "-EMJpBV0Q3kC"
      },
      "source": [
        "Implémentation de ResNet18"
      ]
    },
    {
      "cell_type": "code",
      "execution_count": null,
      "metadata": {
        "id": "ZcTFhPdHQ7nJ",
        "vscode": {
          "languageId": "python"
        }
      },
      "outputs": [],
      "source": [
        "# codigo fonte da resnet18\n",
        "\n",
        "class Block(nn.Module):\n",
        "    def __init__(self, in_channels, out_channels, identity_downsample=None, stride=1):\n",
        "        \n",
        "        super(Block, self).__init__()\n",
        "        self.num_layers = 18\n",
        "\n",
        "        self.bn1 = nn.BatchNorm2d(out_channels)\n",
        "        self.conv1 = nn.Conv2d(in_channels, out_channels, kernel_size=3, stride=stride, padding=1)\n",
        "        self.bn2 = nn.BatchNorm2d(out_channels)\n",
        "        self.conv2 = nn.Conv2d(out_channels, out_channels, kernel_size=1, stride=1, padding=0)\n",
        "        self.bn3 = nn.BatchNorm2d(out_channels)\n",
        "        self.relu = nn.ReLU()\n",
        "        self.identity_downsample = identity_downsample\n",
        "\n",
        "    def forward(self, x):\n",
        "        identity = x\n",
        "\n",
        "        x = self.conv1(x)\n",
        "        x = self.bn2(x)\n",
        "        x = self.relu(x)\n",
        "        x = self.conv2(x)\n",
        "        x = self.bn3(x)\n",
        "\n",
        "        if self.identity_downsample is not None:\n",
        "            identity = self.identity_downsample(identity)\n",
        "\n",
        "        x += identity # isso eh a skip connection | x final =  x passado pelas \n",
        "        x = self.relu(x)\n",
        "        return x\n",
        "\n",
        "\n",
        "class ResNet18(nn.Module):\n",
        "    def __init__(self, block, image_channels, num_classes):\n",
        "\n",
        "        super(ResNet18, self).__init__()\n",
        " \n",
        "        self.in_channels = 64\n",
        "        self.conv1 = nn.Conv2d(image_channels, 64, kernel_size=7, stride=2, padding=3)\n",
        "        self.bn1 = nn.BatchNorm2d(64)\n",
        "        self.relu = nn.ReLU()\n",
        "        self.maxpool = nn.MaxPool2d(kernel_size=3, stride=2, padding=1)\n",
        "\n",
        "        # ResNetLayers\n",
        "        self.layer1 = self.make_layers(block, 2, intermediate_channels=64, stride=1)\n",
        "        self.layer2 = self.make_layers(block, 2, intermediate_channels=128, stride=2)\n",
        "        self.layer3 = self.make_layers(block, 2, intermediate_channels=256, stride=2)\n",
        "        self.layer4 = self.make_layers(block, 2, intermediate_channels=512, stride=2)\n",
        "\n",
        "        self.avgpool = nn.AdaptiveAvgPool2d((1, 1))\n",
        "        self.fc = nn.Linear(512, num_classes)\n",
        "\n",
        "    def forward(self, x):\n",
        "        x = self.conv1(x)\n",
        "        x = self.bn1(x)\n",
        "        x = self.relu(x)\n",
        "        x = self.maxpool(x)\n",
        "\n",
        "        x = self.layer1(x)\n",
        "        x = self.layer2(x)\n",
        "        x = self.layer3(x)\n",
        "        x = self.layer4(x)\n",
        "\n",
        "        x = self.avgpool(x)\n",
        "        x = x.reshape(x.shape[0], -1)\n",
        "        x = self.fc(x)\n",
        "        return x\n",
        "\n",
        "    def make_layers(self, block, num_residual_blocks, intermediate_channels, stride):\n",
        "        layers = []\n",
        "\n",
        "        # res net -> residual net\n",
        "        # todo: procurar diagrama dela\n",
        "        # skip connection -> salto de camada (combate o vanishing)\n",
        "        # qtd de blocos nao é livre mas é convencional / receomendado\n",
        "        # backbone: extrator de caracteristicas (resnet50)\n",
        "        # se extracao de caracteristicas nao for pre treinado (padrao da literatura) muito dificil de treinar\n",
        "        # normalmente sao pre treinadas na image net\n",
        "        # usar transfer learning\n",
        "        # caracteristicas entre as imagens se repetem\n",
        "\n",
        "        identity_downsample = nn.Sequential(nn.Conv2d(self.in_channels, intermediate_channels, kernel_size=1, stride=stride),\n",
        "                                            nn.BatchNorm2d(intermediate_channels))\n",
        "        layers.append(block(self.in_channels, intermediate_channels, identity_downsample, stride))\n",
        "        self.in_channels = intermediate_channels  # 256\n",
        "        for i in range(num_residual_blocks - 1):\n",
        "            layers.append(block(self.in_channels, intermediate_channels)) # 256 -> 64, 64*4 (256) again\n",
        "        return nn.Sequential(*layers)"
      ]
    },
    {
      "cell_type": "code",
      "execution_count": null,
      "metadata": {
        "colab": {
          "base_uri": "https://localhost:8080/"
        },
        "id": "1-a1lhERYVvP",
        "outputId": "3c1d7e9b-8724-438a-ed2f-79734782abe5",
        "vscode": {
          "languageId": "python"
        }
      },
      "outputs": [
        {
          "name": "stdout",
          "output_type": "stream",
          "text": [
            "torch.Size([4, 1000])\n",
            "tensor([[-0.1420, -0.2695,  0.5869,  ..., -0.3288,  0.3506,  0.4209],\n",
            "        [-0.2983, -0.2310,  0.6669,  ..., -0.3002,  0.6345,  0.5241],\n",
            "        [-0.2494, -0.1921,  0.5339,  ..., -0.2300,  0.4833,  0.4644],\n",
            "        [-0.2014, -0.2371,  0.6730,  ..., -0.2191,  0.4419,  0.4853]],\n",
            "       device='cuda:0', grad_fn=<CopyBackwards>)\n"
          ]
        }
      ],
      "source": [
        "def test():\n",
        "    net = ResNet18(Block, 3, 1000)\n",
        "    y = net(torch.randn(4, 3, 224, 224)).to(DEVICE)\n",
        "    print(y.size())\n",
        "    print(y)\n",
        "\n",
        "test()\n",
        "\n"
      ]
    }
  ],
  "metadata": {
    "accelerator": "GPU",
    "colab": {
      "collapsed_sections": [],
      "name": "nb_mnist_pytorch_01.ipynb",
      "provenance": []
    },
    "kernelspec": {
      "display_name": "Python 3",
      "name": "python3"
    },
    "widgets": {
      "application/vnd.jupyter.widget-state+json": {
        "0d8fbdbf26b44dd894d9ba8fd5397363": {
          "model_module": "@jupyter-widgets/controls",
          "model_module_version": "1.5.0",
          "model_name": "FloatProgressModel",
          "state": {
            "_dom_classes": [],
            "_model_module": "@jupyter-widgets/controls",
            "_model_module_version": "1.5.0",
            "_model_name": "FloatProgressModel",
            "_view_count": null,
            "_view_module": "@jupyter-widgets/controls",
            "_view_module_version": "1.5.0",
            "_view_name": "ProgressView",
            "bar_style": "success",
            "description": "",
            "description_tooltip": null,
            "layout": "IPY_MODEL_817714eef49541dd970acb244effa86a",
            "max": 9912422,
            "min": 0,
            "orientation": "horizontal",
            "style": "IPY_MODEL_e39b7686a50d40a2ad36cd973a62ae4f",
            "value": 9912422
          }
        },
        "16be2b4a29164418becc5d822e9d48a0": {
          "model_module": "@jupyter-widgets/controls",
          "model_module_version": "1.5.0",
          "model_name": "DescriptionStyleModel",
          "state": {
            "_model_module": "@jupyter-widgets/controls",
            "_model_module_version": "1.5.0",
            "_model_name": "DescriptionStyleModel",
            "_view_count": null,
            "_view_module": "@jupyter-widgets/base",
            "_view_module_version": "1.2.0",
            "_view_name": "StyleView",
            "description_width": ""
          }
        },
        "22389b21d19f419bb22f9ef3a276da7f": {
          "model_module": "@jupyter-widgets/controls",
          "model_module_version": "1.5.0",
          "model_name": "HTMLModel",
          "state": {
            "_dom_classes": [],
            "_model_module": "@jupyter-widgets/controls",
            "_model_module_version": "1.5.0",
            "_model_name": "HTMLModel",
            "_view_count": null,
            "_view_module": "@jupyter-widgets/controls",
            "_view_module_version": "1.5.0",
            "_view_name": "HTMLView",
            "description": "",
            "description_tooltip": null,
            "layout": "IPY_MODEL_82a1b936accb4a1682c449b5ffcf0922",
            "placeholder": "​",
            "style": "IPY_MODEL_8839cb7fa92d4fb5abbad71437cc0ce3",
            "value": ""
          }
        },
        "2241ba7ce86c4bbeb709a90a493e42f1": {
          "model_module": "@jupyter-widgets/controls",
          "model_module_version": "1.5.0",
          "model_name": "DescriptionStyleModel",
          "state": {
            "_model_module": "@jupyter-widgets/controls",
            "_model_module_version": "1.5.0",
            "_model_name": "DescriptionStyleModel",
            "_view_count": null,
            "_view_module": "@jupyter-widgets/base",
            "_view_module_version": "1.2.0",
            "_view_name": "StyleView",
            "description_width": ""
          }
        },
        "30f40d5bbc2e4c189bb468c992a6ef01": {
          "model_module": "@jupyter-widgets/controls",
          "model_module_version": "1.5.0",
          "model_name": "HBoxModel",
          "state": {
            "_dom_classes": [],
            "_model_module": "@jupyter-widgets/controls",
            "_model_module_version": "1.5.0",
            "_model_name": "HBoxModel",
            "_view_count": null,
            "_view_module": "@jupyter-widgets/controls",
            "_view_module_version": "1.5.0",
            "_view_name": "HBoxView",
            "box_style": "",
            "children": [
              "IPY_MODEL_cd0887edc43a4fb8a1056daa44671a08",
              "IPY_MODEL_0d8fbdbf26b44dd894d9ba8fd5397363",
              "IPY_MODEL_9b363be7c8fc485e8930330395d6d7cc"
            ],
            "layout": "IPY_MODEL_6eed40c6ccf940eeb8cac784c351aa1a"
          }
        },
        "31a5fc449e3149f39fa2612708e622aa": {
          "model_module": "@jupyter-widgets/controls",
          "model_module_version": "1.5.0",
          "model_name": "HBoxModel",
          "state": {
            "_dom_classes": [],
            "_model_module": "@jupyter-widgets/controls",
            "_model_module_version": "1.5.0",
            "_model_name": "HBoxModel",
            "_view_count": null,
            "_view_module": "@jupyter-widgets/controls",
            "_view_module_version": "1.5.0",
            "_view_name": "HBoxView",
            "box_style": "",
            "children": [
              "IPY_MODEL_f9ee97d69e564df58d9f76ef17bfdb6f",
              "IPY_MODEL_4e5923fd51194d4c8d5cc06241d7763a",
              "IPY_MODEL_be69f191aa7348a89e72b3c5cde2b094"
            ],
            "layout": "IPY_MODEL_5108b8dfa05c43809845917c75e4bcd2"
          }
        },
        "4210d78e6a4746e2b6d6d3f9bdc9d05c": {
          "model_module": "@jupyter-widgets/controls",
          "model_module_version": "1.5.0",
          "model_name": "HBoxModel",
          "state": {
            "_dom_classes": [],
            "_model_module": "@jupyter-widgets/controls",
            "_model_module_version": "1.5.0",
            "_model_name": "HBoxModel",
            "_view_count": null,
            "_view_module": "@jupyter-widgets/controls",
            "_view_module_version": "1.5.0",
            "_view_name": "HBoxView",
            "box_style": "",
            "children": [
              "IPY_MODEL_22389b21d19f419bb22f9ef3a276da7f",
              "IPY_MODEL_4862f53d74694719a736a748b3de5c8f",
              "IPY_MODEL_f3de7f40010d4d1cb061600b2df47ba0"
            ],
            "layout": "IPY_MODEL_d847b3d69a31494cb25f8416c295dcd3"
          }
        },
        "4862f53d74694719a736a748b3de5c8f": {
          "model_module": "@jupyter-widgets/controls",
          "model_module_version": "1.5.0",
          "model_name": "FloatProgressModel",
          "state": {
            "_dom_classes": [],
            "_model_module": "@jupyter-widgets/controls",
            "_model_module_version": "1.5.0",
            "_model_name": "FloatProgressModel",
            "_view_count": null,
            "_view_module": "@jupyter-widgets/controls",
            "_view_module_version": "1.5.0",
            "_view_name": "ProgressView",
            "bar_style": "success",
            "description": "",
            "description_tooltip": null,
            "layout": "IPY_MODEL_7dc5c07d1dc249ad9e3bfa287b44f901",
            "max": 4542,
            "min": 0,
            "orientation": "horizontal",
            "style": "IPY_MODEL_81b5a070499942379e6252efbc4b23be",
            "value": 4542
          }
        },
        "4b84481d86824c08bf2162731860de8e": {
          "model_module": "@jupyter-widgets/controls",
          "model_module_version": "1.5.0",
          "model_name": "HBoxModel",
          "state": {
            "_dom_classes": [],
            "_model_module": "@jupyter-widgets/controls",
            "_model_module_version": "1.5.0",
            "_model_name": "HBoxModel",
            "_view_count": null,
            "_view_module": "@jupyter-widgets/controls",
            "_view_module_version": "1.5.0",
            "_view_name": "HBoxView",
            "box_style": "",
            "children": [
              "IPY_MODEL_f8d6a2a6b2b34e93ba8e9a69e49942d1",
              "IPY_MODEL_ea9e480c7d094c5383eab08d80398fe1",
              "IPY_MODEL_eaabbadc11134e1c89abf844d76febfb"
            ],
            "layout": "IPY_MODEL_f099359e18b24e868d9b7b64fcdb3e9e"
          }
        },
        "4e5923fd51194d4c8d5cc06241d7763a": {
          "model_module": "@jupyter-widgets/controls",
          "model_module_version": "1.5.0",
          "model_name": "FloatProgressModel",
          "state": {
            "_dom_classes": [],
            "_model_module": "@jupyter-widgets/controls",
            "_model_module_version": "1.5.0",
            "_model_name": "FloatProgressModel",
            "_view_count": null,
            "_view_module": "@jupyter-widgets/controls",
            "_view_module_version": "1.5.0",
            "_view_name": "ProgressView",
            "bar_style": "success",
            "description": "",
            "description_tooltip": null,
            "layout": "IPY_MODEL_cb2c974afe4343a395b918f28a653bd6",
            "max": 1648877,
            "min": 0,
            "orientation": "horizontal",
            "style": "IPY_MODEL_e1c90090be244604aac1426096fc285b",
            "value": 1648877
          }
        },
        "5108b8dfa05c43809845917c75e4bcd2": {
          "model_module": "@jupyter-widgets/base",
          "model_module_version": "1.2.0",
          "model_name": "LayoutModel",
          "state": {
            "_model_module": "@jupyter-widgets/base",
            "_model_module_version": "1.2.0",
            "_model_name": "LayoutModel",
            "_view_count": null,
            "_view_module": "@jupyter-widgets/base",
            "_view_module_version": "1.2.0",
            "_view_name": "LayoutView",
            "align_content": null,
            "align_items": null,
            "align_self": null,
            "border": null,
            "bottom": null,
            "display": null,
            "flex": null,
            "flex_flow": null,
            "grid_area": null,
            "grid_auto_columns": null,
            "grid_auto_flow": null,
            "grid_auto_rows": null,
            "grid_column": null,
            "grid_gap": null,
            "grid_row": null,
            "grid_template_areas": null,
            "grid_template_columns": null,
            "grid_template_rows": null,
            "height": null,
            "justify_content": null,
            "justify_items": null,
            "left": null,
            "margin": null,
            "max_height": null,
            "max_width": null,
            "min_height": null,
            "min_width": null,
            "object_fit": null,
            "object_position": null,
            "order": null,
            "overflow": null,
            "overflow_x": null,
            "overflow_y": null,
            "padding": null,
            "right": null,
            "top": null,
            "visibility": null,
            "width": null
          }
        },
        "5631a6f51bb540d890bbae6bafed4ebb": {
          "model_module": "@jupyter-widgets/base",
          "model_module_version": "1.2.0",
          "model_name": "LayoutModel",
          "state": {
            "_model_module": "@jupyter-widgets/base",
            "_model_module_version": "1.2.0",
            "_model_name": "LayoutModel",
            "_view_count": null,
            "_view_module": "@jupyter-widgets/base",
            "_view_module_version": "1.2.0",
            "_view_name": "LayoutView",
            "align_content": null,
            "align_items": null,
            "align_self": null,
            "border": null,
            "bottom": null,
            "display": null,
            "flex": null,
            "flex_flow": null,
            "grid_area": null,
            "grid_auto_columns": null,
            "grid_auto_flow": null,
            "grid_auto_rows": null,
            "grid_column": null,
            "grid_gap": null,
            "grid_row": null,
            "grid_template_areas": null,
            "grid_template_columns": null,
            "grid_template_rows": null,
            "height": null,
            "justify_content": null,
            "justify_items": null,
            "left": null,
            "margin": null,
            "max_height": null,
            "max_width": null,
            "min_height": null,
            "min_width": null,
            "object_fit": null,
            "object_position": null,
            "order": null,
            "overflow": null,
            "overflow_x": null,
            "overflow_y": null,
            "padding": null,
            "right": null,
            "top": null,
            "visibility": null,
            "width": null
          }
        },
        "6eed40c6ccf940eeb8cac784c351aa1a": {
          "model_module": "@jupyter-widgets/base",
          "model_module_version": "1.2.0",
          "model_name": "LayoutModel",
          "state": {
            "_model_module": "@jupyter-widgets/base",
            "_model_module_version": "1.2.0",
            "_model_name": "LayoutModel",
            "_view_count": null,
            "_view_module": "@jupyter-widgets/base",
            "_view_module_version": "1.2.0",
            "_view_name": "LayoutView",
            "align_content": null,
            "align_items": null,
            "align_self": null,
            "border": null,
            "bottom": null,
            "display": null,
            "flex": null,
            "flex_flow": null,
            "grid_area": null,
            "grid_auto_columns": null,
            "grid_auto_flow": null,
            "grid_auto_rows": null,
            "grid_column": null,
            "grid_gap": null,
            "grid_row": null,
            "grid_template_areas": null,
            "grid_template_columns": null,
            "grid_template_rows": null,
            "height": null,
            "justify_content": null,
            "justify_items": null,
            "left": null,
            "margin": null,
            "max_height": null,
            "max_width": null,
            "min_height": null,
            "min_width": null,
            "object_fit": null,
            "object_position": null,
            "order": null,
            "overflow": null,
            "overflow_x": null,
            "overflow_y": null,
            "padding": null,
            "right": null,
            "top": null,
            "visibility": null,
            "width": null
          }
        },
        "72d5a52ed47e4001b0a848b281f56f45": {
          "model_module": "@jupyter-widgets/controls",
          "model_module_version": "1.5.0",
          "model_name": "DescriptionStyleModel",
          "state": {
            "_model_module": "@jupyter-widgets/controls",
            "_model_module_version": "1.5.0",
            "_model_name": "DescriptionStyleModel",
            "_view_count": null,
            "_view_module": "@jupyter-widgets/base",
            "_view_module_version": "1.2.0",
            "_view_name": "StyleView",
            "description_width": ""
          }
        },
        "73889ad9342e42ec80a865266c40b6f9": {
          "model_module": "@jupyter-widgets/controls",
          "model_module_version": "1.5.0",
          "model_name": "ProgressStyleModel",
          "state": {
            "_model_module": "@jupyter-widgets/controls",
            "_model_module_version": "1.5.0",
            "_model_name": "ProgressStyleModel",
            "_view_count": null,
            "_view_module": "@jupyter-widgets/base",
            "_view_module_version": "1.2.0",
            "_view_name": "StyleView",
            "bar_color": null,
            "description_width": ""
          }
        },
        "77c22b93b5664db582960cd87e944f4e": {
          "model_module": "@jupyter-widgets/controls",
          "model_module_version": "1.5.0",
          "model_name": "DescriptionStyleModel",
          "state": {
            "_model_module": "@jupyter-widgets/controls",
            "_model_module_version": "1.5.0",
            "_model_name": "DescriptionStyleModel",
            "_view_count": null,
            "_view_module": "@jupyter-widgets/base",
            "_view_module_version": "1.2.0",
            "_view_name": "StyleView",
            "description_width": ""
          }
        },
        "7dc5c07d1dc249ad9e3bfa287b44f901": {
          "model_module": "@jupyter-widgets/base",
          "model_module_version": "1.2.0",
          "model_name": "LayoutModel",
          "state": {
            "_model_module": "@jupyter-widgets/base",
            "_model_module_version": "1.2.0",
            "_model_name": "LayoutModel",
            "_view_count": null,
            "_view_module": "@jupyter-widgets/base",
            "_view_module_version": "1.2.0",
            "_view_name": "LayoutView",
            "align_content": null,
            "align_items": null,
            "align_self": null,
            "border": null,
            "bottom": null,
            "display": null,
            "flex": null,
            "flex_flow": null,
            "grid_area": null,
            "grid_auto_columns": null,
            "grid_auto_flow": null,
            "grid_auto_rows": null,
            "grid_column": null,
            "grid_gap": null,
            "grid_row": null,
            "grid_template_areas": null,
            "grid_template_columns": null,
            "grid_template_rows": null,
            "height": null,
            "justify_content": null,
            "justify_items": null,
            "left": null,
            "margin": null,
            "max_height": null,
            "max_width": null,
            "min_height": null,
            "min_width": null,
            "object_fit": null,
            "object_position": null,
            "order": null,
            "overflow": null,
            "overflow_x": null,
            "overflow_y": null,
            "padding": null,
            "right": null,
            "top": null,
            "visibility": null,
            "width": null
          }
        },
        "817714eef49541dd970acb244effa86a": {
          "model_module": "@jupyter-widgets/base",
          "model_module_version": "1.2.0",
          "model_name": "LayoutModel",
          "state": {
            "_model_module": "@jupyter-widgets/base",
            "_model_module_version": "1.2.0",
            "_model_name": "LayoutModel",
            "_view_count": null,
            "_view_module": "@jupyter-widgets/base",
            "_view_module_version": "1.2.0",
            "_view_name": "LayoutView",
            "align_content": null,
            "align_items": null,
            "align_self": null,
            "border": null,
            "bottom": null,
            "display": null,
            "flex": null,
            "flex_flow": null,
            "grid_area": null,
            "grid_auto_columns": null,
            "grid_auto_flow": null,
            "grid_auto_rows": null,
            "grid_column": null,
            "grid_gap": null,
            "grid_row": null,
            "grid_template_areas": null,
            "grid_template_columns": null,
            "grid_template_rows": null,
            "height": null,
            "justify_content": null,
            "justify_items": null,
            "left": null,
            "margin": null,
            "max_height": null,
            "max_width": null,
            "min_height": null,
            "min_width": null,
            "object_fit": null,
            "object_position": null,
            "order": null,
            "overflow": null,
            "overflow_x": null,
            "overflow_y": null,
            "padding": null,
            "right": null,
            "top": null,
            "visibility": null,
            "width": null
          }
        },
        "81b5a070499942379e6252efbc4b23be": {
          "model_module": "@jupyter-widgets/controls",
          "model_module_version": "1.5.0",
          "model_name": "ProgressStyleModel",
          "state": {
            "_model_module": "@jupyter-widgets/controls",
            "_model_module_version": "1.5.0",
            "_model_name": "ProgressStyleModel",
            "_view_count": null,
            "_view_module": "@jupyter-widgets/base",
            "_view_module_version": "1.2.0",
            "_view_name": "StyleView",
            "bar_color": null,
            "description_width": ""
          }
        },
        "82a1b936accb4a1682c449b5ffcf0922": {
          "model_module": "@jupyter-widgets/base",
          "model_module_version": "1.2.0",
          "model_name": "LayoutModel",
          "state": {
            "_model_module": "@jupyter-widgets/base",
            "_model_module_version": "1.2.0",
            "_model_name": "LayoutModel",
            "_view_count": null,
            "_view_module": "@jupyter-widgets/base",
            "_view_module_version": "1.2.0",
            "_view_name": "LayoutView",
            "align_content": null,
            "align_items": null,
            "align_self": null,
            "border": null,
            "bottom": null,
            "display": null,
            "flex": null,
            "flex_flow": null,
            "grid_area": null,
            "grid_auto_columns": null,
            "grid_auto_flow": null,
            "grid_auto_rows": null,
            "grid_column": null,
            "grid_gap": null,
            "grid_row": null,
            "grid_template_areas": null,
            "grid_template_columns": null,
            "grid_template_rows": null,
            "height": null,
            "justify_content": null,
            "justify_items": null,
            "left": null,
            "margin": null,
            "max_height": null,
            "max_width": null,
            "min_height": null,
            "min_width": null,
            "object_fit": null,
            "object_position": null,
            "order": null,
            "overflow": null,
            "overflow_x": null,
            "overflow_y": null,
            "padding": null,
            "right": null,
            "top": null,
            "visibility": null,
            "width": null
          }
        },
        "82ddeed28e59443db3e57915f2fd77f2": {
          "model_module": "@jupyter-widgets/controls",
          "model_module_version": "1.5.0",
          "model_name": "DescriptionStyleModel",
          "state": {
            "_model_module": "@jupyter-widgets/controls",
            "_model_module_version": "1.5.0",
            "_model_name": "DescriptionStyleModel",
            "_view_count": null,
            "_view_module": "@jupyter-widgets/base",
            "_view_module_version": "1.2.0",
            "_view_name": "StyleView",
            "description_width": ""
          }
        },
        "8839cb7fa92d4fb5abbad71437cc0ce3": {
          "model_module": "@jupyter-widgets/controls",
          "model_module_version": "1.5.0",
          "model_name": "DescriptionStyleModel",
          "state": {
            "_model_module": "@jupyter-widgets/controls",
            "_model_module_version": "1.5.0",
            "_model_name": "DescriptionStyleModel",
            "_view_count": null,
            "_view_module": "@jupyter-widgets/base",
            "_view_module_version": "1.2.0",
            "_view_name": "StyleView",
            "description_width": ""
          }
        },
        "9b363be7c8fc485e8930330395d6d7cc": {
          "model_module": "@jupyter-widgets/controls",
          "model_module_version": "1.5.0",
          "model_name": "HTMLModel",
          "state": {
            "_dom_classes": [],
            "_model_module": "@jupyter-widgets/controls",
            "_model_module_version": "1.5.0",
            "_model_name": "HTMLModel",
            "_view_count": null,
            "_view_module": "@jupyter-widgets/controls",
            "_view_module_version": "1.5.0",
            "_view_name": "HTMLView",
            "description": "",
            "description_tooltip": null,
            "layout": "IPY_MODEL_b46899de39b24b44bf79b95c3b8404dc",
            "placeholder": "​",
            "style": "IPY_MODEL_de1d7f8182004c0392decfbf43b37a11",
            "value": " 9913344/? [00:00&lt;00:00, 61642360.35it/s]"
          }
        },
        "9da1799f1c3b414a94fcf0bd167dd339": {
          "model_module": "@jupyter-widgets/base",
          "model_module_version": "1.2.0",
          "model_name": "LayoutModel",
          "state": {
            "_model_module": "@jupyter-widgets/base",
            "_model_module_version": "1.2.0",
            "_model_name": "LayoutModel",
            "_view_count": null,
            "_view_module": "@jupyter-widgets/base",
            "_view_module_version": "1.2.0",
            "_view_name": "LayoutView",
            "align_content": null,
            "align_items": null,
            "align_self": null,
            "border": null,
            "bottom": null,
            "display": null,
            "flex": null,
            "flex_flow": null,
            "grid_area": null,
            "grid_auto_columns": null,
            "grid_auto_flow": null,
            "grid_auto_rows": null,
            "grid_column": null,
            "grid_gap": null,
            "grid_row": null,
            "grid_template_areas": null,
            "grid_template_columns": null,
            "grid_template_rows": null,
            "height": null,
            "justify_content": null,
            "justify_items": null,
            "left": null,
            "margin": null,
            "max_height": null,
            "max_width": null,
            "min_height": null,
            "min_width": null,
            "object_fit": null,
            "object_position": null,
            "order": null,
            "overflow": null,
            "overflow_x": null,
            "overflow_y": null,
            "padding": null,
            "right": null,
            "top": null,
            "visibility": null,
            "width": null
          }
        },
        "b46899de39b24b44bf79b95c3b8404dc": {
          "model_module": "@jupyter-widgets/base",
          "model_module_version": "1.2.0",
          "model_name": "LayoutModel",
          "state": {
            "_model_module": "@jupyter-widgets/base",
            "_model_module_version": "1.2.0",
            "_model_name": "LayoutModel",
            "_view_count": null,
            "_view_module": "@jupyter-widgets/base",
            "_view_module_version": "1.2.0",
            "_view_name": "LayoutView",
            "align_content": null,
            "align_items": null,
            "align_self": null,
            "border": null,
            "bottom": null,
            "display": null,
            "flex": null,
            "flex_flow": null,
            "grid_area": null,
            "grid_auto_columns": null,
            "grid_auto_flow": null,
            "grid_auto_rows": null,
            "grid_column": null,
            "grid_gap": null,
            "grid_row": null,
            "grid_template_areas": null,
            "grid_template_columns": null,
            "grid_template_rows": null,
            "height": null,
            "justify_content": null,
            "justify_items": null,
            "left": null,
            "margin": null,
            "max_height": null,
            "max_width": null,
            "min_height": null,
            "min_width": null,
            "object_fit": null,
            "object_position": null,
            "order": null,
            "overflow": null,
            "overflow_x": null,
            "overflow_y": null,
            "padding": null,
            "right": null,
            "top": null,
            "visibility": null,
            "width": null
          }
        },
        "b75cfbe7a3614a4bbad5d477c07143c9": {
          "model_module": "@jupyter-widgets/base",
          "model_module_version": "1.2.0",
          "model_name": "LayoutModel",
          "state": {
            "_model_module": "@jupyter-widgets/base",
            "_model_module_version": "1.2.0",
            "_model_name": "LayoutModel",
            "_view_count": null,
            "_view_module": "@jupyter-widgets/base",
            "_view_module_version": "1.2.0",
            "_view_name": "LayoutView",
            "align_content": null,
            "align_items": null,
            "align_self": null,
            "border": null,
            "bottom": null,
            "display": null,
            "flex": null,
            "flex_flow": null,
            "grid_area": null,
            "grid_auto_columns": null,
            "grid_auto_flow": null,
            "grid_auto_rows": null,
            "grid_column": null,
            "grid_gap": null,
            "grid_row": null,
            "grid_template_areas": null,
            "grid_template_columns": null,
            "grid_template_rows": null,
            "height": null,
            "justify_content": null,
            "justify_items": null,
            "left": null,
            "margin": null,
            "max_height": null,
            "max_width": null,
            "min_height": null,
            "min_width": null,
            "object_fit": null,
            "object_position": null,
            "order": null,
            "overflow": null,
            "overflow_x": null,
            "overflow_y": null,
            "padding": null,
            "right": null,
            "top": null,
            "visibility": null,
            "width": null
          }
        },
        "be69f191aa7348a89e72b3c5cde2b094": {
          "model_module": "@jupyter-widgets/controls",
          "model_module_version": "1.5.0",
          "model_name": "HTMLModel",
          "state": {
            "_dom_classes": [],
            "_model_module": "@jupyter-widgets/controls",
            "_model_module_version": "1.5.0",
            "_model_name": "HTMLModel",
            "_view_count": null,
            "_view_module": "@jupyter-widgets/controls",
            "_view_module_version": "1.5.0",
            "_view_name": "HTMLView",
            "description": "",
            "description_tooltip": null,
            "layout": "IPY_MODEL_b75cfbe7a3614a4bbad5d477c07143c9",
            "placeholder": "​",
            "style": "IPY_MODEL_82ddeed28e59443db3e57915f2fd77f2",
            "value": " 1649664/? [00:00&lt;00:00, 24884168.35it/s]"
          }
        },
        "cb2c974afe4343a395b918f28a653bd6": {
          "model_module": "@jupyter-widgets/base",
          "model_module_version": "1.2.0",
          "model_name": "LayoutModel",
          "state": {
            "_model_module": "@jupyter-widgets/base",
            "_model_module_version": "1.2.0",
            "_model_name": "LayoutModel",
            "_view_count": null,
            "_view_module": "@jupyter-widgets/base",
            "_view_module_version": "1.2.0",
            "_view_name": "LayoutView",
            "align_content": null,
            "align_items": null,
            "align_self": null,
            "border": null,
            "bottom": null,
            "display": null,
            "flex": null,
            "flex_flow": null,
            "grid_area": null,
            "grid_auto_columns": null,
            "grid_auto_flow": null,
            "grid_auto_rows": null,
            "grid_column": null,
            "grid_gap": null,
            "grid_row": null,
            "grid_template_areas": null,
            "grid_template_columns": null,
            "grid_template_rows": null,
            "height": null,
            "justify_content": null,
            "justify_items": null,
            "left": null,
            "margin": null,
            "max_height": null,
            "max_width": null,
            "min_height": null,
            "min_width": null,
            "object_fit": null,
            "object_position": null,
            "order": null,
            "overflow": null,
            "overflow_x": null,
            "overflow_y": null,
            "padding": null,
            "right": null,
            "top": null,
            "visibility": null,
            "width": null
          }
        },
        "cd0887edc43a4fb8a1056daa44671a08": {
          "model_module": "@jupyter-widgets/controls",
          "model_module_version": "1.5.0",
          "model_name": "HTMLModel",
          "state": {
            "_dom_classes": [],
            "_model_module": "@jupyter-widgets/controls",
            "_model_module_version": "1.5.0",
            "_model_name": "HTMLModel",
            "_view_count": null,
            "_view_module": "@jupyter-widgets/controls",
            "_view_module_version": "1.5.0",
            "_view_name": "HTMLView",
            "description": "",
            "description_tooltip": null,
            "layout": "IPY_MODEL_f148126438d74366be073c3ffda11bba",
            "placeholder": "​",
            "style": "IPY_MODEL_2241ba7ce86c4bbeb709a90a493e42f1",
            "value": ""
          }
        },
        "d847b3d69a31494cb25f8416c295dcd3": {
          "model_module": "@jupyter-widgets/base",
          "model_module_version": "1.2.0",
          "model_name": "LayoutModel",
          "state": {
            "_model_module": "@jupyter-widgets/base",
            "_model_module_version": "1.2.0",
            "_model_name": "LayoutModel",
            "_view_count": null,
            "_view_module": "@jupyter-widgets/base",
            "_view_module_version": "1.2.0",
            "_view_name": "LayoutView",
            "align_content": null,
            "align_items": null,
            "align_self": null,
            "border": null,
            "bottom": null,
            "display": null,
            "flex": null,
            "flex_flow": null,
            "grid_area": null,
            "grid_auto_columns": null,
            "grid_auto_flow": null,
            "grid_auto_rows": null,
            "grid_column": null,
            "grid_gap": null,
            "grid_row": null,
            "grid_template_areas": null,
            "grid_template_columns": null,
            "grid_template_rows": null,
            "height": null,
            "justify_content": null,
            "justify_items": null,
            "left": null,
            "margin": null,
            "max_height": null,
            "max_width": null,
            "min_height": null,
            "min_width": null,
            "object_fit": null,
            "object_position": null,
            "order": null,
            "overflow": null,
            "overflow_x": null,
            "overflow_y": null,
            "padding": null,
            "right": null,
            "top": null,
            "visibility": null,
            "width": null
          }
        },
        "de1d7f8182004c0392decfbf43b37a11": {
          "model_module": "@jupyter-widgets/controls",
          "model_module_version": "1.5.0",
          "model_name": "DescriptionStyleModel",
          "state": {
            "_model_module": "@jupyter-widgets/controls",
            "_model_module_version": "1.5.0",
            "_model_name": "DescriptionStyleModel",
            "_view_count": null,
            "_view_module": "@jupyter-widgets/base",
            "_view_module_version": "1.2.0",
            "_view_name": "StyleView",
            "description_width": ""
          }
        },
        "e1c90090be244604aac1426096fc285b": {
          "model_module": "@jupyter-widgets/controls",
          "model_module_version": "1.5.0",
          "model_name": "ProgressStyleModel",
          "state": {
            "_model_module": "@jupyter-widgets/controls",
            "_model_module_version": "1.5.0",
            "_model_name": "ProgressStyleModel",
            "_view_count": null,
            "_view_module": "@jupyter-widgets/base",
            "_view_module_version": "1.2.0",
            "_view_name": "StyleView",
            "bar_color": null,
            "description_width": ""
          }
        },
        "e2593e5d99814786891afa6e98979941": {
          "model_module": "@jupyter-widgets/base",
          "model_module_version": "1.2.0",
          "model_name": "LayoutModel",
          "state": {
            "_model_module": "@jupyter-widgets/base",
            "_model_module_version": "1.2.0",
            "_model_name": "LayoutModel",
            "_view_count": null,
            "_view_module": "@jupyter-widgets/base",
            "_view_module_version": "1.2.0",
            "_view_name": "LayoutView",
            "align_content": null,
            "align_items": null,
            "align_self": null,
            "border": null,
            "bottom": null,
            "display": null,
            "flex": null,
            "flex_flow": null,
            "grid_area": null,
            "grid_auto_columns": null,
            "grid_auto_flow": null,
            "grid_auto_rows": null,
            "grid_column": null,
            "grid_gap": null,
            "grid_row": null,
            "grid_template_areas": null,
            "grid_template_columns": null,
            "grid_template_rows": null,
            "height": null,
            "justify_content": null,
            "justify_items": null,
            "left": null,
            "margin": null,
            "max_height": null,
            "max_width": null,
            "min_height": null,
            "min_width": null,
            "object_fit": null,
            "object_position": null,
            "order": null,
            "overflow": null,
            "overflow_x": null,
            "overflow_y": null,
            "padding": null,
            "right": null,
            "top": null,
            "visibility": null,
            "width": null
          }
        },
        "e39b7686a50d40a2ad36cd973a62ae4f": {
          "model_module": "@jupyter-widgets/controls",
          "model_module_version": "1.5.0",
          "model_name": "ProgressStyleModel",
          "state": {
            "_model_module": "@jupyter-widgets/controls",
            "_model_module_version": "1.5.0",
            "_model_name": "ProgressStyleModel",
            "_view_count": null,
            "_view_module": "@jupyter-widgets/base",
            "_view_module_version": "1.2.0",
            "_view_name": "StyleView",
            "bar_color": null,
            "description_width": ""
          }
        },
        "ea9e480c7d094c5383eab08d80398fe1": {
          "model_module": "@jupyter-widgets/controls",
          "model_module_version": "1.5.0",
          "model_name": "FloatProgressModel",
          "state": {
            "_dom_classes": [],
            "_model_module": "@jupyter-widgets/controls",
            "_model_module_version": "1.5.0",
            "_model_name": "FloatProgressModel",
            "_view_count": null,
            "_view_module": "@jupyter-widgets/controls",
            "_view_module_version": "1.5.0",
            "_view_name": "ProgressView",
            "bar_style": "success",
            "description": "",
            "description_tooltip": null,
            "layout": "IPY_MODEL_9da1799f1c3b414a94fcf0bd167dd339",
            "max": 28881,
            "min": 0,
            "orientation": "horizontal",
            "style": "IPY_MODEL_73889ad9342e42ec80a865266c40b6f9",
            "value": 28881
          }
        },
        "eaabbadc11134e1c89abf844d76febfb": {
          "model_module": "@jupyter-widgets/controls",
          "model_module_version": "1.5.0",
          "model_name": "HTMLModel",
          "state": {
            "_dom_classes": [],
            "_model_module": "@jupyter-widgets/controls",
            "_model_module_version": "1.5.0",
            "_model_name": "HTMLModel",
            "_view_count": null,
            "_view_module": "@jupyter-widgets/controls",
            "_view_module_version": "1.5.0",
            "_view_name": "HTMLView",
            "description": "",
            "description_tooltip": null,
            "layout": "IPY_MODEL_f784e6ca56b1469aab465b6d1b727e88",
            "placeholder": "​",
            "style": "IPY_MODEL_77c22b93b5664db582960cd87e944f4e",
            "value": " 29696/? [00:00&lt;00:00, 770979.50it/s]"
          }
        },
        "f099359e18b24e868d9b7b64fcdb3e9e": {
          "model_module": "@jupyter-widgets/base",
          "model_module_version": "1.2.0",
          "model_name": "LayoutModel",
          "state": {
            "_model_module": "@jupyter-widgets/base",
            "_model_module_version": "1.2.0",
            "_model_name": "LayoutModel",
            "_view_count": null,
            "_view_module": "@jupyter-widgets/base",
            "_view_module_version": "1.2.0",
            "_view_name": "LayoutView",
            "align_content": null,
            "align_items": null,
            "align_self": null,
            "border": null,
            "bottom": null,
            "display": null,
            "flex": null,
            "flex_flow": null,
            "grid_area": null,
            "grid_auto_columns": null,
            "grid_auto_flow": null,
            "grid_auto_rows": null,
            "grid_column": null,
            "grid_gap": null,
            "grid_row": null,
            "grid_template_areas": null,
            "grid_template_columns": null,
            "grid_template_rows": null,
            "height": null,
            "justify_content": null,
            "justify_items": null,
            "left": null,
            "margin": null,
            "max_height": null,
            "max_width": null,
            "min_height": null,
            "min_width": null,
            "object_fit": null,
            "object_position": null,
            "order": null,
            "overflow": null,
            "overflow_x": null,
            "overflow_y": null,
            "padding": null,
            "right": null,
            "top": null,
            "visibility": null,
            "width": null
          }
        },
        "f148126438d74366be073c3ffda11bba": {
          "model_module": "@jupyter-widgets/base",
          "model_module_version": "1.2.0",
          "model_name": "LayoutModel",
          "state": {
            "_model_module": "@jupyter-widgets/base",
            "_model_module_version": "1.2.0",
            "_model_name": "LayoutModel",
            "_view_count": null,
            "_view_module": "@jupyter-widgets/base",
            "_view_module_version": "1.2.0",
            "_view_name": "LayoutView",
            "align_content": null,
            "align_items": null,
            "align_self": null,
            "border": null,
            "bottom": null,
            "display": null,
            "flex": null,
            "flex_flow": null,
            "grid_area": null,
            "grid_auto_columns": null,
            "grid_auto_flow": null,
            "grid_auto_rows": null,
            "grid_column": null,
            "grid_gap": null,
            "grid_row": null,
            "grid_template_areas": null,
            "grid_template_columns": null,
            "grid_template_rows": null,
            "height": null,
            "justify_content": null,
            "justify_items": null,
            "left": null,
            "margin": null,
            "max_height": null,
            "max_width": null,
            "min_height": null,
            "min_width": null,
            "object_fit": null,
            "object_position": null,
            "order": null,
            "overflow": null,
            "overflow_x": null,
            "overflow_y": null,
            "padding": null,
            "right": null,
            "top": null,
            "visibility": null,
            "width": null
          }
        },
        "f3de7f40010d4d1cb061600b2df47ba0": {
          "model_module": "@jupyter-widgets/controls",
          "model_module_version": "1.5.0",
          "model_name": "HTMLModel",
          "state": {
            "_dom_classes": [],
            "_model_module": "@jupyter-widgets/controls",
            "_model_module_version": "1.5.0",
            "_model_name": "HTMLModel",
            "_view_count": null,
            "_view_module": "@jupyter-widgets/controls",
            "_view_module_version": "1.5.0",
            "_view_name": "HTMLView",
            "description": "",
            "description_tooltip": null,
            "layout": "IPY_MODEL_e2593e5d99814786891afa6e98979941",
            "placeholder": "​",
            "style": "IPY_MODEL_f5db0127931943b7a798c92bd465228b",
            "value": " 5120/? [00:00&lt;00:00, 170562.46it/s]"
          }
        },
        "f40e93cc34d448b8a8efa1a967e09357": {
          "model_module": "@jupyter-widgets/base",
          "model_module_version": "1.2.0",
          "model_name": "LayoutModel",
          "state": {
            "_model_module": "@jupyter-widgets/base",
            "_model_module_version": "1.2.0",
            "_model_name": "LayoutModel",
            "_view_count": null,
            "_view_module": "@jupyter-widgets/base",
            "_view_module_version": "1.2.0",
            "_view_name": "LayoutView",
            "align_content": null,
            "align_items": null,
            "align_self": null,
            "border": null,
            "bottom": null,
            "display": null,
            "flex": null,
            "flex_flow": null,
            "grid_area": null,
            "grid_auto_columns": null,
            "grid_auto_flow": null,
            "grid_auto_rows": null,
            "grid_column": null,
            "grid_gap": null,
            "grid_row": null,
            "grid_template_areas": null,
            "grid_template_columns": null,
            "grid_template_rows": null,
            "height": null,
            "justify_content": null,
            "justify_items": null,
            "left": null,
            "margin": null,
            "max_height": null,
            "max_width": null,
            "min_height": null,
            "min_width": null,
            "object_fit": null,
            "object_position": null,
            "order": null,
            "overflow": null,
            "overflow_x": null,
            "overflow_y": null,
            "padding": null,
            "right": null,
            "top": null,
            "visibility": null,
            "width": null
          }
        },
        "f5db0127931943b7a798c92bd465228b": {
          "model_module": "@jupyter-widgets/controls",
          "model_module_version": "1.5.0",
          "model_name": "DescriptionStyleModel",
          "state": {
            "_model_module": "@jupyter-widgets/controls",
            "_model_module_version": "1.5.0",
            "_model_name": "DescriptionStyleModel",
            "_view_count": null,
            "_view_module": "@jupyter-widgets/base",
            "_view_module_version": "1.2.0",
            "_view_name": "StyleView",
            "description_width": ""
          }
        },
        "f784e6ca56b1469aab465b6d1b727e88": {
          "model_module": "@jupyter-widgets/base",
          "model_module_version": "1.2.0",
          "model_name": "LayoutModel",
          "state": {
            "_model_module": "@jupyter-widgets/base",
            "_model_module_version": "1.2.0",
            "_model_name": "LayoutModel",
            "_view_count": null,
            "_view_module": "@jupyter-widgets/base",
            "_view_module_version": "1.2.0",
            "_view_name": "LayoutView",
            "align_content": null,
            "align_items": null,
            "align_self": null,
            "border": null,
            "bottom": null,
            "display": null,
            "flex": null,
            "flex_flow": null,
            "grid_area": null,
            "grid_auto_columns": null,
            "grid_auto_flow": null,
            "grid_auto_rows": null,
            "grid_column": null,
            "grid_gap": null,
            "grid_row": null,
            "grid_template_areas": null,
            "grid_template_columns": null,
            "grid_template_rows": null,
            "height": null,
            "justify_content": null,
            "justify_items": null,
            "left": null,
            "margin": null,
            "max_height": null,
            "max_width": null,
            "min_height": null,
            "min_width": null,
            "object_fit": null,
            "object_position": null,
            "order": null,
            "overflow": null,
            "overflow_x": null,
            "overflow_y": null,
            "padding": null,
            "right": null,
            "top": null,
            "visibility": null,
            "width": null
          }
        },
        "f8d6a2a6b2b34e93ba8e9a69e49942d1": {
          "model_module": "@jupyter-widgets/controls",
          "model_module_version": "1.5.0",
          "model_name": "HTMLModel",
          "state": {
            "_dom_classes": [],
            "_model_module": "@jupyter-widgets/controls",
            "_model_module_version": "1.5.0",
            "_model_name": "HTMLModel",
            "_view_count": null,
            "_view_module": "@jupyter-widgets/controls",
            "_view_module_version": "1.5.0",
            "_view_name": "HTMLView",
            "description": "",
            "description_tooltip": null,
            "layout": "IPY_MODEL_f40e93cc34d448b8a8efa1a967e09357",
            "placeholder": "​",
            "style": "IPY_MODEL_16be2b4a29164418becc5d822e9d48a0",
            "value": ""
          }
        },
        "f9ee97d69e564df58d9f76ef17bfdb6f": {
          "model_module": "@jupyter-widgets/controls",
          "model_module_version": "1.5.0",
          "model_name": "HTMLModel",
          "state": {
            "_dom_classes": [],
            "_model_module": "@jupyter-widgets/controls",
            "_model_module_version": "1.5.0",
            "_model_name": "HTMLModel",
            "_view_count": null,
            "_view_module": "@jupyter-widgets/controls",
            "_view_module_version": "1.5.0",
            "_view_name": "HTMLView",
            "description": "",
            "description_tooltip": null,
            "layout": "IPY_MODEL_5631a6f51bb540d890bbae6bafed4ebb",
            "placeholder": "​",
            "style": "IPY_MODEL_72d5a52ed47e4001b0a848b281f56f45",
            "value": ""
          }
        }
      }
    }
  },
  "nbformat": 4,
  "nbformat_minor": 0
}
