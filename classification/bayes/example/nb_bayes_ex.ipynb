{
 "cells": [
  {
   "cell_type": "markdown",
   "metadata": {},
   "source": [
    "#### Bayes Classification Example\n",
    "\n",
    "> Taken from somewhere (and modified)"
   ]
  },
  {
   "cell_type": "markdown",
   "metadata": {},
   "source": [
    "Imports"
   ]
  },
  {
   "cell_type": "code",
   "execution_count": 1,
   "metadata": {},
   "outputs": [],
   "source": [
    "import csv\n",
    "import numpy as np\n",
    "import math\n",
    "import matplotlib.pyplot as plt"
   ]
  },
  {
   "cell_type": "markdown",
   "metadata": {},
   "source": [
    "#### Import data"
   ]
  },
  {
   "cell_type": "code",
   "execution_count": 2,
   "metadata": {},
   "outputs": [],
   "source": [
    "\n",
    "def load_csv(filename):\n",
    "    lines = csv.reader(open(filename, \"r\", encoding='utf-8-sig'))\n",
    "    dataset = list(lines)\n",
    "    for i in range(len(dataset)):\n",
    "        dataset[i] = [float(x) for x in dataset[i]]\n",
    "    dataset = np.asarray(dataset, dtype=np.float32)\n",
    "    return dataset\n",
    "\n",
    "# trainingData = load_csv('file/ds_zipcode_train.csv')\n",
    "trainingData = load_csv('file/ds_train.csv')\n",
    "# testingData = load_csv('file/ds_zipcode_test.csv')\n",
    "testingData = load_csv('file/ds_test.csv')"
   ]
  },
  {
   "cell_type": "markdown",
   "metadata": {},
   "source": [
    "### Utils"
   ]
  },
  {
   "cell_type": "code",
   "execution_count": 6,
   "metadata": {},
   "outputs": [],
   "source": [
    "def getRowsGroupedByClass(dataset: list) -> tuple:\n",
    "    '''\n",
    "        Returns tuple holding the dataset with rows grouped by class and the classes list.\n",
    "    '''\n",
    "    classes = np.unique(dataset[:, np.size(dataset, 1) - 1])\n",
    "    sortedclassdata = []\n",
    "    for i in range(len(classes)):\n",
    "        item = classes[i]\n",
    "        itemIdxList = np.where(dataset[:, np.size(dataset, 1) - 1] == item)     # index  of rows with label class[i]\n",
    "        singleclassdataset = dataset[itemIdxList, 0:np.size(dataset, 1) - 1]    # array of data for class[i]\n",
    "        sortedclassdata.append(np.matrix(singleclassdataset))                   # matrix of data for class[i]\n",
    "    return sortedclassdata, classes\n",
    "\n",
    "def getPriorProbabilities(dataset: list, gropedData: list) -> list:\n",
    "    '''\n",
    "        Returns the probabilities of occurency of each class in the dataset.\n",
    "        - Posterior prob = likelihood * prior probability;\n",
    "    '''\n",
    "    priorProbs = []\n",
    "    for i in range(len(gropedData)):\n",
    "        priorProbs.append(len(gropedData[i]) / len(dataset))\n",
    "    return priorProbs\n",
    "\n",
    "\n",
    "def getClassesMeans(gropedData) -> list:\n",
    "    '''\n",
    "        Returns list of each dataset class data means/\n",
    "    '''\n",
    "    classMeans = []\n",
    "    for i in range(len(gropedData)):\n",
    "        classMeans.append(gropedData[i].mean(0))\n",
    "    return classMeans\n",
    "\n",
    "def getCovarianceMatrix(groupedData: list, classMeans: list) -> list:\n",
    "    covMatrix = []\n",
    "    \n",
    "    for i in range(len(classMeans)):\n",
    "        \n",
    "        rows = groupedData[i]\n",
    "        mean = np.transpose(classMeans[i])\n",
    "        rowsT = np.transpose(rows)\n",
    "        nRows = len(rows)\n",
    "        \n",
    "        aux = [(rowsT[:, row] - mean) * np.transpose(rowsT[:, row] - mean) for row in range(nRows)]\n",
    "        covMatrix.append(sum(aux) / (nRows - 1))\n",
    "\n",
    "    return covMatrix\n",
    "\n",
    "def getClassification(dataset: list, classMeans: list, covarianceMatrix: list, priorProbs: list, classes: list) -> list:\n",
    "    '''\n",
    "        Returns likelihood, given a gaussian distribution.\n",
    "        - Uses the mean and variance (or in this case, the covariance);\n",
    "        \n",
    "        NOTE: see eq(1.52) pg.25 Pattern Recognition and Machine Learaning\n",
    "    '''\n",
    "\n",
    "    yHat = []\n",
    "    nRows = len(dataset)\n",
    "    nClasses = len(classes)\n",
    "    nFeatures = len(covarianceMatrix[0])\n",
    "\n",
    "    dataset = np.matrix(dataset)\n",
    "    datasetT = np.transpose(dataset[:, 0:nFeatures])\n",
    "    \n",
    "    for i in range(nRows):\n",
    "        row = datasetT[:, i]\n",
    "        probabilities = [] # Probabilities for each class relative to this row\n",
    "        \n",
    "        for j in range(nClasses):\n",
    "\n",
    "            # Who knows...            \n",
    "            det = np.linalg.det(covarianceMatrix[j])\n",
    "            if det == 0:\n",
    "                addValue = 0.006 * np.identity(nFeatures)\n",
    "                covarianceMatrix[j] = addValue + covarianceMatrix[j]\n",
    "                det = np.linalg.det(covarianceMatrix[j])\n",
    "            \n",
    "            # Compute probability for this class in this row\n",
    "            exponent = (-0.5)*np.transpose(row-np.transpose(classMeans[j]))*np.linalg.inv(covarianceMatrix[j])*(row-np.transpose(classMeans[j]))\n",
    "            probability = priorProbs[j] * (1/((2*math.pi)**(nFeatures/2)))*(1/(det**0.5))*math.exp(exponent)\n",
    "            probabilities.append(probability)\n",
    "        \n",
    "        # Compute predicted class for this row\n",
    "        predictedClassIdx = np.argmax(np.array(probabilities))\n",
    "        predictedClass = classes[predictedClassIdx]\n",
    "        yHat.append(predictedClass)\n",
    "\n",
    "    return yHat\n",
    "\n",
    "def getAccuracy(yHat: list, dataset: list) -> float:\n",
    "    \n",
    "    nClasses = dataset.shape[1] - 1\n",
    "    y = np.asarray(dataset[:, nClasses])\n",
    "    yHat = np.asarray(yHat, dtype=np.float32)\n",
    "    \n",
    "    yHatT = np.transpose([yHat])\n",
    "    yT = np.transpose([y])\n",
    "    aux = np.equal(yHatT, yT)\n",
    "    \n",
    "    return np.sum(aux) / dataset.shape[0]"
   ]
  },
  {
   "cell_type": "markdown",
   "metadata": {},
   "source": [
    "### Classify"
   ]
  },
  {
   "cell_type": "markdown",
   "metadata": {},
   "source": [
    "Plot utils"
   ]
  },
  {
   "cell_type": "code",
   "execution_count": 11,
   "metadata": {},
   "outputs": [],
   "source": [
    "def plot_by_class_better(dataset, classes, title):\n",
    "    dataset[:, 2] = classes\n",
    "    x0 = [row[0] for row in dataset if 0 in row]\n",
    "    y0 = [row[1] for row in dataset if 0 in row]\n",
    "    x1 = [row[0] for row in dataset if 1 in row]\n",
    "    y1 = [row[1] for row in dataset if 1 in row]\n",
    "    plt.scatter(x0, y0, label='0', color=\"red\", marker=\"o\", s=30)\n",
    "    plt.scatter(x1, y1, label='1', color=\"blue\", marker=\"o\", s=30)\n",
    "    plt.xlabel('x - axis')\n",
    "    plt.ylabel('y - axis')\n",
    "    plt.title(title)\n",
    "    plt.show()\n",
    "    return"
   ]
  },
  {
   "cell_type": "markdown",
   "metadata": {},
   "source": [
    "Classify"
   ]
  },
  {
   "cell_type": "code",
   "execution_count": 12,
   "metadata": {},
   "outputs": [
    {
     "name": "stdout",
     "output_type": "stream",
     "text": [
      "100.0% Correct on Training Data using Bayes Classifier\n"
     ]
    },
    {
     "data": {
      "image/png": "[encoded data removed]",
      "text/plain": [
       "<Figure size 432x288 with 1 Axes>"
      ]
     },
     "metadata": {},
     "output_type": "display_data"
    }
   ],
   "source": [
    "\n",
    "\n",
    "# Posterior prob = likelihood * prior probability;\n",
    "# To find likelihood we find mean and covariance first;\n",
    "groupedData, classes = getRowsGroupedByClass(trainingData)\n",
    "priorProbs = getPriorProbabilities(trainingData, groupedData)\n",
    "means = getClassesMeans(groupedData)\n",
    "covarianceMatrix = getCovarianceMatrix(groupedData, means)\n",
    "yHat = getClassification(testingData, means, covarianceMatrix, priorProbs, classes)\n",
    "\n",
    "accuracy = getAccuracy(yHat, testingData)\n",
    "print(f\"{accuracy * 100}% Correct on Training Data using Bayes Classifier\")\n",
    "\n",
    "# The following is used to plot the class boundaries\n",
    "plot_by_class_better(testingData , yHat, 'Non Naive Bayes Class Boundaries')\n"
   ]
  }
 ],
 "metadata": {
  "interpreter": {
   "hash": "916dbcbb3f70747c44a77c7bcd40155683ae19c65e1c03b4aa3499c5328201f1"
  },
  "kernelspec": {
   "display_name": "Python 3.8.10 64-bit",
   "language": "python",
   "name": "python3"
  },
  "language_info": {
   "codemirror_mode": {
    "name": "ipython",
    "version": 3
   },
   "file_extension": ".py",
   "mimetype": "text/x-python",
   "name": "python",
   "nbconvert_exporter": "python",
   "pygments_lexer": "ipython3",
   "version": "3.8.10"
  },
  "orig_nbformat": 4
 },
 "nbformat": 4,
 "nbformat_minor": 2
}
