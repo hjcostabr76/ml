{
 "cells": [
  {
   "cell_type": "markdown",
   "metadata": {},
   "source": [
    "##### Common Voice Separation Challenge\n",
    "\n",
    "This is a classifying challenge built with a Bayes Classifier implementation.\n",
    "\n",
    "- We have two `csv` files, one with data to train and other with data to validate;\n",
    "- Both belong to the same dataset which holds 39 features and 5 classes;\n",
    "- We use a self implementation of a bayesian classifier along with a cross validation strategy;\n",
    "- The best classifier caught from CV is, then, used to classify data from the validation file;\n",
    "- The result is stored on a response file whose content is to be verified;\n",
    "- Wish me luck!"
   ]
  },
  {
   "cell_type": "markdown",
   "metadata": {},
   "source": [
    "Imports"
   ]
  },
  {
   "cell_type": "code",
   "execution_count": 2,
   "metadata": {},
   "outputs": [],
   "source": [
    "import pandas as pd\n",
    "import numpy as np\n",
    "\n",
    "from sklearn.model_selection import KFold\n",
    "from BayesClassifier import BayesClassifier"
   ]
  },
  {
   "cell_type": "markdown",
   "metadata": {},
   "source": [
    "#### Import Data"
   ]
  },
  {
   "cell_type": "code",
   "execution_count": 3,
   "metadata": {},
   "outputs": [],
   "source": [
    "dsTrain = pd.read_csv('./file/treino.csv')\n",
    "features = dsTrain.columns[1:-1]\n",
    "\n",
    "idKey = 'id'\n",
    "classKey = 'y'\n",
    "classes = dsTrain[classKey].unique()\n",
    "\n",
    "X = dsTrain[features].values\n",
    "Y = dsTrain[classKey].values"
   ]
  },
  {
   "cell_type": "markdown",
   "metadata": {},
   "source": [
    "#### Train"
   ]
  },
  {
   "cell_type": "code",
   "execution_count": 4,
   "metadata": {},
   "outputs": [],
   "source": [
    "\n",
    "cv = KFold(n_splits=50, shuffle=True, random_state=True)\n",
    "cv.get_n_splits(X)\n",
    "\n",
    "history = list()\n",
    "maxAccuracy = -np.inf\n",
    "bestClassifier = None\n",
    "\n",
    "def getAccuracy(yHat: np.array, y: np.array) -> float:\n",
    "    return sum(yHat == y) / y.shape[0]\n",
    "\n",
    "for trainIdx, testIdx in cv.split(X):\n",
    "\n",
    "    xTest, yTest = X[testIdx], Y[testIdx]\n",
    "    xTrain, yTrain = X[trainIdx], Y[trainIdx]\n",
    "\n",
    "    classifier = BayesClassifier().fit(xTrain, yTrain)\n",
    "    yHat = classifier.predict(xTest)\n",
    "\n",
    "    accuracy = getAccuracy(yHat, yTest)\n",
    "    if accuracy > maxAccuracy:\n",
    "        maxAccuracy = accuracy\n",
    "        bestClassifier = classifier\n",
    "\n",
    "    history.append({ 'accuracy': accuracy, 'classifier': classifier })"
   ]
  },
  {
   "cell_type": "markdown",
   "metadata": {},
   "source": [
    "Check overall accuracy against source dataset"
   ]
  },
  {
   "cell_type": "code",
   "execution_count": 5,
   "metadata": {},
   "outputs": [
    {
     "name": "stdout",
     "output_type": "stream",
     "text": [
      "overallAccuracy: 0.8911428571428571\n"
     ]
    }
   ],
   "source": [
    "yHat = bestClassifier.predict(X)\n",
    "overallAccuracy = getAccuracy(yHat, Y)\n",
    "print(f'overallAccuracy: {overallAccuracy}')"
   ]
  },
  {
   "cell_type": "markdown",
   "metadata": {},
   "source": [
    "#### Write validation data"
   ]
  },
  {
   "cell_type": "code",
   "execution_count": 6,
   "metadata": {},
   "outputs": [],
   "source": [
    "# Set data validation data\n",
    "dsValidation = pd.read_csv('./file/validacao.csv')\n",
    "xValidation = dsValidation[features].values\n",
    "\n",
    "# Build result csv file\n",
    "responseData = pd.DataFrame(columns=[idKey, classKey])\n",
    "responseData[idKey] = dsValidation[idKey]\n",
    "responseData[classKey] = bestClassifier.predict(xValidation)\n",
    "\n",
    "responseData.to_csv('./sample.csv', index=False)"
   ]
  }
 ],
 "metadata": {
  "interpreter": {
   "hash": "916dbcbb3f70747c44a77c7bcd40155683ae19c65e1c03b4aa3499c5328201f1"
  },
  "kernelspec": {
   "display_name": "Python 3.8.10 64-bit",
   "language": "python",
   "name": "python3"
  },
  "language_info": {
   "codemirror_mode": {
    "name": "ipython",
    "version": 3
   },
   "file_extension": ".py",
   "mimetype": "text/x-python",
   "name": "python",
   "nbconvert_exporter": "python",
   "pygments_lexer": "ipython3",
   "version": "3.8.10"
  },
  "orig_nbformat": 4
 },
 "nbformat": 4,
 "nbformat_minor": 2
}
