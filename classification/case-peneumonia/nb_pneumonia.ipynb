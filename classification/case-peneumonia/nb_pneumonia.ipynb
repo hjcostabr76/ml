{
  "cells": [
    {
      "cell_type": "markdown",
      "metadata": {
        "id": "x8LsjHlr9WPZ"
      },
      "source": [
        "# Pneumonia detection\n",
        "\n",
        "        TODO: ADD More info..."
      ]
    },
    {
      "cell_type": "markdown",
      "metadata": {
        "id": "3vaTF8CS9WPd"
      },
      "source": [
        "Imports"
      ]
    },
    {
      "cell_type": "code",
      "execution_count": 12,
      "metadata": {
        "id": "zuXzzFrVlbVS"
      },
      "outputs": [],
      "source": [
        "'''\n",
        "    Run this in case the following imports don't run.\n",
        "    !pip install torch==1.4.0+cu100 torchvision==0.5.0+cu100 -f https://download.pytorch.org/whl/torch_stable.html\n",
        "'''\n",
        "import time\n",
        "import copy\n",
        "import os\n",
        "import cv2\n",
        "import random\n",
        "\n",
        "import pandas as pd\n",
        "import seaborn as sns\n",
        "import numpy as np\n",
        "import matplotlib.pyplot as plt\n",
        "\n",
        "from tqdm import tqdm\n",
        "from sklearn.metrics import confusion_matrix\n",
        "from mlxtend.plotting import plot_confusion_matrix\n",
        "\n",
        "import torch\n",
        "from torch import optim\n",
        "from torch.utils.data import DataLoader\n",
        "\n",
        "from torchvision import transforms, datasets, models\n"
      ]
    },
    {
      "cell_type": "markdown",
      "metadata": {
        "id": "62HBylG-9WPi"
      },
      "source": [
        "Parameters"
      ]
    },
    {
      "cell_type": "code",
      "execution_count": 2,
      "metadata": {
        "id": "S3nR3UhB9WPj"
      },
      "outputs": [],
      "source": [
        "\n",
        "DEVICE = torch.device(\"cuda:0\" if torch.cuda.is_available() else \"cpu\")\n",
        "\n",
        "# Hyper Parameters\n",
        "n_epochs = 4\n",
        "w_decay = 1e-3\n",
        "momentum = 0.9\n",
        "batch_size = 32\n",
        "learn_rate = 0.001\n",
        "\n",
        "# Paths\n",
        "dir_data = \"/content/drive/MyDrive/Colab Notebooks/pneumonia/file/chest_xray\"\n",
        "dir_val = os.path.join(dir_data, 'val')\n",
        "dir_test =  os.path.join(dir_data, 'test')\n",
        "dir_train =  os.path.join(dir_data, 'train')\n",
        "dir_train_normal = os.path.join(dir_train, 'NORMAL')\n",
        "dir_train_pneumonia = os.path.join(dir_train, 'PNEUMONIA')\n",
        "\n",
        "path_model = os.path.join(dir_data, 'classifier.pt')"
      ]
    },
    {
      "cell_type": "markdown",
      "metadata": {
        "id": "07PLFfQH9WPj"
      },
      "source": [
        "## Prepare data"
      ]
    },
    {
      "cell_type": "markdown",
      "metadata": {
        "id": "HTKSshh19WPk"
      },
      "source": [
        "#### Colab only..."
      ]
    },
    {
      "cell_type": "code",
      "execution_count": 3,
      "metadata": {
        "colab": {
          "base_uri": "https://localhost:8080/"
        },
        "id": "Yt34x_OZWD42",
        "outputId": "d910f312-411b-453f-c4f0-b2cacb18bd69"
      },
      "outputs": [
        {
          "output_type": "stream",
          "name": "stdout",
          "text": [
            "Mounted at /content/drive\n"
          ]
        }
      ],
      "source": [
        "from google.colab import drive\n",
        "drive.mount('/content/drive')"
      ]
    },
    {
      "cell_type": "markdown",
      "metadata": {
        "id": "MjxrR-GK9WPm"
      },
      "source": [
        "#### Data augmentation"
      ]
    },
    {
      "cell_type": "code",
      "execution_count": 3,
      "metadata": {
        "id": "BtcwClz29WPn"
      },
      "outputs": [],
      "source": [
        "'''\n",
        "    TODO: 2022-06-22 - What mean all these parameter values?\n",
        "'''\n",
        "\n",
        "# Train: Transform sequence 01\n",
        "transf_train = transforms.Compose([\n",
        "    transforms.Resize(60),\n",
        "    transforms.RandomCrop(54),\n",
        "    transforms.ToTensor(), # Converts pixels [0-255] to tensors [0-1] TODO: Understand it\n",
        "    transforms.Normalize(mean = [0.485, 0.456, 0.406], std = [0.229, 0.224, 0.225])\n",
        "])\n",
        "\n",
        "# Train: Transform sequence 02\n",
        "# transf_train2 = transforms.Compose([\n",
        "#     transforms.Resize(57),\n",
        "#     transforms.RandomRotation(10),\n",
        "#     transforms.RandomCrop(54),\n",
        "#     transforms.ToTensor(),\n",
        "#     transforms.Normalize(mean=[0.485, 0.456, 0.406], std=[0.229, 0.224, 0.225])\n",
        "# ])\n",
        "\n",
        "# Test & Validation: Transform sequence\n",
        "transf_test = transforms.Compose([\n",
        "    transforms.Resize(54),\n",
        "    transforms.CenterCrop(54),\n",
        "    transforms.ToTensor(),\n",
        "    transforms.Normalize(mean = [0.485, 0.456, 0.406], std = [0.229, 0.224, 0.225])\n",
        "])"
      ]
    },
    {
      "cell_type": "markdown",
      "metadata": {
        "id": "G2rqkBdp9WPo"
      },
      "source": [
        "### Load dataset"
      ]
    },
    {
      "cell_type": "code",
      "execution_count": 4,
      "metadata": {
        "id": "w1ONSCEdqspM",
        "colab": {
          "base_uri": "https://localhost:8080/"
        },
        "outputId": "20efea04-f32d-4583-f898-35446e29429e"
      },
      "outputs": [
        {
          "output_type": "stream",
          "name": "stdout",
          "text": [
            "(size) loader_train: 163\n",
            "(size) loader_test: 20\n",
            "(size) loader_validation: 1\n",
            "--------------------------------------------------------------------------------\n",
            "Train: 5216 images, Test: 624 images, Validation: 16 images\n",
            "Classes: {'NORMAL': 0, 'PNEUMONIA': 1}\n",
            "Images shape: torch.Size([32, 3, 54, 54])\n",
            "Labels shape: torch.Size([32])\n"
          ]
        }
      ],
      "source": [
        "\n",
        "'''\n",
        "    TODO: 2022-06-22 - Figure balancing out\n",
        "    # criando 2 sets de treinamento para mesclar os dois e balancear as classes\n",
        "'''\n",
        "\n",
        "# Datasets\n",
        "ds_train1 = datasets.ImageFolder(dir_train, transform=transf_train)\n",
        "# ds_train2 = datasets.ImageFolder(dir_train, transform=transf_train2)\n",
        "ds_validation = datasets.ImageFolder(dir_val, transform=transf_test)\n",
        "ds_test = datasets.ImageFolder(dir_test, transform=transf_test)\n",
        "\n",
        "# Data loaders\n",
        "loader_train = DataLoader(ds_train1, batch_size=batch_size, shuffle=True)\n",
        "loader_test = DataLoader(ds_test, batch_size=batch_size, shuffle=True)\n",
        "loader_validation = DataLoader(ds_validation, batch_size=batch_size, shuffle=True)\n",
        "\n",
        "print('(size) loader_train: {}'.format(len(loader_train)))\n",
        "print('(size) loader_test: {}'.format(len(loader_test)))\n",
        "print('(size) loader_validation: {}'.format(len(loader_validation)))\n",
        "print('-' * 80)\n",
        "\n",
        "# Create new validation set TODO: Figure this out!\n",
        "# trainset, validset = train_test_split(trainset, test_size=0.2)\n",
        "\n",
        "# See what we've done\n",
        "n_train = len(ds_train1)\n",
        "n_test = len(ds_test)\n",
        "n_validation = len(ds_validation)\n",
        "\n",
        "class_names = ds_train1.classes\n",
        "images, labels = iter(loader_train).next()\n",
        "\n",
        "print('Train: {} images, Test: {} images, Validation: {} images'.format(n_train, n_test, n_validation))\n",
        "print('Classes: ' + str(ds_train1.class_to_idx))\n",
        "print('Images shape: {}'.format(str(images.shape))) # torch.Size([32, 3, 54, 54])\n",
        "print('Labels shape: {}'.format(str(labels.shape))) # torch.Size([32])\n"
      ]
    },
    {
      "cell_type": "code",
      "source": [
        "# ds_train1\n",
        "# ds_test\n",
        "# ds_validation\n",
        "# loader_validation\n",
        "loader_train"
      ],
      "metadata": {
        "colab": {
          "base_uri": "https://localhost:8080/"
        },
        "id": "zFEnarCe6uku",
        "outputId": "516c8ab2-5055-442b-bf73-3d67e8a73a74"
      },
      "execution_count": 12,
      "outputs": [
        {
          "output_type": "execute_result",
          "data": {
            "text/plain": [
              "<torch.utils.data.dataloader.DataLoader at 0x7f7ce366bcd0>"
            ]
          },
          "metadata": {},
          "execution_count": 12
        }
      ]
    },
    {
      "cell_type": "markdown",
      "metadata": {
        "id": "Cou5aZsN9WPq"
      },
      "source": [
        "### Data Balancing\n",
        "    > TODO..."
      ]
    },
    {
      "cell_type": "markdown",
      "metadata": {
        "id": "_vSRBl_19WPq"
      },
      "source": [
        "#### See data: Unbalanced Distribution"
      ]
    },
    {
      "cell_type": "code",
      "execution_count": 12,
      "metadata": {
        "id": "00Vd8KcT9WPr",
        "colab": {
          "base_uri": "https://localhost:8080/",
          "height": 286
        },
        "outputId": "50c8a134-bf46-4042-85d8-f150076735d6"
      },
      "outputs": [
        {
          "output_type": "display_data",
          "data": {
            "text/plain": [
              "<Figure size 432x288 with 1 Axes>"
            ],
            "image/png": "[encoded data removed]"
          },
          "metadata": {
            "needs_background": "light"
          }
        }
      ],
      "source": [
        "files_normal = [os.path.join(dir_train_normal, file) for file in os.listdir(dir_train_normal)]\n",
        "files_pneumonia = [os.path.join(dir_train_pneumonia, file) for file in os.listdir(dir_train_pneumonia)]\n",
        "df_train_unbalanced = pd.DataFrame.from_dict({ 'Normal': [len(files_normal)], 'Pneumonia': [len(files_pneumonia)] })\n",
        "\n",
        "sns.barplot(data=df_train_unbalanced).set_title('Training Data: Unbalanced', fontsize=20)\n",
        "plt.show()"
      ]
    },
    {
      "cell_type": "markdown",
      "metadata": {
        "id": "Bz1U80Nk9WPr"
      },
      "source": [
        "#### Run Balancing\n",
        "\n",
        "TODO: 2022-06-22 - Figure this out!"
      ]
    },
    {
      "cell_type": "code",
      "execution_count": null,
      "metadata": {
        "id": "BSQhNbco9WPt"
      },
      "outputs": [],
      "source": [
        "#balanceando as classes\n",
        "#trainset2, _ = train_test_split(trainset2, test_size= 3875/train_size, shuffle=False)\n",
        "#trainset = ConcatDataset([trainset, trainset2])"
      ]
    },
    {
      "cell_type": "markdown",
      "metadata": {
        "id": "BAlndOLU9WPu"
      },
      "source": [
        "### See our images"
      ]
    },
    {
      "cell_type": "code",
      "execution_count": 13,
      "metadata": {
        "colab": {
          "base_uri": "https://localhost:8080/",
          "height": 291
        },
        "id": "O5AJu0mMxgNh",
        "outputId": "8ed8af92-adf6-4951-f1e0-55d716d30594"
      },
      "outputs": [
        {
          "output_type": "display_data",
          "data": {
            "text/plain": [
              "<Figure size 1152x360 with 4 Axes>"
            ],
            "image/png": "[encoded data removed]"
          },
          "metadata": {
            "needs_background": "light"
          }
        }
      ],
      "source": [
        "img_paths = os.listdir(dir_train_pneumonia)\n",
        "random.shuffle(img_paths)\n",
        "\n",
        "fig = plt.figure(figsize=(16, 5))\n",
        "fig.suptitle(\"Positive\", size=22)\n",
        "\n",
        "for i, image in enumerate(img_paths[:4]):\n",
        "    img_path = os.path.join(dir_train_pneumonia, image)\n",
        "    img = cv2.imread(img_path)\n",
        "    plt.subplot(1, 4, i + 1, frameon=False)\n",
        "    plt.imshow(img)\n",
        "fig.show()"
      ]
    },
    {
      "cell_type": "markdown",
      "metadata": {
        "id": "It8xRKn0Sbie"
      },
      "source": [
        "## Build Model\n"
      ]
    },
    {
      "cell_type": "markdown",
      "metadata": {
        "id": "1w_qSPZDzTWe"
      },
      "source": [
        "### Model backbone: resnet18, pretrained\n",
        "\n",
        "- Backbone _(feature extractor)_: __Resnet__\n",
        "- We use pre-trained weights of Resnet (from `torch.models`) to increase accuracy & reduce training time.\n"
      ]
    },
    {
      "cell_type": "code",
      "execution_count": 5,
      "metadata": {
        "id": "hdudxc8WSbLC",
        "colab": {
          "base_uri": "https://localhost:8080/"
        },
        "outputId": "1ca6aa34-5788-4226-8d8e-24799ef704fb"
      },
      "outputs": [
        {
          "output_type": "stream",
          "name": "stdout",
          "text": [
            "ResNet(\n",
            "  (conv1): Conv2d(3, 64, kernel_size=(7, 7), stride=(2, 2), padding=(3, 3), bias=False)\n",
            "  (bn1): BatchNorm2d(64, eps=1e-05, momentum=0.1, affine=True, track_running_stats=True)\n",
            "  (relu): ReLU(inplace=True)\n",
            "  (maxpool): MaxPool2d(kernel_size=3, stride=2, padding=1, dilation=1, ceil_mode=False)\n",
            "  (layer1): Sequential(\n",
            "    (0): BasicBlock(\n",
            "      (conv1): Conv2d(64, 64, kernel_size=(3, 3), stride=(1, 1), padding=(1, 1), bias=False)\n",
            "      (bn1): BatchNorm2d(64, eps=1e-05, momentum=0.1, affine=True, track_running_stats=True)\n",
            "      (relu): ReLU(inplace=True)\n",
            "      (conv2): Conv2d(64, 64, kernel_size=(3, 3), stride=(1, 1), padding=(1, 1), bias=False)\n",
            "      (bn2): BatchNorm2d(64, eps=1e-05, momentum=0.1, affine=True, track_running_stats=True)\n",
            "    )\n",
            "    (1): BasicBlock(\n",
            "      (conv1): Conv2d(64, 64, kernel_size=(3, 3), stride=(1, 1), padding=(1, 1), bias=False)\n",
            "      (bn1): BatchNorm2d(64, eps=1e-05, momentum=0.1, affine=True, track_running_stats=True)\n",
            "      (relu): ReLU(inplace=True)\n",
            "      (conv2): Conv2d(64, 64, kernel_size=(3, 3), stride=(1, 1), padding=(1, 1), bias=False)\n",
            "      (bn2): BatchNorm2d(64, eps=1e-05, momentum=0.1, affine=True, track_running_stats=True)\n",
            "    )\n",
            "  )\n",
            "  (layer2): Sequential(\n",
            "    (0): BasicBlock(\n",
            "      (conv1): Conv2d(64, 128, kernel_size=(3, 3), stride=(2, 2), padding=(1, 1), bias=False)\n",
            "      (bn1): BatchNorm2d(128, eps=1e-05, momentum=0.1, affine=True, track_running_stats=True)\n",
            "      (relu): ReLU(inplace=True)\n",
            "      (conv2): Conv2d(128, 128, kernel_size=(3, 3), stride=(1, 1), padding=(1, 1), bias=False)\n",
            "      (bn2): BatchNorm2d(128, eps=1e-05, momentum=0.1, affine=True, track_running_stats=True)\n",
            "      (downsample): Sequential(\n",
            "        (0): Conv2d(64, 128, kernel_size=(1, 1), stride=(2, 2), bias=False)\n",
            "        (1): BatchNorm2d(128, eps=1e-05, momentum=0.1, affine=True, track_running_stats=True)\n",
            "      )\n",
            "    )\n",
            "    (1): BasicBlock(\n",
            "      (conv1): Conv2d(128, 128, kernel_size=(3, 3), stride=(1, 1), padding=(1, 1), bias=False)\n",
            "      (bn1): BatchNorm2d(128, eps=1e-05, momentum=0.1, affine=True, track_running_stats=True)\n",
            "      (relu): ReLU(inplace=True)\n",
            "      (conv2): Conv2d(128, 128, kernel_size=(3, 3), stride=(1, 1), padding=(1, 1), bias=False)\n",
            "      (bn2): BatchNorm2d(128, eps=1e-05, momentum=0.1, affine=True, track_running_stats=True)\n",
            "    )\n",
            "  )\n",
            "  (layer3): Sequential(\n",
            "    (0): BasicBlock(\n",
            "      (conv1): Conv2d(128, 256, kernel_size=(3, 3), stride=(2, 2), padding=(1, 1), bias=False)\n",
            "      (bn1): BatchNorm2d(256, eps=1e-05, momentum=0.1, affine=True, track_running_stats=True)\n",
            "      (relu): ReLU(inplace=True)\n",
            "      (conv2): Conv2d(256, 256, kernel_size=(3, 3), stride=(1, 1), padding=(1, 1), bias=False)\n",
            "      (bn2): BatchNorm2d(256, eps=1e-05, momentum=0.1, affine=True, track_running_stats=True)\n",
            "      (downsample): Sequential(\n",
            "        (0): Conv2d(128, 256, kernel_size=(1, 1), stride=(2, 2), bias=False)\n",
            "        (1): BatchNorm2d(256, eps=1e-05, momentum=0.1, affine=True, track_running_stats=True)\n",
            "      )\n",
            "    )\n",
            "    (1): BasicBlock(\n",
            "      (conv1): Conv2d(256, 256, kernel_size=(3, 3), stride=(1, 1), padding=(1, 1), bias=False)\n",
            "      (bn1): BatchNorm2d(256, eps=1e-05, momentum=0.1, affine=True, track_running_stats=True)\n",
            "      (relu): ReLU(inplace=True)\n",
            "      (conv2): Conv2d(256, 256, kernel_size=(3, 3), stride=(1, 1), padding=(1, 1), bias=False)\n",
            "      (bn2): BatchNorm2d(256, eps=1e-05, momentum=0.1, affine=True, track_running_stats=True)\n",
            "    )\n",
            "  )\n",
            "  (layer4): Sequential(\n",
            "    (0): BasicBlock(\n",
            "      (conv1): Conv2d(256, 512, kernel_size=(3, 3), stride=(2, 2), padding=(1, 1), bias=False)\n",
            "      (bn1): BatchNorm2d(512, eps=1e-05, momentum=0.1, affine=True, track_running_stats=True)\n",
            "      (relu): ReLU(inplace=True)\n",
            "      (conv2): Conv2d(512, 512, kernel_size=(3, 3), stride=(1, 1), padding=(1, 1), bias=False)\n",
            "      (bn2): BatchNorm2d(512, eps=1e-05, momentum=0.1, affine=True, track_running_stats=True)\n",
            "      (downsample): Sequential(\n",
            "        (0): Conv2d(256, 512, kernel_size=(1, 1), stride=(2, 2), bias=False)\n",
            "        (1): BatchNorm2d(512, eps=1e-05, momentum=0.1, affine=True, track_running_stats=True)\n",
            "      )\n",
            "    )\n",
            "    (1): BasicBlock(\n",
            "      (conv1): Conv2d(512, 512, kernel_size=(3, 3), stride=(1, 1), padding=(1, 1), bias=False)\n",
            "      (bn1): BatchNorm2d(512, eps=1e-05, momentum=0.1, affine=True, track_running_stats=True)\n",
            "      (relu): ReLU(inplace=True)\n",
            "      (conv2): Conv2d(512, 512, kernel_size=(3, 3), stride=(1, 1), padding=(1, 1), bias=False)\n",
            "      (bn2): BatchNorm2d(512, eps=1e-05, momentum=0.1, affine=True, track_running_stats=True)\n",
            "    )\n",
            "  )\n",
            "  (avgpool): AdaptiveAvgPool2d(output_size=(1, 1))\n",
            "  (fc): Linear(in_features=512, out_features=2, bias=True)\n",
            ")\n"
          ]
        }
      ],
      "source": [
        "\n",
        "'''\n",
        "\tNOTE: We need to replace the original last layer\n",
        "\t- Last layer is a linear fully connected one with many outputs;\n",
        "\t- Our net needs 02 (as we have 02 classes);\n",
        "\t- We replace it so it becomes a binary classifier;\n",
        "\t- We end up with a new last layer holding the same number of inputs but only 02 outputs:\n",
        "\t\n",
        "\tNOTE: The end network has no activation function\n",
        "\t- For our binary classification we'd need a sigmoid activation;\n",
        "\t- But we skip this job as our cost function already handles this; TODO: Figure this out!\n",
        "'''\n",
        "\n",
        "model = models.resnet18(pretrained=True)\n",
        "for params in model.parameters():\t# Freeze parameters (so pre-trained convolution layers don't change)\n",
        "\tparams.requires_grad_ = False\n",
        "\n",
        "n_filters = model.fc.in_features\n",
        "model.fc = torch.nn.Linear(n_filters, 2) # Replace last layer\n",
        "model = model.to(DEVICE)\n",
        "\n",
        "criterion = torch.nn.CrossEntropyLoss() # Loss function\n",
        "optimizer = optim.Adam(model.parameters(), lr=learn_rate)\n",
        "\n",
        "print(model)"
      ]
    },
    {
      "cell_type": "markdown",
      "metadata": {
        "id": "Jb0qUp3N5Thw"
      },
      "source": [
        "## Training"
      ]
    },
    {
      "cell_type": "markdown",
      "metadata": {
        "id": "Zv-jLkRc9WPx"
      },
      "source": [
        "#### Train"
      ]
    },
    {
      "cell_type": "code",
      "execution_count": 7,
      "metadata": {
        "id": "5EVZDFpp5-LQ",
        "colab": {
          "base_uri": "https://localhost:8080/"
        },
        "outputId": "e712a51e-687d-4916-e584-42bba483c652"
      },
      "outputs": [
        {
          "output_type": "stream",
          "name": "stdout",
          "text": [
            "Epoch 1/4\n"
          ]
        },
        {
          "output_type": "stream",
          "name": "stderr",
          "text": [
            "100%|██████████| 163/163 [03:59<00:00,  1.47s/it]\n"
          ]
        },
        {
          "output_type": "stream",
          "name": "stdout",
          "text": [
            "Train Loss: 0.1566; Train Accuracy: 0.9469\n",
            "Val Loss: 0.4356; Val Accuracy: 0.6875\n",
            "------------------------------\n",
            "Epoch 2/4\n"
          ]
        },
        {
          "output_type": "stream",
          "name": "stderr",
          "text": [
            "100%|██████████| 163/163 [04:02<00:00,  1.49s/it]\n"
          ]
        },
        {
          "output_type": "stream",
          "name": "stdout",
          "text": [
            "Train Loss: 0.0967; Train Accuracy: 0.9632\n",
            "Val Loss: 0.6633; Val Accuracy: 0.6875\n",
            "------------------------------\n",
            "Epoch 3/4\n"
          ]
        },
        {
          "output_type": "stream",
          "name": "stderr",
          "text": [
            "100%|██████████| 163/163 [04:00<00:00,  1.48s/it]\n"
          ]
        },
        {
          "output_type": "stream",
          "name": "stdout",
          "text": [
            "Train Loss: 0.0744; Train Accuracy: 0.9735\n",
            "Val Loss: 0.3428; Val Accuracy: 0.9375\n",
            "------------------------------\n",
            "Epoch 4/4\n"
          ]
        },
        {
          "output_type": "stream",
          "name": "stderr",
          "text": [
            "100%|██████████| 163/163 [04:02<00:00,  1.49s/it]\n"
          ]
        },
        {
          "output_type": "stream",
          "name": "stdout",
          "text": [
            "Train Loss: 0.0663; Train Accuracy: 0.9757\n",
            "Val Loss: 0.9342; Val Accuracy: 0.5625\n",
            "------------------------------\n",
            "Training complete in 16m 6s\n",
            "Best Val Acc: 0.9375\n"
          ]
        }
      ],
      "source": [
        "since = time.time()\n",
        "best_model = copy.deepcopy(model.state_dict())\n",
        "best_accuracy = 0.0\n",
        "\n",
        "for epoch in range(n_epochs):\n",
        "    print('Epoch {}/{}'.format(epoch + 1, n_epochs))\n",
        "    \n",
        "    # Train\n",
        "    model.train()\n",
        "    running_loss = 0.0\n",
        "    running_corrects = 0\n",
        "    \n",
        "    for inputs, labels in tqdm(loader_train, total=len(loader_train)):\n",
        "        \n",
        "        inputs = inputs.to(DEVICE)\n",
        "        labels = labels.to(DEVICE)\n",
        "        optimizer.zero_grad()\n",
        "\n",
        "        with torch.set_grad_enabled(True):\n",
        "            outputs = model(inputs)\n",
        "            _, y_hat = torch.max(outputs, 1)\n",
        "\n",
        "            loss = criterion(outputs, labels)\n",
        "            loss.backward()\n",
        "            optimizer.step()\n",
        "\n",
        "        running_loss += loss.item() * inputs.size(0) # TODO: Figure this out\n",
        "        running_corrects += torch.sum(y_hat == labels.data)\n",
        "        \n",
        "    epoch_loss = running_loss / n_train\n",
        "    epoch_accuracy = running_corrects.double() / n_train\n",
        "    print('Train Loss: {:.4f}; Train Accuracy: {:.4f}'.format(epoch_loss, epoch_accuracy))\n",
        "    \n",
        "    # Validate\n",
        "    model.eval()\n",
        "    running_loss = 0.0\n",
        "    running_corrects = 0\n",
        "\n",
        "    for inputs, labels in loader_validation:\n",
        "        \n",
        "        inputs = inputs.to(DEVICE)\n",
        "        labels = labels.to(DEVICE)\n",
        "        optimizer.zero_grad()\n",
        "        \n",
        "        with torch.set_grad_enabled(False):\n",
        "            outputs = model(inputs)\n",
        "            _, y_hat = torch.max(outputs, 1)\n",
        "            loss = criterion(outputs, labels)\n",
        "            \n",
        "        running_loss += loss.item() * inputs.size(0) # TODO: Figure this out\n",
        "        running_corrects += torch.sum(y_hat == labels.data)\n",
        "\n",
        "    epoch_loss = running_loss / n_validation\n",
        "    epoch_accuracy = running_corrects.double() / n_validation\n",
        "    print('Val Loss: {:.4f}; Val Accuracy: {:.4f}'.format(epoch_loss, epoch_accuracy))\n",
        "    print('-' * 30)\n",
        "    \n",
        "    if epoch_accuracy > best_accuracy:\n",
        "        best_accuracy = epoch_accuracy\n",
        "        best_model = copy.deepcopy(model.state_dict())\n",
        "    \n",
        "time_elapsed = time.time() - since\n",
        "model.load_state_dict(best_model)\n",
        "\n",
        "print('Training complete in {:.0f}m {:.0f}s'.format(time_elapsed // 60, time_elapsed % 60))\n",
        "print('Best Val Acc: {:.4f}'.format(best_accuracy))"
      ]
    },
    {
      "cell_type": "markdown",
      "metadata": {
        "id": "bWuxvVZp9WPz"
      },
      "source": [
        "#### Save classifier"
      ]
    },
    {
      "cell_type": "code",
      "execution_count": 8,
      "metadata": {
        "id": "4PxpF-jM3YJk"
      },
      "outputs": [],
      "source": [
        "torch.save(model.state_dict(), path_model)"
      ]
    },
    {
      "cell_type": "markdown",
      "metadata": {
        "id": "_JvALxFw37E8"
      },
      "source": [
        "## Evaluation"
      ]
    },
    {
      "cell_type": "markdown",
      "metadata": {
        "id": "QVDyYgiq9WP0"
      },
      "source": [
        "#### Test"
      ]
    },
    {
      "cell_type": "code",
      "execution_count": 10,
      "metadata": {
        "id": "gkDAIWJPxkQO",
        "colab": {
          "base_uri": "https://localhost:8080/"
        },
        "outputId": "1a78ecf0-7271-4ea8-af25-06d174b32886"
      },
      "outputs": [
        {
          "output_type": "stream",
          "name": "stdout",
          "text": [
            "Test Accuracy: 0.9119\n"
          ]
        },
        {
          "output_type": "execute_result",
          "data": {
            "text/plain": [
              "ResNet(\n",
              "  (conv1): Conv2d(3, 64, kernel_size=(7, 7), stride=(2, 2), padding=(3, 3), bias=False)\n",
              "  (bn1): BatchNorm2d(64, eps=1e-05, momentum=0.1, affine=True, track_running_stats=True)\n",
              "  (relu): ReLU(inplace=True)\n",
              "  (maxpool): MaxPool2d(kernel_size=3, stride=2, padding=1, dilation=1, ceil_mode=False)\n",
              "  (layer1): Sequential(\n",
              "    (0): BasicBlock(\n",
              "      (conv1): Conv2d(64, 64, kernel_size=(3, 3), stride=(1, 1), padding=(1, 1), bias=False)\n",
              "      (bn1): BatchNorm2d(64, eps=1e-05, momentum=0.1, affine=True, track_running_stats=True)\n",
              "      (relu): ReLU(inplace=True)\n",
              "      (conv2): Conv2d(64, 64, kernel_size=(3, 3), stride=(1, 1), padding=(1, 1), bias=False)\n",
              "      (bn2): BatchNorm2d(64, eps=1e-05, momentum=0.1, affine=True, track_running_stats=True)\n",
              "    )\n",
              "    (1): BasicBlock(\n",
              "      (conv1): Conv2d(64, 64, kernel_size=(3, 3), stride=(1, 1), padding=(1, 1), bias=False)\n",
              "      (bn1): BatchNorm2d(64, eps=1e-05, momentum=0.1, affine=True, track_running_stats=True)\n",
              "      (relu): ReLU(inplace=True)\n",
              "      (conv2): Conv2d(64, 64, kernel_size=(3, 3), stride=(1, 1), padding=(1, 1), bias=False)\n",
              "      (bn2): BatchNorm2d(64, eps=1e-05, momentum=0.1, affine=True, track_running_stats=True)\n",
              "    )\n",
              "  )\n",
              "  (layer2): Sequential(\n",
              "    (0): BasicBlock(\n",
              "      (conv1): Conv2d(64, 128, kernel_size=(3, 3), stride=(2, 2), padding=(1, 1), bias=False)\n",
              "      (bn1): BatchNorm2d(128, eps=1e-05, momentum=0.1, affine=True, track_running_stats=True)\n",
              "      (relu): ReLU(inplace=True)\n",
              "      (conv2): Conv2d(128, 128, kernel_size=(3, 3), stride=(1, 1), padding=(1, 1), bias=False)\n",
              "      (bn2): BatchNorm2d(128, eps=1e-05, momentum=0.1, affine=True, track_running_stats=True)\n",
              "      (downsample): Sequential(\n",
              "        (0): Conv2d(64, 128, kernel_size=(1, 1), stride=(2, 2), bias=False)\n",
              "        (1): BatchNorm2d(128, eps=1e-05, momentum=0.1, affine=True, track_running_stats=True)\n",
              "      )\n",
              "    )\n",
              "    (1): BasicBlock(\n",
              "      (conv1): Conv2d(128, 128, kernel_size=(3, 3), stride=(1, 1), padding=(1, 1), bias=False)\n",
              "      (bn1): BatchNorm2d(128, eps=1e-05, momentum=0.1, affine=True, track_running_stats=True)\n",
              "      (relu): ReLU(inplace=True)\n",
              "      (conv2): Conv2d(128, 128, kernel_size=(3, 3), stride=(1, 1), padding=(1, 1), bias=False)\n",
              "      (bn2): BatchNorm2d(128, eps=1e-05, momentum=0.1, affine=True, track_running_stats=True)\n",
              "    )\n",
              "  )\n",
              "  (layer3): Sequential(\n",
              "    (0): BasicBlock(\n",
              "      (conv1): Conv2d(128, 256, kernel_size=(3, 3), stride=(2, 2), padding=(1, 1), bias=False)\n",
              "      (bn1): BatchNorm2d(256, eps=1e-05, momentum=0.1, affine=True, track_running_stats=True)\n",
              "      (relu): ReLU(inplace=True)\n",
              "      (conv2): Conv2d(256, 256, kernel_size=(3, 3), stride=(1, 1), padding=(1, 1), bias=False)\n",
              "      (bn2): BatchNorm2d(256, eps=1e-05, momentum=0.1, affine=True, track_running_stats=True)\n",
              "      (downsample): Sequential(\n",
              "        (0): Conv2d(128, 256, kernel_size=(1, 1), stride=(2, 2), bias=False)\n",
              "        (1): BatchNorm2d(256, eps=1e-05, momentum=0.1, affine=True, track_running_stats=True)\n",
              "      )\n",
              "    )\n",
              "    (1): BasicBlock(\n",
              "      (conv1): Conv2d(256, 256, kernel_size=(3, 3), stride=(1, 1), padding=(1, 1), bias=False)\n",
              "      (bn1): BatchNorm2d(256, eps=1e-05, momentum=0.1, affine=True, track_running_stats=True)\n",
              "      (relu): ReLU(inplace=True)\n",
              "      (conv2): Conv2d(256, 256, kernel_size=(3, 3), stride=(1, 1), padding=(1, 1), bias=False)\n",
              "      (bn2): BatchNorm2d(256, eps=1e-05, momentum=0.1, affine=True, track_running_stats=True)\n",
              "    )\n",
              "  )\n",
              "  (layer4): Sequential(\n",
              "    (0): BasicBlock(\n",
              "      (conv1): Conv2d(256, 512, kernel_size=(3, 3), stride=(2, 2), padding=(1, 1), bias=False)\n",
              "      (bn1): BatchNorm2d(512, eps=1e-05, momentum=0.1, affine=True, track_running_stats=True)\n",
              "      (relu): ReLU(inplace=True)\n",
              "      (conv2): Conv2d(512, 512, kernel_size=(3, 3), stride=(1, 1), padding=(1, 1), bias=False)\n",
              "      (bn2): BatchNorm2d(512, eps=1e-05, momentum=0.1, affine=True, track_running_stats=True)\n",
              "      (downsample): Sequential(\n",
              "        (0): Conv2d(256, 512, kernel_size=(1, 1), stride=(2, 2), bias=False)\n",
              "        (1): BatchNorm2d(512, eps=1e-05, momentum=0.1, affine=True, track_running_stats=True)\n",
              "      )\n",
              "    )\n",
              "    (1): BasicBlock(\n",
              "      (conv1): Conv2d(512, 512, kernel_size=(3, 3), stride=(1, 1), padding=(1, 1), bias=False)\n",
              "      (bn1): BatchNorm2d(512, eps=1e-05, momentum=0.1, affine=True, track_running_stats=True)\n",
              "      (relu): ReLU(inplace=True)\n",
              "      (conv2): Conv2d(512, 512, kernel_size=(3, 3), stride=(1, 1), padding=(1, 1), bias=False)\n",
              "      (bn2): BatchNorm2d(512, eps=1e-05, momentum=0.1, affine=True, track_running_stats=True)\n",
              "    )\n",
              "  )\n",
              "  (avgpool): AdaptiveAvgPool2d(output_size=(1, 1))\n",
              "  (fc): Linear(in_features=512, out_features=2, bias=True)\n",
              ")"
            ]
          },
          "metadata": {},
          "execution_count": 10
        }
      ],
      "source": [
        "was_training = model.training\n",
        "model.eval()\n",
        "\n",
        "labels = []\n",
        "predictions = []\n",
        "n_successes = 0\n",
        "\n",
        "with torch.no_grad():\n",
        "    for i in range(n_test):\n",
        "        input, label = ds_test[i]\n",
        "        input = input[np.newaxis, :] # Turn into row vector (add 1D)\n",
        "        input = input.to(DEVICE)\n",
        "        \n",
        "        output = model(input)\n",
        "        _, y_hat = torch.max(output, 1)\n",
        "        \n",
        "        label_real = class_names[label]\n",
        "        label_hat = class_names[y_hat]\n",
        "        if label_hat == label_real:\n",
        "            n_successes += 1\n",
        "        \n",
        "        labels.append(label_real)\n",
        "        predictions.append(label_hat)\n",
        "\n",
        "model.train(mode=was_training)\n",
        "\n",
        "accuracy = n_successes / n_test\n",
        "print('Test Accuracy: {:.4f}'.format(accuracy))"
      ]
    },
    {
      "cell_type": "markdown",
      "metadata": {
        "id": "9244_k_U9WP1"
      },
      "source": [
        "#### Confusion Matrix"
      ]
    },
    {
      "cell_type": "code",
      "execution_count": 17,
      "metadata": {
        "colab": {
          "base_uri": "https://localhost:8080/",
          "height": 626
        },
        "id": "af6G_P5K3vWx",
        "outputId": "f9f36dfa-18f2-4027-b639-804190ac9aee"
      },
      "outputs": [
        {
          "output_type": "display_data",
          "data": {
            "text/plain": [
              "<Figure size 432x288 with 0 Axes>"
            ]
          },
          "metadata": {}
        },
        {
          "output_type": "display_data",
          "data": {
            "text/plain": [
              "<Figure size 720x720 with 1 Axes>"
            ],
            "image/png": "[encoded data removed]"
          },
          "metadata": {
            "needs_background": "light"
          }
        }
      ],
      "source": [
        "matrix = confusion_matrix(labels, predictions)\n",
        "\n",
        "plt.figure()\n",
        "plot_confusion_matrix(matrix, figsize=(10,10))\n",
        "plt.xticks(range(2), class_names, fontsize=10)\n",
        "plt.yticks(range(2), class_names, fontsize=10)\n",
        "plt.xlabel('Predicted', fontsize=12)\n",
        "plt.ylabel('Real', fontsize=12)\n",
        "plt.show()"
      ]
    }
  ],
  "metadata": {
    "accelerator": "GPU",
    "colab": {
      "name": "nb_pneumonia.ipynb",
      "provenance": []
    },
    "gpuClass": "standard",
    "kernelspec": {
      "display_name": "Python 3.8.10 64-bit",
      "language": "python",
      "name": "python3"
    },
    "language_info": {
      "codemirror_mode": {
        "name": "ipython",
        "version": 3
      },
      "file_extension": ".py",
      "mimetype": "text/x-python",
      "name": "python",
      "nbconvert_exporter": "python",
      "pygments_lexer": "ipython3",
      "version": "3.8.10"
    },
    "vscode": {
      "interpreter": {
        "hash": "916dbcbb3f70747c44a77c7bcd40155683ae19c65e1c03b4aa3499c5328201f1"
      }
    }
  },
  "nbformat": 4,
  "nbformat_minor": 0
}