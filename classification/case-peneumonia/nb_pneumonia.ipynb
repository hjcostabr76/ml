{
  "cells": [
    {
      "cell_type": "markdown",
      "metadata": {},
      "source": [
        "# Pneumonia detection\n",
        "\n",
        "        TODO: ADD More info..."
      ]
    },
    {
      "cell_type": "markdown",
      "metadata": {},
      "source": [
        "Imports"
      ]
    },
    {
      "cell_type": "code",
      "execution_count": 2,
      "metadata": {
        "id": "zuXzzFrVlbVS"
      },
      "outputs": [
        {
          "data": {
            "text/plain": [
              "\"\\n    Run this in case the following imports don't run.\\n    !pip install torch==1.4.0+cu100 torchvision==0.5.0+cu100 -f https://download.pytorch.org/whl/torch_stable.html\\n\""
            ]
          },
          "execution_count": 2,
          "metadata": {},
          "output_type": "execute_result"
        }
      ],
      "source": [
        "'''\n",
        "    Run this in case the following imports don't run.\n",
        "    !pip install torch==1.4.0+cu100 torchvision==0.5.0+cu100 -f https://download.pytorch.org/whl/torch_stable.html\n",
        "'''\n",
        "# import time\n",
        "# import copy\n",
        "import os\n",
        "# import cv2\n",
        "\n",
        "# import numpy as np\n",
        "# import pandas as pd\n",
        "import seaborn as sns\n",
        "import matplotlib.pyplot as plt\n",
        "\n",
        "from tqdm import tqdm\n",
        "# from random import shuffle\n",
        "# from mlxtend.plotting import plot_confusion_matrix\n",
        "\n",
        "# import torch\n",
        "# import torch.nn as nn\n",
        "# import torch.nn.functional as F \n",
        "\n",
        "# from torch import nn, optim\n",
        "from torch import optim\n",
        "# from torch.nn.modules.loss import BCEWithLogitsLoss\n",
        "# from torch.utils.data import ConcatDataset, DataLoader\n",
        "from torch.utils.data import DataLoader\n",
        "\n",
        "# from torchvision import models # TODO: Will this really work?\n",
        "# from torchvision import transforms as transforms, datasets, models\n",
        "from torchvision import transforms, datasets\n",
        "# from torchvision.utils import make_grid\n",
        "# from torchvision.models.utils import load_state_dict_from_url\n",
        "\n",
        "# import sklearn\n",
        "# from sklearn.metrics import accuracy_score, cohen_kappa_score, classification_report, confusion_matrix\n",
        "# from sklearn.model_selection import train_test_split\n",
        "\n",
        "# ? torchvision\n",
        "# ? transforms\n",
        "# ? datasets\n",
        "# ? models"
      ]
    },
    {
      "cell_type": "markdown",
      "metadata": {},
      "source": [
        "Parameters"
      ]
    },
    {
      "cell_type": "code",
      "execution_count": null,
      "metadata": {},
      "outputs": [],
      "source": [
        "\n",
        "DEVICE = torch.device(\"cuda:0\" if torch.cuda.is_available() else \"cpu\")\n",
        "\n",
        "# Hyper Parameters\n",
        "epochs = 4\n",
        "w_decay = 1e-3\n",
        "momentum = 0.9\n",
        "batch_size = 32\n",
        "learn_rate = 0.001"
      ]
    },
    {
      "cell_type": "markdown",
      "metadata": {},
      "source": [
        "## Prepare data"
      ]
    },
    {
      "cell_type": "markdown",
      "metadata": {},
      "source": [
        "#### Colab only..."
      ]
    },
    {
      "cell_type": "code",
      "execution_count": 7,
      "metadata": {
        "colab": {
          "base_uri": "https://localhost:8080/"
        },
        "id": "Yt34x_OZWD42",
        "outputId": "512622db-564e-4064-ded5-c0321c9dea96"
      },
      "outputs": [
        {
          "name": "stdout",
          "output_type": "stream",
          "text": [
            "Mounted at /content/drive\n"
          ]
        }
      ],
      "source": [
        "from google.colab import drive\n",
        "drive.mount('/content/drive')"
      ]
    },
    {
      "cell_type": "markdown",
      "metadata": {},
      "source": [
        "#### Data augmentation"
      ]
    },
    {
      "cell_type": "code",
      "execution_count": null,
      "metadata": {},
      "outputs": [],
      "source": [
        "'''\n",
        "    TODO: 2022-06-22 - What mean all these parameter values?\n",
        "'''\n",
        "\n",
        "# Train: Transform sequence 01\n",
        "transf_train = transforms.Compose([\n",
        "    transforms.Resize(60),\n",
        "    transforms.RandomCrop(54),\n",
        "    transforms.ToTensor(), # Converts pixels [0-255] to tensors [0-1] TODO: Understand it\n",
        "    transforms.Normalize(mean = [0.485, 0.456, 0.406], std = [0.229, 0.224, 0.225])\n",
        "])\n",
        "\n",
        "# Train: Transform sequence 02\n",
        "transf_train2 = transforms.Compose([\n",
        "    transforms.Resize(57),\n",
        "    transforms.RandomRotation(10),\n",
        "    transforms.RandomCrop(54),\n",
        "    transforms.ToTensor(),\n",
        "    transforms.Normalize(mean=[0.485, 0.456, 0.406], std=[0.229, 0.224, 0.225])\n",
        "])\n",
        "\n",
        "# creates the transforms sequence for the test and val sets\n",
        "# Test & Validation: Transform sequence\n",
        "transf_test = transforms.Compose([\n",
        "    transforms.Resize(54),\n",
        "    transforms.CenterCrop(54),\n",
        "    transforms.ToTensor(),\n",
        "    transforms.Normalize(mean = [0.485, 0.456, 0.406], std = [0.229, 0.224, 0.225])\n",
        "])"
      ]
    },
    {
      "cell_type": "markdown",
      "metadata": {},
      "source": [
        "### Load dataset"
      ]
    },
    {
      "cell_type": "code",
      "execution_count": 4,
      "metadata": {
        "colab": {
          "base_uri": "https://localhost:8080/"
        },
        "id": "w1ONSCEdqspM",
        "outputId": "446b577a-0ec8-43ea-d22b-9fc3b55949f2"
      },
      "outputs": [
        {
          "name": "stdout",
          "output_type": "stream",
          "text": [
            "hey {'foo': 'bar', 'baz': 'jow'}\n"
          ]
        }
      ],
      "source": [
        "dir_data = \"/content/drive/MyDrive/data_pneumonia/chest_xray/chest_xray\"\n",
        "dir_val = os.path.join(dir_data, 'val')\n",
        "dir_test =  os.path.join(dir_data', test')\n",
        "dir_train =  os.path.join(dir_data, 'train')\n",
        "dir_train_normal = os.join(dir_train, 'NORMAl')\n",
        "dir_train_pneumonia = os.join(dir_train, 'PNEUMONIA')\n",
        "\n",
        "'''\n",
        "    TODO: 2022-06-22 - Figure balancing out\n",
        "    # criando 2 sets de treinamento para mesclar os dois e balancear as classes\n",
        "'''\n",
        "\n",
        "# Datasets\n",
        "ds_train1 = datasets.ImageFolder(dir_train, transform=transf_train)\n",
        "# ds_train2 = datasets.ImageFolder(dir_train, transform=transf_train2)\n",
        "ds_test = datasets.ImageFolder(dir_test, transform=transf_test)\n",
        "ds_validation = datasets.ImageFolder(dir_val, transform=transf_test)\n",
        "\n",
        "# Data loaders\n",
        "loader_train = DataLoader(ds_train1, batch_size=batch_size, shuffle=True)\n",
        "loader_test = DataLoader(ds_validation, batch_size=batch_size, shuffle=True)\n",
        "loader_valid = DataLoader(ds_test, batch_size=batch_size, shuffle=True)\n",
        "\n",
        "# Create new validation set TODO: Figure this out!\n",
        "# trainset, validset = train_test_split(trainset, test_size=0.2)\n",
        "\n",
        "# See what we've done\n",
        "n_train = len(ds_train1)\n",
        "n_test = len(ds_train)\n",
        "n_validation = len(ds_validation)\n",
        "\n",
        "class_names = ds_train1.classes\n",
        "images, labels = iter(loader_train).next()\n",
        "\n",
        "print('Train: {} images, Test: {} images, Validation: {} images'.format(n_train, n_test, n_validation))\n",
        "print('Classes: ' + str(trainset.class_to_idx))\n",
        "print('Images shape: {}'.format(str(images.shape))) # torch.Size([32, 3, 54, 54])\n",
        "print('Labels shape: {}'.format(str(labels.shape))) # torch.Size([32])\n"
      ]
    },
    {
      "cell_type": "markdown",
      "metadata": {},
      "source": [
        "### Data Balancing\n",
        "    > TODO..."
      ]
    },
    {
      "cell_type": "markdown",
      "metadata": {},
      "source": [
        "#### See data: Unbalanced Distribution"
      ]
    },
    {
      "cell_type": "code",
      "execution_count": null,
      "metadata": {},
      "outputs": [],
      "source": [
        "files_normal = [os.path.join(dir_train_normal, file) for file in os.listdir(dir_train_normal)]\n",
        "files_pneumonia = [os.path.join(dir_train_pneumonia, file) for file in os.listdir(dir_train_pneumonia)]\n",
        "df_train_unbalanced = pd.DataFrame.from_dict({ 'Normal': [len(files_normal)], 'Pneumonia': [len(files_pneumonia)] })\n",
        "\n",
        "sns.barplot(data=df_train_unbalanced).set_title('Training Data: Unbalanced', fontsize=20)\n",
        "plt.show()"
      ]
    },
    {
      "cell_type": "markdown",
      "metadata": {},
      "source": [
        "#### Run Balancing\n",
        "\n",
        "TODO: 2022-06-22 - Figure this out!"
      ]
    },
    {
      "cell_type": "code",
      "execution_count": null,
      "metadata": {},
      "outputs": [],
      "source": [
        "#balanceando as classes\n",
        "#trainset2, _ = train_test_split(trainset2, test_size= 3875/train_size, shuffle=False)\n",
        "#trainset = ConcatDataset([trainset, trainset2])"
      ]
    },
    {
      "cell_type": "markdown",
      "metadata": {},
      "source": [
        "### See our images"
      ]
    },
    {
      "cell_type": "code",
      "execution_count": 19,
      "metadata": {
        "colab": {
          "base_uri": "https://localhost:8080/",
          "height": 292
        },
        "id": "O5AJu0mMxgNh",
        "outputId": "1412a857-def2-4e20-c2e5-a17f834be790"
      },
      "outputs": [
        {
          "data": {
            "image/png": "[encoded data removed]",
            "text/plain": [
              "<Figure size 1152x360 with 4 Axes>"
            ]
          },
          "metadata": {
            "needs_background": "light"
          },
          "output_type": "display_data"
        }
      ],
      "source": [
        "fig = plt.figure(figsize=(16, 5))\n",
        "fig.suptitle(\"Positive\", size=22)\n",
        "img_paths = os.listdir(\"/content/drive/MyDrive/data_pneumonia/chest_xray/chest_xray/train/PNEUMONIA\")\n",
        "\n",
        "shuffle(img_paths)\n",
        "for i, image in enumerate(img_paths[:4]):\n",
        "    img_path = os.path.join(\"/content/drive/MyDrive/data_pneumonia/chest_xray/chest_xray/train/PNEUMONIA\", image)\n",
        "    img = cv2.imread(img_path)\n",
        "    plt.subplot(1, 4, i + 1, frameon=False)\n",
        "    plt.imshow(img)\n",
        "fig.show()"
      ]
    },
    {
      "cell_type": "markdown",
      "metadata": {
        "id": "It8xRKn0Sbie"
      },
      "source": [
        "## Build Model\n"
      ]
    },
    {
      "cell_type": "markdown",
      "metadata": {
        "id": "1w_qSPZDzTWe"
      },
      "source": [
        "### Model backbone: resnet18, pretrained\n",
        "\n",
        "- Backbone (feature extractor): Resnet\n",
        "- We use pre-trained weights of Resnet (from torch.models) to increase accuracy & reduce training time.\n"
      ]
    },
    {
      "cell_type": "code",
      "execution_count": null,
      "metadata": {
        "colab": {
          "base_uri": "https://localhost:8080/",
          "height": 1000,
          "referenced_widgets": [
            "dffd0695398d4e9591bcdcdc7d8ad5b4",
            "73619d53d69047b8b39aa323a3fa61df",
            "b4ff5bc68b814822a32183215b30df98",
            "9fe815c8fb3c4da3b4ac2ba4bb63db89",
            "247cce4eadd74e5b96d7a5624258b9d6",
            "3f4f9793e6ba48f09fd1b993bc8cc805",
            "d822b3942d154cb1896409cef153f634",
            "d291131f6d934f0ba343ab07cc5f6394",
            "f5830229b5e747c69a9269d087b47c2b",
            "29ad42ba1e354d17b7e33c205c696420",
            "f61a117329e147fb80aa15a553f457f9"
          ]
        },
        "id": "hdudxc8WSbLC",
        "outputId": "a4a386fb-41b5-453a-abbe-4e934b8453f3"
      },
      "outputs": [],
      "source": [
        "\n",
        "'''\n",
        "\tNOTE: We need to replace the original last layer\n",
        "\t- Last layer is a linear fully connected one with many outputs;\n",
        "\t- Our net needs 02 (as we have 02 classes);\n",
        "\t- We replace it so it becomes a binary classifier;\n",
        "\t- We end up with a new last layer holding the same number of inputs but only 02 outputs:\n",
        "\t\n",
        "\tNOTE: The end network has no activation function\n",
        "\t- For our binary classification we'd need a sigmoid activation;\n",
        "\t- But we skip this job as our cost function already handles this; TODO: Figure this out!\n",
        "'''\n",
        "\n",
        "model = models.resnet18(pretrained=True)\n",
        "model.fc = nn.Linear(model.fc.in_features, 2) # Replace last layer\n",
        "for params in model.parameters():\t# Freeze parameters (so pre-trained convolution layers don't change)\n",
        "\tparams.requires_grad_ = False\n",
        "\n",
        "model = model.to(DEVICE)\n",
        "criterion = nn.CrossEntropyLoss() # Loss function\n",
        "optimizer = optim.Adam(model.parameters(), lr=learn_rate)\n",
        "\n",
        "print(model)"
      ]
    },
    {
      "cell_type": "markdown",
      "metadata": {
        "id": "Jb0qUp3N5Thw"
      },
      "source": [
        "## Training"
      ]
    },
    {
      "cell_type": "markdown",
      "metadata": {},
      "source": [
        "#### Trainer"
      ]
    },
    {
      "cell_type": "code",
      "execution_count": 37,
      "metadata": {
        "id": "5EVZDFpp5-LQ"
      },
      "outputs": [],
      "source": [
        "'''\n",
        "    TODO: 2022-06-23 - ADD accuracy history to the return\n",
        "'''\n",
        "\n",
        "def train(\n",
        "    model: nn.Module, optimizer: optim.Optimizer, criterion: nn.CrossEntropyLoss,\n",
        "    loader_train: DataLoader, loader_val: DataLoader,\n",
        "    n_epochs: int,\n",
        ") -> None:\n",
        "    \n",
        "    since = time.time()\n",
        "    best_model = copy.deepcopy(model.state_dict())\n",
        "    best_acc = 0.0\n",
        "\n",
        "    n_train = len(loader_train)\n",
        "    n_validation = len(loader_val)\n",
        "    \n",
        "    for epoch in range(n_epochs):\n",
        "        print('Epoch {}/{}'.format(epoch + 1, n_epochs))\n",
        "        \n",
        "        # Train\n",
        "        model.train()\n",
        "        running_loss = 0.0\n",
        "        running_corrects = 0\n",
        "        \n",
        "        for inputs, labels in tqdm(loader_train, total=n_train):\n",
        "            \n",
        "            inputs = inputs.to(DEVICE)\n",
        "            labels = labels.to(DEVICE)\n",
        "            optimizer.zero_grad()\n",
        "\n",
        "            with torch.set_grad_enabled(True):\n",
        "                outputs = model(inputs)\n",
        "                _, y_hat = torch.max(outputs, 1)\n",
        "\n",
        "                loss = criterion(outputs, labels)\n",
        "                loss.backward()\n",
        "                optimizer.step()\n",
        "\n",
        "            running_loss += loss.item() * inputs.size(0) # TODO: Figure this out\n",
        "            running_corrects += torch.sum(y_hat == labels.data)\n",
        "            \n",
        "        epoch_loss = running_loss / n_train\n",
        "        epoch_accuracy = running_corrects.double() / n_train\n",
        "        print('Train Loss: {:.4f}; Train Acc: {:.4f}'.format(epoch_loss, epoch_accuracy))\n",
        "        \n",
        "        # Validate\n",
        "        model.eval()\n",
        "        running_loss = 0.0\n",
        "        running_corrects = 0\n",
        "\n",
        "        for inputs, labels in loader_val:\n",
        "            \n",
        "            inputs = inputs.to(DEVICE)\n",
        "            labels = labels.to(DEVICE)\n",
        "            optimizer.zero_grad()\n",
        "            \n",
        "            with torch.set_grad_enabled(False):\n",
        "                outputs = model(inputs)\n",
        "                _, y_hat = torch.max(outputs, 1)\n",
        "                loss = criterion(outputs, labels)\n",
        "                \n",
        "            running_loss += loss.item() * inputs.size(0) # TODO: Figure this out\n",
        "            running_corrects += torch.sum(y_hat == labels.data)\n",
        "\n",
        "        epoch_loss = running_loss / n_validation\n",
        "        epoch_accuracy = running_corrects.double() / n_validation\n",
        "        print('Val Loss: {:.4f}; Val Acc: {:.4f}'.format(epoch_loss, epoch_accuracy))\n",
        "        print('-' * 30)\n",
        "        \n",
        "        if epoch_accuracy > best_acc:\n",
        "            best_acc = epoch_accuracy\n",
        "            best_model = copy.deepcopy(model.state_dict())\n",
        "        \n",
        "    model.load_state_dict(best_model)\n",
        "    time_elapsed = time.time() - since\n",
        "    \n",
        "    print('Training complete in {:.0f}m {:.0f}s'.format(time_elapsed // 60, time_elapsed % 60))\n",
        "    print('Best Val Acc: {:.4f}'.format(best_acc))\n",
        "    return model"
      ]
    },
    {
      "cell_type": "markdown",
      "metadata": {},
      "source": [
        "### Train"
      ]
    },
    {
      "cell_type": "code",
      "execution_count": 40,
      "metadata": {
        "colab": {
          "base_uri": "https://localhost:8080/"
        },
        "id": "k7r3aWVMsoIC",
        "outputId": "74298fba-6b9e-4af2-9fd9-fd48e4969ba2"
      },
      "outputs": [
        {
          "name": "stdout",
          "output_type": "stream",
          "text": [
            "Epoch 1/4\n"
          ]
        },
        {
          "name": "stderr",
          "output_type": "stream",
          "text": [
            "100%|██████████| 163/163 [01:34<00:00,  1.72it/s]\n"
          ]
        },
        {
          "name": "stdout",
          "output_type": "stream",
          "text": [
            "Train Loss: 0.0597 Train Acc: 0.9781\n",
            "Val Loss: 0.3527 Val Acc: 0.8750\n",
            "------------------------------\n",
            "Epoch 2/4\n"
          ]
        },
        {
          "name": "stderr",
          "output_type": "stream",
          "text": [
            "100%|██████████| 163/163 [01:33<00:00,  1.74it/s]\n"
          ]
        },
        {
          "name": "stdout",
          "output_type": "stream",
          "text": [
            "Train Loss: 0.0564 Train Acc: 0.9797\n",
            "Val Loss: 0.4870 Val Acc: 0.8125\n",
            "------------------------------\n",
            "Epoch 3/4\n"
          ]
        },
        {
          "name": "stderr",
          "output_type": "stream",
          "text": [
            "100%|██████████| 163/163 [01:32<00:00,  1.77it/s]\n"
          ]
        },
        {
          "name": "stdout",
          "output_type": "stream",
          "text": [
            "Train Loss: 0.0542 Train Acc: 0.9781\n",
            "Val Loss: 0.4075 Val Acc: 0.9375\n",
            "------------------------------\n",
            "Epoch 4/4\n"
          ]
        },
        {
          "name": "stderr",
          "output_type": "stream",
          "text": [
            "100%|██████████| 163/163 [01:32<00:00,  1.76it/s]\n"
          ]
        },
        {
          "name": "stdout",
          "output_type": "stream",
          "text": [
            "Train Loss: 0.0519 Train Acc: 0.9812\n",
            "Val Loss: 0.2981 Val Acc: 0.9375\n",
            "------------------------------\n",
            "Training complete in 6m 14s\n",
            "Best Val Acc: 0.9375\n"
          ]
        },
        {
          "data": {
            "text/plain": [
              "ResNet(\n",
              "  (conv1): Conv2d(3, 64, kernel_size=(7, 7), stride=(2, 2), padding=(3, 3), bias=False)\n",
              "  (bn1): BatchNorm2d(64, eps=1e-05, momentum=0.1, affine=True, track_running_stats=True)\n",
              "  (relu): ReLU(inplace=True)\n",
              "  (maxpool): MaxPool2d(kernel_size=3, stride=2, padding=1, dilation=1, ceil_mode=False)\n",
              "  (layer1): Sequential(\n",
              "    (0): BasicBlock(\n",
              "      (conv1): Conv2d(64, 64, kernel_size=(3, 3), stride=(1, 1), padding=(1, 1), bias=False)\n",
              "      (bn1): BatchNorm2d(64, eps=1e-05, momentum=0.1, affine=True, track_running_stats=True)\n",
              "      (relu): ReLU(inplace=True)\n",
              "      (conv2): Conv2d(64, 64, kernel_size=(3, 3), stride=(1, 1), padding=(1, 1), bias=False)\n",
              "      (bn2): BatchNorm2d(64, eps=1e-05, momentum=0.1, affine=True, track_running_stats=True)\n",
              "    )\n",
              "    (1): BasicBlock(\n",
              "      (conv1): Conv2d(64, 64, kernel_size=(3, 3), stride=(1, 1), padding=(1, 1), bias=False)\n",
              "      (bn1): BatchNorm2d(64, eps=1e-05, momentum=0.1, affine=True, track_running_stats=True)\n",
              "      (relu): ReLU(inplace=True)\n",
              "      (conv2): Conv2d(64, 64, kernel_size=(3, 3), stride=(1, 1), padding=(1, 1), bias=False)\n",
              "      (bn2): BatchNorm2d(64, eps=1e-05, momentum=0.1, affine=True, track_running_stats=True)\n",
              "    )\n",
              "  )\n",
              "  (layer2): Sequential(\n",
              "    (0): BasicBlock(\n",
              "      (conv1): Conv2d(64, 128, kernel_size=(3, 3), stride=(2, 2), padding=(1, 1), bias=False)\n",
              "      (bn1): BatchNorm2d(128, eps=1e-05, momentum=0.1, affine=True, track_running_stats=True)\n",
              "      (relu): ReLU(inplace=True)\n",
              "      (conv2): Conv2d(128, 128, kernel_size=(3, 3), stride=(1, 1), padding=(1, 1), bias=False)\n",
              "      (bn2): BatchNorm2d(128, eps=1e-05, momentum=0.1, affine=True, track_running_stats=True)\n",
              "      (downsample): Sequential(\n",
              "        (0): Conv2d(64, 128, kernel_size=(1, 1), stride=(2, 2), bias=False)\n",
              "        (1): BatchNorm2d(128, eps=1e-05, momentum=0.1, affine=True, track_running_stats=True)\n",
              "      )\n",
              "    )\n",
              "    (1): BasicBlock(\n",
              "      (conv1): Conv2d(128, 128, kernel_size=(3, 3), stride=(1, 1), padding=(1, 1), bias=False)\n",
              "      (bn1): BatchNorm2d(128, eps=1e-05, momentum=0.1, affine=True, track_running_stats=True)\n",
              "      (relu): ReLU(inplace=True)\n",
              "      (conv2): Conv2d(128, 128, kernel_size=(3, 3), stride=(1, 1), padding=(1, 1), bias=False)\n",
              "      (bn2): BatchNorm2d(128, eps=1e-05, momentum=0.1, affine=True, track_running_stats=True)\n",
              "    )\n",
              "  )\n",
              "  (layer3): Sequential(\n",
              "    (0): BasicBlock(\n",
              "      (conv1): Conv2d(128, 256, kernel_size=(3, 3), stride=(2, 2), padding=(1, 1), bias=False)\n",
              "      (bn1): BatchNorm2d(256, eps=1e-05, momentum=0.1, affine=True, track_running_stats=True)\n",
              "      (relu): ReLU(inplace=True)\n",
              "      (conv2): Conv2d(256, 256, kernel_size=(3, 3), stride=(1, 1), padding=(1, 1), bias=False)\n",
              "      (bn2): BatchNorm2d(256, eps=1e-05, momentum=0.1, affine=True, track_running_stats=True)\n",
              "      (downsample): Sequential(\n",
              "        (0): Conv2d(128, 256, kernel_size=(1, 1), stride=(2, 2), bias=False)\n",
              "        (1): BatchNorm2d(256, eps=1e-05, momentum=0.1, affine=True, track_running_stats=True)\n",
              "      )\n",
              "    )\n",
              "    (1): BasicBlock(\n",
              "      (conv1): Conv2d(256, 256, kernel_size=(3, 3), stride=(1, 1), padding=(1, 1), bias=False)\n",
              "      (bn1): BatchNorm2d(256, eps=1e-05, momentum=0.1, affine=True, track_running_stats=True)\n",
              "      (relu): ReLU(inplace=True)\n",
              "      (conv2): Conv2d(256, 256, kernel_size=(3, 3), stride=(1, 1), padding=(1, 1), bias=False)\n",
              "      (bn2): BatchNorm2d(256, eps=1e-05, momentum=0.1, affine=True, track_running_stats=True)\n",
              "    )\n",
              "  )\n",
              "  (layer4): Sequential(\n",
              "    (0): BasicBlock(\n",
              "      (conv1): Conv2d(256, 512, kernel_size=(3, 3), stride=(2, 2), padding=(1, 1), bias=False)\n",
              "      (bn1): BatchNorm2d(512, eps=1e-05, momentum=0.1, affine=True, track_running_stats=True)\n",
              "      (relu): ReLU(inplace=True)\n",
              "      (conv2): Conv2d(512, 512, kernel_size=(3, 3), stride=(1, 1), padding=(1, 1), bias=False)\n",
              "      (bn2): BatchNorm2d(512, eps=1e-05, momentum=0.1, affine=True, track_running_stats=True)\n",
              "      (downsample): Sequential(\n",
              "        (0): Conv2d(256, 512, kernel_size=(1, 1), stride=(2, 2), bias=False)\n",
              "        (1): BatchNorm2d(512, eps=1e-05, momentum=0.1, affine=True, track_running_stats=True)\n",
              "      )\n",
              "    )\n",
              "    (1): BasicBlock(\n",
              "      (conv1): Conv2d(512, 512, kernel_size=(3, 3), stride=(1, 1), padding=(1, 1), bias=False)\n",
              "      (bn1): BatchNorm2d(512, eps=1e-05, momentum=0.1, affine=True, track_running_stats=True)\n",
              "      (relu): ReLU(inplace=True)\n",
              "      (conv2): Conv2d(512, 512, kernel_size=(3, 3), stride=(1, 1), padding=(1, 1), bias=False)\n",
              "      (bn2): BatchNorm2d(512, eps=1e-05, momentum=0.1, affine=True, track_running_stats=True)\n",
              "    )\n",
              "  )\n",
              "  (avgpool): AdaptiveAvgPool2d(output_size=(1, 1))\n",
              "  (fc): Linear(in_features=512, out_features=2, bias=True)\n",
              ")"
            ]
          },
          "execution_count": 40,
          "metadata": {},
          "output_type": "execute_result"
        }
      ],
      "source": [
        "model = train_model(model, criterion, optimizer, epochs)"
      ]
    },
    {
      "cell_type": "code",
      "execution_count": 43,
      "metadata": {
        "id": "4PxpF-jM3YJk"
      },
      "outputs": [],
      "source": [
        "model_save_name = 'classifier.pt'\n",
        "path = F\"/content/drive/MyDrive/{model_save_name}\" \n",
        "torch.save(model.state_dict(), path)"
      ]
    },
    {
      "cell_type": "markdown",
      "metadata": {
        "id": "_JvALxFw37E8"
      },
      "source": [
        "## Testing\n",
        "Test set accuracy and performance"
      ]
    },
    {
      "cell_type": "code",
      "execution_count": 47,
      "metadata": {
        "id": "gkDAIWJPxkQO"
      },
      "outputs": [],
      "source": [
        "def visualize_predictions(model, dataset):\n",
        "    labels = []\n",
        "    predictions = []\n",
        "    acc = 0\n",
        "    was_training = model.training\n",
        "    model.eval()\n",
        "    with torch.no_grad():\n",
        "        for i in range(len(dataset)):\n",
        "            input, label = dataset[i]\n",
        "            input = input[np.newaxis,:]\n",
        "            input = input.to(DEVICE)\n",
        "            output = model(input)\n",
        "            _, preds = torch.max(output, 1)\n",
        "            if class_names[label] == class_names[preds]:\n",
        "                acc += 1\n",
        "            labels.append(class_names[label])\n",
        "            predictions.append(class_names[preds])\n",
        "    print('Test Accuracy: {:.4f}'.format(acc/len(dataset)))\n",
        "    model.train(mode=was_training)\n",
        "    return labels, predictions"
      ]
    },
    {
      "cell_type": "code",
      "execution_count": 48,
      "metadata": {
        "colab": {
          "base_uri": "https://localhost:8080/"
        },
        "id": "Gw6nBADy3reP",
        "outputId": "6b9a11ad-de35-466e-992a-da2bfcfe7d4c"
      },
      "outputs": [
        {
          "name": "stdout",
          "output_type": "stream",
          "text": [
            "Test Accuracy: 0.9215\n"
          ]
        }
      ],
      "source": [
        "# predicting the test set\n",
        "labels, predictions = visualize_predictions(model, testset)"
      ]
    },
    {
      "cell_type": "code",
      "execution_count": 52,
      "metadata": {
        "colab": {
          "base_uri": "https://localhost:8080/",
          "height": 299
        },
        "id": "af6G_P5K3vWx",
        "outputId": "55e2f828-4268-4d11-f55f-5beee7a361af"
      },
      "outputs": [
        {
          "data": {
            "text/plain": [
              "<Figure size 432x288 with 0 Axes>"
            ]
          },
          "metadata": {},
          "output_type": "display_data"
        },
        {
          "data": {
            "image/png": "[encoded data removed]",
            "text/plain": [
              "<Figure size 288x288 with 1 Axes>"
            ]
          },
          "metadata": {
            "needs_background": "light"
          },
          "output_type": "display_data"
        }
      ],
      "source": [
        "# confusion matrix\n",
        "matrix = confusion_matrix(labels, predictions)\n",
        "plt.figure()\n",
        "plot_confusion_matrix(matrix, figsize=(4,4))\n",
        "plt.xticks(range(2), ['Normal', 'Pneumonia'], fontsize=10)\n",
        "plt.yticks(range(2), ['Normal', 'Pneumonia'], fontsize=10)\n",
        "plt.xlabel('Predicted', fontsize=12)\n",
        "plt.ylabel('Real', fontsize=12)\n",
        "plt.show()"
      ]
    }
  ],
  "metadata": {
    "accelerator": "GPU",
    "colab": {
      "name": "Pneumonia_detection.ipynb",
      "provenance": []
    },
    "gpuClass": "standard",
    "kernelspec": {
      "display_name": "Python 3.8.10 64-bit",
      "language": "python",
      "name": "python3"
    },
    "language_info": {
      "codemirror_mode": {
        "name": "ipython",
        "version": 3
      },
      "file_extension": ".py",
      "mimetype": "text/x-python",
      "name": "python",
      "nbconvert_exporter": "python",
      "pygments_lexer": "ipython3",
      "version": "3.8.10"
    },
    "vscode": {
      "interpreter": {
        "hash": "916dbcbb3f70747c44a77c7bcd40155683ae19c65e1c03b4aa3499c5328201f1"
      }
    },
    "widgets": {
      "application/vnd.jupyter.widget-state+json": {
        "247cce4eadd74e5b96d7a5624258b9d6": {
          "model_module": "@jupyter-widgets/base",
          "model_module_version": "1.2.0",
          "model_name": "LayoutModel",
          "state": {
            "_model_module": "@jupyter-widgets/base",
            "_model_module_version": "1.2.0",
            "_model_name": "LayoutModel",
            "_view_count": null,
            "_view_module": "@jupyter-widgets/base",
            "_view_module_version": "1.2.0",
            "_view_name": "LayoutView",
            "align_content": null,
            "align_items": null,
            "align_self": null,
            "border": null,
            "bottom": null,
            "display": null,
            "flex": null,
            "flex_flow": null,
            "grid_area": null,
            "grid_auto_columns": null,
            "grid_auto_flow": null,
            "grid_auto_rows": null,
            "grid_column": null,
            "grid_gap": null,
            "grid_row": null,
            "grid_template_areas": null,
            "grid_template_columns": null,
            "grid_template_rows": null,
            "height": null,
            "justify_content": null,
            "justify_items": null,
            "left": null,
            "margin": null,
            "max_height": null,
            "max_width": null,
            "min_height": null,
            "min_width": null,
            "object_fit": null,
            "object_position": null,
            "order": null,
            "overflow": null,
            "overflow_x": null,
            "overflow_y": null,
            "padding": null,
            "right": null,
            "top": null,
            "visibility": null,
            "width": null
          }
        },
        "29ad42ba1e354d17b7e33c205c696420": {
          "model_module": "@jupyter-widgets/base",
          "model_module_version": "1.2.0",
          "model_name": "LayoutModel",
          "state": {
            "_model_module": "@jupyter-widgets/base",
            "_model_module_version": "1.2.0",
            "_model_name": "LayoutModel",
            "_view_count": null,
            "_view_module": "@jupyter-widgets/base",
            "_view_module_version": "1.2.0",
            "_view_name": "LayoutView",
            "align_content": null,
            "align_items": null,
            "align_self": null,
            "border": null,
            "bottom": null,
            "display": null,
            "flex": null,
            "flex_flow": null,
            "grid_area": null,
            "grid_auto_columns": null,
            "grid_auto_flow": null,
            "grid_auto_rows": null,
            "grid_column": null,
            "grid_gap": null,
            "grid_row": null,
            "grid_template_areas": null,
            "grid_template_columns": null,
            "grid_template_rows": null,
            "height": null,
            "justify_content": null,
            "justify_items": null,
            "left": null,
            "margin": null,
            "max_height": null,
            "max_width": null,
            "min_height": null,
            "min_width": null,
            "object_fit": null,
            "object_position": null,
            "order": null,
            "overflow": null,
            "overflow_x": null,
            "overflow_y": null,
            "padding": null,
            "right": null,
            "top": null,
            "visibility": null,
            "width": null
          }
        },
        "3f4f9793e6ba48f09fd1b993bc8cc805": {
          "model_module": "@jupyter-widgets/base",
          "model_module_version": "1.2.0",
          "model_name": "LayoutModel",
          "state": {
            "_model_module": "@jupyter-widgets/base",
            "_model_module_version": "1.2.0",
            "_model_name": "LayoutModel",
            "_view_count": null,
            "_view_module": "@jupyter-widgets/base",
            "_view_module_version": "1.2.0",
            "_view_name": "LayoutView",
            "align_content": null,
            "align_items": null,
            "align_self": null,
            "border": null,
            "bottom": null,
            "display": null,
            "flex": null,
            "flex_flow": null,
            "grid_area": null,
            "grid_auto_columns": null,
            "grid_auto_flow": null,
            "grid_auto_rows": null,
            "grid_column": null,
            "grid_gap": null,
            "grid_row": null,
            "grid_template_areas": null,
            "grid_template_columns": null,
            "grid_template_rows": null,
            "height": null,
            "justify_content": null,
            "justify_items": null,
            "left": null,
            "margin": null,
            "max_height": null,
            "max_width": null,
            "min_height": null,
            "min_width": null,
            "object_fit": null,
            "object_position": null,
            "order": null,
            "overflow": null,
            "overflow_x": null,
            "overflow_y": null,
            "padding": null,
            "right": null,
            "top": null,
            "visibility": null,
            "width": null
          }
        },
        "73619d53d69047b8b39aa323a3fa61df": {
          "model_module": "@jupyter-widgets/controls",
          "model_module_version": "1.5.0",
          "model_name": "HTMLModel",
          "state": {
            "_dom_classes": [],
            "_model_module": "@jupyter-widgets/controls",
            "_model_module_version": "1.5.0",
            "_model_name": "HTMLModel",
            "_view_count": null,
            "_view_module": "@jupyter-widgets/controls",
            "_view_module_version": "1.5.0",
            "_view_name": "HTMLView",
            "description": "",
            "description_tooltip": null,
            "layout": "IPY_MODEL_3f4f9793e6ba48f09fd1b993bc8cc805",
            "placeholder": "​",
            "style": "IPY_MODEL_d822b3942d154cb1896409cef153f634",
            "value": "100%"
          }
        },
        "9fe815c8fb3c4da3b4ac2ba4bb63db89": {
          "model_module": "@jupyter-widgets/controls",
          "model_module_version": "1.5.0",
          "model_name": "HTMLModel",
          "state": {
            "_dom_classes": [],
            "_model_module": "@jupyter-widgets/controls",
            "_model_module_version": "1.5.0",
            "_model_name": "HTMLModel",
            "_view_count": null,
            "_view_module": "@jupyter-widgets/controls",
            "_view_module_version": "1.5.0",
            "_view_name": "HTMLView",
            "description": "",
            "description_tooltip": null,
            "layout": "IPY_MODEL_29ad42ba1e354d17b7e33c205c696420",
            "placeholder": "​",
            "style": "IPY_MODEL_f61a117329e147fb80aa15a553f457f9",
            "value": " 44.7M/44.7M [00:00&lt;00:00, 146MB/s]"
          }
        },
        "b4ff5bc68b814822a32183215b30df98": {
          "model_module": "@jupyter-widgets/controls",
          "model_module_version": "1.5.0",
          "model_name": "FloatProgressModel",
          "state": {
            "_dom_classes": [],
            "_model_module": "@jupyter-widgets/controls",
            "_model_module_version": "1.5.0",
            "_model_name": "FloatProgressModel",
            "_view_count": null,
            "_view_module": "@jupyter-widgets/controls",
            "_view_module_version": "1.5.0",
            "_view_name": "ProgressView",
            "bar_style": "success",
            "description": "",
            "description_tooltip": null,
            "layout": "IPY_MODEL_d291131f6d934f0ba343ab07cc5f6394",
            "max": 46830571,
            "min": 0,
            "orientation": "horizontal",
            "style": "IPY_MODEL_f5830229b5e747c69a9269d087b47c2b",
            "value": 46830571
          }
        },
        "d291131f6d934f0ba343ab07cc5f6394": {
          "model_module": "@jupyter-widgets/base",
          "model_module_version": "1.2.0",
          "model_name": "LayoutModel",
          "state": {
            "_model_module": "@jupyter-widgets/base",
            "_model_module_version": "1.2.0",
            "_model_name": "LayoutModel",
            "_view_count": null,
            "_view_module": "@jupyter-widgets/base",
            "_view_module_version": "1.2.0",
            "_view_name": "LayoutView",
            "align_content": null,
            "align_items": null,
            "align_self": null,
            "border": null,
            "bottom": null,
            "display": null,
            "flex": null,
            "flex_flow": null,
            "grid_area": null,
            "grid_auto_columns": null,
            "grid_auto_flow": null,
            "grid_auto_rows": null,
            "grid_column": null,
            "grid_gap": null,
            "grid_row": null,
            "grid_template_areas": null,
            "grid_template_columns": null,
            "grid_template_rows": null,
            "height": null,
            "justify_content": null,
            "justify_items": null,
            "left": null,
            "margin": null,
            "max_height": null,
            "max_width": null,
            "min_height": null,
            "min_width": null,
            "object_fit": null,
            "object_position": null,
            "order": null,
            "overflow": null,
            "overflow_x": null,
            "overflow_y": null,
            "padding": null,
            "right": null,
            "top": null,
            "visibility": null,
            "width": null
          }
        },
        "d822b3942d154cb1896409cef153f634": {
          "model_module": "@jupyter-widgets/controls",
          "model_module_version": "1.5.0",
          "model_name": "DescriptionStyleModel",
          "state": {
            "_model_module": "@jupyter-widgets/controls",
            "_model_module_version": "1.5.0",
            "_model_name": "DescriptionStyleModel",
            "_view_count": null,
            "_view_module": "@jupyter-widgets/base",
            "_view_module_version": "1.2.0",
            "_view_name": "StyleView",
            "description_width": ""
          }
        },
        "dffd0695398d4e9591bcdcdc7d8ad5b4": {
          "model_module": "@jupyter-widgets/controls",
          "model_module_version": "1.5.0",
          "model_name": "HBoxModel",
          "state": {
            "_dom_classes": [],
            "_model_module": "@jupyter-widgets/controls",
            "_model_module_version": "1.5.0",
            "_model_name": "HBoxModel",
            "_view_count": null,
            "_view_module": "@jupyter-widgets/controls",
            "_view_module_version": "1.5.0",
            "_view_name": "HBoxView",
            "box_style": "",
            "children": [
              "IPY_MODEL_73619d53d69047b8b39aa323a3fa61df",
              "IPY_MODEL_b4ff5bc68b814822a32183215b30df98",
              "IPY_MODEL_9fe815c8fb3c4da3b4ac2ba4bb63db89"
            ],
            "layout": "IPY_MODEL_247cce4eadd74e5b96d7a5624258b9d6"
          }
        },
        "f5830229b5e747c69a9269d087b47c2b": {
          "model_module": "@jupyter-widgets/controls",
          "model_module_version": "1.5.0",
          "model_name": "ProgressStyleModel",
          "state": {
            "_model_module": "@jupyter-widgets/controls",
            "_model_module_version": "1.5.0",
            "_model_name": "ProgressStyleModel",
            "_view_count": null,
            "_view_module": "@jupyter-widgets/base",
            "_view_module_version": "1.2.0",
            "_view_name": "StyleView",
            "bar_color": null,
            "description_width": ""
          }
        },
        "f61a117329e147fb80aa15a553f457f9": {
          "model_module": "@jupyter-widgets/controls",
          "model_module_version": "1.5.0",
          "model_name": "DescriptionStyleModel",
          "state": {
            "_model_module": "@jupyter-widgets/controls",
            "_model_module_version": "1.5.0",
            "_model_name": "DescriptionStyleModel",
            "_view_count": null,
            "_view_module": "@jupyter-widgets/base",
            "_view_module_version": "1.2.0",
            "_view_name": "StyleView",
            "description_width": ""
          }
        }
      }
    }
  },
  "nbformat": 4,
  "nbformat_minor": 0
}
