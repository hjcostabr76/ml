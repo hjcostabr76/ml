{
 "cells": [
  {
   "cell_type": "markdown",
   "metadata": {},
   "source": [
    "### Imports"
   ]
  },
  {
   "cell_type": "code",
   "execution_count": 1,
   "metadata": {},
   "outputs": [],
   "source": [
    "import numpy as np\n",
    "import matplotlib.pyplot as plt\n",
    "import pandas as pd\n",
    "\n",
    "from sklearn import model_selection\n",
    "from Perceptron import Perceptron"
   ]
  },
  {
   "cell_type": "markdown",
   "metadata": {},
   "source": [
    "### Constants"
   ]
  },
  {
   "cell_type": "code",
   "execution_count": 2,
   "metadata": {},
   "outputs": [],
   "source": [
    "PATH_FILE_DS_CANCER = 'file/ds-breast-cancer-wisconsin/wdbc.data'\n",
    "IS_DEBUG = False\n",
    "\n",
    "CROSS_VAL_TEST_SIZE = .3\n",
    "CROSS_VAL_TIMES = 20\n",
    "\n",
    "CLASS_BAD_STR = 'M'\n",
    "CLASS_BAD_NUM = 0\n",
    "\n",
    "CLASS_GOOD_STR = 'B'\n",
    "CLASS_GOOD_NUM = 1\n",
    "\n",
    "COLUMN_CLASS = 'is_bad'\n",
    "COLUMN_ID = 'id'"
   ]
  },
  {
   "cell_type": "markdown",
   "metadata": {},
   "source": [
    "## Build DataSet"
   ]
  },
  {
   "cell_type": "code",
   "execution_count": 3,
   "metadata": {},
   "outputs": [],
   "source": [
    "# Import file\n",
    "cancerDF = pd.read_csv(PATH_FILE_DS_CANCER)\n",
    "\n",
    "# Name columns\n",
    "columnNames = [COLUMN_ID, COLUMN_CLASS] + ['f_' + str(i + 1) for i in range(0, cancerDF.columns.size - 2)]\n",
    "cancerDF.columns = columnNames\n",
    "\n",
    "# Clear data\n",
    "cancerDF[COLUMN_CLASS] = cancerDF[COLUMN_CLASS].apply(lambda c: (CLASS_BAD_NUM if c == CLASS_BAD_STR else CLASS_GOOD_NUM))\n",
    "cancerDF = cancerDF.applymap(pd.to_numeric, errors='coerce')\n",
    "cancerDF = cancerDF[ cancerDF.notnull().all(axis=1) ]\n",
    "\n",
    "# Separate labels & features clean data\n",
    "allGoodFeatures = cancerDF[ cancerDF[COLUMN_CLASS] == CLASS_GOOD_NUM ].drop([COLUMN_ID, COLUMN_CLASS], axis=1)\n",
    "allBadFeatures = cancerDF[ cancerDF[COLUMN_CLASS] == CLASS_BAD_NUM ].drop([COLUMN_ID, COLUMN_CLASS], axis=1)\n",
    "\n",
    "allGoodLabels = np.full((allGoodFeatures.shape[0], 1), CLASS_GOOD_NUM)\n",
    "allBadLabels = np.full((allBadFeatures.shape[0], 1), CLASS_BAD_NUM)\n"
   ]
  },
  {
   "cell_type": "markdown",
   "metadata": {},
   "source": [
    "## Utils"
   ]
  },
  {
   "cell_type": "code",
   "execution_count": 4,
   "metadata": {},
   "outputs": [],
   "source": [
    "\n",
    "def getCrossValidationData(features: pd.DataFrame, labels: pd.DataFrame, testSize: float, reproduceble = False) -> dict:\n",
    "    '''\n",
    "        TODO: 2021-10-22 - ADD Description\n",
    "    '''\n",
    "\n",
    "    randomState = 100 if reproduceble else None\n",
    "    xTrain, xTest, yTrain, yTest = model_selection.train_test_split(features, labels, test_size=testSize, random_state=randomState)\n",
    "    return {\n",
    "        'xTrain': np.array(xTrain), 'xTest': np.array(xTest),\n",
    "        'yTrain': np.array(yTrain), 'yTest': np.array(yTest),\n",
    "    }"
   ]
  },
  {
   "cell_type": "markdown",
   "metadata": {},
   "source": [
    "\n",
    "## Train"
   ]
  },
  {
   "cell_type": "code",
   "execution_count": 5,
   "metadata": {},
   "outputs": [
    {
     "name": "stdout",
     "output_type": "stream",
     "text": [
      "accuracies: 0.9026162790697676 [0.9127907  0.93023256 0.87209302 0.91860465 0.93023256 0.91860465\n",
      " 0.93604651 0.90697674 0.87790698 0.90116279 0.9244186  0.91860465\n",
      " 0.85465116 0.93023256 0.87790698 0.89534884 0.8255814  0.9244186\n",
      " 0.86046512 0.93604651]\n",
      "stdDeviation: 0.030481699285746414\n"
     ]
    }
   ],
   "source": [
    "\n",
    "accuracies = np.array([])\n",
    "\n",
    "for i in range(0, CROSS_VAL_TIMES):\n",
    "\n",
    "    goodData = getCrossValidationData(allGoodFeatures, allGoodLabels, CROSS_VAL_TEST_SIZE, reproduceble=IS_DEBUG)\n",
    "    badData = getCrossValidationData(allBadFeatures, allBadLabels, CROSS_VAL_TEST_SIZE, reproduceble=IS_DEBUG)\n",
    "    # { 'xTrain': xTrain, 'xTest': xTest, 'yTrain': yTrain, 'yTest': yTest }\n",
    "\n",
    "    # Train\n",
    "    labelsTrain = np.append(goodData.get('yTrain'), badData.get('yTrain'), axis=0)\n",
    "    featuresTrain = np.append(goodData.get('xTrain'), badData.get('xTrain'), axis=0)\n",
    "\n",
    "    perceptron = Perceptron(X=featuresTrain, Y=labelsTrain, tolerance=0.01, step=.5, maxIterations=500, actvFunc='step')\n",
    "    w = perceptron.train()\n",
    "\n",
    "    # Test\n",
    "    featuresTest = np.append(goodData.get('xTest'), badData.get('xTest'), axis=0)\n",
    "    prediction = np.apply_along_axis(lambda row: perceptron.getPrediction(row), 1, featuresTest)\n",
    "    labelsTest = np.append(goodData.get('yTest'), badData.get('yTest'), axis=0)\n",
    "    \n",
    "    test = prediction == labelsTest.reshape((labelsTest.shape[0]))\n",
    "    accuracies = np.append(accuracies, test.mean())\n",
    "\n",
    "print('accuracies:', accuracies.mean(), accuracies)\n",
    "print('stdDeviation:', accuracies.std())"
   ]
  }
 ],
 "metadata": {
  "interpreter": {
   "hash": "31f2aee4e71d21fbe5cf8b01ff0e069b9275f58929596ceb00d14d90e3e16cd6"
  },
  "kernelspec": {
   "display_name": "Python 3.8.10 64-bit",
   "name": "python3"
  },
  "language_info": {
   "codemirror_mode": {
    "name": "ipython",
    "version": 3
   },
   "file_extension": ".py",
   "mimetype": "text/x-python",
   "name": "python",
   "nbconvert_exporter": "python",
   "pygments_lexer": "ipython3",
   "version": "3.8.10"
  },
  "orig_nbformat": 4
 },
 "nbformat": 4,
 "nbformat_minor": 2
}
