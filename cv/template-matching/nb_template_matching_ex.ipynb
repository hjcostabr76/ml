{
 "cells": [
  {
   "cell_type": "markdown",
   "metadata": {},
   "source": [
    "### Imports"
   ]
  },
  {
   "cell_type": "code",
   "execution_count": 2,
   "metadata": {},
   "outputs": [],
   "source": [
    "import cv2\n",
    "import numpy as np\n",
    "\n",
    "from matplotlib import pyplot as plt\n",
    "from matplotlib import cm\n",
    "from matplotlib.ticker import LinearLocator"
   ]
  },
  {
   "cell_type": "markdown",
   "metadata": {},
   "source": [
    "### Constants"
   ]
  },
  {
   "cell_type": "code",
   "execution_count": 3,
   "metadata": {},
   "outputs": [],
   "source": [
    "PATH_FILE_PLATES = './file/plates.jpg'\n",
    "PATH_FILE_PLATE_1 = './file/plate-01.jpg'\n",
    "PATH_FILE_PLATE_2 = './file/plate-02.jpg'"
   ]
  },
  {
   "cell_type": "markdown",
   "metadata": {},
   "source": [
    "### Example: Minimum Squared Differences\n",
    "> Taken from [this Towards Data Science post](https://towardsdatascience.com/object-detection-on-python-using-template-matching-ab4243a0ca62)"
   ]
  },
  {
   "cell_type": "code",
   "execution_count": 4,
   "metadata": {},
   "outputs": [],
   "source": [
    "\n",
    "# Read images\n",
    "img_rgb = cv2.imread(PATH_FILE_PLATES)\n",
    "template = cv2.imread(PATH_FILE_PLATE_1, 0)\n",
    "\n",
    "# Do the matching\n",
    "img_gray = cv2.cvtColor(img_rgb, cv2.COLOR_BGR2GRAY)\n",
    "res = cv2.matchTemplate(img_gray, template, cv2.TM_SQDIFF)\n",
    "\n",
    "# Draw rectangles around every match\n",
    "min_val, max_val, min_loc, max_loc = cv2.minMaxLoc(res)\n",
    "top_left = min_loc\n",
    "height, width = template.shape[::]\n",
    "bottom_right = (top_left[0] + width, top_left[1] + height)\n",
    "\n",
    "bgrColorBlue = (255, 0, 0)\n",
    "cv2.rectangle(img_rgb, top_left, bottom_right, bgrColorBlue, 2) \n",
    "\n",
    "# Exhibit result\n",
    "plt.imshow(res, cmap='gray')\n",
    "\n",
    "cv2.imshow(\"Matched image\", img_rgb)\n",
    "cv2.waitKey()\n",
    "cv2.destroyAllWindows()"
   ]
  },
  {
   "cell_type": "markdown",
   "metadata": {},
   "source": [
    "### Example: Normalized Covariance Matrix\n",
    "> Taken from [this Towards Data Science post](https://towardsdatascience.com/object-detection-on-python-using-template-matching-ab4243a0ca62)"
   ]
  },
  {
   "cell_type": "code",
   "execution_count": 5,
   "metadata": {},
   "outputs": [],
   "source": [
    "\n",
    "# Read images\n",
    "img_rgb = cv2.imread(PATH_FILE_PLATES)\n",
    "template = cv2.imread(PATH_FILE_PLATE_2, 0)\n",
    "\n",
    "# Do the matching\n",
    "img_gray = cv2.cvtColor(img_rgb, cv2.COLOR_BGR2GRAY)\n",
    "res = cv2.matchTemplate(img_gray, template, cv2.TM_CCOEFF_NORMED)\n",
    "\n",
    "# Highlight template detection area\n",
    "threshold = 0.5\n",
    "loc = np.where( res >= threshold)\n",
    "bgrColorRed = (0, 0, 255)\n",
    "height, width = template.shape[::]\n",
    "\n",
    "for pt in zip(*loc[::-1]):\n",
    "    cv2.rectangle(img_rgb, pt, (pt[0] + width, pt[1] + height), bgrColorRed, 1)\n",
    "\n",
    "# Show template detection area\n",
    "plt.imshow(res, cmap='gray')\n",
    "cv2.imshow('Matched image', img_rgb)\n",
    "cv2.waitKey()\n",
    "cv2.destroyAllWindows()\n"
   ]
  }
 ],
 "metadata": {
  "interpreter": {
   "hash": "916dbcbb3f70747c44a77c7bcd40155683ae19c65e1c03b4aa3499c5328201f1"
  },
  "kernelspec": {
   "display_name": "Python 3.8.10 64-bit",
   "name": "python3"
  },
  "language_info": {
   "codemirror_mode": {
    "name": "ipython",
    "version": 3
   },
   "file_extension": ".py",
   "mimetype": "text/x-python",
   "name": "python",
   "nbconvert_exporter": "python",
   "pygments_lexer": "ipython3",
   "version": "3.8.10"
  },
  "orig_nbformat": 4
 },
 "nbformat": 4,
 "nbformat_minor": 2
}
