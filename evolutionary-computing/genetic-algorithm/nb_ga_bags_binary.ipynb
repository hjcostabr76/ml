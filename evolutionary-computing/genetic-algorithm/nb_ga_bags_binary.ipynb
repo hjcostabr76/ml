{
 "cells": [
  {
   "cell_type": "markdown",
   "metadata": {},
   "source": [
    "# Algoritmo Genético\n",
    "\n",
    "    Problema de Mochilas Binário\n",
    "\n",
    "| Aluno | Matrícula | e-mail |\n",
    "| :--- | :--- | :--- |\n",
    "| Gustavo Ribeiro | 2016026329 | gustavo435@ufmg.br |\n",
    "| Hebert Costa | 2016097439 | hebert15@ufmg.br |\n"
   ]
  },
  {
   "cell_type": "markdown",
   "metadata": {},
   "source": [
    "## Descrição"
   ]
  },
  {
   "cell_type": "markdown",
   "metadata": {},
   "source": [
    "### Descrição Geral"
   ]
  },
  {
   "cell_type": "markdown",
   "metadata": {},
   "source": [
    "- O algoritmo genético é um método de otimização estocástico baseado na teoria da evolução de Charles Darwin.\n",
    "- Esta é uma implentação usada para solucionar um problema de mochilas binário;"
   ]
  },
  {
   "cell_type": "markdown",
   "metadata": {},
   "source": [
    "### O Problema"
   ]
  },
  {
   "cell_type": "markdown",
   "metadata": {},
   "source": [
    "- Dada um conjunto de dados a respeito de elementos que podem ser incluídos dentro de uma mochila;\n",
    "- Cada elemento tem um peso e agrega um determinado benefício;\n",
    "- A mochila tem uma capacidade limitada de carga;\n",
    "- Nosso objetivo é encontrar a melhor alocação de itens possível de forma a maximizar ao benefício total sem ultrapassar a carga máxima da mochila;"
   ]
  },
  {
   "cell_type": "markdown",
   "metadata": {},
   "source": [
    "### O Algoritmo"
   ]
  },
  {
   "cell_type": "markdown",
   "metadata": {},
   "source": [
    "- O algoritmo aborda o problema como se fosse uma população de uma determinada espécia animal;\n",
    "- A população evolui ao longo de `nGenerations` gerações;\n",
    "- A cada geração os indivíduos da população atual passam pelos processos de variação e seleção natural;\n",
    "- O processo de variação inclui a recombinação e a mutação;\n",
    "- A recombinação corresponde a miscigenação de pais que geram descendentes;\n",
    "- A mutação consiste em variações aleatórias que podem causar mudanças na constituição dos indivíduos;\n",
    "- A seleção natural é o processo aonde indivíduos são submetidos a pressão seletiva do meio;\n",
    "- Apenas indíviduos suficientemente adpatados sobrevivem e tem a chance de gerar novos descendentes;"
   ]
  },
  {
   "cell_type": "markdown",
   "metadata": {},
   "source": [
    "## Implementação"
   ]
  },
  {
   "cell_type": "markdown",
   "metadata": {},
   "source": [
    "##### Descrição"
   ]
  },
  {
   "cell_type": "markdown",
   "metadata": {},
   "source": [
    "- A implementação a seguir contém a definição da classe `Genetic` e as seções de definição de parâmetros e de teste;\n",
    "- A interface de `Genetic` expõe um único método chamado `evolve`;\n",
    "- A chamada de `evolve` evoca a \"evolução\" da espécie desde a sua população inicial até a última geração;\n",
    "- Internamente a classe possui um método principal chamado `getNewGeneration`;\n",
    "- Uma nova geração é produzida pela submissão da população atual aos processos de variação e seleção;\n",
    "- A seleção consiste na chamada subsequente das funções `getRecombined` e `getMutants`;\n",
    "- `getRecombined` produz novos indivíduos pela mistura de características dos integrantes da geração atual;\n",
    "- Para isso `getRecombined` utiliza a função `crossover` a qual pode alterar ou não os indivíduos de acordo com uma probabilidade parametrizada;\n",
    "- `getMutants` pode produz variações nos indivíduos de acordo com uma probabilidade parametrizada;\n",
    "- A variação de `getMutants` é feita via operação de _Bit Flip_;\n",
    "- A Seleção é feita pelos métodos `getParents` que seleciona os melhores indivíduos para reprodução;\n",
    "- A função `getSurvivals` seleciona dentre os indivíduos conhecidos na geração atual quais sobreviverão produzindo a próxima geração;\n"
   ]
  },
  {
   "cell_type": "markdown",
   "metadata": {},
   "source": [
    "##### Imports"
   ]
  },
  {
   "cell_type": "code",
   "execution_count": 2,
   "metadata": {},
   "outputs": [],
   "source": [
    "import numpy as np\n",
    "import pandas as pd\n",
    "\n",
    "from typing import Callable"
   ]
  },
  {
   "cell_type": "markdown",
   "metadata": {},
   "source": [
    "### Algoritmo Genético"
   ]
  },
  {
   "cell_type": "markdown",
   "metadata": {},
   "source": [
    "#### Utils"
   ]
  },
  {
   "cell_type": "code",
   "execution_count": 2,
   "metadata": {},
   "outputs": [],
   "source": [
    "def normalize(arr: np.array) -> np.array:\n",
    "    '''\n",
    "        TODO: 2022-02-22 - ADD Description\n",
    "    '''\n",
    "    \n",
    "    diff = np.max(arr) - arr\n",
    "    delta = np.max(arr) - np.min(arr)\n",
    "    prob = 1 - (diff / delta)\n",
    "    return prob / np.sum(prob)\n",
    "\n",
    "def roulette(members: np.array, dbg = False) -> int:\n",
    "    '''\n",
    "        Returns the index of a random selected member through turning the wheel of a roulette.\n",
    "        - The greater the value of a member the bigger the probability of it being selected;\n",
    "        - A random number is generated simulating a point in the wheel of a roulette;\n",
    "        - The first member whose accumulated probability range fits the selected point is the winner;\n",
    "\n",
    "        PARAMS\n",
    "        - members: Should be an array of numbers\n",
    "    '''\n",
    "\n",
    "    m1 = members[0]\n",
    "    equals, = np.where(members == m1)\n",
    "    \n",
    "    areAllEqual = len(equals) == len(members)\n",
    "    if areAllEqual:\n",
    "        shares = None\n",
    "    else:\n",
    "        shares = normalize(members)\n",
    "\n",
    "    idx, = np.where(members == np.random.choice(a=members, p=shares))\n",
    "    return idx[0]"
   ]
  },
  {
   "cell_type": "markdown",
   "metadata": {},
   "source": [
    "#### Classe Genetic"
   ]
  },
  {
   "cell_type": "code",
   "execution_count": 3,
   "metadata": {},
   "outputs": [],
   "source": [
    "class Genetic:\n",
    "\n",
    "    def __init__(self,\n",
    "        initPopulation: np.array, fitFunc: Callable[[np.array], float],\n",
    "        crossoverProb: float, mutationProb: float,\n",
    "        nOffspring: int, nElite: int, nGenerations: int,\n",
    "    ):\n",
    "        self.nPopulation, self.nGenes = initPopulation.shape\n",
    "        self.population = initPopulation\n",
    "        \n",
    "        self.nElite = nElite\n",
    "        self.nOffspring = nOffspring\n",
    "        self.nGenerations = nGenerations\n",
    "        \n",
    "        self.fitFunc = fitFunc\n",
    "        self.mutationProb = mutationProb\n",
    "        self.crossoverProb = crossoverProb\n",
    "    \n",
    "    def evolve(self) -> tuple:\n",
    "        '''\n",
    "            TODO: 2022-02-21 - Rename\n",
    "            TODO: 2022-02-21 - ADD Description\n",
    "        '''\n",
    "\n",
    "        evolution = np.zeros( (self.nGenerations, ) )\n",
    "        bestFit = -np.inf\n",
    "        bestGeneration = np.zeros( (self.nPopulation) )\n",
    "\n",
    "        for i in range(self.nGenerations):\n",
    "            self.population = self.__getNewGeneration(self.population)\n",
    "            fits = self.__getFits(generation=self.population, sort=True)\n",
    "            best = fits[0]\n",
    "            if best > bestFit:\n",
    "                bestGeneration = self.population\n",
    "            evolution[i] = best\n",
    "\n",
    "        return bestGeneration, evolution\n",
    "\n",
    "    def __getNewGeneration(self, generation: np.array) -> np.array:\n",
    "        '''\n",
    "            TODO: 2022-02-22 - ADD Description\n",
    "        '''\n",
    "\n",
    "        # Variation\n",
    "        mutants = self.__getRecombined(generation)\n",
    "        mutants = self.__getMutants(mutants)\n",
    "\n",
    "        # Natural selection\n",
    "        parents = self.__getParents(mutants)\n",
    "        survivals = self.__getSurvivals(parents)\n",
    "        return survivals\n",
    "\n",
    "    def __getRecombined(self, generation: np.array) -> np.array:\n",
    "        '''\n",
    "            TODO: 2022-02-22 - ADD Description\n",
    "        '''\n",
    "        \n",
    "        mutants = np.copy(generation)\n",
    "\n",
    "        for i in range(1, len(mutants), 2):\n",
    "            child1, child2 = self.__crossover(generation[i - 1], generation[i])\n",
    "            mutants[i - 1] = child1\n",
    "            mutants[i] = child2\n",
    "        \n",
    "        return mutants\n",
    "\n",
    "    def __getMutants(self, generation: np.array) -> np.array:\n",
    "        '''\n",
    "            TODO: 2022-02-22 - ADD Description\n",
    "        '''\n",
    "\n",
    "        mutants = np.copy(generation)\n",
    "        for i in range(len(mutants)):\n",
    "            if np.random.rand() > self.mutationProb:\n",
    "                mutants[i] = np.logical_not(mutants[i]) # Bit flip\n",
    "\n",
    "        return mutants\n",
    "\n",
    "    def __getParents(self, generation: np.array) -> np.array:\n",
    "        '''\n",
    "            TODO: 2022-02-21 - ADD Description\n",
    "        '''\n",
    "\n",
    "        population = np.concatenate( (generation, self.population) )\n",
    "        fits = self.__getFits(population)\n",
    "        \n",
    "        nParents = self.nOffspring\n",
    "        parents = np.zeros( (nParents, self.nGenes) )\n",
    "\n",
    "        # Assure best parents are always preserved\n",
    "        elite, population, fits = self.__getBestNIndividuals(n=self.nElite, generation=population, fits=fits)\n",
    "        parents[:self.nElite, :] = elite\n",
    "\n",
    "        # Select other random parents\n",
    "        selected, _, _ = self.__getBestNIndividuals(n=nParents - self.nElite, generation=population, fits=fits, testFunc=roulette)\n",
    "        parents[self.nElite:, :] = selected\n",
    "\n",
    "        return parents\n",
    "\n",
    "    def __getSurvivals(self, generation: np.array) -> np.array:\n",
    "        '''\n",
    "            TODO: 2022-02-22 - ADD Description\n",
    "            TODO: 2022-02-22 - Finish implementation\n",
    "        '''\n",
    "        return generation\n",
    "\n",
    "        # if self.nOffspring == self.nPopulation:\n",
    "        #     return generation # Replace the whole generation\n",
    "\n",
    "        # survivals = np.zeros( (self.nPopulation, self.nGenes) )\n",
    "        \n",
    "        # # Replace with best new individuals\n",
    "        # newFits = self.__getFits(generation=generation)\n",
    "        # offspring, _, _ = self.__getBestNIndividuals(n=self.nOffspring, generation=generation, fits=newFits)\n",
    "        # survivals[:self.nOffspring, :] = offspring\n",
    "\n",
    "        # # Keep some of the best current individuals\n",
    "        # currentFits = self.__getFits(generation=self.population)\n",
    "        # nRemaining = self.nPopulation - self.nOffspring\n",
    "        # elders, _, _ = self.__getBestNIndividuals(n=nRemaining, generation=self.population, fits=currentFits)\n",
    "        # survivals[self.nOffspring:, :] = elders\n",
    "\n",
    "        # return survivals\n",
    "\n",
    "    def __crossover(self, parent1: np.array, parent2: np.array) -> tuple:\n",
    "        '''\n",
    "            TODO: 2022-02-22 - ADD Description\n",
    "        '''\n",
    "\n",
    "        willRecombine = np.random.rand() > self.crossoverProb\n",
    "        if not willRecombine:\n",
    "            return parent1, parent2\n",
    "\n",
    "        mid = int(np.floor(self.nGenes / 2))\n",
    "        \n",
    "        child1 = np.concatenate( (parent1[:mid], parent2[mid:]) )\n",
    "        child2 = np.concatenate( (parent2[:mid], parent1[mid:]) )\n",
    "        return child1, child2\n",
    "\n",
    "    def __getFits(self, generation: np.array, sort = False) -> np.array:\n",
    "        '''\n",
    "            TODO: 2022-02-22 - ADD Description\n",
    "        '''\n",
    "\n",
    "        fits = np.apply_along_axis(self.fitFunc, arr=generation, axis=1)\n",
    "        if sort:\n",
    "            fits = -np.sort(-fits) # Sort Descending\n",
    "        return fits\n",
    "\n",
    "    def __getBestNIndividuals(self, n: int, generation: np.array, fits: np.array, testFunc: Callable[[np.array], bool] = np.argmax) -> tuple:\n",
    "        '''\n",
    "            TODO: 2022-02-22 - ADD Description\n",
    "        '''\n",
    "\n",
    "        _fits = np.copy(fits)\n",
    "        _generation = np.copy(generation)\n",
    "\n",
    "        best = np.zeros( (n, self.nGenes) )\n",
    "        for i in range(n):\n",
    "            idx = testFunc(_fits)\n",
    "            best[i, :] = _generation[idx]\n",
    "            _fits = np.delete(_fits, idx, axis=0)\n",
    "            _generation = np.delete(_generation, idx, axis=0)\n",
    "        \n",
    "        return best, _generation, _fits"
   ]
  },
  {
   "cell_type": "markdown",
   "metadata": {},
   "source": [
    "### Configuração"
   ]
  },
  {
   "cell_type": "code",
   "execution_count": 4,
   "metadata": {},
   "outputs": [],
   "source": [
    "capacity = 35\n",
    "weights = np.array([10, 18, 12, 14, 13, 11, 8, 6])\n",
    "values = np.array([5, 8, 7, 6, 9, 5, 4, 3])\n",
    "\n",
    "nElite = 2\n",
    "nGenes = len(weights)\n",
    "nOffspring = 8\n",
    "nPopulation = 10\n",
    "nGenerations = 3000\n",
    "\n",
    "mutationProb = .05\n",
    "crossoverProb = .6\n",
    "\n",
    "initPopulation = np.random.randint(low=0, high=2, size=(nPopulation, nGenes))\n",
    "\n",
    "def fitnessFunction(individual: np.array) -> float:\n",
    "    '''\n",
    "        TODO: 2022-02-21 - ADD Description\n",
    "    '''\n",
    "\n",
    "    benefit = np.sum(individual * values)\n",
    "    totalWeight = np.sum(individual * weights)\n",
    "    \n",
    "    if totalWeight <= capacity: # Solution is OK\n",
    "        return benefit\n",
    "\n",
    "    # Solution is heavier then maximum capacity\n",
    "    rho = np.max(values / weights) # Penalization factor\n",
    "    penalties = [(w - capacity) for w in weights] # Penalties for each item\n",
    "    penalty = rho * np.fabs(sum(penalties))\n",
    "\n",
    "    return benefit - penalty"
   ]
  },
  {
   "cell_type": "markdown",
   "metadata": {},
   "source": [
    "#### Teste da função de Aptidão"
   ]
  },
  {
   "cell_type": "code",
   "execution_count": 5,
   "metadata": {},
   "outputs": [
    {
     "name": "stdout",
     "output_type": "stream",
     "text": [
      "5 should be: 5\n",
      "8 should be: 8\n",
      "0 should be: 0\n",
      "-83.15384615384616 should be: -83.15384615384616\n"
     ]
    }
   ],
   "source": [
    "\n",
    "# Test the case on which all items are included\n",
    "weightsSum = np.sum(weights)\n",
    "valuesSum = np.sum(values)\n",
    "fracs = values / weights\n",
    "rho  = np.max(fracs)\n",
    "penalties = [(w - capacity) for w in weights]\n",
    "penalty = rho * np.fabs(sum(penalties))\n",
    "allItems = valuesSum - penalty\n",
    "\n",
    "# print('-------- ALL ITEMS CASE --------')\n",
    "\n",
    "# print(f'weightsSum = {weightsSum}')\n",
    "# print(f'valuesSum = {valuesSum}')\n",
    "# print(f'fracs = {fracs}')\n",
    "# print(f'rho = {rho}')\n",
    "# print(f'penalties = {penalties}')\n",
    "# print(f'penalty = {penalty}')\n",
    "# print(f'allItems = {allItems}')\n",
    "\n",
    "# print('--------------------------------')\n",
    "\n",
    "tests = [\n",
    "    ([1, 0, 0, 0, 0, 0, 0, 0], 5),\n",
    "    ([1, 0, 0, 0, 0, 0, 0, 1], 8),\n",
    "    ([0, 0, 0, 0, 0, 0, 0, 0], 0),\n",
    "    ([1, 1, 1, 1, 1, 1, 1, 1], allItems),\n",
    "]\n",
    "\n",
    "for testIn, testOut in tests:\n",
    "    fit = fitnessFunction(testIn)\n",
    "    print(f'{fit} should be: {testOut}')"
   ]
  },
  {
   "cell_type": "markdown",
   "metadata": {},
   "source": [
    "### Teste"
   ]
  },
  {
   "cell_type": "code",
   "execution_count": 6,
   "metadata": {},
   "outputs": [
    {
     "name": "stdout",
     "output_type": "stream",
     "text": [
      "initFit: 11.0 | [ -99.15384615 -111.15384615 -108.15384615 -103.15384615 -107.15384615\n",
      " -104.15384615  -93.15384615   11.          -88.15384615  -96.15384615]\n",
      ">> Results:\n",
      "BestFit: 19.0\n",
      "Evolution: [16. 16. 16. ... 19. 19. 19.]\n",
      "BestGeneration: [[1. 0. 0. 0. 1. 1. 0. 0.]\n",
      " [1. 0. 0. 0. 1. 1. 0. 0.]\n",
      " [1. 0. 0. 0. 1. 1. 0. 0.]\n",
      " [1. 0. 0. 0. 1. 1. 0. 0.]\n",
      " [1. 0. 0. 0. 1. 1. 0. 0.]\n",
      " [1. 0. 0. 0. 1. 1. 0. 0.]\n",
      " [1. 0. 0. 0. 1. 1. 0. 0.]\n",
      " [1. 0. 0. 0. 1. 1. 0. 0.]]\n"
     ]
    }
   ],
   "source": [
    "def getGenerationFitness(generation: np.array) -> np.array:\n",
    "    return np.apply_along_axis(fitnessFunction, arr=generation, axis=1)\n",
    "\n",
    "def getBestFitness(generation: np.array) -> np.array:\n",
    "    return np.max(getGenerationFitness(generation))\n",
    "\n",
    "print(f'initFit: {getBestFitness(initPopulation)} | {getGenerationFitness(initPopulation)}')\n",
    "\n",
    "genetic = Genetic(\n",
    "    initPopulation=initPopulation,\n",
    "    fitFunc=fitnessFunction,\n",
    "    nElite=nElite,\n",
    "    nOffspring=nOffspring,\n",
    "    nGenerations=nGenerations,\n",
    "    crossoverProb=crossoverProb,\n",
    "    mutationProb=mutationProb,\n",
    ")\n",
    "\n",
    "bestGeneration, evolution = genetic.evolve()\n",
    "\n",
    "print(f'>> Results:')\n",
    "print(f'BestFit: {getBestFitness(bestGeneration)}')\n",
    "print(f'Evolution: {evolution}')\n",
    "print(f'BestGeneration: {bestGeneration}')\n"
   ]
  }
 ],
 "metadata": {
  "interpreter": {
   "hash": "916dbcbb3f70747c44a77c7bcd40155683ae19c65e1c03b4aa3499c5328201f1"
  },
  "kernelspec": {
   "display_name": "Python 3.8.10 64-bit",
   "language": "python",
   "name": "python3"
  },
  "language_info": {
   "codemirror_mode": {
    "name": "ipython",
    "version": 3
   },
   "file_extension": ".py",
   "mimetype": "text/x-python",
   "name": "python",
   "nbconvert_exporter": "python",
   "pygments_lexer": "ipython3",
   "version": "3.8.10"
  },
  "orig_nbformat": 4
 },
 "nbformat": 4,
 "nbformat_minor": 2
}
