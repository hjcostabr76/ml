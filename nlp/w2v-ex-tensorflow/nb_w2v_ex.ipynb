{
 "cells": [
  {
   "cell_type": "markdown",
   "source": [
    "### Imports"
   ],
   "metadata": {}
  },
  {
   "cell_type": "code",
   "execution_count": 1,
   "source": [
    "import io\n",
    "import re\n",
    "import string\n",
    "import tqdm\n",
    "\n",
    "import numpy as np\n",
    "import tensorflow as tf\n",
    "\n",
    "from tensorflow.keras import layers\n",
    "from Word2Vec import Word2Vec"
   ],
   "outputs": [
    {
     "output_type": "stream",
     "name": "stderr",
     "text": [
      "2021-10-07 18:10:06.571188: W tensorflow/stream_executor/platform/default/dso_loader.cc:64] Could not load dynamic library 'libcudart.so.11.0'; dlerror: libcudart.so.11.0: cannot open shared object file: No such file or directory\n",
      "2021-10-07 18:10:06.571206: I tensorflow/stream_executor/cuda/cudart_stub.cc:29] Ignore above cudart dlerror if you do not have a GPU set up on your machine.\n"
     ]
    }
   ],
   "metadata": {}
  },
  {
   "cell_type": "markdown",
   "source": [
    "### Constants"
   ],
   "metadata": {}
  },
  {
   "cell_type": "code",
   "execution_count": 2,
   "source": [
    "\n",
    "PATH_FILE_OUT_VECTORS = './file/out_vectors.tsv'\n",
    "PATH_FILE_OUT_VOCAB = './file/out_vocabulary.tsv'\n",
    "PATH_FILE_IN_TXT = './file/in_shakespeare.txt'\n",
    "PATH_DIR_LOGS = './logs'\n",
    "\n",
    "LAYER_W2V_EMBED = 'layer_w2v_target_embed'\n",
    "\n",
    "SEED = 42   # Seed for reproducibility on pseudo randomization\n",
    "\n",
    "SIZE_VOCAB = 4096       # Max count of words\n",
    "SIZE_EPOCHS = 20        # ...\n",
    "SIZE_WINDOW = 2         # Window size: How many words before & after the targets will be in contexts\n",
    "SIZE_SENTENCE = 10      # Normalized count of word per each sentence\n",
    "SIZE_NEG_SAMPLES = 4    # Number of negative samples for each context of each sentence of training data\n",
    "\n",
    "'''\n",
    "    TODO: 2021-10-06 - Understand the meaning of these following constants\n",
    "'''\n",
    "\n",
    "SIZE_BUF = 10000        # ?? Which buffer? What is it for?\n",
    "SIZE_BATCH = 1024       # ??\n",
    "\n",
    "AUTOTUNE = tf.data.AUTOTUNE # ??\n",
    "EMBED_DIMENSION = 128       # ??"
   ],
   "outputs": [],
   "metadata": {}
  },
  {
   "cell_type": "markdown",
   "source": [
    "# Generate Training Data"
   ],
   "metadata": {}
  },
  {
   "cell_type": "markdown",
   "source": [
    "    A tuple (target, context, label) tensors constitutes one training example\n",
    "_(In skip-gram negative sampling Word2Vec model)_"
   ],
   "metadata": {}
  },
  {
   "cell_type": "markdown",
   "source": [
    "### Read File"
   ],
   "metadata": {}
  },
  {
   "cell_type": "code",
   "execution_count": 3,
   "source": [
    "with open(PATH_FILE_IN_TXT) as f: \n",
    "  lines = f.read().splitlines()\n",
    "text_ds = tf.data.TextLineDataset(PATH_FILE_IN_TXT).filter(lambda x: tf.cast(tf.strings.length(x), bool))"
   ],
   "outputs": [
    {
     "output_type": "stream",
     "name": "stderr",
     "text": [
      "2021-10-07 18:10:07.620181: W tensorflow/stream_executor/platform/default/dso_loader.cc:64] Could not load dynamic library 'libcuda.so.1'; dlerror: libcuda.so.1: cannot open shared object file: No such file or directory\n",
      "2021-10-07 18:10:07.620206: W tensorflow/stream_executor/cuda/cuda_driver.cc:269] failed call to cuInit: UNKNOWN ERROR (303)\n",
      "2021-10-07 18:10:07.620238: I tensorflow/stream_executor/cuda/cuda_diagnostics.cc:156] kernel driver does not appear to be running on this host (hjpc): /proc/driver/nvidia/version does not exist\n",
      "2021-10-07 18:10:07.620499: I tensorflow/core/platform/cpu_feature_guard.cc:142] This TensorFlow binary is optimized with oneAPI Deep Neural Network Library (oneDNN) to use the following CPU instructions in performance-critical operations:  AVX2 FMA\n",
      "To enable them in other operations, rebuild TensorFlow with the appropriate compiler flags.\n"
     ]
    }
   ],
   "metadata": {}
  },
  {
   "cell_type": "markdown",
   "source": [
    "### Vectorize sentences"
   ],
   "metadata": {}
  },
  {
   "cell_type": "markdown",
   "source": [
    "- `TextVectorization` layer normalize, split, and map strings to integers;\n",
    "- `adapt()` update the layer state to represent the text corpus;\n",
    "- After that vocabulary can be accessed with `get_vocabulary()` _(This function returns a list of all vocabulary tokens sorted (descending) by their frequency)_;        \n",
    "- After that, `vectorize_layer` can be used to generate a `tf.data.Dataset` of integer encoded sentences;\n",
    "- `text_vector_ds` is a `tf.data.Dataset` with vectors for each element in `text_ds` Dataset _(lines of the file)_;\n",
    "- From `text_vector_ds` we generate `sentences`;\n",
    "- `sentences` is the dataset flattened as a list of int encoded sentence vectors _(It's required as we'd iterate over each sentence in the DS to produce positive & negative examples)_;"
   ],
   "metadata": {}
  },
  {
   "cell_type": "code",
   "execution_count": 4,
   "source": [
    "\n",
    "# Map strings to integers\n",
    "def standardize_token(input_data: str) -> str:\n",
    "  lowercase = tf.strings.lower(input_data)\n",
    "  return tf.strings.regex_replace(lowercase, '[%s]' % re.escape(string.punctuation), '')\n",
    "\n",
    "vectorize_layer = layers.TextVectorization(\n",
    "    standardize=standardize_token,\n",
    "    max_tokens=SIZE_VOCAB,\n",
    "    output_mode='int',\n",
    "    output_sequence_length=SIZE_SENTENCE  # Pad all samples to same length\n",
    "  )\n",
    "\n",
    "# Create vocabulary\n",
    "vectorize_layer.adapt(text_ds.batch(SIZE_BATCH)) \n",
    "inverse_vocab = vectorize_layer.get_vocabulary()\n",
    "\n",
    "# Generate list of int sequence vectors of sentenses\n",
    "text_vector_ds = text_ds.batch(SIZE_BATCH).prefetch(AUTOTUNE).map(vectorize_layer).unbatch()\n",
    "sentences = list(text_vector_ds.as_numpy_iterator())"
   ],
   "outputs": [
    {
     "output_type": "stream",
     "name": "stderr",
     "text": [
      "2021-10-07 18:10:07.827637: I tensorflow/compiler/mlir/mlir_graph_optimization_pass.cc:185] None of the MLIR Optimization Passes are enabled (registered 2)\n"
     ]
    }
   ],
   "metadata": {}
  },
  {
   "cell_type": "markdown",
   "source": [
    "## Generate data"
   ],
   "metadata": {}
  },
  {
   "cell_type": "markdown",
   "source": [
    "### Main Function: _Definition_"
   ],
   "metadata": {}
  },
  {
   "cell_type": "code",
   "execution_count": 5,
   "source": [
    "def generate_training_data(sentences: list, window_size: int, num_ns: int, vocab_size: int, seed: int):\n",
    "  '''\n",
    "    Generate training examples for the Word2Vec model:\n",
    "    \n",
    "    - Generates skip-gram pairs with negative sampling for a list of sentences;\n",
    "    - Iterates over each word of each sentence to collect positive and negative context words;\n",
    "    - Length of target, contexts and labels should be same, representing the total number of training examples;\n",
    "\n",
    "    Parameters\n",
    "    - sentences: List of int-encoded sentences;\n",
    "    - window_size: Size of the context (How many words before and after targets considered as context);\n",
    "    - num_ns: Number of negative samples per each context;\n",
    "    - vocab_size: How many tokens (generally words) are mapped;\n",
    "    - seed: Seed for reproducibility on pseudo randomization;\n",
    "\n",
    "    Return\n",
    "    - Batch 1 positive `context_word` and `num_ns` negative context words into one tensor;\n",
    "    - This produces a set of positive skip-grams _(labelled as 1)_ & negative samples _(labelled as 0)_ for each target word;\n",
    "    - Notice that the target is of shape (1,) while the context and label are of shape (1 + `num_ns`,)\n",
    "  '''\n",
    "\n",
    "  targets, contexts, labels = [], [], []\n",
    "  sampling_table = tf.keras.preprocessing.sequence.make_sampling_table(vocab_size) # Word frequency rank of 'vocab_size' tokens\n",
    "\n",
    "  for sequence in tqdm.tqdm(sentences):\n",
    "\n",
    "    positive_skip_grams, _ = tf.keras.preprocessing.sequence.skipgrams(\n",
    "        sequence,\n",
    "        vocabulary_size=vocab_size,\n",
    "        sampling_table=sampling_table,\n",
    "        window_size=window_size,\n",
    "        negative_samples=0\n",
    "    )\n",
    "\n",
    "    # For each positive skip-gram pair produce training examples with positive context word & negative samples\n",
    "    for target_word, context_word in positive_skip_grams:\n",
    "      \n",
    "      context_class = tf.expand_dims(tf.constant([context_word], dtype=\"int64\"), 1)\n",
    "\n",
    "      negative_sampling_candidates, _, _ = tf.random.log_uniform_candidate_sampler(\n",
    "          name=\"negative_sampling\",   # Name of this operation\n",
    "          true_classes=context_class, # Class that should be sampled as 'positive'\n",
    "          range_max=vocab_size,       # Pick index of the samples from [0, vocab_size]\n",
    "          num_sampled=num_ns,         # Number of negative context words to sample\n",
    "          unique=True,                # All the negative samples should be unique\n",
    "          num_true=1,                 # Each positive skip-gram has 01 positive context class\n",
    "          seed=seed,                  # Seed for reproducibility\n",
    "      )\n",
    "\n",
    "      # Build context and label vectors (for one target word)\n",
    "      negative_sampling_candidates = tf.expand_dims(negative_sampling_candidates, 1)\n",
    "      context = tf.concat([context_class, negative_sampling_candidates], 0)\n",
    "      label = tf.constant([1] + [0] * num_ns, dtype=\"int64\")\n",
    "\n",
    "      # Append each element from the training example to global lists.\n",
    "      targets.append(target_word)\n",
    "      contexts.append(context)\n",
    "      labels.append(label)\n",
    "\n",
    "  return targets, contexts, labels"
   ],
   "outputs": [],
   "metadata": {}
  },
  {
   "cell_type": "markdown",
   "source": [
    "### Main Function: _Execution_"
   ],
   "metadata": {}
  },
  {
   "cell_type": "code",
   "execution_count": 6,
   "source": [
    "targets, contexts, labels = generate_training_data(\n",
    "    sentences=sentences,\n",
    "    window_size=SIZE_WINDOW,\n",
    "    num_ns=SIZE_NEG_SAMPLES,\n",
    "    vocab_size=SIZE_VOCAB,\n",
    "    seed=SEED,\n",
    ")\n",
    "\n",
    "targets = np.array(targets)\n",
    "contexts = np.array(contexts)[:,:,0]\n",
    "labels = np.array(labels)"
   ],
   "outputs": [
    {
     "output_type": "stream",
     "name": "stderr",
     "text": [
      "100%|██████████| 32777/32777 [00:07<00:00, 4413.91it/s]\n"
     ]
    }
   ],
   "metadata": {}
  },
  {
   "cell_type": "markdown",
   "source": [
    "## Performance tweaks"
   ],
   "metadata": {}
  },
  {
   "cell_type": "markdown",
   "source": [
    "- For performance reasons we go back with our data into the `tf.data.Dataset` format;\n",
    "- It's better to perform efficient batching for the potentially large number of training examples;\n",
    "- `cache()` and `prefetch()` improve performance _(How ??)_;"
   ],
   "metadata": {}
  },
  {
   "cell_type": "code",
   "execution_count": 7,
   "source": [
    "dataset = tf.data.Dataset.from_tensor_slices(((targets, contexts), labels))\n",
    "dataset = dataset.shuffle(SIZE_BUF).batch(SIZE_BATCH, drop_remainder=True)\n",
    "dataset = dataset.cache().prefetch(buffer_size=AUTOTUNE)"
   ],
   "outputs": [],
   "metadata": {}
  },
  {
   "cell_type": "markdown",
   "source": [
    "# Modeling & Training"
   ],
   "metadata": {}
  },
  {
   "cell_type": "markdown",
   "source": [
    "### Description"
   ],
   "metadata": {}
  },
  {
   "cell_type": "markdown",
   "source": [
    "- The Word2Vec model can be implemented as a __classifier__;\n",
    "- It distinguishes between true context words _(from skip-grams)_ and false context words _(negative sampling)_;\n",
    "- You can perform a dot product between the embeddings of target and context words to:\n",
    "    - Obtain predictions for labels and;\n",
    "    - To compute loss against true labels in the dataset;"
   ],
   "metadata": {}
  },
  {
   "cell_type": "markdown",
   "source": [
    "### Create Model"
   ],
   "metadata": {}
  },
  {
   "cell_type": "code",
   "execution_count": 8,
   "source": [
    "word2vec = Word2Vec(SIZE_VOCAB, EMBED_DIMENSION, SIZE_NEG_SAMPLES, LAYER_W2V_EMBED)\n",
    "word2vec.compile(\n",
    "    optimizer='adam',\n",
    "    loss=tf.keras.losses.CategoricalCrossentropy(from_logits=True),\n",
    "    metrics=['accuracy'],\n",
    ")"
   ],
   "outputs": [],
   "metadata": {}
  },
  {
   "cell_type": "markdown",
   "source": [
    "### Train"
   ],
   "metadata": {}
  },
  {
   "cell_type": "code",
   "execution_count": 9,
   "source": [
    "# Train with dataset prepared above\n",
    "word2vec.fit(dataset, epochs=SIZE_EPOCHS)\n",
    "weights = word2vec.get_layer(LAYER_W2V_EMBED).get_weights()[0]\n",
    "vocab = vectorize_layer.get_vocabulary()    # Vocabulary to build metadata file with 01 token per line"
   ],
   "outputs": [
    {
     "output_type": "stream",
     "name": "stdout",
     "text": [
      "Epoch 1/20\n",
      "63/63 [==============================] - 2s 25ms/step - loss: 1.6082 - accuracy: 0.2325\n",
      "Epoch 2/20\n",
      "63/63 [==============================] - 1s 23ms/step - loss: 1.5888 - accuracy: 0.5536\n",
      "Epoch 3/20\n",
      "63/63 [==============================] - 2s 24ms/step - loss: 1.5414 - accuracy: 0.6033\n",
      "Epoch 4/20\n",
      "63/63 [==============================] - 2s 24ms/step - loss: 1.4597 - accuracy: 0.5761\n",
      "Epoch 5/20\n",
      "63/63 [==============================] - 1s 23ms/step - loss: 1.3622 - accuracy: 0.5832\n",
      "Epoch 6/20\n",
      "63/63 [==============================] - 1s 23ms/step - loss: 1.2656 - accuracy: 0.6101\n",
      "Epoch 7/20\n",
      "63/63 [==============================] - 1s 23ms/step - loss: 1.1753 - accuracy: 0.6425\n",
      "Epoch 8/20\n",
      "63/63 [==============================] - 1s 23ms/step - loss: 1.0917 - accuracy: 0.6763\n",
      "Epoch 9/20\n",
      "63/63 [==============================] - 1s 22ms/step - loss: 1.0139 - accuracy: 0.7086\n",
      "Epoch 10/20\n",
      "63/63 [==============================] - 1s 22ms/step - loss: 0.9417 - accuracy: 0.7381\n",
      "Epoch 11/20\n",
      "63/63 [==============================] - 1s 22ms/step - loss: 0.8745 - accuracy: 0.7635\n",
      "Epoch 12/20\n",
      "63/63 [==============================] - 1s 22ms/step - loss: 0.8124 - accuracy: 0.7866\n",
      "Epoch 13/20\n",
      "63/63 [==============================] - 1s 22ms/step - loss: 0.7550 - accuracy: 0.8056\n",
      "Epoch 14/20\n",
      "63/63 [==============================] - 1s 21ms/step - loss: 0.7023 - accuracy: 0.8226\n",
      "Epoch 15/20\n",
      "63/63 [==============================] - 1s 21ms/step - loss: 0.6540 - accuracy: 0.8373\n",
      "Epoch 16/20\n",
      "63/63 [==============================] - 1s 19ms/step - loss: 0.6098 - accuracy: 0.8507\n",
      "Epoch 17/20\n",
      "63/63 [==============================] - 1s 16ms/step - loss: 0.5695 - accuracy: 0.8634\n",
      "Epoch 18/20\n",
      "63/63 [==============================] - 1s 18ms/step - loss: 0.5328 - accuracy: 0.8751\n",
      "Epoch 19/20\n",
      "63/63 [==============================] - 1s 16ms/step - loss: 0.4994 - accuracy: 0.8860\n",
      "Epoch 20/20\n",
      "63/63 [==============================] - 1s 16ms/step - loss: 0.4690 - accuracy: 0.8947\n"
     ]
    }
   ],
   "metadata": {}
  },
  {
   "cell_type": "markdown",
   "source": [
    "### Write results into files"
   ],
   "metadata": {}
  },
  {
   "cell_type": "code",
   "execution_count": 10,
   "source": [
    "out_vectors = io.open(PATH_FILE_OUT_VECTORS, 'w', encoding='utf-8')\n",
    "out_vocabulary = io.open(PATH_FILE_OUT_VOCAB, 'w', encoding='utf-8')\n",
    "\n",
    "for index, word in enumerate(vocab):\n",
    "  if index == 0:\n",
    "    continue  # skip 0, it's padding.\n",
    "\n",
    "  vec = weights[index]\n",
    "  out_vectors.write('\\t'.join([str(x) for x in vec]) + \"\\n\")\n",
    "  out_vocabulary.write(word + \"\\n\")\n",
    "\n",
    "out_vectors.close()\n",
    "out_vocabulary.close()"
   ],
   "outputs": [],
   "metadata": {}
  }
 ],
 "metadata": {
  "orig_nbformat": 4,
  "language_info": {
   "name": "python",
   "version": "3.8.10",
   "mimetype": "text/x-python",
   "codemirror_mode": {
    "name": "ipython",
    "version": 3
   },
   "pygments_lexer": "ipython3",
   "nbconvert_exporter": "python",
   "file_extension": ".py"
  },
  "kernelspec": {
   "name": "python3",
   "display_name": "Python 3.8.10 64-bit"
  },
  "interpreter": {
   "hash": "31f2aee4e71d21fbe5cf8b01ff0e069b9275f58929596ceb00d14d90e3e16cd6"
  }
 },
 "nbformat": 4,
 "nbformat_minor": 2
}