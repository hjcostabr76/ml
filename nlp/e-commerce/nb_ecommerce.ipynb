{
 "cells": [
  {
   "cell_type": "markdown",
   "source": [
    "### Imports"
   ],
   "metadata": {}
  },
  {
   "cell_type": "code",
   "execution_count": 63,
   "source": [
    "import pandas as pd\n",
    "import numpy as np\n",
    "import matplotlib.pyplot as plt"
   ],
   "outputs": [],
   "metadata": {}
  },
  {
   "cell_type": "markdown",
   "source": [
    "### Constants"
   ],
   "metadata": {}
  },
  {
   "cell_type": "code",
   "execution_count": 5,
   "source": [
    "PATH_FILE_ORDER = './file/olist_orders_dataset.csv'\n",
    "PATH_FILE_ORDER_ITEM = './file/olist_order_items_dataset.csv'\n",
    "PATH_FILE_ORDER_REVIEW = './file/olist_order_reviews_dataset.csv'\n",
    "PATH_FILE_ORDER_PAYMENT = './file/olist_order_payments_dataset.csv'\n",
    "\n",
    "PATH_FILE_PROD = './file/olist_products_dataset.csv'\n",
    "PATH_FILE_SELLER = './file/olist_sellers_dataset.csv'\n",
    "PATH_FILE_CUSTOMER = './file/olist_customers_dataset.csv'\n",
    "PATH_FILE_GEOLOCATION = './file/olist_geolocation_dataset.csv'\n",
    "PATH_FILE_PROD_CATEGORY_TRANSLATE = './file/product_category_name_translation.csv'"
   ],
   "outputs": [],
   "metadata": {}
  },
  {
   "cell_type": "markdown",
   "source": [
    "### Rename..."
   ],
   "metadata": {}
  },
  {
   "cell_type": "code",
   "execution_count": 132,
   "source": [
    "\n",
    "# Colunas originais\n",
    "COL_REV_ID = 'review_id'\n",
    "COL_REV_MSG = 'review_comment_message'\n",
    "COL_REV_ORDER = 'order_id'\n",
    "COL_REV_SCORE = 'review_score'\n",
    "COL_REV_TITLE = 'review_comment_title'\n",
    "COL_REV_ANSWER = 'review_answer_timestamp'\n",
    "COL_REV_CREATION = 'review_creation_date'\n",
    "\n",
    "# Colunas customizadas\n",
    "\n",
    "COL_REV_CUS_MSG_LEN = 'review_custom_msg_length'\n",
    "\n",
    "\n",
    "'''\n",
    "    lines: 10k\n",
    "    columns: 07\n",
    "'''\n",
    "\n",
    "orderBy = [COL_REV_SCORE, COL_REV_CUS_MSG_LEN, COL_REV_CREATION, COL_REV_MSG, COL_REV_TITLE]\n",
    "columns = [COL_REV_SCORE, COL_REV_CUS_MSG_LEN, COL_REV_MSG, COL_REV_TITLE]\n",
    "\n",
    "reviewsDF = pd.read_csv(PATH_FILE_ORDER_REVIEW)\n",
    "\n",
    "# Trata valores NaN\n",
    "reviewsDF.loc[reviewsDF[COL_REV_MSG].isnull(), COL_REV_MSG] = ''\n",
    "reviewsDF.loc[reviewsDF[COL_REV_TITLE].isnull(), COL_REV_TITLE] = ''\n",
    "\n",
    "# Computa comprimento das avaliacoes\n",
    "reviewsDF[COL_REV_CUS_MSG_LEN] = reviewsDF[COL_REV_MSG].apply(lambda msg: len(msg))\n",
    "\n",
    "# Exibe estatisticas sobre o DF\n",
    "reviewsCount = reviewsDF.shape[0]\n",
    "noMsgReviewsCount = reviewsDF.loc[reviewsDF[COL_REV_CUS_MSG_LEN] == 0].shape[0]\n",
    "noMsgReviewsRatio = round(noMsgReviewsCount / reviewsCount * 100, 2)\n",
    "\n",
    "print(f'Reviews: {reviewsCount}')\n",
    "print(f'Empty message reviews: {noMsgReviewsCount} / {reviewsCount} ({noMsgReviewsRatio}%)')\n",
    "\n",
    "scoreValues = sorted(reviewsDF[COL_REV_SCORE].unique())\n",
    "for score in scoreValues:\n",
    "\n",
    "    scoredDF = reviewsDF.loc[reviewsDF[COL_REV_SCORE] == score]\n",
    "\n",
    "    scoredCount = scoredDF.shape[0]\n",
    "    scoredRatio = round(scoredCount / reviewsCount * 100, 2)\n",
    "    noMsgScoredCount = scoredDF.loc[reviewsDF[COL_REV_CUS_MSG_LEN] == 0].shape[0]\n",
    "    noMsgScoredRation = round(noMsgScoredCount / scoredCount * 100, 2)\n",
    "\n",
    "    print(f'{score} Score: {scoredCount} / {reviewsCount} ({scoredRatio}%)')\n",
    "    print(f'\\tNo message: {noMsgScoredCount} / {scoredCount} ({noMsgScoredRation}%)')\n",
    "\n",
    "# reviewsDF = reviewsDF.sort_values(by=orderBy, ascending=False)\n",
    "# reviewsDF[columns].head()\n",
    "# print(reviewsDF.groupby(by=COL_REV_SCORE).mean())\n",
    "# plt.figure(figsize=(14, 10), dpi=80)\n",
    "# plt.plot(reviewsDF[COL_REV_SCORE].values, reviewsDF[COL_REV_CUS_MSG_LEN].values, '-.')"
   ],
   "outputs": [
    {
     "output_type": "stream",
     "name": "stdout",
     "text": [
      "Reviews: 100000\n",
      "Empty message reviews: 58247 / 100000 (58.25%)\n",
      "1 Score: 11858 / 100000 (11.86%)\n",
      "\tNo message: 2679 / 11858 (22.59%)\n",
      "2 Score: 3235 / 100000 (3.23%)\n",
      "\tNo message: 1006 / 3235 (31.1%)\n",
      "3 Score: 8287 / 100000 (8.29%)\n",
      "\tNo message: 4622 / 8287 (55.77%)\n",
      "4 Score: 19200 / 100000 (19.2%)\n",
      "\tNo message: 13166 / 19200 (68.57%)\n",
      "5 Score: 57420 / 100000 (57.42%)\n",
      "\tNo message: 36774 / 57420 (64.04%)\n"
     ]
    }
   ],
   "metadata": {}
  }
 ],
 "metadata": {
  "orig_nbformat": 4,
  "language_info": {
   "name": "python",
   "version": "3.8.10",
   "mimetype": "text/x-python",
   "codemirror_mode": {
    "name": "ipython",
    "version": 3
   },
   "pygments_lexer": "ipython3",
   "nbconvert_exporter": "python",
   "file_extension": ".py"
  },
  "kernelspec": {
   "name": "python3",
   "display_name": "Python 3.8.10 64-bit"
  },
  "interpreter": {
   "hash": "31f2aee4e71d21fbe5cf8b01ff0e069b9275f58929596ceb00d14d90e3e16cd6"
  }
 },
 "nbformat": 4,
 "nbformat_minor": 2
}