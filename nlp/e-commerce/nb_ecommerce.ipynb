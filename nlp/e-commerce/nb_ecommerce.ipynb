{
 "cells": [
  {
   "cell_type": "markdown",
   "source": [
    "### Imports"
   ],
   "metadata": {}
  },
  {
   "cell_type": "code",
   "execution_count": 3,
   "source": [
    "import pandas as pd\n",
    "import numpy as np\n",
    "import matplotlib.pyplot as plt"
   ],
   "outputs": [],
   "metadata": {}
  },
  {
   "cell_type": "markdown",
   "source": [
    "### Constants"
   ],
   "metadata": {}
  },
  {
   "cell_type": "code",
   "execution_count": 5,
   "source": [
    "PATH_FILE_ORDER = './file/olist_orders_dataset.csv'\n",
    "PATH_FILE_ORDER_ITEM = './file/olist_order_items_dataset.csv'\n",
    "PATH_FILE_ORDER_REVIEW = './file/olist_order_reviews_dataset.csv'\n",
    "PATH_FILE_ORDER_PAYMENT = './file/olist_order_payments_dataset.csv'\n",
    "\n",
    "PATH_FILE_PROD = './file/olist_products_dataset.csv'\n",
    "PATH_FILE_SELLER = './file/olist_sellers_dataset.csv'\n",
    "PATH_FILE_CUSTOMER = './file/olist_customers_dataset.csv'\n",
    "PATH_FILE_GEOLOCATION = './file/olist_geolocation_dataset.csv'\n",
    "PATH_FILE_PROD_CATEGORY_TRANSLATE = './file/product_category_name_translation.csv'"
   ],
   "outputs": [],
   "metadata": {}
  },
  {
   "cell_type": "markdown",
   "source": [
    "# Reviews Data"
   ],
   "metadata": {}
  },
  {
   "cell_type": "markdown",
   "source": [
    "### Constants"
   ],
   "metadata": {}
  },
  {
   "cell_type": "code",
   "execution_count": 37,
   "source": [
    "\n",
    "# Original columns\n",
    "COL_REV_ID = 'review_id'\n",
    "COL_REV_MSG = 'review_comment_message'\n",
    "COL_REV_ORDER = 'order_id'\n",
    "COL_REV_SCORE = 'review_score'\n",
    "COL_REV_TITLE = 'review_comment_title'\n",
    "COL_REV_ANSWER = 'review_answer_timestamp'\n",
    "COL_REV_CREATION = 'review_creation_date'\n",
    "\n",
    "# Custom Columns\n",
    "COL_REV_CUS_MSG_LEN = 'review_custom_msg_length'"
   ],
   "outputs": [],
   "metadata": {}
  },
  {
   "cell_type": "markdown",
   "source": [
    "### Build Dataframe"
   ],
   "metadata": {}
  },
  {
   "cell_type": "code",
   "execution_count": 35,
   "source": [
    "# Import file\n",
    "reviewsDF = pd.read_csv(PATH_FILE_ORDER_REVIEW)\n",
    "\n",
    "# Handle NaN values\n",
    "reviewsDF.loc[reviewsDF[COL_REV_MSG].isnull(), COL_REV_MSG] = ''\n",
    "reviewsDF.loc[reviewsDF[COL_REV_TITLE].isnull(), COL_REV_TITLE] = ''\n",
    "\n",
    "# Compute review lengths\n",
    "reviewsDF[COL_REV_CUS_MSG_LEN] = reviewsDF[COL_REV_MSG].apply(lambda msg: len(msg))\n",
    "\n",
    "# Show DF statistics\n",
    "reviewsCount = reviewsDF.shape[0]\n",
    "noMsgReviewsCount = reviewsDF.loc[reviewsDF[COL_REV_CUS_MSG_LEN] == 0].shape[0]\n",
    "noMsgReviewsRatio = round(noMsgReviewsCount / reviewsCount * 100, 2)\n",
    "\n",
    "orderBy = [COL_REV_SCORE, COL_REV_CUS_MSG_LEN, COL_REV_CREATION, COL_REV_MSG, COL_REV_TITLE]\n",
    "columns = [COL_REV_SCORE, COL_REV_CUS_MSG_LEN, COL_REV_MSG, COL_REV_TITLE]\n",
    "reviewsDF = reviewsDF.sort_values(by=orderBy, ascending=False)\n",
    "# reviewsDF[columns].head()\n",
    "\n",
    "# plt.figure(figsize=(14, 10), dpi=80)\n",
    "# plt.plot(reviewsDF[COL_REV_CUS_MSG_LEN].values, reviewsDF[COL_REV_SCORE].values, '-.')\n",
    "# plt.show()"
   ],
   "outputs": [
    {
     "output_type": "execute_result",
     "data": {
      "text/html": [
       "<div>\n",
       "<style scoped>\n",
       "    .dataframe tbody tr th:only-of-type {\n",
       "        vertical-align: middle;\n",
       "    }\n",
       "\n",
       "    .dataframe tbody tr th {\n",
       "        vertical-align: top;\n",
       "    }\n",
       "\n",
       "    .dataframe thead th {\n",
       "        text-align: right;\n",
       "    }\n",
       "</style>\n",
       "<table border=\"1\" class=\"dataframe\">\n",
       "  <thead>\n",
       "    <tr style=\"text-align: right;\">\n",
       "      <th></th>\n",
       "      <th>review_custom_msg_length</th>\n",
       "    </tr>\n",
       "    <tr>\n",
       "      <th>review_score</th>\n",
       "      <th></th>\n",
       "    </tr>\n",
       "  </thead>\n",
       "  <tbody>\n",
       "    <tr>\n",
       "      <th>1</th>\n",
       "      <td>79.138978</td>\n",
       "    </tr>\n",
       "    <tr>\n",
       "      <th>2</th>\n",
       "      <td>67.634930</td>\n",
       "    </tr>\n",
       "    <tr>\n",
       "      <th>3</th>\n",
       "      <td>37.669965</td>\n",
       "    </tr>\n",
       "    <tr>\n",
       "      <th>4</th>\n",
       "      <td>19.642083</td>\n",
       "    </tr>\n",
       "    <tr>\n",
       "      <th>5</th>\n",
       "      <td>18.770376</td>\n",
       "    </tr>\n",
       "  </tbody>\n",
       "</table>\n",
       "</div>"
      ],
      "text/plain": [
       "              review_custom_msg_length\n",
       "review_score                          \n",
       "1                            79.138978\n",
       "2                            67.634930\n",
       "3                            37.669965\n",
       "4                            19.642083\n",
       "5                            18.770376"
      ]
     },
     "metadata": {},
     "execution_count": 35
    }
   ],
   "metadata": {}
  },
  {
   "cell_type": "markdown",
   "source": [
    "### Statistics"
   ],
   "metadata": {}
  },
  {
   "cell_type": "code",
   "execution_count": 36,
   "source": [
    "print(f'Reviews: {reviewsCount}')\n",
    "print(f'Empty message reviews: {noMsgReviewsCount} / {reviewsCount} ({noMsgReviewsRatio}%)')\n",
    "\n",
    "scoreValues = sorted(reviewsDF[COL_REV_SCORE].unique())\n",
    "for score in scoreValues:\n",
    "\n",
    "    scoredDF = reviewsDF.loc[reviewsDF[COL_REV_SCORE] == score]\n",
    "\n",
    "    scoredCount = scoredDF.shape[0]\n",
    "    scoredRatio = round(scoredCount / reviewsCount * 100, 2)\n",
    "    noMsgScoredCount = scoredDF.loc[reviewsDF[COL_REV_CUS_MSG_LEN] == 0].shape[0]\n",
    "    noMsgScoredRation = round(noMsgScoredCount / scoredCount * 100, 2)\n",
    "\n",
    "    print(f'{score} Score: {scoredCount} / {reviewsCount} ({scoredRatio}%)')\n",
    "    print(f'\\tNo message: {noMsgScoredCount} / {scoredCount} ({noMsgScoredRation}%)')\n",
    "\n",
    "reviewsDF.groupby(by=COL_REV_SCORE).mean()"
   ],
   "outputs": [
    {
     "output_type": "stream",
     "name": "stdout",
     "text": [
      "Reviews: 100000\n",
      "Empty message reviews: 58247 / 100000 (58.25%)\n",
      "1 Score: 11858 / 100000 (11.86%)\n",
      "\tNo message: 2679 / 11858 (22.59%)\n",
      "2 Score: 3235 / 100000 (3.23%)\n",
      "\tNo message: 1006 / 3235 (31.1%)\n",
      "3 Score: 8287 / 100000 (8.29%)\n",
      "\tNo message: 4622 / 8287 (55.77%)\n",
      "4 Score: 19200 / 100000 (19.2%)\n",
      "\tNo message: 13166 / 19200 (68.57%)\n",
      "5 Score: 57420 / 100000 (57.42%)\n",
      "\tNo message: 36774 / 57420 (64.04%)\n"
     ]
    },
    {
     "output_type": "execute_result",
     "data": {
      "text/html": [
       "<div>\n",
       "<style scoped>\n",
       "    .dataframe tbody tr th:only-of-type {\n",
       "        vertical-align: middle;\n",
       "    }\n",
       "\n",
       "    .dataframe tbody tr th {\n",
       "        vertical-align: top;\n",
       "    }\n",
       "\n",
       "    .dataframe thead th {\n",
       "        text-align: right;\n",
       "    }\n",
       "</style>\n",
       "<table border=\"1\" class=\"dataframe\">\n",
       "  <thead>\n",
       "    <tr style=\"text-align: right;\">\n",
       "      <th></th>\n",
       "      <th>review_custom_msg_length</th>\n",
       "    </tr>\n",
       "    <tr>\n",
       "      <th>review_score</th>\n",
       "      <th></th>\n",
       "    </tr>\n",
       "  </thead>\n",
       "  <tbody>\n",
       "    <tr>\n",
       "      <th>1</th>\n",
       "      <td>79.138978</td>\n",
       "    </tr>\n",
       "    <tr>\n",
       "      <th>2</th>\n",
       "      <td>67.634930</td>\n",
       "    </tr>\n",
       "    <tr>\n",
       "      <th>3</th>\n",
       "      <td>37.669965</td>\n",
       "    </tr>\n",
       "    <tr>\n",
       "      <th>4</th>\n",
       "      <td>19.642083</td>\n",
       "    </tr>\n",
       "    <tr>\n",
       "      <th>5</th>\n",
       "      <td>18.770376</td>\n",
       "    </tr>\n",
       "  </tbody>\n",
       "</table>\n",
       "</div>"
      ],
      "text/plain": [
       "              review_custom_msg_length\n",
       "review_score                          \n",
       "1                            79.138978\n",
       "2                            67.634930\n",
       "3                            37.669965\n",
       "4                            19.642083\n",
       "5                            18.770376"
      ]
     },
     "metadata": {},
     "execution_count": 36
    }
   ],
   "metadata": {}
  },
  {
   "cell_type": "markdown",
   "source": [
    "## Plots"
   ],
   "metadata": {}
  },
  {
   "cell_type": "markdown",
   "source": [
    "### Histogram"
   ],
   "metadata": {}
  },
  {
   "cell_type": "code",
   "execution_count": 33,
   "source": [
    "# score1Reviews = reviewsDF[reviewsDF[COL_REV_SCORE] == 1]\n",
    "# score2Reviews = reviewsDF[reviewsDF[COL_REV_SCORE] == 2]\n",
    "# score3Reviews = reviewsDF[reviewsDF[COL_REV_SCORE] == 3]\n",
    "# score4Reviews = reviewsDF[reviewsDF[COL_REV_SCORE] == 4]\n",
    "# score5Reviews = reviewsDF[reviewsDF[COL_REV_SCORE] == 5]\n",
    "# # score1Reviews[COL_REV_CUS_MSG_LEN].values\n",
    "\n",
    "for i in range(1, 6):\n",
    "    plt.figure(figsize=(15, 6), dpi=80)\n",
    "    plt.hist(reviewsDF[reviewsDF[COL_REV_SCORE] == i][COL_REV_CUS_MSG_LEN].values, bins=50)\n",
    "    plt.title('score: ' + str(i))\n",
    "    plt.show()"
   ],
   "outputs": [
    {
     "output_type": "display_data",
     "data": {
      "image/png": "[encoded data removed]",
      "text/plain": [
       "<Figure size 1200x480 with 1 Axes>"
      ]
     },
     "metadata": {}
    },
    {
     "output_type": "display_data",
     "data": {
      "image/png": "[encoded data removed]",
      "text/plain": [
       "<Figure size 1200x480 with 1 Axes>"
      ]
     },
     "metadata": {}
    },
    {
     "output_type": "display_data",
     "data": {
      "image/png": "[encoded data removed]",
      "text/plain": [
       "<Figure size 1200x480 with 1 Axes>"
      ]
     },
     "metadata": {}
    },
    {
     "output_type": "display_data",
     "data": {
      "image/png": "[encoded data removed]",
      "text/plain": [
       "<Figure size 1200x480 with 1 Axes>"
      ]
     },
     "metadata": {}
    },
    {
     "output_type": "display_data",
     "data": {
      "image/png": "[encoded data removed]",
      "text/plain": [
       "<Figure size 1200x480 with 1 Axes>"
      ]
     },
     "metadata": {}
    }
   ],
   "metadata": {}
  },
  {
   "cell_type": "markdown",
   "source": [
    "### Scatter Plot"
   ],
   "metadata": {}
  },
  {
   "cell_type": "code",
   "execution_count": null,
   "source": [
    "colorMap = { 0:'r', 1:'m', 2:'y', 3:'g', 4:'b', 5:'c' }\n",
    "colours = [colorMap.get(reviewsDF.iloc[i][COL_REV_SCORE]) for i in range(reviewsDF.shape[0])]\n",
    "\n",
    "plt.figure(figsize=(14, 10), dpi=80)\n",
    "\n",
    "plt.scatter(reviewsDF[COL_REV_CUS_MSG_LEN].values, reviewsDF[COL_REV_SCORE].values, c=colours)\n",
    "plt.xlabel('message length')\n",
    "plt.ylabel('score')"
   ],
   "outputs": [],
   "metadata": {}
  },
  {
   "cell_type": "markdown",
   "source": [
    "# Clients Data"
   ],
   "metadata": {}
  },
  {
   "cell_type": "code",
   "execution_count": 2,
   "source": [
    "import seaborn as sns\n",
    "\n",
    "# -*- coding: utf-8 -*-\n",
    "\"\"\"\n",
    "Created on Tue Mar  5 16:20:50 2019\n",
    "\n",
    "@author: Michel Bessani\n",
    "\"\"\"\n",
    "\n",
    "import matplotlib.pyplot as plt\n",
    "import numpy as np\n",
    "\n",
    "plt.close('all')\n",
    "\n",
    "# =============================================================================\n",
    "# Diagrama de Dispersão\n",
    "# =============================================================================\n",
    "\n",
    "from sklearn import datasets\n",
    "iris = datasets.load_iris()\n",
    "\n",
    "\n",
    "# # Descrição do conjunto de Dados.\n",
    "# print(iris.DESCR)\n",
    "\n",
    "\n",
    "x = iris.data[:,0]\n",
    "y = iris.data[:,1]\n",
    "\n",
    "\n",
    "\n",
    "# # dispersao de 2 variaveis\n",
    "# plt.figure()  \n",
    "# plt.scatter(x,y)\n",
    "# plt.xlabel('x')\n",
    "# plt.ylabel('y')\n",
    "\n",
    "\n",
    "# z = iris.data[:,2]\n",
    "\n",
    "# # dispersao de 3 variaveis\n",
    "# from mpl_toolkits.mplot3d import Axes3D\n",
    "# fig = plt.figure()\n",
    "# ax = fig.add_subplot(111, projection='3d')\n",
    "# ax.scatter(x, y, z)\n",
    "# ax.set_xlabel('x')\n",
    "# ax.set_ylabel('y')\n",
    "# ax.set_zlabel('z')\n",
    "\n",
    "\n",
    "# #Utilizando cores para as classes\n",
    "\n",
    "iris_class = iris.target\n",
    "c_dict = {0:'r', 1:'b', 2:'g'}\n",
    "colours = [c_dict[x] for x in iris_class]  # lista de cores para observacao\n",
    "\n",
    "\n",
    "# dispersao de 2 variaveis com as cores\n",
    "plt.figure()\n",
    "plt.scatter(x,y,c=colours)\n",
    "plt.xlabel('x')\n",
    "plt.ylabel('y')\n",
    "\n",
    "# dispersao de 3 variaveis com as cores\n",
    "# fig = plt.figure()\n",
    "# ax = fig.add_subplot(111, projection='3d')\n",
    "# ax.scatter(x, y, z, c=colours)\n",
    "# ax.set_xlabel('x')\n",
    "# ax.set_ylabel('y')\n",
    "# ax.set_zlabel('z')"
   ],
   "outputs": [
    {
     "output_type": "execute_result",
     "data": {
      "text/plain": [
       "Text(0, 0.5, 'y')"
      ]
     },
     "metadata": {},
     "execution_count": 2
    },
    {
     "output_type": "display_data",
     "data": {
      "image/png": "[encoded data removed]",
      "text/plain": [
       "<Figure size 432x288 with 1 Axes>"
      ]
     },
     "metadata": {}
    }
   ],
   "metadata": {}
  }
 ],
 "metadata": {
  "orig_nbformat": 4,
  "language_info": {
   "name": "python",
   "version": "3.8.10",
   "mimetype": "text/x-python",
   "codemirror_mode": {
    "name": "ipython",
    "version": 3
   },
   "pygments_lexer": "ipython3",
   "nbconvert_exporter": "python",
   "file_extension": ".py"
  },
  "kernelspec": {
   "name": "python3",
   "display_name": "Python 3.8.10 64-bit"
  },
  "interpreter": {
   "hash": "31f2aee4e71d21fbe5cf8b01ff0e069b9275f58929596ceb00d14d90e3e16cd6"
  }
 },
 "nbformat": 4,
 "nbformat_minor": 2
}