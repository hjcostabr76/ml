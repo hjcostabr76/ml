{
 "cells": [
  {
   "cell_type": "markdown",
   "metadata": {},
   "source": [
    "### Imports"
   ]
  },
  {
   "cell_type": "code",
   "execution_count": null,
   "metadata": {},
   "outputs": [],
   "source": [
    "import math\n",
    "import datetime\n",
    "\n",
    "import matplotlib.pyplot as plt\n",
    "import pandas as pd\n",
    "import numpy as np"
   ]
  },
  {
   "cell_type": "markdown",
   "metadata": {},
   "source": [
    "### Constants"
   ]
  },
  {
   "cell_type": "code",
   "execution_count": null,
   "metadata": {},
   "outputs": [],
   "source": [
    "PATH_FILE_ORDER = './file/olist_orders_dataset.csv'\n",
    "PATH_FILE_ORDER_ITEM = './file/olist_order_items_dataset.csv'\n",
    "PATH_FILE_ORDER_REVIEW = './file/olist_order_reviews_dataset.csv'\n",
    "PATH_FILE_ORDER_PAYMENT = './file/olist_order_payments_dataset.csv'\n",
    "\n",
    "PATH_FILE_PROD = './file/olist_products_dataset.csv'\n",
    "PATH_FILE_SELLER = './file/olist_sellers_dataset.csv'\n",
    "PATH_FILE_CUSTOMER = './file/olist_customers_dataset.csv'\n",
    "PATH_FILE_GEOLOCATION = './file/olist_geolocation_dataset.csv'\n",
    "PATH_FILE_PROD_CATEGORY_TRANSLATE = './file/product_category_name_translation.csv'"
   ]
  },
  {
   "cell_type": "markdown",
   "metadata": {},
   "source": [
    "# Reviews"
   ]
  },
  {
   "cell_type": "markdown",
   "metadata": {},
   "source": [
    "### Constants"
   ]
  },
  {
   "cell_type": "code",
   "execution_count": null,
   "metadata": {},
   "outputs": [],
   "source": [
    "\n",
    "# Original columns\n",
    "COL_REV_ID = 'review_id'\n",
    "COL_REV_MSG = 'review_comment_message'\n",
    "COL_REV_ORDER = 'order_id'\n",
    "COL_REV_SCORE = 'review_score'\n",
    "COL_REV_TITLE = 'review_comment_title'\n",
    "COL_REV_ANSWER = 'review_answer_timestamp'\n",
    "COL_REV_CREATION = 'review_creation_date'\n",
    "\n",
    "# Custom Columns\n",
    "COL_REV_CUS_MSG_LEN = 'Message Length'"
   ]
  },
  {
   "cell_type": "markdown",
   "metadata": {},
   "source": [
    "### Build Dataframe"
   ]
  },
  {
   "cell_type": "code",
   "execution_count": null,
   "metadata": {},
   "outputs": [],
   "source": [
    "# Import file\n",
    "reviewsDF = pd.read_csv(PATH_FILE_ORDER_REVIEW)\n",
    "reviewsDFClean = reviewsDF[reviewsDF[COL_REV_MSG].notnull()]\n",
    "\n",
    "# Handle NaN values\n",
    "reviewsDF.loc[reviewsDF[COL_REV_MSG].isnull(), COL_REV_MSG] = ''\n",
    "reviewsDF.loc[reviewsDF[COL_REV_TITLE].isnull(), COL_REV_TITLE] = ''\n",
    "\n",
    "reviewsDFClean.loc[reviewsDFClean[COL_REV_TITLE].isnull(), COL_REV_TITLE] = ''\n",
    "\n",
    "# Compute review lengths\n",
    "reviewsDF[COL_REV_CUS_MSG_LEN] = reviewsDF[COL_REV_MSG].apply(lambda msg: len(msg))\n",
    "reviewsDFClean[COL_REV_CUS_MSG_LEN] = reviewsDFClean[COL_REV_MSG].apply(lambda msg: len(msg))\n",
    "\n",
    "# Format\n",
    "sort_review = [COL_REV_SCORE, COL_REV_CUS_MSG_LEN, COL_REV_CREATION, COL_REV_MSG, COL_REV_TITLE]\n",
    "# columns_review = [COL_REV_SCORE, COL_REV_CUS_MSG_LEN, COL_REV_MSG, COL_REV_TITLE]\n",
    "reviewsDF = reviewsDF.sort_values(by=sort_review, ascending=False)\n",
    "reviewsDFClean = reviewsDFClean.sort_values(by=sort_review, ascending=False)\n"
   ]
  },
  {
   "cell_type": "markdown",
   "metadata": {},
   "source": [
    "### Statistics"
   ]
  },
  {
   "cell_type": "code",
   "execution_count": null,
   "metadata": {},
   "outputs": [],
   "source": [
    "reviewsCount = reviewsDF.shape[0]\n",
    "noMsgReviewsCount = reviewsDF.loc[reviewsDF[COL_REV_CUS_MSG_LEN] == 0].shape[0]\n",
    "noMsgReviewsRatio = round(noMsgReviewsCount / reviewsCount * 100, 2)\n",
    "\n",
    "print(f'Reviews: {reviewsCount}')\n",
    "print(f'Empty message reviews: {noMsgReviewsCount} / {reviewsCount} ({noMsgReviewsRatio}%)')\n",
    "\n",
    "scoreValues = sorted(reviewsDF[COL_REV_SCORE].unique())\n",
    "for score in scoreValues:\n",
    "\n",
    "    scoredDF = reviewsDF.loc[reviewsDF[COL_REV_SCORE] == score]\n",
    "\n",
    "    scoredCount = scoredDF.shape[0]\n",
    "    scoredRatio = round(scoredCount / reviewsCount * 100, 2)\n",
    "    noMsgScoredCount = scoredDF.loc[reviewsDF[COL_REV_CUS_MSG_LEN] == 0].shape[0]\n",
    "    noMsgScoredRation = round(noMsgScoredCount / scoredCount * 100, 2)\n",
    "\n",
    "    print(f'{score} Score: {scoredCount} / {reviewsCount} ({scoredRatio}%)')\n",
    "    print(f'\\tNo message: {noMsgScoredCount} / {scoredCount} ({noMsgScoredRation}%)')"
   ]
  },
  {
   "cell_type": "markdown",
   "metadata": {},
   "source": [
    "### Plots"
   ]
  },
  {
   "cell_type": "code",
   "execution_count": null,
   "metadata": {},
   "outputs": [],
   "source": [
    "\n",
    "# Build grid\n",
    "figure = plt.figure(figsize=(26, 8))\n",
    "\n",
    "a11 = plt.subplot2grid((2, 4), (0, 0), fig=figure)\n",
    "a12 = plt.subplot2grid((2, 4), (0, 1), fig=figure)\n",
    "a13 = plt.subplot2grid((2, 4), (0, 2), fig=figure)\n",
    "\n",
    "a14 = plt.subplot2grid((2, 4), (0, 3), fig=figure, rowspan=2)\n",
    "\n",
    "a21 = plt.subplot2grid((2, 4), (1, 0), fig=figure)\n",
    "a22 = plt.subplot2grid((2, 4), (1, 1), fig=figure)\n",
    "a23 = plt.subplot2grid((2, 4), (1, 2), fig=figure)\n",
    "\n",
    "# Bars graph: Total of review per each score.\n",
    "bars = pd.DataFrame({\n",
    "        'reviews': [\n",
    "            reviewsDF[reviewsDF[COL_REV_SCORE] == 1].shape[0],\n",
    "            reviewsDF[reviewsDF[COL_REV_SCORE] == 2].shape[0],\n",
    "            reviewsDF[reviewsDF[COL_REV_SCORE] == 3].shape[0],\n",
    "            reviewsDF[reviewsDF[COL_REV_SCORE] == 4].shape[0],\n",
    "            reviewsDF[reviewsDF[COL_REV_SCORE] == 5].shape[0],\n",
    "        ]\n",
    "    },\n",
    "    index=[1, 2, 3, 4, 5],\n",
    ")\n",
    "\n",
    "bars.plot.bar(ax=a14, title='Review Scores', color='cyan')\n",
    "\n",
    "# Bars graph: Show proportion of reviews with or without comments per each score level.\n",
    "yes = []\n",
    "no = []\n",
    "scores = []\n",
    "\n",
    "for i in range(1, 6):\n",
    "    _yes = reviewsDF[(reviewsDF[COL_REV_SCORE] == i) & (reviewsDF[COL_REV_CUS_MSG_LEN] > 0)].shape[0]\n",
    "    _no = reviewsDF[(reviewsDF[COL_REV_SCORE] == i) & (reviewsDF[COL_REV_CUS_MSG_LEN] == 0)].shape[0]\n",
    "    total = _yes + _no\n",
    "\n",
    "    scores.append('Score: 0' + str(i))\n",
    "    yes.append(_yes)\n",
    "    no.append(_no)\n",
    "\n",
    "barh = pd.DataFrame({ 'Yes': yes, 'No': no }, index=scores)\n",
    "barh.plot.barh(\n",
    "    ax=a13,\n",
    "    title='Comments proportion by each score',\n",
    "    color={ 'Yes': 'green', 'No': 'orange', 'AVG': 'c'},\n",
    ")\n",
    "\n",
    "# Histograms: Show length of commentaries per each review score level\n",
    "figPositionMap = {\n",
    "    1: a11, 2: a12,\n",
    "    3: a21, 4: a22, 5: a23,\n",
    "}\n",
    "\n",
    "for i in range(1, 6):\n",
    "    a = figPositionMap.get(i)\n",
    "    a.hist(reviewsDFClean[reviewsDFClean[COL_REV_SCORE] == i][COL_REV_CUS_MSG_LEN].values, bins=15, facecolor='y', snap=False)\n",
    "    a.set_title('Score ' + str(i))\n",
    "\n",
    "figure.suptitle('Comment X Reviews')\n",
    "figure.show()"
   ]
  },
  {
   "cell_type": "markdown",
   "metadata": {},
   "source": [
    "# Orders"
   ]
  },
  {
   "cell_type": "markdown",
   "metadata": {},
   "source": [
    "### Constants"
   ]
  },
  {
   "cell_type": "code",
   "execution_count": null,
   "metadata": {},
   "outputs": [],
   "source": [
    "\n",
    "# Original columns: Orders\n",
    "COL_ORD_ID = 'order_id'\n",
    "COL_ORD_STATUS = 'order_status'\n",
    "COL_ORD_CUSTOMER = 'customer_id'\n",
    "\n",
    "COL_ORD_DATE_BUY = 'order_purchase_timestamp'\n",
    "COL_ORD_DATE_APPROV = 'order_approved_at'\n",
    "COL_ORD_DATE_CARRIER = 'order_delivered_carrier_date'\n",
    "COL_ORD_DATE_DELIVER = 'order_delivered_customer_date'\n",
    "COL_ORD_DATE_DELIVER_EST = 'order_estimated_delivery_date'\n",
    "\n",
    "# Original columns: Order Items\n",
    "COL_ORD_ITEM_ID = 'order_item_id'\n",
    "COL_ORD_ITEM_PROD = 'product_id'\n",
    "COL_ORD_ITEM_PRICE = 'price'\n",
    "COL_ORD_ITEM_ORDER = 'order_id'\n",
    "COL_ORD_ITEM_SELLER = 'seller_id'\n",
    "COL_ORD_ITEM_FREIGHT = 'freight_value'\n",
    "COL_ORD_ITEM_DATE_SHIP_LIMIT = 'shipping_limit_date'\n",
    "\n",
    "# Custom columns\n",
    "COL_ORD_CUS_TIME_DELAY = 'Delivery Delay'\n",
    "COL_ORD_CUS_TIME_DELIVER = 'Time to Deliver'\n",
    "COL_ORD_CUS_PRICE = 'Order Price'\n",
    "COL_ORD_CUS_FREIGHT = 'Order Freight'\n",
    "\n",
    "# Status\n",
    "STATUS_ORD_APPROV = 'approved'\n",
    "STATUS_ORD_CANCEL = 'canceled'\n",
    "STATUS_ORD_CREATED = 'created'\n",
    "STATUS_ORD_DELIVERED = 'delivered'\n",
    "STATUS_ORD_INVOICED = 'invoiced'\n",
    "STATUS_ORD_PROCESSING = 'processing'\n",
    "STATUS_ORD_SHIPPED = 'shipped'\n",
    "STATUS_ORD_UNAVAILABLE = 'unavailable'\n",
    "\n",
    "# Rename\n",
    "sortOrder = [COL_ORD_STATUS, COL_ORD_CUS_TIME_DELAY, COL_ORD_CUS_TIME_DELIVER, COL_ORD_CUS_FREIGHT, COL_ORD_CUS_PRICE]\n",
    "\n",
    "columnsOrder = [\n",
    "    COL_ORD_STATUS,\n",
    "    COL_ORD_DATE_BUY, COL_ORD_DATE_DELIVER_EST, COL_ORD_DATE_DELIVER,\n",
    "    COL_ORD_CUS_TIME_DELIVER, COL_ORD_CUS_TIME_DELAY,\n",
    "    COL_ORD_CUS_PRICE, COL_ORD_CUS_FREIGHT\n",
    "]\n"
   ]
  },
  {
   "cell_type": "markdown",
   "metadata": {},
   "source": [
    "### Utils"
   ]
  },
  {
   "cell_type": "code",
   "execution_count": null,
   "metadata": {},
   "outputs": [],
   "source": [
    "\n",
    "def getDaysInterval(mainDate: datetime.date, relativeDate: datetime.date = None, isRelativeToToday = True):\n",
    "    '''\n",
    "        TODO: 2021-10-14 - ADD Description\n",
    "    '''\n",
    "\n",
    "    upperDate = datetime.datetime.today() if isRelativeToToday else relativeDate\n",
    "    return math.floor((upperDate - mainDate) / np.timedelta64(1,'D'))\n",
    "\n",
    "\n",
    "\n",
    "def getDaysDelay(maxDate: datetime.date, deliveryDate: np.datetime64 = None):\n",
    "    '''\n",
    "        TODO: 2021-10-14 - ADD Description\n",
    "    '''\n",
    "\n",
    "    upperDate = deliveryDate or datetime.datetime.today()\n",
    "    isDelayed = upperDate > maxDate\n",
    "    return getDaysInterval(deliveryDate, upperDate, False) if isDelayed else 0\n",
    "\n",
    "def setDeliveryDays(df: pd.DataFrame) -> pd.Series:\n",
    "    '''\n",
    "        TODO: 2021-10-14 - ADD Description\n",
    "    '''\n",
    "    \n",
    "    return np.vectorize(getDaysInterval)(\n",
    "        df[COL_ORD_DATE_DELIVER_EST],\n",
    "        df[COL_ORD_DATE_DELIVER],\n",
    "        df[COL_ORD_STATUS] != STATUS_ORD_DELIVERED,\n",
    "    )\n",
    "\n",
    "\n",
    "def setDelayDays(df: pd.DataFrame) -> pd.Series:\n",
    "    '''\n",
    "        TODO: 2021-10-14 - ADD Description\n",
    "    '''\n",
    "    \n",
    "    return np.vectorize(getDaysDelay)(\n",
    "        df[COL_ORD_DATE_DELIVER_EST],\n",
    "        df[COL_ORD_DATE_DELIVER],\n",
    "    )\n",
    "\n",
    "def getOrderPrice(source: pd.Series, orderID: str) -> float:\n",
    "    '''\n",
    "        TODO: 2021-10-15 - ADD Description\n",
    "    '''\n",
    "    \n",
    "    try:\n",
    "        return source.loc[orderID]\n",
    "    except KeyError:\n",
    "        return 0"
   ]
  },
  {
   "cell_type": "markdown",
   "metadata": {},
   "source": [
    "### Build Dataframe"
   ]
  },
  {
   "cell_type": "code",
   "execution_count": null,
   "metadata": {},
   "outputs": [],
   "source": [
    "\n",
    "# Import files\n",
    "dateColumns = [COL_ORD_DATE_BUY, COL_ORD_DATE_DELIVER, COL_ORD_DATE_DELIVER_EST]\n",
    "\n",
    "ordersDF = pd.read_csv(PATH_FILE_ORDER, parse_dates=dateColumns)\n",
    "orderItemDF = pd.read_csv(PATH_FILE_ORDER_ITEM)\n",
    "\n",
    "# Clean data: Step 01 (remove inconsistent & unavailable data)\n",
    "ordersDF = ordersDF[\n",
    "  (ordersDF[COL_ORD_STATUS] != STATUS_ORD_UNAVAILABLE)\n",
    "  & ~((ordersDF[COL_ORD_STATUS] == STATUS_ORD_DELIVERED) & (ordersDF[COL_ORD_DATE_DELIVER].isnull())) # Avoid failure on time interval calculations\n",
    "]\n",
    "\n",
    "# Add calculated interval fields \n",
    "ordersDF[COL_ORD_CUS_TIME_DELAY] = setDelayDays(ordersDF)\n",
    "ordersDF[COL_ORD_CUS_TIME_DELIVER] = setDeliveryDays(ordersDF)\n",
    "\n",
    "# Clean data: Step 02 (keep only orders unfinished or finished with consistent data)\n",
    "endStatuses = [STATUS_ORD_CANCEL, STATUS_ORD_DELIVERED, STATUS_ORD_UNAVAILABLE]\n",
    "midStatuses = [STATUS_ORD_CREATED, STATUS_ORD_APPROV, STATUS_ORD_INVOICED, STATUS_ORD_PROCESSING, STATUS_ORD_SHIPPED]\n",
    "\n",
    "ordersDF = ordersDF[\n",
    "    (ordersDF[COL_ORD_CUS_TIME_DELAY] >= 0) | (ordersDF[COL_ORD_CUS_TIME_DELIVER] >= 0)\n",
    "    | ~ordersDF[COL_ORD_STATUS].isin(endStatuses)\n",
    "]\n",
    "\n",
    "# Add order price & freight price\n",
    "# productMeanPrice = orderItemDF[ [COL_ORD_ITEM_PROD, COL_ORD_ITEM_PRICE] ].groupby(COL_ORD_ITEM_PROD).mean().sort_values(by=COL_ORD_ITEM_PROD)\n",
    "orderFreight = orderItemDF[ [COL_ORD_ITEM_ORDER, COL_ORD_ITEM_FREIGHT] ].groupby(COL_ORD_ITEM_ORDER).sum().sort_values(by=COL_ORD_ITEM_ORDER)\n",
    "orderPrice = orderItemDF[ [COL_ORD_ITEM_ORDER, COL_ORD_ITEM_PRICE] ].groupby(COL_ORD_ITEM_ORDER).sum().sort_values(by=COL_ORD_ITEM_ORDER)\n",
    "\n",
    "ordersDF[COL_ORD_CUS_FREIGHT] = ordersDF[COL_ORD_ID].apply(lambda id: getOrderPrice(orderFreight[COL_ORD_ITEM_FREIGHT], id))\n",
    "ordersDF[COL_ORD_CUS_PRICE] = ordersDF[COL_ORD_ID].apply(lambda id: getOrderPrice(orderPrice[COL_ORD_ITEM_PRICE], id))\n",
    "\n",
    "ordersDF = ordersDF.sort_values(by=sortOrder, ascending=True, na_position='first')"
   ]
  }
 ],
 "metadata": {
  "interpreter": {
   "hash": "31f2aee4e71d21fbe5cf8b01ff0e069b9275f58929596ceb00d14d90e3e16cd6"
  },
  "kernelspec": {
   "display_name": "Python 3.8.9 64-bit",
   "name": "python3"
  },
  "language_info": {
   "codemirror_mode": {
    "name": "ipython",
    "version": 3
   },
   "file_extension": ".py",
   "mimetype": "text/x-python",
   "name": "python",
   "nbconvert_exporter": "python",
   "pygments_lexer": "ipython3",
   "version": "3.8.9"
  },
  "orig_nbformat": 4
 },
 "nbformat": 4,
 "nbformat_minor": 2
}
