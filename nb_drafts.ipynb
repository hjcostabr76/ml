{
 "cells": [
  {
   "cell_type": "markdown",
   "metadata": {},
   "source": [
    "### Normal Distribution: Multivariate"
   ]
  },
  {
   "cell_type": "markdown",
   "metadata": {},
   "source": [
    "Imports"
   ]
  },
  {
   "cell_type": "code",
   "execution_count": 3,
   "metadata": {},
   "outputs": [],
   "source": [
    "import numpy as np"
   ]
  },
  {
   "cell_type": "code",
   "execution_count": 19,
   "metadata": {},
   "outputs": [
    {
     "data": {
      "text/plain": [
       "0.0"
      ]
     },
     "execution_count": 19,
     "metadata": {},
     "output_type": "execute_result"
    }
   ],
   "source": [
    "def getDeterminant(matrix: np.array, smallVariation = 0.006) -> float:\n",
    "    det = np.linalg.det(matrix)\n",
    "    if det == 0:\n",
    "        nRows, nCols = matrix.shape    \n",
    "        matrix += smallVariation * np.identity(nCols)\n",
    "        det = np.linalg.det(matrix)\n",
    "    return det\n",
    "\n",
    "def getMultivariateDensity(x: np.matrix, mu: np.matrix, cov: np.array) -> float:\n",
    "    nFeatures = len(x)\n",
    "    diff = (x - mu).reshape( (nFeatures, 1) )\n",
    "    numerator = np.exp(-.5 * (diff.T @ np.linalg.inv(cov) @ diff) )\n",
    "    denominator = np.sqrt((2*np.pi)**nFeatures * getDeterminant(cov))\n",
    "    return float(numerator / denominator)\n",
    "\n",
    "\n",
    "X = np.array([ [12.4, 15.3], [11.4, 5.3] ])\n",
    "mu = X.mean(0)\n",
    "cov = np.cov(X)\n",
    "getMultivariateDensity(X[0, :], mu, cov)"
   ]
  },
  {
   "cell_type": "markdown",
   "metadata": {},
   "source": [
    "## File"
   ]
  },
  {
   "cell_type": "code",
   "execution_count": null,
   "metadata": {},
   "outputs": [],
   "source": [
    "url = 'https://ai.stanford.edu/~amaas/data/sentiment/aclImdb_v1.tar.gz'\n",
    "\n",
    "dataset = tf.keras.utils.get_file('aclImdb_v1.tar.gz', url, untar=True, cache_dir='.', cache_subdir='')\n",
    "dataset_dir = os.path.join(os.path.dirname(dataset), 'aclImdb')\n",
    "train_dir = os.path.join(dataset_dir, 'train')\n",
    "\n",
    "# remove unused folders to make it easier to load the data\n",
    "remove_dir = os.path.join(train_dir, 'unsup')\n",
    "shutil.rmtree(remove_dir)"
   ]
  }
 ],
 "metadata": {
  "interpreter": {
   "hash": "916dbcbb3f70747c44a77c7bcd40155683ae19c65e1c03b4aa3499c5328201f1"
  },
  "kernelspec": {
   "display_name": "Python 3.8.10 64-bit",
   "language": "python",
   "name": "python3"
  },
  "language_info": {
   "codemirror_mode": {
    "name": "ipython",
    "version": 3
   },
   "file_extension": ".py",
   "mimetype": "text/x-python",
   "name": "python",
   "nbconvert_exporter": "python",
   "pygments_lexer": "ipython3",
   "version": "3.8.10"
  },
  "orig_nbformat": 4
 },
 "nbformat": 4,
 "nbformat_minor": 2
}
