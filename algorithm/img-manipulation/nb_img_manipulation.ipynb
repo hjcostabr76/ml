{
 "cells": [
  {
   "cell_type": "code",
   "execution_count": 1,
   "metadata": {},
   "outputs": [],
   "source": [
    "import numpy as np\n",
    "import pandas as pd\n",
    "from matplotlib import pyplot as plt\n",
    "from collections import defaultdict\n",
    "from scipy.io import loadmat  # this is the SciPy module that loads mat-files\n",
    "from functools import partial\n",
    "import random\n",
    "#import cv2\n",
    "from PIL import Image\n",
    "import matplotlib.image as mpimg\n",
    "from scipy.spatial.distance import cdist"
   ]
  },
  {
   "cell_type": "markdown",
   "metadata": {},
   "source": [
    "#### Carregar as fotos\n",
    "Carrega a foto, reescalona (resize) e retorna o seu formato em RGB."
   ]
  },
  {
   "cell_type": "code",
   "execution_count": 2,
   "metadata": {},
   "outputs": [],
   "source": [
    "def photo_open(filename, rescale=1):\n",
    "    photo = Image.open(filename)\n",
    "    photo = photo.convert('RGB')\n",
    "    photo =photo.resize( ( int(photo.size[0]/rescale), int(photo.size[1]/rescale) ), Image.ANTIALIAS)\n",
    "    return photo"
   ]
  },
  {
   "cell_type": "markdown",
   "metadata": {},
   "source": [
    "#### Carregar os pixels RGB da imagem\n",
    "\n",
    "retorna um DataFrame com as coordenadas RGB da imagem."
   ]
  },
  {
   "cell_type": "code",
   "execution_count": 3,
   "metadata": {},
   "outputs": [],
   "source": [
    "def pick_pixels(photo):\n",
    "    n , m = photo.size\n",
    "    ibagem = []\n",
    "    pixels = photo.load()\n",
    "    for i in range(n):\n",
    "        for j in range(m):\n",
    "            ibagem.append(list(pixels[i,j]) )\n",
    "    return pd.DataFrame(ibagem)"
   ]
  },
  {
   "cell_type": "markdown",
   "metadata": {},
   "source": [
    "#### Colorir a imagem\n",
    "Colore a imagem com as respectivas cores dos centroides. "
   ]
  },
  {
   "cell_type": "code",
   "execution_count": 4,
   "metadata": {},
   "outputs": [],
   "source": [
    "def coloring(photo, labels, centers, rescale=1):\n",
    "    n, m = photo.size\n",
    "    pixels = photo.load()\n",
    "    for i in range(n):\n",
    "        for j in range(m):\n",
    "            numb = [int(number) for number in centers[labels[i*m + j]] ] \n",
    "            pixels[i,j]= tuple(numb)\n",
    "    photo = photo.resize( (int( photo.size[0]*rescale), int(photo.size[1]*rescale)), Image.ANTIALIAS)\n",
    "    return photo"
   ]
  },
  {
   "cell_type": "markdown",
   "metadata": {},
   "source": [
    "### Exemplo de Fluxo de Execução\n",
    "Isto deve ser feito para cada imagem"
   ]
  },
  {
   "cell_type": "code",
   "execution_count": 7,
   "metadata": {},
   "outputs": [
    {
     "ename": "NameError",
     "evalue": "name 'KMeans' is not defined",
     "output_type": "error",
     "traceback": [
      "\u001b[0;31m---------------------------------------------------------------------------\u001b[0m",
      "\u001b[0;31mNameError\u001b[0m                                 Traceback (most recent call last)",
      "Cell \u001b[0;32mIn [7], line 4\u001b[0m\n\u001b[1;32m      2\u001b[0m photo \u001b[38;5;241m=\u001b[39m photo_open(filename\u001b[38;5;241m=\u001b[39m\u001b[38;5;124m'\u001b[39m\u001b[38;5;124mfile/image-test/photo001.jpg\u001b[39m\u001b[38;5;124m'\u001b[39m)\n\u001b[1;32m      3\u001b[0m pixels \u001b[38;5;241m=\u001b[39m pick_pixels(photo)\n\u001b[0;32m----> 4\u001b[0m labels, centers \u001b[38;5;241m=\u001b[39m \u001b[43mKMeans\u001b[49m(k \u001b[38;5;241m=\u001b[39m \u001b[38;5;241m4\u001b[39m)     \u001b[38;5;66;03m#....  chama o KMeans ou Fuzzy-CMeans \u001b[39;00m\n\u001b[1;32m      5\u001b[0m photo \u001b[38;5;241m=\u001b[39m coloring(photo, labels, centers)\n",
      "\u001b[0;31mNameError\u001b[0m: name 'KMeans' is not defined"
     ]
    }
   ],
   "source": [
    "# código exemplo\n",
    "photo = photo_open(filename='file/image-test/photo001.jpg')\n",
    "pixels = pick_pixels(photo)\n",
    "labels, centers = KMeans(k = 4)     #....  chama o KMeans ou Fuzzy-CMeans \n",
    "photo = coloring(photo, labels, centers)"
   ]
  }
 ],
 "metadata": {
  "kernelspec": {
   "display_name": "Python 3.10.4 64-bit",
   "language": "python",
   "name": "python3"
  },
  "language_info": {
   "codemirror_mode": {
    "name": "ipython",
    "version": 3
   },
   "file_extension": ".py",
   "mimetype": "text/x-python",
   "name": "python",
   "nbconvert_exporter": "python",
   "pygments_lexer": "ipython3",
   "version": "3.10.4"
  },
  "vscode": {
   "interpreter": {
    "hash": "916dbcbb3f70747c44a77c7bcd40155683ae19c65e1c03b4aa3499c5328201f1"
   }
  }
 },
 "nbformat": 4,
 "nbformat_minor": 4
}
