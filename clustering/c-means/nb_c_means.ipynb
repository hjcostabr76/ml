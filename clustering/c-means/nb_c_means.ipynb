{
 "cells": [
  {
   "cell_type": "markdown",
   "metadata": {},
   "source": [
    "# Fuzzy C Means\n",
    "    Clustering algorithm testing"
   ]
  },
  {
   "cell_type": "code",
   "execution_count": null,
   "metadata": {},
   "outputs": [],
   "source": [
    "import os\n",
    "\n",
    "import matplotlib.pyplot as plt\n",
    "import pandas as pd\n",
    "import numpy as np\n",
    "\n",
    "from PIL import Image\n",
    "from FuzzyCMeans import FuzzyCMeans"
   ]
  },
  {
   "cell_type": "markdown",
   "metadata": {},
   "source": [
    "### 04 groups example\n",
    "    Run clustering example against a test dataset of points visually distributed among 04 groups"
   ]
  },
  {
   "cell_type": "code",
   "execution_count": null,
   "metadata": {},
   "outputs": [],
   "source": [
    "\n",
    "# Read dataset\n",
    "df = pd.read_csv(filepath_or_buffer='./file/ds-fcm.csv', header=None, names=['x', 'y'])\n",
    "\n",
    "# Determine centroids\n",
    "k = 4\n",
    "cMeans = FuzzyCMeans(X=df.values, k=k, m=2, maxDelta=.001, maxEpochs=1000)\n",
    "centroids = cMeans.fit().getCentroids()\n",
    "\n",
    "# Plotting parameters\n",
    "radius = .5\n",
    "centroidColors = ['r', 'y', 'm', 'g']\n",
    "\n",
    "minX = np.min(centroids[:, 0])\n",
    "maxX = np.max(centroids[:, 0])\n",
    "minY = np.min(centroids[:, 1])\n",
    "maxY = np.max(centroids[:, 1])\n",
    "\n",
    "graphPadding = .2 + radius\n",
    "xRange = (minX - graphPadding, maxX + graphPadding)\n",
    "yRange = (minY - graphPadding, maxY + graphPadding)\n",
    "\n",
    "aux = 5\n",
    "sizeR = aux * (yRange[1] - yRange[0])\n",
    "sizeC = aux * (xRange[1] - xRange[0])\n",
    "\n",
    "# Plot centroids\n",
    "plt.figure(figsize=(sizeR, sizeC))\n",
    "ax = plt.gca()\n",
    "\n",
    "ax.cla() # Clear (what?) things\n",
    "ax.set_xlim(xRange)\n",
    "ax.set_ylim(yRange)\n",
    "\n",
    "for j in range(k):\n",
    "    x, y = centroids[j, :]\n",
    "    circle = plt.Circle((x, y), radius, color=centroidColors[j], fill=False)\n",
    "    ax.add_patch(circle)\n",
    "\n",
    "# Plot points\n",
    "plt.scatter(df['x'].values, df['y'].values, color='w', marker='.')"
   ]
  },
  {
   "cell_type": "markdown",
   "metadata": {},
   "source": [
    "## Semantic Segmentation\n",
    "    TODO: ADD Description"
   ]
  },
  {
   "cell_type": "markdown",
   "metadata": {},
   "source": [
    "### Utils"
   ]
  },
  {
   "cell_type": "code",
   "execution_count": null,
   "metadata": {},
   "outputs": [],
   "source": [
    "\n",
    "def getImg(fileName: str, rescale: float = 1) -> Image:\n",
    "    '''\n",
    "        Returns an object representing the files image as a multi dimensional matrix.\n",
    "    '''\n",
    "\n",
    "    photo = Image.open(fileName).convert('RGB')\n",
    "    height, width = photo.size\n",
    "    imgSize = (int(height / rescale), int(width / rescale))\n",
    "    return photo.resize(imgSize, Image.ANTIALIAS)\n",
    "\n",
    "def getPixelsDataFrame(img: Image) -> pd.DataFrame:\n",
    "    '''\n",
    "        Returns a 02 dimensions matrix data frame of the image pixels.\n",
    "        Shape: [rows]*[columns] lines X 03 columns (r, g, and b);\n",
    "\n",
    "        - img: The image object that represents it as a multi dimensional matrix: [rows] X [columns] X [rgb channels];\n",
    "    '''\n",
    "    \n",
    "    pixelsMultiD = np.asarray(img)\n",
    "    height, width, _ = pixelsMultiD.shape\n",
    "    rows = height * width\n",
    "\n",
    "    pixels2d = np.zeros( (rows, 3) )\n",
    "\n",
    "    for i in range(height):\n",
    "        lower = i * width\n",
    "        upper = lower + width\n",
    "\n",
    "        pixels2d[lower:upper, 0] = pixelsMultiD[i, :, 0] # red\n",
    "        pixels2d[lower:upper, 1] = pixelsMultiD[i, :, 1] # green\n",
    "        pixels2d[lower:upper, 2] = pixelsMultiD[i, :, 2] # blue\n",
    "\n",
    "    return pd.DataFrame(pixels2d, columns=['r', 'g', 'b'])"
   ]
  },
  {
   "cell_type": "markdown",
   "metadata": {},
   "source": [
    "### Main"
   ]
  },
  {
   "cell_type": "code",
   "execution_count": null,
   "metadata": {},
   "outputs": [],
   "source": [
    "# Set parameters\n",
    "PATH_IMG_DIR = './file/image-test/'\n",
    "imgConfigs = [\n",
    "    { 'name': 'photo001.jpg', 'k': 10 },\n",
    "]\n",
    "\n",
    "# Open image\n",
    "imgConfig = imgConfigs[0]\n",
    "fileName = os.path.join(PATH_IMG_DIR, imgConfig.get('name'))\n",
    "img = getImg(fileName=fileName, rescale=1)\n",
    "pixelsDF = getPixelsDataFrame(img)\n",
    "\n",
    "# Determine centroids\n",
    "partition = pixelsDF.values / 255\n",
    "cMeans = FuzzyCMeans(X=pixelsDF.values, k=imgConfig.get('k'), m=2, maxDelta=.02, maxEpochs=1000, partition=partition)\n",
    "# centroids = cMeans.fit().getCentroids()\n",
    "centroids = cMeans.getCentroids()\n",
    "\n",
    "# Config plotting\n",
    "fig = plt.figure(figsize=(20, 15))\n",
    "ax = fig.add_subplot(projection='3d')\n",
    "\n",
    "ax.azim = -45\n",
    "ax.elev = 10\n",
    "ax.dist = 9\n",
    "\n",
    "ax.set_xlabel('r')\n",
    "ax.set_ylabel('g')\n",
    "ax.set_zlabel('b')\n",
    "\n",
    "# Plot pixels in 3d space\n",
    "ax.scatter(pixelsDF['r'].values, pixelsDF['g'].values, pixelsDF['b'].values, marker='.', color='b')\n",
    "\n",
    "# Plot centroids in 3d space\n",
    "ax.scatter(centroids[:, 0], centroids[:, 1], centroids[:, 2], marker='o', color='r')\n",
    "\n",
    "plt.show()"
   ]
  }
 ],
 "metadata": {
  "interpreter": {
   "hash": "916dbcbb3f70747c44a77c7bcd40155683ae19c65e1c03b4aa3499c5328201f1"
  },
  "kernelspec": {
   "display_name": "Python 3.8.10 64-bit",
   "language": "python",
   "name": "python3"
  },
  "language_info": {
   "codemirror_mode": {
    "name": "ipython",
    "version": 3
   },
   "file_extension": ".py",
   "mimetype": "text/x-python",
   "name": "python",
   "nbconvert_exporter": "python",
   "pygments_lexer": "ipython3",
   "version": "3.8.10"
  },
  "orig_nbformat": 4
 },
 "nbformat": 4,
 "nbformat_minor": 2
}
