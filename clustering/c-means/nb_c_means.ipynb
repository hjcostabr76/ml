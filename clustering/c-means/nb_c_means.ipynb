{
 "cells": [
  {
   "cell_type": "markdown",
   "metadata": {},
   "source": [
    "TODO: ADD Description"
   ]
  },
  {
   "cell_type": "code",
   "execution_count": 28,
   "metadata": {},
   "outputs": [
    {
     "data": {
      "text/plain": [
       "0.2445444198310759"
      ]
     },
     "execution_count": 28,
     "metadata": {},
     "output_type": "execute_result"
    }
   ],
   "source": [
    "import math\n",
    "import datetime\n",
    "import random\n",
    "\n",
    "import matplotlib.pyplot as plt\n",
    "import pandas as pd\n",
    "import numpy as np\n",
    "\n",
    "\n",
    "random.random()"
   ]
  },
  {
   "cell_type": "code",
   "execution_count": 128,
   "metadata": {},
   "outputs": [],
   "source": [
    "\n",
    "def getEuclideanDistance(v1: list, v2: list) -> float:\n",
    "\tdistance = 0.0\n",
    "\tfor i in range(len(v1)):\n",
    "\t\tdistance += (v1[i] - v2[i])**2\n",
    "\treturn math.sqrt(distance)\n",
    "\n",
    "def getNumbersSummingToOne(count: int) -> list:\n",
    "    r = [random.random() for i in range(0, count)]\n",
    "    randomSum = sum(r)\n",
    "    return [ i / randomSum for i in r ]\n",
    "\n"
   ]
  },
  {
   "cell_type": "markdown",
   "metadata": {},
   "source": [
    "Import DS"
   ]
  },
  {
   "cell_type": "code",
   "execution_count": 111,
   "metadata": {},
   "outputs": [],
   "source": [
    "PATH_FILE_DS = './file/ds-fcm.csv'\n",
    "df = pd.read_csv(PATH_FILE_DS, header=None, names=['x', 'y'])\n",
    "\n",
    "'''\n",
    "    TODO: 2021-11-27 - Use the whole DF\n",
    "'''\n",
    "df = df.loc[0:30]\n"
   ]
  },
  {
   "cell_type": "code",
   "execution_count": 114,
   "metadata": {},
   "outputs": [
    {
     "data": {
      "text/plain": [
       "array([0., 0.])"
      ]
     },
     "execution_count": 114,
     "metadata": {},
     "output_type": "execute_result"
    }
   ],
   "source": [
    "def getCentroid(X: np.array, uColumn: np.array, m: int) -> np.array:\n",
    "    '''\n",
    "        Calculates coordinates of one of the k centroids.\n",
    "\n",
    "        - X: Inputs data matrix;\n",
    "        - uColumn: Weights Column: 01 column of the partition Matrix that holds the current weights of the k-th class for each i-th point;\n",
    "        - m: Centroid calculation parameter;\n",
    "    '''\n",
    "\n",
    "    poweredU = np.power(uColumn, m)\n",
    "    weightedX = poweredU * X\n",
    "    dimension = X.shape[1]\n",
    "    centroid = np.zeros(dimension)\n",
    "    for i in range(dimension):\n",
    "        centroid[i] = weightedX[:, i].sum() / poweredU\n",
    "    return centroid\n",
    "\n",
    "\n",
    "def getCentroids(X: np.array, U: np.array, m: int, k: int) -> np.array:\n",
    "    '''\n",
    "        Calculates and return the coordinates of all k centroids.\n",
    "    '''\n",
    "\n",
    "    dimension = X.shape[1]\n",
    "    centroids = np.zeros(k, dimension)\n",
    "    for i in range(k):\n",
    "        uColumn = U[:, i]\n",
    "        centroids[i, :] = getCentroid(X=X, uColumn=uColumn, m=m)\n",
    "    \n",
    "    return centroids\n",
    "\n",
    "def getPartitionMatrix(X: np.array, centroids: np.array, m: int) -> n.array:\n",
    "    '''\n",
    "        TODO: 2021-11-29 - ADD Description\n",
    "    '''\n",
    "    \n",
    "    # Build matrix of squared euclidean distances (of each row related to each centroid)\n",
    "    getRowSquaredDistances = lambda x: [getEuclideanDistance(x, c)**2 for c in centroids]\n",
    "    squaredDistances = np.apply_along_axis(lambda x: getRowSquaredDistances(x), 1, X)\n",
    "\n",
    "    # Build U: Partition matrix\n",
    "    squaredDistSum = squaredDistances.sum(axis=1)\n",
    "    getMembershipDegree = lambda dist, allDistancesSum: 1 / (dist / allDistancesSum)**(2 / (m - 1))\n",
    "    getPartitionRow = lambda row: [getMembershipDegree(dist, squaredDistSum[i]) for i, dist in enumerate(row)]\n",
    "    return np.apply_along_axis(lambda x: getPartitionRow(x), 1, squaredDistances)\n",
    "\n",
    "\n",
    "k = 4\n",
    "m = 2\n",
    "n = df.shape[0]\n",
    "maxEpochs = 1000\n",
    "\n",
    "# Gerate random initial U\n",
    "U = np.zeros( (n, k) )\n",
    "U = np.apply_along_axis(lambda _: getNumbersSummingToOne(k), 1, U)\n",
    "\n",
    "haveChanged = True\n",
    "epoch = 0\n",
    "\n",
    "while haveChanged and epoch < maxEpochs:\n",
    "    epoch = epoch + 1\n",
    "\n",
    "    # Calculate centroids\n",
    "    centroids = getCentroids(X=df.values, U=U, m=m, k=k)\n",
    "\n",
    "    # Update clustering\n",
    "    newU = getPartitionMatrix(X=df.values, centroids=centroids, m=m)\n",
    "    diff = U != newU\n",
    "    U = newU\n",
    "\n",
    "    haveChanged = np.sum(diff, dtype=int) > 0\n"
   ]
  },
  {
   "cell_type": "code",
   "execution_count": 157,
   "metadata": {},
   "outputs": [
    {
     "name": "stdout",
     "output_type": "stream",
     "text": [
      "2\n",
      "2\n",
      "2\n",
      "2\n"
     ]
    }
   ],
   "source": [
    "centroids = np.array([ (12, 4.5453), (8, 23.1) ])\n",
    "# X = df.values[:2, :]\n",
    "X = df.values\n",
    "cIndex = 1\n",
    "# print(X)\n",
    "# centroids\n",
    "for i in range(4):\n",
    "    print(2)\n",
    "\n"
   ]
  },
  {
   "cell_type": "code",
   "execution_count": 154,
   "metadata": {},
   "outputs": [
    {
     "ename": "TypeError",
     "evalue": "cannot unpack non-iterable int object",
     "output_type": "error",
     "traceback": [
      "\u001b[0;31m---------------------------------------------------------------------------\u001b[0m",
      "\u001b[0;31mTypeError\u001b[0m                                 Traceback (most recent call last)",
      "\u001b[0;32m/tmp/ipykernel_24051/1645188240.py\u001b[0m in \u001b[0;36m<module>\u001b[0;34m\u001b[0m\n\u001b[1;32m      4\u001b[0m \u001b[0;31m# [print(i, j) for i, j in foo]\u001b[0m\u001b[0;34m\u001b[0m\u001b[0;34m\u001b[0m\u001b[0;34m\u001b[0m\u001b[0m\n\u001b[1;32m      5\u001b[0m \u001b[0;34m\u001b[0m\u001b[0m\n\u001b[0;32m----> 6\u001b[0;31m \u001b[0;32mfor\u001b[0m \u001b[0mi\u001b[0m\u001b[0;34m,\u001b[0m \u001b[0mj\u001b[0m \u001b[0;32min\u001b[0m \u001b[0mfoo\u001b[0m\u001b[0;34m:\u001b[0m\u001b[0;34m\u001b[0m\u001b[0;34m\u001b[0m\u001b[0m\n\u001b[0m\u001b[1;32m      7\u001b[0m     \u001b[0mprint\u001b[0m\u001b[0;34m(\u001b[0m\u001b[0mi\u001b[0m\u001b[0;34m,\u001b[0m \u001b[0mj\u001b[0m\u001b[0;34m)\u001b[0m\u001b[0;34m\u001b[0m\u001b[0;34m\u001b[0m\u001b[0m\n",
      "\u001b[0;31mTypeError\u001b[0m: cannot unpack non-iterable int object"
     ]
    }
   ],
   "source": [
    "# foo = [(1, 'a'), (1, 'b'), (1, 'c')]\n",
    "foo = [1, 23, 34, 4]\n",
    "\n",
    "# [print(i, j) for i, j in foo]\n",
    "\n",
    "for i, j in e(foo):\n",
    "    print(i, j)"
   ]
  }
 ],
 "metadata": {
  "interpreter": {
   "hash": "916dbcbb3f70747c44a77c7bcd40155683ae19c65e1c03b4aa3499c5328201f1"
  },
  "kernelspec": {
   "display_name": "Python 3.8.10 64-bit",
   "language": "python",
   "name": "python3"
  },
  "language_info": {
   "codemirror_mode": {
    "name": "ipython",
    "version": 3
   },
   "file_extension": ".py",
   "mimetype": "text/x-python",
   "name": "python",
   "nbconvert_exporter": "python",
   "pygments_lexer": "ipython3",
   "version": "3.8.10"
  },
  "orig_nbformat": 4
 },
 "nbformat": 4,
 "nbformat_minor": 2
}
