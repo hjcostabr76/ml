{
 "cells": [
  {
   "cell_type": "code",
   "execution_count": 1,
   "metadata": {},
   "outputs": [],
   "source": [
    "import numpy as np\n",
    "import pandas as pd\n",
    "from matplotlib import pyplot as plt\n",
    "\n",
    "from collections import defaultdict\n",
    "from scipy.io import loadmat  # this is the SciPy module that loads mat-files\n",
    "from functools import partial\n",
    "import random\n",
    "#import cv2\n",
    "from PIL import Image\n",
    "import matplotlib.image as mpimg\n",
    "from scipy.spatial.distance import cdist"
   ]
  },
  {
   "cell_type": "markdown",
   "metadata": {},
   "source": [
    "## K-Means Algorithm \n"
   ]
  },
  {
   "cell_type": "code",
   "execution_count": null,
   "metadata": {},
   "outputs": [],
   "source": [
    "# loading data set\n",
    "# data (NxM) = DataFrame a ser clusterizado N observacoes e M features\n",
    "data = loadmat('./dataset/ds-fcm.mat')\n",
    "data = pd.DataFrame(data['x'])\n",
    "\n",
    "lendata = len(data)\n",
    "data_np = data.values\n",
    "nfeatures = data.shape[1]\n",
    "\n",
    "print('Numero de obervacoes: ', lendata)\n",
    "print('Numero de atributos (features): ', nfeatures)\n",
    "# for i in range(len(data_np)):\n",
    "#         plt.scatter(data_np[i][0], data_np[i][1], s=7, color = 'blue')"
   ]
  },
  {
   "cell_type": "code",
   "execution_count": null,
   "metadata": {},
   "outputs": [],
   "source": [
    "# Inicializacao\n",
    "# partitions: np.array(N x K) - matriz de partições (pertinencia da observacao ao K-esimo grupo)\n",
    "\n",
    "K = 4  # numero de grupos (clusters)\n",
    "\n",
    "partitions = np.zeros([lendata, K])\n",
    "idx = np.zeros(lendata)\n",
    "\n",
    "# inicializacao aleatoria da matriz de partições\n",
    "for i in range(lendata):\n",
    "    rnd = np.random.randint(K)\n",
    "    partitions[i][rnd] = 1\n",
    "    idx[i] = rnd\n"
   ]
  },
  {
   "cell_type": "code",
   "execution_count": null,
   "metadata": {},
   "outputs": [],
   "source": [
    "print(partitions)"
   ]
  },
  {
   "cell_type": "code",
   "execution_count": null,
   "metadata": {},
   "outputs": [],
   "source": [
    "print(idx)"
   ]
  },
  {
   "cell_type": "code",
   "execution_count": null,
   "metadata": {},
   "outputs": [],
   "source": [
    "# funcao que obtem os centroides\n",
    "# centroids: np.array(K x N) - centroides (K vetores de M features) de cada grupo\n",
    "def calc_centroids(data, partitions):\n",
    "    nfeatures = data.shape[1]\n",
    "    K = partitions.shape[1]\n",
    "    centroids = np.zeros([K,nfeatures])\n",
    "    data_np = data.values\n",
    "    for i in range(K):\n",
    "        idx_nonzero =  np.flatnonzero(partitions[:,i])\n",
    "        data_i = data_np[idx_nonzero,:]\n",
    "        centroids[i] = np.mean(data_i, axis=0)\n",
    "    return centroids"
   ]
  },
  {
   "cell_type": "code",
   "execution_count": null,
   "metadata": {},
   "outputs": [],
   "source": [
    "cent = np.zeros([K,nfeatures])\n",
    "cent = calc_centroids(data, partitions)\n",
    "print(cent)"
   ]
  },
  {
   "cell_type": "code",
   "execution_count": null,
   "metadata": {},
   "outputs": [],
   "source": []
  },
  {
   "cell_type": "code",
   "execution_count": null,
   "metadata": {},
   "outputs": [],
   "source": []
  },
  {
   "cell_type": "code",
   "execution_count": null,
   "metadata": {},
   "outputs": [],
   "source": []
  },
  {
   "cell_type": "code",
   "execution_count": null,
   "metadata": {},
   "outputs": [],
   "source": []
  },
  {
   "cell_type": "code",
   "execution_count": null,
   "metadata": {},
   "outputs": [],
   "source": []
  },
  {
   "cell_type": "code",
   "execution_count": null,
   "metadata": {},
   "outputs": [],
   "source": []
  },
  {
   "cell_type": "markdown",
   "metadata": {},
   "source": []
  }
 ],
 "metadata": {
  "kernelspec": {
   "display_name": "Python 3",
   "language": "python",
   "name": "python3"
  },
  "language_info": {
   "codemirror_mode": {
    "name": "ipython",
    "version": 3
   },
   "file_extension": ".py",
   "mimetype": "text/x-python",
   "name": "python",
   "nbconvert_exporter": "python",
   "pygments_lexer": "ipython3",
   "version": "3.8.10"
  }
 },
 "nbformat": 4,
 "nbformat_minor": 4
}
