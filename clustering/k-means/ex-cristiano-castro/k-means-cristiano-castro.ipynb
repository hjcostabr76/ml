{
 "cells": [
  {
   "cell_type": "code",
   "execution_count": 85,
   "metadata": {},
   "outputs": [],
   "source": [
    "import numpy as np\n",
    "import pandas as pd\n",
    "from matplotlib import pyplot as plt\n",
    "from collections import defaultdict\n",
    "from scipy.io import loadmat  # this is the SciPy module that loads mat-files\n",
    "from functools import partial\n",
    "import random\n",
    "#import cv2\n",
    "from PIL import Image\n",
    "import matplotlib.image as mpimg\n",
    "from scipy.spatial.distance import cdist"
   ]
  },
  {
   "cell_type": "markdown",
   "metadata": {},
   "source": [
    "## K-Means Algorithm \n"
   ]
  },
  {
   "cell_type": "code",
   "execution_count": 86,
   "metadata": {},
   "outputs": [
    {
     "name": "stdout",
     "output_type": "stream",
     "text": [
      "Numero de obervacoes:  800\n",
      "Numero de atributos (features):  2\n"
     ]
    },
    {
     "data": {
      "image/png": "[encoded data removed]",
      "text/plain": [
       "<Figure size 432x288 with 1 Axes>"
      ]
     },
     "metadata": {
      "needs_background": "light"
     },
     "output_type": "display_data"
    }
   ],
   "source": [
    "# loading data set\n",
    "# data (NxM) = DataFrame a ser clusterizado N observacoes e M features\n",
    "data = loadmat('fcm_dataset.mat')\n",
    "data = pd.DataFrame(data['x'])\n",
    "lendata = len(data)\n",
    "print('Numero de obervacoes: ', lendata)\n",
    "nfeatures = data.shape[1]\n",
    "print('Numero de atributos (features): ', nfeatures)\n",
    "\n",
    "data_np = data.values\n",
    "for i in range(len(data_np)):\n",
    "        plt.scatter(data_np[i][0], data_np[i][1], s=7, color = 'blue')"
   ]
  },
  {
   "cell_type": "code",
   "execution_count": 87,
   "metadata": {},
   "outputs": [],
   "source": [
    "# Inicializacao\n",
    "# partitions: np.array(N x K) - matriz de partições (pertinencia da observacao ao K-esimo grupo)\n",
    "\n",
    "K = 4  # numero de grupos (clusters)\n",
    "\n",
    "partitions = np.zeros([lendata, K])\n",
    "idx = np.zeros(lendata)\n",
    "\n",
    "# inicializacao aleatoria da matriz de partições\n",
    "for i in range(lendata):\n",
    "    rnd = np.random.randint(K)\n",
    "    partitions[i][rnd] = 1\n",
    "    idx[i] = rnd\n"
   ]
  },
  {
   "cell_type": "code",
   "execution_count": 88,
   "metadata": {},
   "outputs": [
    {
     "name": "stdout",
     "output_type": "stream",
     "text": [
      "[[1. 0. 0. 0.]\n",
      " [1. 0. 0. 0.]\n",
      " [0. 1. 0. 0.]\n",
      " ...\n",
      " [0. 0. 0. 1.]\n",
      " [0. 0. 1. 0.]\n",
      " [0. 0. 0. 1.]]\n"
     ]
    }
   ],
   "source": [
    "print(partitions)"
   ]
  },
  {
   "cell_type": "code",
   "execution_count": 89,
   "metadata": {},
   "outputs": [
    {
     "name": "stdout",
     "output_type": "stream",
     "text": [
      "[0. 0. 1. 0. 3. 2. 3. 2. 3. 0. 3. 3. 3. 3. 2. 1. 2. 1. 0. 1. 3. 1. 0. 3.\n",
      " 3. 0. 1. 2. 1. 3. 0. 2. 3. 0. 1. 2. 3. 2. 2. 2. 1. 3. 2. 1. 1. 1. 0. 2.\n",
      " 3. 0. 1. 0. 1. 0. 2. 3. 0. 3. 3. 0. 3. 2. 2. 3. 2. 1. 3. 2. 0. 3. 1. 3.\n",
      " 1. 1. 2. 0. 3. 3. 2. 0. 2. 0. 2. 2. 0. 2. 2. 3. 3. 3. 0. 0. 2. 3. 1. 0.\n",
      " 2. 2. 0. 1. 2. 2. 0. 2. 3. 2. 2. 2. 3. 0. 0. 2. 2. 1. 2. 3. 0. 1. 1. 3.\n",
      " 2. 0. 3. 1. 1. 3. 1. 1. 3. 3. 0. 0. 0. 2. 3. 3. 0. 0. 0. 3. 2. 1. 0. 3.\n",
      " 2. 1. 2. 1. 0. 2. 3. 3. 2. 0. 1. 2. 3. 0. 2. 0. 1. 2. 2. 2. 2. 0. 3. 3.\n",
      " 1. 2. 1. 1. 0. 3. 2. 2. 2. 3. 3. 3. 1. 3. 0. 2. 0. 3. 1. 3. 2. 3. 3. 0.\n",
      " 3. 0. 1. 0. 3. 2. 1. 3. 0. 2. 1. 2. 1. 1. 1. 0. 3. 1. 3. 2. 1. 3. 3. 3.\n",
      " 3. 1. 1. 2. 0. 2. 0. 3. 3. 2. 2. 0. 1. 0. 2. 0. 3. 0. 2. 0. 3. 3. 1. 0.\n",
      " 0. 2. 0. 3. 2. 0. 1. 2. 3. 1. 0. 0. 3. 1. 0. 3. 3. 3. 1. 0. 0. 3. 0. 1.\n",
      " 2. 3. 1. 2. 1. 3. 0. 0. 3. 1. 3. 2. 3. 3. 2. 1. 3. 0. 3. 0. 1. 3. 3. 0.\n",
      " 2. 0. 3. 0. 2. 2. 3. 1. 2. 1. 1. 0. 3. 2. 3. 2. 3. 2. 1. 1. 1. 3. 3. 2.\n",
      " 2. 2. 0. 3. 1. 0. 1. 3. 0. 2. 1. 1. 1. 1. 2. 3. 2. 2. 1. 2. 2. 2. 1. 0.\n",
      " 3. 3. 2. 1. 1. 2. 3. 1. 3. 3. 1. 2. 0. 0. 2. 1. 3. 2. 2. 2. 1. 1. 2. 3.\n",
      " 3. 0. 2. 2. 1. 0. 3. 3. 0. 2. 1. 0. 2. 0. 0. 1. 1. 3. 0. 3. 1. 2. 1. 2.\n",
      " 3. 2. 1. 3. 3. 1. 3. 1. 1. 1. 1. 2. 2. 1. 0. 2. 0. 0. 3. 3. 2. 3. 0. 0.\n",
      " 0. 2. 2. 0. 0. 0. 3. 0. 3. 2. 3. 0. 2. 3. 2. 1. 1. 1. 3. 1. 2. 3. 3. 1.\n",
      " 1. 0. 1. 3. 3. 1. 1. 1. 2. 0. 2. 3. 1. 3. 3. 0. 0. 0. 3. 1. 3. 2. 1. 2.\n",
      " 0. 0. 3. 3. 1. 1. 2. 2. 0. 1. 1. 2. 0. 1. 0. 1. 1. 0. 1. 3. 3. 3. 2. 2.\n",
      " 2. 0. 1. 3. 2. 1. 3. 0. 0. 1. 0. 1. 3. 0. 3. 2. 1. 0. 0. 3. 0. 0. 3. 1.\n",
      " 0. 2. 2. 3. 3. 3. 2. 2. 1. 1. 1. 0. 1. 1. 1. 2. 1. 1. 3. 3. 2. 3. 1. 2.\n",
      " 2. 1. 0. 1. 2. 0. 3. 2. 1. 1. 2. 1. 3. 1. 1. 1. 3. 1. 0. 2. 3. 2. 2. 1.\n",
      " 1. 2. 2. 3. 3. 3. 2. 0. 1. 0. 1. 1. 0. 2. 3. 3. 0. 1. 2. 0. 2. 1. 3. 3.\n",
      " 2. 1. 2. 1. 1. 3. 2. 2. 2. 3. 1. 2. 3. 2. 0. 1. 0. 3. 0. 2. 3. 2. 2. 0.\n",
      " 0. 3. 3. 3. 1. 3. 1. 1. 3. 0. 2. 3. 2. 3. 0. 2. 0. 0. 0. 0. 3. 2. 0. 0.\n",
      " 0. 3. 2. 1. 3. 0. 1. 0. 3. 2. 3. 3. 3. 3. 3. 2. 0. 2. 3. 3. 0. 1. 1. 2.\n",
      " 2. 2. 0. 3. 2. 3. 1. 0. 1. 0. 0. 0. 2. 0. 2. 0. 2. 3. 3. 1. 2. 0. 1. 3.\n",
      " 1. 0. 3. 0. 2. 1. 0. 3. 1. 2. 2. 1. 1. 3. 0. 0. 0. 2. 2. 0. 2. 0. 1. 0.\n",
      " 3. 0. 3. 0. 3. 0. 3. 1. 1. 3. 3. 0. 3. 1. 2. 2. 2. 0. 2. 2. 1. 0. 3. 2.\n",
      " 2. 0. 0. 3. 3. 3. 2. 1. 2. 3. 0. 0. 1. 3. 1. 1. 2. 3. 3. 1. 1. 3. 3. 0.\n",
      " 0. 3. 3. 2. 3. 1. 1. 2. 2. 3. 0. 0. 1. 1. 2. 0. 0. 3. 3. 3. 3. 0. 1. 1.\n",
      " 3. 3. 0. 1. 1. 1. 2. 2. 1. 3. 1. 0. 0. 2. 2. 0. 2. 1. 0. 0. 1. 0. 0. 0.\n",
      " 0. 1. 3. 3. 1. 3. 2. 3.]\n"
     ]
    }
   ],
   "source": [
    "print(idx)"
   ]
  },
  {
   "cell_type": "code",
   "execution_count": 90,
   "metadata": {},
   "outputs": [],
   "source": [
    "# funcao que obtem os centroides\n",
    "# centroids: np.array(K x N) - centroides (K vetores de M features) de cada grupo\n",
    "def calc_centroids(data, partitions):\n",
    "    nfeatures = data.shape[1]\n",
    "    K = partitions.shape[1]\n",
    "    centroids = np.zeros([K,nfeatures])\n",
    "    data_np = data.values\n",
    "    for i in range(K):\n",
    "        idx_nonzero =  np.flatnonzero(partitions[:,i])\n",
    "        data_i = data_np[idx_nonzero,:]\n",
    "        centroids[i] = np.mean(data_i, axis=0)\n",
    "    return centroids"
   ]
  },
  {
   "cell_type": "code",
   "execution_count": 91,
   "metadata": {},
   "outputs": [
    {
     "name": "stdout",
     "output_type": "stream",
     "text": [
      "[[3.25614421 4.19906745]\n",
      " [3.21179281 4.23252459]\n",
      " [3.26175019 4.27506455]\n",
      " [3.27983133 4.27374825]]\n"
     ]
    }
   ],
   "source": [
    "cent = np.zeros([K,nfeatures])\n",
    "cent = calc_centroids(data, partitions)\n",
    "print(cent)"
   ]
  },
  {
   "cell_type": "code",
   "execution_count": null,
   "metadata": {},
   "outputs": [],
   "source": []
  },
  {
   "cell_type": "code",
   "execution_count": null,
   "metadata": {},
   "outputs": [],
   "source": []
  },
  {
   "cell_type": "code",
   "execution_count": null,
   "metadata": {},
   "outputs": [],
   "source": []
  },
  {
   "cell_type": "code",
   "execution_count": null,
   "metadata": {},
   "outputs": [],
   "source": []
  },
  {
   "cell_type": "code",
   "execution_count": null,
   "metadata": {},
   "outputs": [],
   "source": []
  },
  {
   "cell_type": "code",
   "execution_count": null,
   "metadata": {},
   "outputs": [],
   "source": []
  },
  {
   "cell_type": "markdown",
   "metadata": {},
   "source": []
  }
 ],
 "metadata": {
  "kernelspec": {
   "display_name": "Python 3",
   "language": "python",
   "name": "python3"
  },
  "language_info": {
   "codemirror_mode": {
    "name": "ipython",
    "version": 3
   },
   "file_extension": ".py",
   "mimetype": "text/x-python",
   "name": "python",
   "nbconvert_exporter": "python",
   "pygments_lexer": "ipython3",
   "version": "3.7.6"
  }
 },
 "nbformat": 4,
 "nbformat_minor": 4
}
