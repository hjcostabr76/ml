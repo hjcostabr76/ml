{
 "cells": [
  {
   "cell_type": "markdown",
   "metadata": {},
   "source": [
    "# NumPy\n",
    "\n",
    "Nessa aula, iremos tratar dos seguintes conteúdos:\n",
    "- NumPy\n",
    "- Arrays\n",
    "- Matrizes\n",
    "- Indexação\n",
    "- Operações Matemáticas\n",
    "- Métodos NumPy\n",
    "- Máscara Booleana\n",
    "- Exercícios"
   ]
  },
  {
   "cell_type": "markdown",
   "metadata": {},
   "source": [
    "<img src=\"data:image/png;base64,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\" width=800>"
   ]
  },
  {
   "cell_type": "markdown",
   "metadata": {},
   "source": [
    "##   "
   ]
  },
  {
   "cell_type": "markdown",
   "metadata": {},
   "source": [
    "## NumPy"
   ]
  },
  {
   "cell_type": "markdown",
   "metadata": {},
   "source": [
    " A biblioteca __NumPy__ (_Numerical Python_) é um pacote do Python para a __armazenagem__ e __processamento__ de conjuntos de dados na forma __matricial__ (computação orientada por matrizes).\n",
    " \n",
    " Outras bibliotecas com o __Pandas__, __MatplotLib__ e __Scikit Learn__ dependem fortemente do __Numpy__, devido a sua eficiência computacional, sendo amplamente utilizado para __computação científica__ e __análise de dados.__\n",
    " \n",
    " O __NumPy__ é um pacote e para utilizarmos, devemos importá-lo para o nosso notebook da seguinte forma:"
   ]
  },
  {
   "cell_type": "code",
   "execution_count": 1,
   "metadata": {},
   "outputs": [],
   "source": [
    "# Instalação do NumPy\n",
    "# !pip install numpy\n",
    "\n",
    "# Carregar a biblioteca\n",
    "import numpy as np"
   ]
  },
  {
   "cell_type": "markdown",
   "metadata": {},
   "source": [
    "##   "
   ]
  },
  {
   "cell_type": "markdown",
   "metadata": {},
   "source": [
    "## Arrays"
   ]
  },
  {
   "cell_type": "markdown",
   "metadata": {},
   "source": [
    "A estrutura de dados base do __NumPy__ são os `arrays`, que funcionam de forma parecida com as listas em Python, no entanto:\n",
    "- Todos os elementos em um array deve ser do mesmo tipo, tipicamente um tipo numérico como __float__ ou __int__\n",
    "- Os arrays viabilizam a realização eficiente de operações numéricas envolvendo grandes quantidades de dados, sendo para este fim, muito mais eficientes que as listas.\n",
    "- Cada dimensão de um array é chamada de eixo (_axis_)\n",
    "- Os eixos são numerados a partir de $0$\n",
    "- Os elementos são acessados utilizando colchetes __[]__ (semelhante às listas do Python)"
   ]
  },
  {
   "cell_type": "markdown",
   "metadata": {
    "ExecuteTime": {
     "end_time": "2020-01-04T18:31:24.763954Z",
     "start_time": "2020-01-04T18:31:24.760450Z"
    }
   },
   "source": [
    "Arrays podem ser construidos de diversas formas como podemos ver a seguir:"
   ]
  },
  {
   "cell_type": "markdown",
   "metadata": {},
   "source": [
    "#### Conversão de Listas para Arrays\n",
    "\n",
    "Pra criar arrays a partir de uma lista, basta utilizar o procedimento **np.array():**"
   ]
  },
  {
   "cell_type": "code",
   "execution_count": 2,
   "metadata": {},
   "outputs": [
    {
     "name": "stdout",
     "output_type": "stream",
     "text": [
      "Print da lista:  [11, 17, 16, 5, 23, 42, 171]\n",
      "Print do array:  [ 11  17  16   5  23  42 171]\n"
     ]
    }
   ],
   "source": [
    "# Cria uma lista com diversos numeros\n",
    "lista1 = [11, 17, 16, 5, 23, 42, 171]\n",
    "\n",
    "# Convertendo a lista para um array\n",
    "array1 = np.array(lista1)\n",
    "\n",
    "# Print da lista e do array\n",
    "print('Print da lista: ', lista1)\n",
    "print('Print do array: ', array1)"
   ]
  },
  {
   "cell_type": "markdown",
   "metadata": {},
   "source": [
    "#### Métodos NumPy\n",
    "\n",
    "Outra forma de criarmos arrays seria usando __métodos NumPy__ como por exemplo __np.zeros__, __np.ones__ e outros mais:"
   ]
  },
  {
   "cell_type": "code",
   "execution_count": 3,
   "metadata": {},
   "outputs": [
    {
     "name": "stdout",
     "output_type": "stream",
     "text": [
      "Array com 10 zeros:  [0. 0. 0. 0. 0. 0. 0. 0. 0. 0.]\n"
     ]
    }
   ],
   "source": [
    "# Criando um array com varios zeros\n",
    "arr_zeros = np.zeros(10)\n",
    "\n",
    "# Print do array criado\n",
    "print('Array com 10 zeros: ', arr_zeros)"
   ]
  },
  {
   "cell_type": "code",
   "execution_count": 4,
   "metadata": {
    "scrolled": true
   },
   "outputs": [
    {
     "name": "stdout",
     "output_type": "stream",
     "text": [
      "Array com 7 1s:  [1. 1. 1. 1. 1. 1. 1.]\n"
     ]
    }
   ],
   "source": [
    "# Criando um array com valores 1\n",
    "# Quantidade de ones\n",
    "ones = 7\n",
    "\n",
    "# Cria um array com a quantidade de 1s\n",
    "arr_ones = np.ones(ones)\n",
    "\n",
    "# Print do array\n",
    "print('Array com 7 1s: ', arr_ones)"
   ]
  },
  {
   "cell_type": "markdown",
   "metadata": {},
   "source": [
    "Utilizando o método __np.arange__ parecendo com o __range__ do próprio Python:"
   ]
  },
  {
   "cell_type": "code",
   "execution_count": 5,
   "metadata": {},
   "outputs": [
    {
     "name": "stdout",
     "output_type": "stream",
     "text": [
      "[12 13 14 15 16 17 18 19 20 21 22 23 24 25 26]\n"
     ]
    }
   ],
   "source": [
    "# Criando um array utilizando a função arange\n",
    "arr_range1 = np.arange(12, 27)\n",
    "\n",
    "# Print do array\n",
    "print(arr_range1)"
   ]
  },
  {
   "cell_type": "code",
   "execution_count": 6,
   "metadata": {},
   "outputs": [
    {
     "name": "stdout",
     "output_type": "stream",
     "text": [
      "[ 1.   1.5  2.   2.5  3.   3.5  4.   4.5  5.   5.5  6.   6.5  7.   7.5\n",
      "  8.   8.5  9.   9.5 10.  10.5]\n"
     ]
    }
   ],
   "source": [
    "# Criando um array com o passo\n",
    "arr_range2 = np.arange(1, 11, 0.5)\n",
    "\n",
    "# print do array\n",
    "print(arr_range2)"
   ]
  },
  {
   "cell_type": "code",
   "execution_count": 7,
   "metadata": {},
   "outputs": [
    {
     "name": "stdout",
     "output_type": "stream",
     "text": [
      "[0 1 2 3 4 5 6 7 8 9]\n"
     ]
    }
   ],
   "source": [
    "# Criando um array com apenas um parametro\n",
    "arr_range3 = np.arange(10)\n",
    "\n",
    "# pirnt do array\n",
    "print(arr_range3)"
   ]
  },
  {
   "cell_type": "markdown",
   "metadata": {},
   "source": [
    "O método __np.linspace__ podemos passar dois extremos para a função e definir a quantidade de __divisões__ que queremos entre os extremos:"
   ]
  },
  {
   "cell_type": "code",
   "execution_count": 8,
   "metadata": {},
   "outputs": [
    {
     "name": "stdout",
     "output_type": "stream",
     "text": [
      "[0.         0.16666667 0.33333333 0.5        0.66666667 0.83333333\n",
      " 1.        ]\n"
     ]
    }
   ],
   "source": [
    "# Criando um array com o linspace\n",
    "arr_ls1 = np.linspace(0, 1, 7)\n",
    "\n",
    "# Print do array\n",
    "print(arr_ls1)"
   ]
  },
  {
   "cell_type": "markdown",
   "metadata": {},
   "source": [
    "Conhecido os diversos métodos, podemos construir arrays a partir de __combinações de arrays__ entre eles:"
   ]
  },
  {
   "cell_type": "code",
   "execution_count": 9,
   "metadata": {
    "scrolled": true
   },
   "outputs": [
    {
     "name": "stdout",
     "output_type": "stream",
     "text": [
      "[1. 1. 1. 1. 1. 1. 1. 1. 1. 1. 1. 1. 1. 1. 1.]\n"
     ]
    }
   ],
   "source": [
    "# Criando um array - 15 1s\n",
    "arr1 = np.ones(15)\n",
    "\n",
    "# Print do array\n",
    "print(arr1)"
   ]
  },
  {
   "cell_type": "code",
   "execution_count": 10,
   "metadata": {},
   "outputs": [
    {
     "name": "stdout",
     "output_type": "stream",
     "text": [
      "[-1.         -0.85714286 -0.71428571 -0.57142857 -0.42857143 -0.28571429\n",
      " -0.14285714  0.          0.14285714  0.28571429  0.42857143  0.57142857\n",
      "  0.71428571  0.85714286  1.        ]\n"
     ]
    }
   ],
   "source": [
    "# Criando um array entre -1 e 1, e 15 divisões\n",
    "arr2 = np.linspace(-1, 1, 15)\n",
    "\n",
    "# print do array\n",
    "print(arr2)"
   ]
  },
  {
   "cell_type": "code",
   "execution_count": 11,
   "metadata": {},
   "outputs": [
    {
     "name": "stdout",
     "output_type": "stream",
     "text": [
      "[ 0  1  2  3  4  5  6  7  8  9 10 11 12 13 14]\n"
     ]
    }
   ],
   "source": [
    "# Criando um array com o arange\n",
    "arr3 = np.arange(15)\n",
    "\n",
    "# print do array\n",
    "print(arr3)"
   ]
  },
  {
   "cell_type": "code",
   "execution_count": 12,
   "metadata": {},
   "outputs": [
    {
     "name": "stdout",
     "output_type": "stream",
     "text": [
      "[3.         3.35714286 3.71428571 4.07142857 4.42857143 4.78571429\n",
      " 5.14285714 5.5        5.85714286 6.21428571 6.57142857 6.92857143\n",
      " 7.28571429 7.64285714 8.        ]\n"
     ]
    }
   ],
   "source": [
    "# Criando um array com a combinações de outros demais\n",
    "arr4 = 2*arr1 - arr2 + arr3*0.5\n",
    "\n",
    "# print do array novo\n",
    "print(arr4)"
   ]
  },
  {
   "cell_type": "markdown",
   "metadata": {},
   "source": [
    "__np.random.rand:__ Essa é uma função especial do __NumPy__ onde dado a quantidade de elementos, ela irá criar elementos de uma distribuição uniforme entre os valores 0 (inclusive) e 1 (sendo o 1 não fazendo parte):"
   ]
  },
  {
   "cell_type": "code",
   "execution_count": 13,
   "metadata": {
    "ExecuteTime": {
     "end_time": "2020-01-04T18:51:34.656089Z",
     "start_time": "2020-01-04T18:51:34.649601Z"
    }
   },
   "outputs": [
    {
     "name": "stdout",
     "output_type": "stream",
     "text": [
      "[0.53600591 0.36432377 0.33334724 0.10286247 0.99549118 0.87508225\n",
      " 0.15836429 0.76698118 0.89237988 0.38516392 0.47534417 0.40519519]\n"
     ]
    }
   ],
   "source": [
    "# Cria um array com 12 elementos aleatorios de acordo com uma uniforme\n",
    "arr_random1 = np.random.rand(12)\n",
    "\n",
    "# Print do array\n",
    "print(arr_random1)"
   ]
  },
  {
   "cell_type": "markdown",
   "metadata": {},
   "source": [
    "__np.random.normal:__ Essa é uma função especial do __NumPy__ onde dado a quantidade de elementos, ela irá criar elementos de uma distribuição normal (Gaussiana):"
   ]
  },
  {
   "cell_type": "code",
   "execution_count": 14,
   "metadata": {},
   "outputs": [
    {
     "name": "stdout",
     "output_type": "stream",
     "text": [
      "[ 0.75310759 -0.13556154  0.72381833  0.33008754 -0.86315533  0.86892655\n",
      "  1.58866065 -1.49299378 -0.23087727  0.76132244 -0.8501967  -0.94735581\n",
      "  1.5451039 ]\n"
     ]
    }
   ],
   "source": [
    "# Criando um array a partir de uma distribuição normal\n",
    "# Com média 0, desvio padrão 1 e 13 elementos\n",
    "arr_normal = np.random.normal(0, 1, 13)\n",
    "\n",
    "# Print do array\n",
    "print(arr_normal)"
   ]
  },
  {
   "cell_type": "markdown",
   "metadata": {},
   "source": [
    "__np.random.randint:__ Essa é uma função especial do __NumPy__ onde dado a quantidade de elementos, ela irá criar elementos aleatórios __inteiros__ dentro de uma faixa de valores indicada:"
   ]
  },
  {
   "cell_type": "code",
   "execution_count": 15,
   "metadata": {
    "ExecuteTime": {
     "end_time": "2020-01-04T18:51:39.558481Z",
     "start_time": "2020-01-04T18:51:39.550975Z"
    }
   },
   "outputs": [
    {
     "name": "stdout",
     "output_type": "stream",
     "text": [
      "[85 14 65 54 31 11 18 57 26 59]\n"
     ]
    }
   ],
   "source": [
    "# Cria uma array com numeros aleatorios\n",
    "# entre 0 e 100, e com 10 elementos\n",
    "arr_inteiros = np.random.randint(0, 100, 10)\n",
    "\n",
    "# print do array\n",
    "print(arr_inteiros)"
   ]
  },
  {
   "cell_type": "markdown",
   "metadata": {},
   "source": [
    "##   "
   ]
  },
  {
   "cell_type": "markdown",
   "metadata": {},
   "source": [
    "## Matrizes - Arrays Bidimensionais"
   ]
  },
  {
   "cell_type": "markdown",
   "metadata": {},
   "source": [
    "__Matrizes__ nada mais é do que arrays com __duas dimensões!__\n",
    "\n",
    "Vamos ver um exemplo de como construí-lo:"
   ]
  },
  {
   "cell_type": "code",
   "execution_count": 16,
   "metadata": {},
   "outputs": [
    {
     "name": "stdout",
     "output_type": "stream",
     "text": [
      "[[ 0  1  2  3]\n",
      " [ 0  1  4  9]\n",
      " [ 0  1  8 27]]\n"
     ]
    }
   ],
   "source": [
    "# Cria uma matriz utilizando o np.array\n",
    "matriz = np.array([[0, 1, 2, 3], \n",
    "                   [0, 1, 4, 9],\n",
    "                   [0, 1, 8, 27]])\n",
    "\n",
    "# Mostra a matriz\n",
    "print(matriz)"
   ]
  },
  {
   "cell_type": "code",
   "execution_count": 17,
   "metadata": {
    "scrolled": false
   },
   "outputs": [
    {
     "name": "stdout",
     "output_type": "stream",
     "text": [
      "Matriz 1: \n",
      "[[0. 0. 0.]\n",
      " [0. 0. 0.]\n",
      " [0. 0. 0.]\n",
      " [0. 0. 0.]\n",
      " [0. 0. 0.]]\n",
      "\n",
      "\n",
      "Matriz 2: \n",
      "[[1. 1. 1. 1. 1. 1. 1. 1. 1. 1.]\n",
      " [1. 1. 1. 1. 1. 1. 1. 1. 1. 1.]\n",
      " [1. 1. 1. 1. 1. 1. 1. 1. 1. 1.]\n",
      " [1. 1. 1. 1. 1. 1. 1. 1. 1. 1.]\n",
      " [1. 1. 1. 1. 1. 1. 1. 1. 1. 1.]\n",
      " [1. 1. 1. 1. 1. 1. 1. 1. 1. 1.]\n",
      " [1. 1. 1. 1. 1. 1. 1. 1. 1. 1.]\n",
      " [1. 1. 1. 1. 1. 1. 1. 1. 1. 1.]\n",
      " [1. 1. 1. 1. 1. 1. 1. 1. 1. 1.]]\n",
      "\n",
      "\n",
      "Matriz 3: \n",
      "[[1. 0. 0. 0.]\n",
      " [0. 1. 0. 0.]\n",
      " [0. 0. 1. 0.]\n",
      " [0. 0. 0. 1.]]\n"
     ]
    }
   ],
   "source": [
    "# Cria uma matrix 5x3 com zeros\n",
    "m1 = np.zeros((5, 3))\n",
    "\n",
    "# Print da matriz\n",
    "print(\"Matriz 1: \")\n",
    "print(m1)\n",
    "print('\\n')\n",
    "\n",
    "# cria a matriz 9x10 com varios 1s\n",
    "m2 = np.ones((9, 10))\n",
    "\n",
    "# Print da matriz\n",
    "print(\"Matriz 2: \")\n",
    "print(m2)\n",
    "print('\\n')\n",
    "\n",
    "# MAtriz Identidade - 4x4\n",
    "m3 = np.identity(4)\n",
    "\n",
    "# Print da matriz\n",
    "print(\"Matriz 3: \")\n",
    "print(m3)"
   ]
  },
  {
   "cell_type": "markdown",
   "metadata": {},
   "source": [
    "Numpy arrays são objetos chamados _ndarrays_ e possuem diversos atributos \n",
    "- ndarray.ndim - número de eixos (dimensões) do array\n",
    "- ndarray.shape - uma tupla de inteiros indicando o tamanho do array em cada dimensão\n",
    "- ndarray.size - o número total de elementos do array\n",
    "- ndarray.dtype - tipo dos elementos no array\n",
    "- ndarray.itemsize - o tamanho em bytes de cada elemento do array\n",
    "- ndarray.data - o buffer de memória contendo os elementos do array"
   ]
  },
  {
   "cell_type": "code",
   "execution_count": 19,
   "metadata": {},
   "outputs": [
    {
     "name": "stdout",
     "output_type": "stream",
     "text": [
      "Array: \n",
      "[0.         0.06896552 0.13793103 0.20689655 0.27586207 0.34482759\n",
      " 0.4137931  0.48275862 0.55172414 0.62068966 0.68965517 0.75862069\n",
      " 0.82758621 0.89655172 0.96551724 1.03448276 1.10344828 1.17241379\n",
      " 1.24137931 1.31034483 1.37931034 1.44827586 1.51724138 1.5862069\n",
      " 1.65517241 1.72413793 1.79310345 1.86206897 1.93103448 2.        ]\n",
      "\n",
      "\n",
      "Atributos: \n",
      "ndim:  1\n",
      "shape:  (30,)\n",
      "size:  30\n",
      "dtype:  float64\n",
      "itemsize:  8\n",
      "data:  <memory at 0x000002C119311400>\n",
      "\n",
      "\n"
     ]
    }
   ],
   "source": [
    "# Array\n",
    "array = np.linspace(0, 2, 30)\n",
    "\n",
    "# Print o Array\n",
    "print(\"Array: \")\n",
    "print(array)\n",
    "print('\\n')\n",
    "\n",
    "# Mostrando os atributos do array\n",
    "print(\"Atributos: \")\n",
    "print('ndim: ', array.ndim)\n",
    "print('shape: ', array.shape)\n",
    "print('size: ', array.size)\n",
    "print('dtype: ', array.dtype)\n",
    "print('itemsize: ', array.itemsize)\n",
    "print('data: ', array.data)\n",
    "print('\\n')"
   ]
  },
  {
   "cell_type": "code",
   "execution_count": 20,
   "metadata": {},
   "outputs": [
    {
     "name": "stdout",
     "output_type": "stream",
     "text": [
      "Matriz: \n",
      "[[1. 0. 0. 0. 0. 0. 0. 0.]\n",
      " [0. 1. 0. 0. 0. 0. 0. 0.]\n",
      " [0. 0. 1. 0. 0. 0. 0. 0.]\n",
      " [0. 0. 0. 1. 0. 0. 0. 0.]\n",
      " [0. 0. 0. 0. 1. 0. 0. 0.]\n",
      " [0. 0. 0. 0. 0. 1. 0. 0.]\n",
      " [0. 0. 0. 0. 0. 0. 1. 0.]\n",
      " [0. 0. 0. 0. 0. 0. 0. 1.]]\n",
      "\n",
      "\n",
      "Atributos: \n",
      "ndim:  2\n",
      "shape:  (8, 8)\n",
      "size:  64\n",
      "dtype:  float64\n",
      "itemsize:  8\n",
      "data:  <memory at 0x000002C1193D8040>\n",
      "\n",
      "\n"
     ]
    }
   ],
   "source": [
    "# matriz\n",
    "matriz = np.identity(8)\n",
    "\n",
    "# Print o Matriz\n",
    "print(\"Matriz: \")\n",
    "print(matriz)\n",
    "print('\\n')\n",
    "\n",
    "# Mostrando os atributos do array\n",
    "print(\"Atributos: \")\n",
    "print('ndim: ', matriz.ndim)\n",
    "print('shape: ', matriz.shape)\n",
    "print('size: ', matriz.size)\n",
    "print('dtype: ', matriz.dtype)\n",
    "print('itemsize: ', matriz.itemsize)\n",
    "print('data: ', matriz.data)\n",
    "print('\\n')"
   ]
  },
  {
   "cell_type": "markdown",
   "metadata": {},
   "source": [
    "##   "
   ]
  },
  {
   "cell_type": "markdown",
   "metadata": {},
   "source": [
    "## Indexação"
   ]
  },
  {
   "cell_type": "markdown",
   "metadata": {},
   "source": [
    "É possível acessar elementos individuais dos arrays pelos **índices**, da mesma forma que fazemos com listas:"
   ]
  },
  {
   "cell_type": "code",
   "execution_count": 21,
   "metadata": {},
   "outputs": [
    {
     "name": "stdout",
     "output_type": "stream",
     "text": [
      "[ 7  8  9 10 11 12 13 14 15 16 17]\n"
     ]
    }
   ],
   "source": [
    "# Cria uma array qualquer\n",
    "array = np.arange(7, 18, 1)\n",
    "\n",
    "# Print do array\n",
    "print(array)"
   ]
  },
  {
   "cell_type": "code",
   "execution_count": 26,
   "metadata": {},
   "outputs": [
    {
     "name": "stdout",
     "output_type": "stream",
     "text": [
      "Posição 0:  7\n",
      "Posição 5:  12\n",
      "Ultimo elemento:  17\n",
      "posicao -4:  14\n"
     ]
    }
   ],
   "source": [
    "# Elemento na posicao 0\n",
    "print(\"Posição 0: \", array[0])\n",
    "\n",
    "# Elemento na posicao 5\n",
    "print(\"Posição 5: \", array[5])\n",
    "\n",
    "# Ultimo elemento\n",
    "print(\"Ultimo elemento: \", array[-1])\n",
    "\n",
    "# Elemento na posicao -4\n",
    "print(\"posicao -4: \", array[-4])"
   ]
  },
  {
   "cell_type": "code",
   "execution_count": 30,
   "metadata": {},
   "outputs": [
    {
     "name": "stdout",
     "output_type": "stream",
     "text": [
      "[ 7  8  9 10 11 12 13 14 15 16 17]\n",
      "SLicing da 3 posição em diante:  [10 11 12 13 14 15 16 17]\n",
      "SLicing até a poisção 6:  [ 7  8  9 10 11 12 13]\n",
      "SLicing entre a posição 4 e 7:  [11 12 13 14]\n"
     ]
    }
   ],
   "source": [
    "# Slicing\n",
    "#Print da array\n",
    "print(array)\n",
    "\n",
    "# Pega da 3 posição em diante\n",
    "print(\"SLicing da 3 posição em diante: \", array[3:])\n",
    "\n",
    "# Pega até a posição 6\n",
    "print(\"SLicing até a poisção 6: \", array[:7])\n",
    "\n",
    "# pegar da posição 4 a posição 7\n",
    "print(\"SLicing entre a posição 4 e 7: \", array[4:8])"
   ]
  },
  {
   "cell_type": "markdown",
   "metadata": {},
   "source": [
    "##   "
   ]
  },
  {
   "cell_type": "markdown",
   "metadata": {},
   "source": [
    "## Operações Matemáticas"
   ]
  },
  {
   "cell_type": "markdown",
   "metadata": {},
   "source": [
    "A seguir veremos algumas formas bem simples de realizar operações matemáticas **elemento a elemento** com os arrays:"
   ]
  },
  {
   "cell_type": "code",
   "execution_count": 39,
   "metadata": {},
   "outputs": [
    {
     "name": "stdout",
     "output_type": "stream",
     "text": [
      "[ 2  4  6  8 10 12 14 16 18]\n"
     ]
    }
   ],
   "source": [
    "# Cria uma array qualquer\n",
    "array = np.arange(2, 20, 2)\n",
    "\n",
    "# Print do array\n",
    "print(array)"
   ]
  },
  {
   "cell_type": "code",
   "execution_count": 40,
   "metadata": {},
   "outputs": [
    {
     "name": "stdout",
     "output_type": "stream",
     "text": [
      "soma:  [ 4  6  8 10 12 14 16 18 20]\n"
     ]
    }
   ],
   "source": [
    "# Soma\n",
    "print('soma: ', array + 2) "
   ]
  },
  {
   "cell_type": "code",
   "execution_count": 41,
   "metadata": {},
   "outputs": [
    {
     "name": "stdout",
     "output_type": "stream",
     "text": [
      "Subtração:  [-3 -1  1  3  5  7  9 11 13]\n"
     ]
    }
   ],
   "source": [
    "# Subtração\n",
    "print('Subtração: ', array - 5) "
   ]
  },
  {
   "cell_type": "code",
   "execution_count": 42,
   "metadata": {},
   "outputs": [
    {
     "name": "stdout",
     "output_type": "stream",
     "text": [
      "Multiplicação:  [ 6 12 18 24 30 36 42 48 54]\n"
     ]
    }
   ],
   "source": [
    "# Multiplicação\n",
    "print('Multiplicação: ', array*3) "
   ]
  },
  {
   "cell_type": "code",
   "execution_count": 43,
   "metadata": {},
   "outputs": [
    {
     "name": "stdout",
     "output_type": "stream",
     "text": [
      "Divisão:  [1. 2. 3. 4. 5. 6. 7. 8. 9.]\n"
     ]
    }
   ],
   "source": [
    "# Divisão\n",
    "print('Divisão: ', array/2)"
   ]
  },
  {
   "cell_type": "code",
   "execution_count": 44,
   "metadata": {},
   "outputs": [
    {
     "name": "stdout",
     "output_type": "stream",
     "text": [
      "Divisão Inteira:  [1 2 3 4 5 6 7 8 9]\n"
     ]
    }
   ],
   "source": [
    "# Divisão Inteira\n",
    "print('Divisão Inteira: ', array//2)"
   ]
  },
  {
   "cell_type": "code",
   "execution_count": 45,
   "metadata": {},
   "outputs": [
    {
     "name": "stdout",
     "output_type": "stream",
     "text": [
      "Resto da Divisão:  [2 1 0 2 1 0 2 1 0]\n"
     ]
    }
   ],
   "source": [
    "# Resto da Divisão\n",
    "print('Resto da Divisão: ', array % 3)"
   ]
  },
  {
   "cell_type": "code",
   "execution_count": 46,
   "metadata": {},
   "outputs": [
    {
     "name": "stdout",
     "output_type": "stream",
     "text": [
      "Potência:  [  4  16  36  64 100 144 196 256 324]\n"
     ]
    }
   ],
   "source": [
    "# Potência\n",
    "print('Potência: ', array**2)"
   ]
  },
  {
   "cell_type": "code",
   "execution_count": 47,
   "metadata": {},
   "outputs": [
    {
     "name": "stdout",
     "output_type": "stream",
     "text": [
      "Inverso:  [0.5        0.25       0.16666667 0.125      0.1        0.08333333\n",
      " 0.07142857 0.0625     0.05555556]\n"
     ]
    }
   ],
   "source": [
    "# Inverso\n",
    "print('Inverso: ', 1/array)"
   ]
  },
  {
   "cell_type": "markdown",
   "metadata": {},
   "source": [
    "Podemos também fazer operações elemento a elemento entre dois arrays:"
   ]
  },
  {
   "cell_type": "code",
   "execution_count": 48,
   "metadata": {
    "scrolled": true
   },
   "outputs": [
    {
     "name": "stdout",
     "output_type": "stream",
     "text": [
      "[0 1 2 3 4 5 6 7 8]\n"
     ]
    }
   ],
   "source": [
    "# cria outro array do mesmo tamanho\n",
    "array2 = np.arange(len(array))\n",
    "\n",
    "# print do array\n",
    "print(array2)"
   ]
  },
  {
   "cell_type": "code",
   "execution_count": 52,
   "metadata": {},
   "outputs": [
    {
     "name": "stdout",
     "output_type": "stream",
     "text": [
      "Array 1:  [ 2  4  6  8 10 12 14 16 18]\n",
      "Array 2:  [0 1 2 3 4 5 6 7 8]\n",
      "[ 2  5  8 11 14 17 20 23 26]\n",
      "[  0   4  12  24  40  60  84 112 144]\n",
      "[0.         0.25       0.33333333 0.375      0.4        0.41666667\n",
      " 0.42857143 0.4375     0.44444444]\n"
     ]
    }
   ],
   "source": [
    "# Print dos arrays\n",
    "print('Array 1: ', array)\n",
    "print('Array 2: ', array2)\n",
    "\n",
    "# array 1 + array 2\n",
    "print(array + array2)\n",
    "\n",
    "# array 1 * array 2\n",
    "print(array * array2)\n",
    "\n",
    "#  array 2 / array\n",
    "print(array2 / array)"
   ]
  },
  {
   "cell_type": "markdown",
   "metadata": {},
   "source": [
    "##   "
   ]
  },
  {
   "cell_type": "markdown",
   "metadata": {},
   "source": [
    "## Métodos NumPy"
   ]
  },
  {
   "cell_type": "markdown",
   "metadata": {},
   "source": [
    "Vamos aprender agora alguns métodos muito úteis para serem aplicados em arrays, muitos desses métodos serão herdados pelo __Pandas__, então vão ter uma usabilidade bem grande:"
   ]
  },
  {
   "cell_type": "markdown",
   "metadata": {},
   "source": [
    "__Método reshape:__  permite reformatar o array modificando o número de linhas e colunas, porém, a nova 'shape' tem que possuir o mesmo número de elementos do array original:"
   ]
  },
  {
   "cell_type": "code",
   "execution_count": 59,
   "metadata": {},
   "outputs": [
    {
     "name": "stdout",
     "output_type": "stream",
     "text": [
      "Array 1:  [0 1 2 3 4 5 6 7 8]\n",
      "Array 2: \n",
      " [[0 1 2]\n",
      " [3 4 5]\n",
      " [6 7 8]]\n"
     ]
    }
   ],
   "source": [
    "# Cria um array\n",
    "arr1 = np.arange(9)\n",
    "\n",
    "# Cria um novo array que é resultado do reshape\n",
    "arr2 = arr1.reshape((3, 3))\n",
    "\n",
    "# Prints\n",
    "print(\"Array 1: \", arr1)\n",
    "print(\"Array 2: \\n\", arr2)"
   ]
  },
  {
   "cell_type": "markdown",
   "metadata": {},
   "source": [
    "__Método ravel:__  concatena as linhas da matriz em um array unidimensional:"
   ]
  },
  {
   "cell_type": "code",
   "execution_count": 55,
   "metadata": {},
   "outputs": [
    {
     "name": "stdout",
     "output_type": "stream",
     "text": [
      "Array 3:  [0 1 2 3 4 5 6 7 8]\n"
     ]
    }
   ],
   "source": [
    "# Cria um array com o ravel\n",
    "arr3 = arr2.ravel()\n",
    "\n",
    "# Print do novo array\n",
    "print(\"Array 3: \", arr3)"
   ]
  },
  {
   "cell_type": "code",
   "execution_count": 56,
   "metadata": {},
   "outputs": [
    {
     "name": "stdout",
     "output_type": "stream",
     "text": [
      "array 3 após modificação:  [ 0  1  2  3 -1  5  6  7  8]\n",
      "array 2 após modificação:  [[ 0  1  2]\n",
      " [ 3 -1  5]\n",
      " [ 6  7  8]]\n",
      "array 1 após modificação:  [ 0  1  2  3 -1  5  6  7  8]\n"
     ]
    }
   ],
   "source": [
    "# Trocar um elemento por -1\n",
    "arr3[4] = -1\n",
    "\n",
    "# Print dos array\n",
    "print(\"array 3 após modificação: \", arr3)\n",
    "print(\"array 2 após modificação: \", arr2)\n",
    "print(\"array 1 após modificação: \", arr1)"
   ]
  },
  {
   "cell_type": "markdown",
   "metadata": {},
   "source": [
    "__Método flatten:__  também concatena as linhas da matriz em um array unidimensional, porém, faz uma cópia dos elementos. O método __ravel__ gera uma __view__, portanto se algum elemento for modificado, o array original também é modificado:"
   ]
  },
  {
   "cell_type": "code",
   "execution_count": 60,
   "metadata": {},
   "outputs": [
    {
     "name": "stdout",
     "output_type": "stream",
     "text": [
      "Array 4:  [0 1 2 3 4 5 6 7 8]\n",
      "array 4 após modificação:  [ 0  1  2  3 -1  5  6  7  8]\n",
      "array 2 após modificação:  [[0 1 2]\n",
      " [3 4 5]\n",
      " [6 7 8]]\n",
      "array 1 após modificação:  [0 1 2 3 4 5 6 7 8]\n"
     ]
    }
   ],
   "source": [
    "# Cria um array com o flatten\n",
    "arr4 = arr2.flatten()\n",
    "\n",
    "# Print do novo array\n",
    "print(\"Array 4: \", arr4)\n",
    "\n",
    "# Trocar um elemento por -1\n",
    "arr4[4] = -1\n",
    "\n",
    "# Print dos array\n",
    "print(\"array 4 após modificação: \", arr4)\n",
    "print(\"array 2 após modificação: \", arr2)\n",
    "print(\"array 1 após modificação: \", arr1)"
   ]
  },
  {
   "cell_type": "markdown",
   "metadata": {},
   "source": [
    "__Método max:__ Retorna o elemento de maior valor de um array:"
   ]
  },
  {
   "cell_type": "code",
   "execution_count": 61,
   "metadata": {},
   "outputs": [
    {
     "name": "stdout",
     "output_type": "stream",
     "text": [
      "Array:  [51 92 14 71 60 20 82 86 74 74]\n",
      "maior valor do array:  92\n"
     ]
    }
   ],
   "source": [
    "# Vamos fixar uma semente aleatória\n",
    "np.random.seed(42)\n",
    "\n",
    "# array de numeros aleatorios\n",
    "array = np.random.randint(0, 100, 10)\n",
    "\n",
    "# Prints\n",
    "print('Array: ', array)\n",
    "print('maior valor do array: ', array.max())"
   ]
  },
  {
   "cell_type": "markdown",
   "metadata": {},
   "source": [
    "__Método argmax:__ Retorna o índice do elemento de maior valor do array:"
   ]
  },
  {
   "cell_type": "code",
   "execution_count": 62,
   "metadata": {},
   "outputs": [
    {
     "name": "stdout",
     "output_type": "stream",
     "text": [
      "Posição do maior valor:  1\n"
     ]
    }
   ],
   "source": [
    "print('Posição do maior valor: ', array.argmax())"
   ]
  },
  {
   "cell_type": "markdown",
   "metadata": {},
   "source": [
    "__Método min:__ Retorna o elemento de menor valor de um array:"
   ]
  },
  {
   "cell_type": "code",
   "execution_count": 63,
   "metadata": {},
   "outputs": [
    {
     "name": "stdout",
     "output_type": "stream",
     "text": [
      "menor valor do array:  14\n"
     ]
    }
   ],
   "source": [
    "print('menor valor do array: ', array.min())"
   ]
  },
  {
   "cell_type": "markdown",
   "metadata": {},
   "source": [
    "__Método argmin:__ Retorna o índice do elemento de menor valor do array:"
   ]
  },
  {
   "cell_type": "code",
   "execution_count": 64,
   "metadata": {},
   "outputs": [
    {
     "name": "stdout",
     "output_type": "stream",
     "text": [
      "Posição do menor valor:  2\n"
     ]
    }
   ],
   "source": [
    "print('Posição do menor valor: ', array.argmin())"
   ]
  },
  {
   "cell_type": "markdown",
   "metadata": {},
   "source": [
    "__Método sum:__ Retorna a soma de todos os elementos do array:"
   ]
  },
  {
   "cell_type": "code",
   "execution_count": 65,
   "metadata": {},
   "outputs": [
    {
     "name": "stdout",
     "output_type": "stream",
     "text": [
      "[51 92 14 71 60 20 82 86 74 74]\n",
      "624\n"
     ]
    }
   ],
   "source": [
    "print(array)\n",
    "print(array.sum())"
   ]
  },
  {
   "cell_type": "markdown",
   "metadata": {},
   "source": [
    "__Método mean:__ Retorna a média de todos os elementos do array:"
   ]
  },
  {
   "cell_type": "code",
   "execution_count": 66,
   "metadata": {},
   "outputs": [
    {
     "name": "stdout",
     "output_type": "stream",
     "text": [
      "[51 92 14 71 60 20 82 86 74 74]\n",
      "624\n",
      "62.4\n"
     ]
    }
   ],
   "source": [
    "print(array)\n",
    "print(array.sum())\n",
    "print(array.mean())"
   ]
  },
  {
   "cell_type": "markdown",
   "metadata": {},
   "source": [
    "__Método std:__ Retorna o desvio padrão de todos os elementos do array:"
   ]
  },
  {
   "cell_type": "code",
   "execution_count": 67,
   "metadata": {},
   "outputs": [
    {
     "name": "stdout",
     "output_type": "stream",
     "text": [
      "[51 92 14 71 60 20 82 86 74 74]\n",
      "624\n",
      "62.4\n",
      "25.370061095708856\n"
     ]
    }
   ],
   "source": [
    "print(array)\n",
    "print(array.sum())\n",
    "print(array.mean())\n",
    "print(array.std())"
   ]
  },
  {
   "cell_type": "markdown",
   "metadata": {},
   "source": [
    "__Método argsort:__ Retorna uma array com os indices dos elementos na ordem dos valores:"
   ]
  },
  {
   "cell_type": "code",
   "execution_count": 68,
   "metadata": {},
   "outputs": [
    {
     "name": "stdout",
     "output_type": "stream",
     "text": [
      "[51 92 14 71 60 20 82 86 74 74]\n",
      "[2 5 0 4 3 8 9 6 7 1]\n"
     ]
    }
   ],
   "source": [
    "# cria um array com o argsort\n",
    "indices = np.argsort(array)\n",
    "\n",
    "#PRints\n",
    "print(array)\n",
    "print(indices)"
   ]
  },
  {
   "cell_type": "markdown",
   "metadata": {},
   "source": [
    "__Método sort:__ Ordena o array pela ordem dos valores:"
   ]
  },
  {
   "cell_type": "code",
   "execution_count": 69,
   "metadata": {},
   "outputs": [
    {
     "name": "stdout",
     "output_type": "stream",
     "text": [
      "[51 92 14 71 60 20 82 86 74 74]\n",
      "[14 20 51 60 71 74 74 82 86 92]\n"
     ]
    }
   ],
   "source": [
    "# Print antes do sort\n",
    "print(array)\n",
    "\n",
    "# sort\n",
    "array.sort()\n",
    "\n",
    "# Print do array depois do sort\n",
    "print(array)"
   ]
  },
  {
   "cell_type": "markdown",
   "metadata": {},
   "source": [
    "__Método astype:__ Troca o tipo de variável dos elementos de um array:"
   ]
  },
  {
   "cell_type": "code",
   "execution_count": 70,
   "metadata": {},
   "outputs": [
    {
     "name": "stdout",
     "output_type": "stream",
     "text": [
      "Mudar para string:  ['14' '20' '51' '60' '71' '74' '74' '82' '86' '92']\n"
     ]
    }
   ],
   "source": [
    "print(\"Mudar para string: \", array.astype(str))"
   ]
  },
  {
   "cell_type": "markdown",
   "metadata": {},
   "source": [
    "__Transposta de Matriz:__ Ao calcular a tranposta da Matriz, inverte os valores das linhas pelas colunas de cada uma das posições:"
   ]
  },
  {
   "cell_type": "code",
   "execution_count": 71,
   "metadata": {
    "scrolled": true
   },
   "outputs": [
    {
     "name": "stdout",
     "output_type": "stream",
     "text": [
      "[[1. 1.]\n",
      " [1. 1.]\n",
      " [1. 1.]\n",
      " [1. 1.]\n",
      " [1. 1.]\n",
      " [1. 1.]\n",
      " [1. 1.]\n",
      " [1. 1.]]\n",
      "Dimensões:  (8, 2)\n",
      "\n",
      "\n",
      "[[1. 1. 1. 1. 1. 1. 1. 1.]\n",
      " [1. 1. 1. 1. 1. 1. 1. 1.]]\n",
      "Dimensões:  (2, 8)\n"
     ]
    }
   ],
   "source": [
    "# matriz de 1s\n",
    "matriz = np.ones((8, 2))\n",
    "\n",
    "# Print\n",
    "print(matriz)\n",
    "print('Dimensões: ', matriz.shape)\n",
    "print('\\n')\n",
    "\n",
    "# Calcula a transposta\n",
    "matriz_T = matriz.T\n",
    "print(matriz_T)\n",
    "print('Dimensões: ', matriz_T.shape)"
   ]
  },
  {
   "cell_type": "markdown",
   "metadata": {},
   "source": [
    "##   "
   ]
  },
  {
   "cell_type": "markdown",
   "metadata": {},
   "source": [
    "## Máscara Booleana"
   ]
  },
  {
   "cell_type": "markdown",
   "metadata": {},
   "source": [
    "Um array de valores booleanos (máscara booleana) pode ser usado para selecionar elementos em um array.\n",
    "\n",
    "Máscaras boolenas também podem ser empregadas para fazer atribuições de maneira eficiente e elegante."
   ]
  },
  {
   "cell_type": "code",
   "execution_count": 72,
   "metadata": {},
   "outputs": [
    {
     "name": "stdout",
     "output_type": "stream",
     "text": [
      "[[ 0  1  2  3  4  5]\n",
      " [ 6  7  8  9 10 11]\n",
      " [12 13 14 15 16 17]]\n"
     ]
    }
   ],
   "source": [
    "# Criar um array entre 0 e 17 e depois transforma em uma matriz 3x6\n",
    "matriz = np.arange(18).reshape(3, 6)\n",
    "print(matriz)"
   ]
  },
  {
   "cell_type": "code",
   "execution_count": 73,
   "metadata": {},
   "outputs": [
    {
     "name": "stdout",
     "output_type": "stream",
     "text": [
      "[[False False False False False False]\n",
      " [False False False False  True  True]\n",
      " [ True  True  True  True  True  True]]\n"
     ]
    }
   ],
   "source": [
    "# Criar um elemento chamado de mascara\n",
    "mask = matriz > 9\n",
    "\n",
    "# Print da mascara\n",
    "print(mask)"
   ]
  },
  {
   "cell_type": "code",
   "execution_count": 74,
   "metadata": {},
   "outputs": [
    {
     "name": "stdout",
     "output_type": "stream",
     "text": [
      "[10 11 12 13 14 15 16 17]\n"
     ]
    }
   ],
   "source": [
    "# Trazer so os elementos que obedecem a condição\n",
    "print(matriz[mask])"
   ]
  },
  {
   "cell_type": "code",
   "execution_count": 75,
   "metadata": {},
   "outputs": [
    {
     "name": "stdout",
     "output_type": "stream",
     "text": [
      "[[0 1 2 3 4 5]\n",
      " [6 7 8 9 0 0]\n",
      " [0 0 0 0 0 0]]\n"
     ]
    }
   ],
   "source": [
    "# Passar uma modificação nos elementos da mascara\n",
    "matriz[mask] = 0\n",
    "\n",
    "print(matriz)"
   ]
  },
  {
   "cell_type": "markdown",
   "metadata": {
    "ExecuteTime": {
     "end_time": "2020-01-04T21:02:07.527623Z",
     "start_time": "2020-01-04T21:02:07.521633Z"
    }
   },
   "source": [
    "Também é possível aplicar filtros compostos!\n",
    "\n",
    "Pra fazer isso, nós fazems uma **composição lógica** entre os filtros (análogo ao \"and\" e ao \"or\")\n",
    "\n",
    "No caso de arrays, usamos:\n",
    "\n",
    "- \"&\" para \"and\"\n",
    "- \"|\" para \"or\"\n",
    "- \"~\" para \"not\""
   ]
  },
  {
   "cell_type": "code",
   "execution_count": 76,
   "metadata": {},
   "outputs": [
    {
     "name": "stdout",
     "output_type": "stream",
     "text": [
      "[44 47  0  3  3 39  9 19 21 36 23  6 24 24 12]\n"
     ]
    }
   ],
   "source": [
    "# Fixa a semente aleatoria\n",
    "np.random.seed(0)\n",
    "\n",
    "# cria um array aleatorio\n",
    "array_rand = np.random.randint(0, 50, 15)\n",
    "\n",
    "# print do array\n",
    "print(array_rand)"
   ]
  },
  {
   "cell_type": "code",
   "execution_count": 77,
   "metadata": {},
   "outputs": [
    {
     "name": "stdout",
     "output_type": "stream",
     "text": [
      "[ True False  True False False False False False False  True False  True\n",
      "  True  True  True]\n"
     ]
    }
   ],
   "source": [
    "#mascara para os pares\n",
    "pares = array_rand % 2 == 0\n",
    "\n",
    "# print\n",
    "print(pares)"
   ]
  },
  {
   "cell_type": "code",
   "execution_count": 78,
   "metadata": {},
   "outputs": [
    {
     "name": "stdout",
     "output_type": "stream",
     "text": [
      "[False False  True  True  True False  True  True  True False  True  True\n",
      "  True  True  True]\n"
     ]
    }
   ],
   "source": [
    "# condição para menor que 30\n",
    "menor_30 = array_rand < 30\n",
    "\n",
    "# print do condicional\n",
    "print(menor_30)"
   ]
  },
  {
   "cell_type": "code",
   "execution_count": 80,
   "metadata": {},
   "outputs": [
    {
     "name": "stdout",
     "output_type": "stream",
     "text": [
      "[False False  True False False False False False False False False  True\n",
      "  True  True  True]\n"
     ]
    }
   ],
   "source": [
    "# Composição dos filtros\n",
    "print(pares & menor_30)"
   ]
  },
  {
   "cell_type": "code",
   "execution_count": 81,
   "metadata": {},
   "outputs": [
    {
     "name": "stdout",
     "output_type": "stream",
     "text": [
      "[ 0  6 24 24 12]\n"
     ]
    }
   ],
   "source": [
    "# Print dos elementos que satisfaz\n",
    "print(array_rand[(pares & menor_30)])"
   ]
  },
  {
   "cell_type": "code",
   "execution_count": 82,
   "metadata": {},
   "outputs": [
    {
     "name": "stdout",
     "output_type": "stream",
     "text": [
      "[ True False  True  True  True False  True  True  True  True  True  True\n",
      "  True  True  True]\n"
     ]
    }
   ],
   "source": [
    "# Composição dos filtros\n",
    "print(pares | menor_30)"
   ]
  },
  {
   "cell_type": "code",
   "execution_count": 83,
   "metadata": {},
   "outputs": [
    {
     "name": "stdout",
     "output_type": "stream",
     "text": [
      "[44  0  3  3  9 19 21 36 23  6 24 24 12]\n"
     ]
    }
   ],
   "source": [
    "# Print dos elementos que satisfaz\n",
    "print(array_rand[(pares | menor_30)])"
   ]
  },
  {
   "cell_type": "markdown",
   "metadata": {},
   "source": [
    "##   "
   ]
  },
  {
   "cell_type": "markdown",
   "metadata": {},
   "source": [
    "## Exercícios"
   ]
  },
  {
   "cell_type": "markdown",
   "metadata": {},
   "source": [
    "### Exercício 1)\n",
    "Utilize comprehension para gerar a lista de todos os números interios entre 0 e 19. Converta a lista em um <font color='blue'>numpy</font> array bidimensional (matriz) com 4 linhas e 5 colunas."
   ]
  },
  {
   "cell_type": "code",
   "execution_count": 4,
   "metadata": {},
   "outputs": [],
   "source": [
    "\n",
    "list = [x for x in range(20)]\n",
    "np_mat = np.array(list).reshape( (4, 5) )"
   ]
  },
  {
   "cell_type": "markdown",
   "metadata": {},
   "source": [
    "### Exercício 2)\n",
    "Construa um array unidimensional com 30 números inteiros escolhidos de forma randômica no intervalo entre 0 e 20. Reformate o array para que se torne uma matriz `A` com 5 linhas e 6 colunas."
   ]
  },
  {
   "cell_type": "code",
   "execution_count": 47,
   "metadata": {},
   "outputs": [
    {
     "data": {
      "text/plain": [
       "array([[19,  8, 11,  2,  9, 13],\n",
       "       [ 0,  8, 11,  3, 10,  1],\n",
       "       [17,  0,  2,  7,  4, 14],\n",
       "       [18,  5,  0,  9, 10, 14],\n",
       "       [ 6,  1, 19,  1,  4,  9]])"
      ]
     },
     "execution_count": 47,
     "metadata": {},
     "output_type": "execute_result"
    }
   ],
   "source": [
    "np_array = np.random.randint(0, 20, 30)\n",
    "A = np_array.reshape( (5, 6) )\n",
    "A"
   ]
  },
  {
   "cell_type": "markdown",
   "metadata": {},
   "source": [
    "### Exercício 3)\n",
    "Crie uma __view__ da matriz `A` gerada na célula anterior contendo:\n",
    "- as linhas de `A` com índices 0,1 e 3\n",
    "- as linhas de `A` com índice 1 e 2 e as colunas com índice 0,2 e 4\n",
    "- as linhas de `A` com índice 1 e 3 e as colunas com índice 1 e 3"
   ]
  },
  {
   "cell_type": "markdown",
   "metadata": {},
   "source": [
    "__Obs.:__ para criar a view sem alterar o original, utilize o `np.copy(A)`"
   ]
  },
  {
   "cell_type": "code",
   "execution_count": 54,
   "metadata": {},
   "outputs": [
    {
     "ename": "IndexError",
     "evalue": "shape mismatch: indexing arrays could not be broadcast together with shapes (2,) (3,) ",
     "output_type": "error",
     "traceback": [
      "\u001b[0;31m---------------------------------------------------------------------------\u001b[0m",
      "\u001b[0;31mIndexError\u001b[0m                                Traceback (most recent call last)",
      "Cell \u001b[0;32mIn [54], line 5\u001b[0m\n\u001b[1;32m      1\u001b[0m A1 \u001b[39m=\u001b[39m np\u001b[39m.\u001b[39mcopy(A[[\u001b[39m0\u001b[39m, \u001b[39m1\u001b[39m, \u001b[39m3\u001b[39m], :])\n\u001b[1;32m      2\u001b[0m \u001b[39m# A2 = np.copy(A[[1, 2], :][:, [0, 2, 4]])\u001b[39;00m\n\u001b[1;32m      3\u001b[0m \u001b[39m# A2 = np.copy(A[[1, 2], [0, 2, 4]])\u001b[39;00m\n\u001b[1;32m      4\u001b[0m \u001b[39m# A[[1, 2], :]\u001b[39;00m\n\u001b[0;32m----> 5\u001b[0m A[[\u001b[39m1\u001b[39;49m, \u001b[39m2\u001b[39;49m], [\u001b[39m0\u001b[39;49m, \u001b[39m2\u001b[39;49m, \u001b[39m4\u001b[39;49m]]\n",
      "\u001b[0;31mIndexError\u001b[0m: shape mismatch: indexing arrays could not be broadcast together with shapes (2,) (3,) "
     ]
    }
   ],
   "source": [
    "A1 = np.copy(A[[0, 1, 3], :])\n",
    "# A2 = np.copy(A[[1, 2], :][:, [0, 2, 4]])\n",
    "# A2 = np.copy(A[[1, 2], [0, 2, 4]])\n",
    "# A[[1, 2], :]\n",
    "A[[1, 2], [0, 2, 4]]\n",
    "# A[[1, 2], :][:, [0, 2, 4]]\n",
    "# A2\n",
    "# A3 = np.copy(A[[1, 3], [1, 3]])\n",
    "# A3\n"
   ]
  },
  {
   "cell_type": "markdown",
   "metadata": {},
   "source": [
    "### Exercício 4)\n",
    "Construa um array `A` bidimensional 5x6 com 30 números inteiros escolhidos de forma randômica no intervalo entre 0 e 20. \n",
    "- faça uma cópia do array `A` criado, chamando a cópia de `Ac`\n",
    "- Substitua todos os elementos do array `A` que sejam maiores que 10 pelo valor -1 \n",
    "- Substitua todos os elementos do array `Ac` que sejam maiores que 7 e menores que 15 pelo valor -1 \n",
    "\n",
    "__Dica:__ Gere máscaras booleanas para realizar as modificações nos arrays."
   ]
  },
  {
   "cell_type": "code",
   "execution_count": 26,
   "metadata": {},
   "outputs": [
    {
     "name": "stdout",
     "output_type": "stream",
     "text": [
      "[[11  6 10 12  9  6]\n",
      " [19 14  6  4  3 13]\n",
      " [ 4  8 11 17 18  6]\n",
      " [ 4  3 11  7 10  6]\n",
      " [ 3 17  9  4 16 17]]\n",
      "\n",
      "[[-1  6 10 -1  9  6]\n",
      " [-1 -1  6  4  3 -1]\n",
      " [ 4  8 -1 -1 -1  6]\n",
      " [ 4  3 -1  7 10  6]\n",
      " [ 3 -1  9  4 -1 -1]]\n",
      "-----\n",
      "[[11  6 10 12  9  6]\n",
      " [19 14  6  4  3 13]\n",
      " [ 4  8 11 17 18  6]\n",
      " [ 4  3 11  7 10  6]\n",
      " [ 3 17  9  4 16 17]]\n",
      "\n",
      "[[11  6 10 12  9  6]\n",
      " [19 14  6  4  3 13]\n",
      " [ 4  8 11 17 18  6]\n",
      " [ 4  3 11  7 10  6]\n",
      " [ 3 17  9  4 16 17]]\n"
     ]
    }
   ],
   "source": [
    "A = np.random.randint(0, 20, 30).reshape( (5, 6) )\n",
    "Ac = A.copy()\n",
    "\n",
    "print(A)\n",
    "print()\n",
    "\n",
    "idx = A > 10\n",
    "A[idx] = -1\n",
    "print(A)\n",
    "print('-'*5)\n",
    "\n",
    "print(Ac)\n",
    "print()\n",
    "idx = (Ac > 7) & (Ac < 15)\n",
    "A[idx] = -1\n",
    "print(Ac)\n",
    "# idx\n"
   ]
  },
  {
   "cell_type": "markdown",
   "metadata": {},
   "source": [
    "### Exercício 5)\n",
    "Construa um array `A` com 20 linhas e 10 colunas onde os elementos são os números inteiros de  1 até 200.\n",
    "- Crie uma __view__ de `A` chamada `A_lpares` contendo apenas as linhas de `A` com índice par. \n",
    "- Crie uma __view__ de `A` chamada `A_lpares_cimpares` contendo as linhas `A` com índice par e colunas com índice ímpar. "
   ]
  },
  {
   "cell_type": "code",
   "execution_count": 36,
   "metadata": {},
   "outputs": [
    {
     "data": {
      "text/plain": [
       "array([[  2,   4,   6,   8,  10],\n",
       "       [ 22,  24,  26,  28,  30],\n",
       "       [ 42,  44,  46,  48,  50],\n",
       "       [ 62,  64,  66,  68,  70],\n",
       "       [ 82,  84,  86,  88,  90],\n",
       "       [102, 104, 106, 108, 110],\n",
       "       [122, 124, 126, 128, 130],\n",
       "       [142, 144, 146, 148, 150],\n",
       "       [162, 164, 166, 168, 170],\n",
       "       [182, 184, 186, 188, 190]])"
      ]
     },
     "execution_count": 36,
     "metadata": {},
     "output_type": "execute_result"
    }
   ],
   "source": [
    "A = np.arange(1, 201).reshape( (20, 10) )\n",
    "n_rows, n_cols = A.shape\n",
    "\n",
    "\n",
    "idx_rows_even = np.arange(n_rows) % 2 == 0\n",
    "A_lpares = np.copy(A[idx_rows_even, :])\n",
    "\n",
    "idx_rows_odd = np.arange(n_cols) % 2 != 0\n",
    "A_lpares_cimpares = np.copy(A_lpares[:, idx_rows_odd])\n",
    "# A_lpares_cimpares"
   ]
  },
  {
   "cell_type": "markdown",
   "metadata": {},
   "source": [
    "### Exercício 6)\n",
    "Substitua os elememtos do array `A` do exercício anterior por -1 quando pelo menos um dos índices do elemento é par. \n",
    "\n",
    "__Dica:__ Construa uma máscara booleana"
   ]
  },
  {
   "cell_type": "code",
   "execution_count": 37,
   "metadata": {},
   "outputs": [
    {
     "data": {
      "text/plain": [
       "array([[  1,   2,   3,   4,   5,   6,   7,   8,   9,  10],\n",
       "       [ 11,  12,  13,  14,  15,  16,  17,  18,  19,  20],\n",
       "       [ 21,  22,  23,  24,  25,  26,  27,  28,  29,  30],\n",
       "       [ 31,  32,  33,  34,  35,  36,  37,  38,  39,  40],\n",
       "       [ 41,  42,  43,  44,  45,  46,  47,  48,  49,  50],\n",
       "       [ 51,  52,  53,  54,  55,  56,  57,  58,  59,  60],\n",
       "       [ 61,  62,  63,  64,  65,  66,  67,  68,  69,  70],\n",
       "       [ 71,  72,  73,  74,  75,  76,  77,  78,  79,  80],\n",
       "       [ 81,  82,  83,  84,  85,  86,  87,  88,  89,  90],\n",
       "       [ 91,  92,  93,  94,  95,  96,  97,  98,  99, 100],\n",
       "       [101, 102, 103, 104, 105, 106, 107, 108, 109, 110],\n",
       "       [111, 112, 113, 114, 115, 116, 117, 118, 119, 120],\n",
       "       [121, 122, 123, 124, 125, 126, 127, 128, 129, 130],\n",
       "       [131, 132, 133, 134, 135, 136, 137, 138, 139, 140],\n",
       "       [141, 142, 143, 144, 145, 146, 147, 148, 149, 150],\n",
       "       [151, 152, 153, 154, 155, 156, 157, 158, 159, 160],\n",
       "       [161, 162, 163, 164, 165, 166, 167, 168, 169, 170],\n",
       "       [171, 172, 173, 174, 175, 176, 177, 178, 179, 180],\n",
       "       [181, 182, 183, 184, 185, 186, 187, 188, 189, 190],\n",
       "       [191, 192, 193, 194, 195, 196, 197, 198, 199, 200]])"
      ]
     },
     "execution_count": 37,
     "metadata": {},
     "output_type": "execute_result"
    }
   ],
   "source": [
    "Ac = np.copy(A[])"
   ]
  },
  {
   "cell_type": "markdown",
   "metadata": {},
   "source": [
    "### Exercício 7)\n",
    "Construa uma função chamada `ordena_linhas` que recebe uma matriz como parâmetro e troque as linhas de posição para que fiquem ordenadas de acordo com a primeira coluna. Por exemplo:\n",
    "```python\n",
    "A = np.array([[20, 26, 12], \n",
    "              [8, 3, 26], \n",
    "              [3, 10, 4]])\n",
    "print(ordena_linhas(A))\n",
    "```\n",
    "deve resultar em\n",
    "```python\n",
    "[[ 3 10  4]\n",
    " [ 8  3 26]\n",
    " [20 26 12]]\n",
    "```"
   ]
  },
  {
   "cell_type": "markdown",
   "metadata": {},
   "source": [
    "##   "
   ]
  },
  {
   "cell_type": "markdown",
   "metadata": {},
   "source": [
    "## Links, Artigos e Referências:"
   ]
  },
  {
   "cell_type": "markdown",
   "metadata": {},
   "source": [
    "- [Documentação do Numpy](https://numpy.org/doc/), documentação onde vocês podem encontrar mais informações sobre os métodos e funções do NumPy e descobrir novos métodos que não foram apresentados no curso;\n",
    "- [\"5 Smart Numpy Functions\",](https://towardsdatascience.com/5-smart-python-numpy-functions-dfd1072d2cb4) artigo escrito pelo Towards Data Science;\n",
    "- [\"Writing beautiful code with NumPy\"](https://medium.com/@zachary.bedell/writing-beautiful-code-with-numpy-505f3b353174), artigo escrito por Zach Bedell;"
   ]
  }
 ],
 "metadata": {
  "kernelspec": {
   "display_name": "Python 3",
   "language": "python",
   "name": "python3"
  },
  "language_info": {
   "codemirror_mode": {
    "name": "ipython",
    "version": 3
   },
   "file_extension": ".py",
   "mimetype": "text/x-python",
   "name": "python",
   "nbconvert_exporter": "python",
   "pygments_lexer": "ipython3",
   "version": "3.10.6 (main, Nov 14 2022, 16:10:14) [GCC 11.3.0]"
  },
  "vscode": {
   "interpreter": {
    "hash": "916dbcbb3f70747c44a77c7bcd40155683ae19c65e1c03b4aa3499c5328201f1"
   }
  }
 },
 "nbformat": 4,
 "nbformat_minor": 2
}
