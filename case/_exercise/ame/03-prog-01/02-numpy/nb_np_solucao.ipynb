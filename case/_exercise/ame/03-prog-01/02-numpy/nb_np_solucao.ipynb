{
 "cells": [
  {
   "cell_type": "markdown",
   "metadata": {},
   "source": [
    "# Aula 2 - NumPy\n",
    "\n",
    "Nessa aula, iremos tratar dos seguintes conteúdos:\n",
    "- Exercícios Resolvidos"
   ]
  },
  {
   "cell_type": "markdown",
   "metadata": {},
   "source": [
    "<img src=\"data:image/png;base64,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\" width=800>"
   ]
  },
  {
   "cell_type": "markdown",
   "metadata": {},
   "source": [
    "##   "
   ]
  },
  {
   "cell_type": "code",
   "execution_count": 1,
   "metadata": {},
   "outputs": [],
   "source": [
    "import numpy as np"
   ]
  },
  {
   "cell_type": "markdown",
   "metadata": {},
   "source": [
    "## Exercícios"
   ]
  },
  {
   "cell_type": "markdown",
   "metadata": {},
   "source": [
    "### Exercício 1)\n",
    "Utilize comprehension para gerar a lista de todos os números interios entre 0 e 19. Converta a lista em um <font color='blue'>numpy</font> array bidimensional (matriz) com 4 linhas e 5 colunas."
   ]
  },
  {
   "cell_type": "markdown",
   "metadata": {},
   "source": [
    "#### List Comprehension\n",
    "\n",
    "<img src='https://miro.medium.com/max/858/0*ChFR2D9j8fxqz3D5.png' width=800>"
   ]
  },
  {
   "cell_type": "code",
   "execution_count": 2,
   "metadata": {},
   "outputs": [
    {
     "name": "stdout",
     "output_type": "stream",
     "text": [
      "[[ 0  1  2  3  4]\n",
      " [ 5  6  7  8  9]\n",
      " [10 11 12 13 14]\n",
      " [15 16 17 18 19]]\n"
     ]
    }
   ],
   "source": [
    "# cria a lista\n",
    "lista = [i for i in range(20)]\n",
    "\n",
    "# Criar o array e redimensionar ele\n",
    "arr1 = np.array(lista).reshape(4,5)\n",
    "\n",
    "# Print array\n",
    "print(arr1)"
   ]
  },
  {
   "cell_type": "markdown",
   "metadata": {},
   "source": [
    "### Exercício 2)\n",
    "Construa um array unidimensional com 30 números inteiros escolhidos de forma randômica no intervalo entre 0 e 20. Reformate o array para que se torne uma matriz `A` com 5 linhas e 6 colunas."
   ]
  },
  {
   "cell_type": "code",
   "execution_count": 17,
   "metadata": {},
   "outputs": [
    {
     "name": "stdout",
     "output_type": "stream",
     "text": [
      "[[ 6 19 14 10  7 20]\n",
      " [ 6 18 10 10 20  3]\n",
      " [ 7  2 20  1 11  5]\n",
      " [ 1 20  0 11 11 16]\n",
      " [ 9 15 14 14 18 11]]\n"
     ]
    }
   ],
   "source": [
    "# Fixar semente aleatoria\n",
    "np.random.seed(42)\n",
    "\n",
    "#Cria o array e reformata ele\n",
    "A = np.random.randint(0, 21, 30).reshape(5, 6)\n",
    "\n",
    "# print do array\n",
    "print(A)"
   ]
  },
  {
   "cell_type": "markdown",
   "metadata": {},
   "source": [
    "### Exercício 3)\n",
    "Crie uma __view__ da matriz `A` gerada na célula anterior contendo:\n",
    "- as linhas de `A` com índices 0,1 e 3\n",
    "- as linhas de `A` com índice 1 e 2 e as colunas com índice 0,2 e 4\n",
    "- as linhas de `A` com índice 1 e 3 e as colunas com índice 1 e 3"
   ]
  },
  {
   "cell_type": "code",
   "execution_count": 5,
   "metadata": {},
   "outputs": [
    {
     "name": "stdout",
     "output_type": "stream",
     "text": [
      "[[ 6 19 14 10  7 20]\n",
      " [ 6 18 10 10 20  3]\n",
      " [ 7  2 20  1 11  5]\n",
      " [ 1 20  0 11 11 16]\n",
      " [ 9 15 14 14 18 11]]\n"
     ]
    }
   ],
   "source": [
    "# criando a view\n",
    "A_view = np.copy(A)\n",
    "\n",
    "# print da view\n",
    "print(A_view)"
   ]
  },
  {
   "cell_type": "code",
   "execution_count": 6,
   "metadata": {},
   "outputs": [
    {
     "name": "stdout",
     "output_type": "stream",
     "text": [
      "[[ 6 19 14 10  7 20]\n",
      " [ 6 18 10 10 20  3]\n",
      " [ 1 20  0 11 11 16]]\n"
     ]
    }
   ],
   "source": [
    "# Item 1\n",
    "\n",
    "# selecionando as linhas\n",
    "A0 = A[[0, 1, 3]]\n",
    "\n",
    "# print do A0\n",
    "print(A0)"
   ]
  },
  {
   "cell_type": "code",
   "execution_count": 8,
   "metadata": {},
   "outputs": [
    {
     "name": "stdout",
     "output_type": "stream",
     "text": [
      "[[ 6 10 20]\n",
      " [ 7 20 11]]\n"
     ]
    }
   ],
   "source": [
    "# Item 2\n",
    "\n",
    "# Selecionando as linhas\n",
    "A1 = A[1:3, [0, 2, 4]]\n",
    "\n",
    "# print do array\n",
    "print(A1)"
   ]
  },
  {
   "cell_type": "code",
   "execution_count": 10,
   "metadata": {},
   "outputs": [
    {
     "name": "stdout",
     "output_type": "stream",
     "text": [
      "[[ 6 19 14 10  7 20]\n",
      " [ 6 18 10 10 20  3]\n",
      " [ 7  2 20  1 11  5]\n",
      " [ 1 20  0 11 11 16]\n",
      " [ 9 15 14 14 18 11]]\n",
      "\n",
      "\n",
      "[[18 10]\n",
      " [20 11]]\n"
     ]
    }
   ],
   "source": [
    "# item 3\n",
    "\n",
    "# selecionando as linhas e colunas\n",
    "A2 = A[[1,3], :][:, [1,3]]\n",
    "\n",
    "# print do A\n",
    "print(A)\n",
    "print('\\n')\n",
    "\n",
    "# print do array\n",
    "print(A2)"
   ]
  },
  {
   "cell_type": "markdown",
   "metadata": {},
   "source": [
    "### Exercício 4)\n",
    "Construa um array `A` bidimensional 5x6 com 30 números inteiros escolhidos de forma randômica no intervalo entre 0 e 20. \n",
    "- faça uma cópia do array `A` criado, chamando a cópia de `Ac`\n",
    "- Substitua todos os elementos do array `A` que sejam maiores que 10 pelo valor -1 \n",
    "- Substitua todos os elementos do array `Ac` que sejam maiores que 7 e menores que 15 pelo valor -1 \n",
    "\n",
    "__Dica:__ Gere máscaras booleanas para realizar as modificações nos arrays."
   ]
  },
  {
   "cell_type": "code",
   "execution_count": 18,
   "metadata": {},
   "outputs": [
    {
     "name": "stdout",
     "output_type": "stream",
     "text": [
      "[[ 6 19 14 10  7 20]\n",
      " [ 6 18 10 10 20  3]\n",
      " [ 7  2 20  1 11  5]\n",
      " [ 1 20  0 11 11 16]\n",
      " [ 9 15 14 14 18 11]]\n"
     ]
    }
   ],
   "source": [
    "# criando o array Ac\n",
    "Ac = np.copy(A)\n",
    "\n",
    "# print do array\n",
    "print(Ac)"
   ]
  },
  {
   "cell_type": "code",
   "execution_count": 19,
   "metadata": {},
   "outputs": [
    {
     "data": {
      "text/plain": [
       "array([[False,  True,  True, False, False,  True],\n",
       "       [False,  True, False, False,  True, False],\n",
       "       [False, False,  True, False,  True, False],\n",
       "       [False,  True, False,  True,  True,  True],\n",
       "       [False,  True,  True,  True,  True,  True]])"
      ]
     },
     "execution_count": 19,
     "metadata": {},
     "output_type": "execute_result"
    }
   ],
   "source": [
    "# Cria a mascara booleana\n",
    "mask_A = A > 10\n",
    "mask_A"
   ]
  },
  {
   "cell_type": "code",
   "execution_count": 20,
   "metadata": {},
   "outputs": [
    {
     "name": "stdout",
     "output_type": "stream",
     "text": [
      "[[ 6 -1 -1 10  7 -1]\n",
      " [ 6 -1 10 10 -1  3]\n",
      " [ 7  2 -1  1 -1  5]\n",
      " [ 1 -1  0 -1 -1 -1]\n",
      " [ 9 -1 -1 -1 -1 -1]]\n"
     ]
    }
   ],
   "source": [
    "# modificar o A\n",
    "A[mask_A] = -1\n",
    "\n",
    "# print do A\n",
    "print(A)"
   ]
  },
  {
   "cell_type": "code",
   "execution_count": 21,
   "metadata": {
    "scrolled": true
   },
   "outputs": [
    {
     "data": {
      "text/plain": [
       "array([[False, False,  True,  True, False, False],\n",
       "       [False, False,  True,  True, False, False],\n",
       "       [False, False, False, False,  True, False],\n",
       "       [False, False, False,  True,  True, False],\n",
       "       [ True, False,  True,  True, False,  True]])"
      ]
     },
     "execution_count": 21,
     "metadata": {},
     "output_type": "execute_result"
    }
   ],
   "source": [
    "# criando a mascara booleana\n",
    "mask_Ac = (Ac > 7) & (Ac < 15)\n",
    "mask_Ac"
   ]
  },
  {
   "cell_type": "code",
   "execution_count": 22,
   "metadata": {},
   "outputs": [
    {
     "name": "stdout",
     "output_type": "stream",
     "text": [
      "[[ 6 19 -1 -1  7 20]\n",
      " [ 6 18 -1 -1 20  3]\n",
      " [ 7  2 20  1 -1  5]\n",
      " [ 1 20  0 -1 -1 16]\n",
      " [-1 15 -1 -1 18 -1]]\n"
     ]
    }
   ],
   "source": [
    "# Modifica o array\n",
    "Ac[mask_Ac] = -1\n",
    "\n",
    "# print do Ac\n",
    "print(Ac)"
   ]
  },
  {
   "cell_type": "markdown",
   "metadata": {},
   "source": [
    "### Exercício 5)\n",
    "Construa um array `A` com 20 linhas e 10 colunas onde os elementos são os números inteiros de  1 até 200.\n",
    "- Crie uma __view__ de `A` chamada `A_lpares` contendo apenas as linhas de `A` com índice par. \n",
    "- Crie uma __view__ de `A` chamada `A_lpares_cimpares` contendo as linhas `A` com índice par e colunas com índice ímpar. "
   ]
  },
  {
   "cell_type": "code",
   "execution_count": 23,
   "metadata": {},
   "outputs": [
    {
     "name": "stdout",
     "output_type": "stream",
     "text": [
      "[[  1   2   3   4   5   6   7   8   9  10]\n",
      " [ 11  12  13  14  15  16  17  18  19  20]\n",
      " [ 21  22  23  24  25  26  27  28  29  30]\n",
      " [ 31  32  33  34  35  36  37  38  39  40]\n",
      " [ 41  42  43  44  45  46  47  48  49  50]\n",
      " [ 51  52  53  54  55  56  57  58  59  60]\n",
      " [ 61  62  63  64  65  66  67  68  69  70]\n",
      " [ 71  72  73  74  75  76  77  78  79  80]\n",
      " [ 81  82  83  84  85  86  87  88  89  90]\n",
      " [ 91  92  93  94  95  96  97  98  99 100]\n",
      " [101 102 103 104 105 106 107 108 109 110]\n",
      " [111 112 113 114 115 116 117 118 119 120]\n",
      " [121 122 123 124 125 126 127 128 129 130]\n",
      " [131 132 133 134 135 136 137 138 139 140]\n",
      " [141 142 143 144 145 146 147 148 149 150]\n",
      " [151 152 153 154 155 156 157 158 159 160]\n",
      " [161 162 163 164 165 166 167 168 169 170]\n",
      " [171 172 173 174 175 176 177 178 179 180]\n",
      " [181 182 183 184 185 186 187 188 189 190]\n",
      " [191 192 193 194 195 196 197 198 199 200]]\n"
     ]
    }
   ],
   "source": [
    "# Construindo o array\n",
    "A = np.arange(1, 201).reshape(20, 10)\n",
    "\n",
    "#print do array\n",
    "print(A)"
   ]
  },
  {
   "cell_type": "code",
   "execution_count": 25,
   "metadata": {},
   "outputs": [],
   "source": [
    "# copia o array A\n",
    "A_lpares = np.copy(A)"
   ]
  },
  {
   "cell_type": "code",
   "execution_count": 28,
   "metadata": {},
   "outputs": [
    {
     "name": "stdout",
     "output_type": "stream",
     "text": [
      "[[  1   2   3   4   5   6   7   8   9  10]\n",
      " [ 21  22  23  24  25  26  27  28  29  30]\n",
      " [ 41  42  43  44  45  46  47  48  49  50]\n",
      " [ 61  62  63  64  65  66  67  68  69  70]\n",
      " [ 81  82  83  84  85  86  87  88  89  90]\n",
      " [101 102 103 104 105 106 107 108 109 110]\n",
      " [121 122 123 124 125 126 127 128 129 130]\n",
      " [141 142 143 144 145 146 147 148 149 150]\n",
      " [161 162 163 164 165 166 167 168 169 170]\n",
      " [181 182 183 184 185 186 187 188 189 190]]\n"
     ]
    }
   ],
   "source": [
    "# filtrar o array criado\n",
    "A_lpares = A_lpares[np.arange(0, A_lpares.shape[0], 2)]\n",
    "\n",
    "# print do array\n",
    "print(A_lpares)"
   ]
  },
  {
   "cell_type": "code",
   "execution_count": 30,
   "metadata": {},
   "outputs": [],
   "source": [
    "# copia o array A\n",
    "A_lpares_cimpares = np.copy(A)"
   ]
  },
  {
   "cell_type": "code",
   "execution_count": 31,
   "metadata": {},
   "outputs": [
    {
     "name": "stdout",
     "output_type": "stream",
     "text": [
      "[[  2   4   6   8  10]\n",
      " [ 22  24  26  28  30]\n",
      " [ 42  44  46  48  50]\n",
      " [ 62  64  66  68  70]\n",
      " [ 82  84  86  88  90]\n",
      " [102 104 106 108 110]\n",
      " [122 124 126 128 130]\n",
      " [142 144 146 148 150]\n",
      " [162 164 166 168 170]\n",
      " [182 184 186 188 190]]\n"
     ]
    }
   ],
   "source": [
    "# filtrar o array criado\n",
    "A_lpares_cimpares = A_lpares_cimpares[np.arange(0, A_lpares_cimpares.shape[0], 2)][:, np.arange(1, A_lpares_cimpares.shape[1], 2)]\n",
    "\n",
    "# print do array\n",
    "print(A_lpares_cimpares)"
   ]
  },
  {
   "cell_type": "markdown",
   "metadata": {},
   "source": [
    "### Exercício 6)\n",
    "Substitua os elememtos do array `A` do exercício anterior por -1 quando pelo menos um dos índices do elemento é par. \n",
    "\n",
    "__Dica:__ Construa uma máscara booleana"
   ]
  },
  {
   "cell_type": "code",
   "execution_count": 32,
   "metadata": {},
   "outputs": [
    {
     "data": {
      "text/plain": [
       "[True,\n",
       " True,\n",
       " True,\n",
       " True,\n",
       " True,\n",
       " True,\n",
       " True,\n",
       " True,\n",
       " True,\n",
       " True,\n",
       " True,\n",
       " False,\n",
       " True,\n",
       " False,\n",
       " True,\n",
       " False,\n",
       " True,\n",
       " False,\n",
       " True,\n",
       " False,\n",
       " True,\n",
       " True,\n",
       " True,\n",
       " True,\n",
       " True,\n",
       " True,\n",
       " True,\n",
       " True,\n",
       " True,\n",
       " True,\n",
       " True,\n",
       " False,\n",
       " True,\n",
       " False,\n",
       " True,\n",
       " False,\n",
       " True,\n",
       " False,\n",
       " True,\n",
       " False,\n",
       " True,\n",
       " True,\n",
       " True,\n",
       " True,\n",
       " True,\n",
       " True,\n",
       " True,\n",
       " True,\n",
       " True,\n",
       " True,\n",
       " True,\n",
       " False,\n",
       " True,\n",
       " False,\n",
       " True,\n",
       " False,\n",
       " True,\n",
       " False,\n",
       " True,\n",
       " False,\n",
       " True,\n",
       " True,\n",
       " True,\n",
       " True,\n",
       " True,\n",
       " True,\n",
       " True,\n",
       " True,\n",
       " True,\n",
       " True,\n",
       " True,\n",
       " False,\n",
       " True,\n",
       " False,\n",
       " True,\n",
       " False,\n",
       " True,\n",
       " False,\n",
       " True,\n",
       " False,\n",
       " True,\n",
       " True,\n",
       " True,\n",
       " True,\n",
       " True,\n",
       " True,\n",
       " True,\n",
       " True,\n",
       " True,\n",
       " True,\n",
       " True,\n",
       " False,\n",
       " True,\n",
       " False,\n",
       " True,\n",
       " False,\n",
       " True,\n",
       " False,\n",
       " True,\n",
       " False,\n",
       " True,\n",
       " True,\n",
       " True,\n",
       " True,\n",
       " True,\n",
       " True,\n",
       " True,\n",
       " True,\n",
       " True,\n",
       " True,\n",
       " True,\n",
       " False,\n",
       " True,\n",
       " False,\n",
       " True,\n",
       " False,\n",
       " True,\n",
       " False,\n",
       " True,\n",
       " False,\n",
       " True,\n",
       " True,\n",
       " True,\n",
       " True,\n",
       " True,\n",
       " True,\n",
       " True,\n",
       " True,\n",
       " True,\n",
       " True,\n",
       " True,\n",
       " False,\n",
       " True,\n",
       " False,\n",
       " True,\n",
       " False,\n",
       " True,\n",
       " False,\n",
       " True,\n",
       " False,\n",
       " True,\n",
       " True,\n",
       " True,\n",
       " True,\n",
       " True,\n",
       " True,\n",
       " True,\n",
       " True,\n",
       " True,\n",
       " True,\n",
       " True,\n",
       " False,\n",
       " True,\n",
       " False,\n",
       " True,\n",
       " False,\n",
       " True,\n",
       " False,\n",
       " True,\n",
       " False,\n",
       " True,\n",
       " True,\n",
       " True,\n",
       " True,\n",
       " True,\n",
       " True,\n",
       " True,\n",
       " True,\n",
       " True,\n",
       " True,\n",
       " True,\n",
       " False,\n",
       " True,\n",
       " False,\n",
       " True,\n",
       " False,\n",
       " True,\n",
       " False,\n",
       " True,\n",
       " False,\n",
       " True,\n",
       " True,\n",
       " True,\n",
       " True,\n",
       " True,\n",
       " True,\n",
       " True,\n",
       " True,\n",
       " True,\n",
       " True,\n",
       " True,\n",
       " False,\n",
       " True,\n",
       " False,\n",
       " True,\n",
       " False,\n",
       " True,\n",
       " False,\n",
       " True,\n",
       " False]"
      ]
     },
     "execution_count": 32,
     "metadata": {},
     "output_type": "execute_result"
    }
   ],
   "source": [
    "# Definindo a mascara booleana\n",
    "mask = [(i%2 == 0) or (j%2 == 0) for i in range(A.shape[0]) for j in range(A.shape[1])]\n",
    "mask"
   ]
  },
  {
   "cell_type": "code",
   "execution_count": 33,
   "metadata": {},
   "outputs": [
    {
     "data": {
      "text/plain": [
       "array([[ True,  True,  True,  True,  True,  True,  True,  True,  True,\n",
       "         True],\n",
       "       [ True, False,  True, False,  True, False,  True, False,  True,\n",
       "        False],\n",
       "       [ True,  True,  True,  True,  True,  True,  True,  True,  True,\n",
       "         True],\n",
       "       [ True, False,  True, False,  True, False,  True, False,  True,\n",
       "        False],\n",
       "       [ True,  True,  True,  True,  True,  True,  True,  True,  True,\n",
       "         True],\n",
       "       [ True, False,  True, False,  True, False,  True, False,  True,\n",
       "        False],\n",
       "       [ True,  True,  True,  True,  True,  True,  True,  True,  True,\n",
       "         True],\n",
       "       [ True, False,  True, False,  True, False,  True, False,  True,\n",
       "        False],\n",
       "       [ True,  True,  True,  True,  True,  True,  True,  True,  True,\n",
       "         True],\n",
       "       [ True, False,  True, False,  True, False,  True, False,  True,\n",
       "        False],\n",
       "       [ True,  True,  True,  True,  True,  True,  True,  True,  True,\n",
       "         True],\n",
       "       [ True, False,  True, False,  True, False,  True, False,  True,\n",
       "        False],\n",
       "       [ True,  True,  True,  True,  True,  True,  True,  True,  True,\n",
       "         True],\n",
       "       [ True, False,  True, False,  True, False,  True, False,  True,\n",
       "        False],\n",
       "       [ True,  True,  True,  True,  True,  True,  True,  True,  True,\n",
       "         True],\n",
       "       [ True, False,  True, False,  True, False,  True, False,  True,\n",
       "        False],\n",
       "       [ True,  True,  True,  True,  True,  True,  True,  True,  True,\n",
       "         True],\n",
       "       [ True, False,  True, False,  True, False,  True, False,  True,\n",
       "        False],\n",
       "       [ True,  True,  True,  True,  True,  True,  True,  True,  True,\n",
       "         True],\n",
       "       [ True, False,  True, False,  True, False,  True, False,  True,\n",
       "        False]])"
      ]
     },
     "execution_count": 33,
     "metadata": {},
     "output_type": "execute_result"
    }
   ],
   "source": [
    "# transformando num array\n",
    "mask = np.array(mask).reshape(A.shape[0], A.shape[1])\n",
    "mask"
   ]
  },
  {
   "cell_type": "code",
   "execution_count": 34,
   "metadata": {},
   "outputs": [
    {
     "name": "stdout",
     "output_type": "stream",
     "text": [
      "[[ -1  -1  -1  -1  -1  -1  -1  -1  -1  -1]\n",
      " [ -1  12  -1  14  -1  16  -1  18  -1  20]\n",
      " [ -1  -1  -1  -1  -1  -1  -1  -1  -1  -1]\n",
      " [ -1  32  -1  34  -1  36  -1  38  -1  40]\n",
      " [ -1  -1  -1  -1  -1  -1  -1  -1  -1  -1]\n",
      " [ -1  52  -1  54  -1  56  -1  58  -1  60]\n",
      " [ -1  -1  -1  -1  -1  -1  -1  -1  -1  -1]\n",
      " [ -1  72  -1  74  -1  76  -1  78  -1  80]\n",
      " [ -1  -1  -1  -1  -1  -1  -1  -1  -1  -1]\n",
      " [ -1  92  -1  94  -1  96  -1  98  -1 100]\n",
      " [ -1  -1  -1  -1  -1  -1  -1  -1  -1  -1]\n",
      " [ -1 112  -1 114  -1 116  -1 118  -1 120]\n",
      " [ -1  -1  -1  -1  -1  -1  -1  -1  -1  -1]\n",
      " [ -1 132  -1 134  -1 136  -1 138  -1 140]\n",
      " [ -1  -1  -1  -1  -1  -1  -1  -1  -1  -1]\n",
      " [ -1 152  -1 154  -1 156  -1 158  -1 160]\n",
      " [ -1  -1  -1  -1  -1  -1  -1  -1  -1  -1]\n",
      " [ -1 172  -1 174  -1 176  -1 178  -1 180]\n",
      " [ -1  -1  -1  -1  -1  -1  -1  -1  -1  -1]\n",
      " [ -1 192  -1 194  -1 196  -1 198  -1 200]]\n"
     ]
    }
   ],
   "source": [
    "# Modificando a matriz A\n",
    "A[mask] = -1\n",
    "\n",
    "print(A)"
   ]
  },
  {
   "cell_type": "markdown",
   "metadata": {},
   "source": [
    "### Exercício 7)\n",
    "Construa uma função chamada `ordena_linhas` que recebe uma matriz como parâmetro e troque as linhas de posição para que fiquem ordenadas de acordo com a primeira coluna. Por exemplo:\n",
    "```python\n",
    "A = np.array([[20, 26, 12], \n",
    "              [8, 3, 26], \n",
    "              [3, 10, 4]])\n",
    "print(ordena_linhas(A))\n",
    "```\n",
    "deve resultar em\n",
    "```python\n",
    "[[ 3 10  4]\n",
    " [ 8  3 26]\n",
    " [20 26 12]]\n",
    "```"
   ]
  },
  {
   "cell_type": "code",
   "execution_count": 35,
   "metadata": {},
   "outputs": [],
   "source": [
    "def ordena_linhas(A):\n",
    "    # define os indices\n",
    "    indices_col0 = np.argsort(A, axis = 0)[:, 0]\n",
    "    # reordenar a matriz\n",
    "    A = A[indices_col0]\n",
    "    \n",
    "    return A"
   ]
  },
  {
   "cell_type": "code",
   "execution_count": 37,
   "metadata": {},
   "outputs": [
    {
     "name": "stdout",
     "output_type": "stream",
     "text": [
      "[[12 15 21]\n",
      " [ 0  3 27]\n",
      " [ 3  7  9]]\n",
      "\n",
      "\n",
      "[[ 0  3 27]\n",
      " [ 3  7  9]\n",
      " [12 15 21]]\n"
     ]
    }
   ],
   "source": [
    "# semente aleatoria\n",
    "np.random.seed(0)\n",
    "\n",
    "# Cria um array\n",
    "X = np.random.randint(0, 31, 9).reshape(3, 3)\n",
    "\n",
    "# print do array\n",
    "print(X)\n",
    "\n",
    "# print do array ordenado\n",
    "print('\\n')\n",
    "print(ordena_linhas(X))"
   ]
  },
  {
   "cell_type": "markdown",
   "metadata": {},
   "source": [
    "##   "
   ]
  },
  {
   "cell_type": "markdown",
   "metadata": {},
   "source": [
    "## Aritmétrica vetorial e matricial"
   ]
  },
  {
   "cell_type": "markdown",
   "metadata": {},
   "source": [
    "A multiplicação matriz e vetor (ou matriz e matriz) como definida na álgebra matricial é feita utilizando o método <font color='blue'>dot</font>.\n",
    "\n",
    "__Atenção:__ As dimensões devem ser compatíveis"
   ]
  },
  {
   "cell_type": "markdown",
   "metadata": {},
   "source": [
    "$$\n",
    "b1 = \\left[\\begin{array}{cc}\n",
    "           1 & 1 \\\\\n",
    "           2 & 2\n",
    "    \\end{array}\\right]\\cdot\n",
    "    \\left[\\begin{array}{c}\n",
    "           1  \\\\\n",
    "           2 \n",
    "    \\end{array}\\right] = \\left[\\begin{array}{c}\n",
    "           3  \\\\\n",
    "           6 \n",
    "    \\end{array}\\right]\n",
    "$$\n",
    "\n",
    "$$\n",
    "b2 = \\left[\\begin{array}{cc}\n",
    "           1 & 2 \n",
    "    \\end{array}\\right]\\cdot\n",
    "\\left[\\begin{array}{cc}\n",
    "           1 & 1 \\\\\n",
    "           2 & 2\n",
    "    \\end{array}\\right]\\cdot\n",
    "     = \\left[\\begin{array}{cc}\n",
    "           5 & 5\n",
    "    \\end{array}\\right]\n",
    "$$"
   ]
  },
  {
   "cell_type": "code",
   "execution_count": 40,
   "metadata": {},
   "outputs": [
    {
     "name": "stdout",
     "output_type": "stream",
     "text": [
      "[[1 1]\n",
      " [2 2]]\n",
      "\n",
      "\n",
      "[1 2]\n",
      "\n",
      "\n",
      "[[1]\n",
      " [2]]\n"
     ]
    }
   ],
   "source": [
    "# cria a matriz e os vetores\n",
    "m1 = np.array([[1, 1], [2, 2]])\n",
    "v2 = np.array([1, 2])\n",
    "v1 = np.array([[1], [2]])\n",
    "\n",
    "# prints\n",
    "print(m1)\n",
    "print('\\n')\n",
    "print(v2)\n",
    "print('\\n')\n",
    "print(v1)"
   ]
  },
  {
   "cell_type": "code",
   "execution_count": 41,
   "metadata": {},
   "outputs": [
    {
     "name": "stdout",
     "output_type": "stream",
     "text": [
      "[[3]\n",
      " [6]]\n"
     ]
    }
   ],
   "source": [
    "# calculando b1\n",
    "b1 = np.dot(m1, v1)\n",
    "\n",
    "# print do b1\n",
    "print(b1)"
   ]
  },
  {
   "cell_type": "code",
   "execution_count": 42,
   "metadata": {},
   "outputs": [
    {
     "name": "stdout",
     "output_type": "stream",
     "text": [
      "[5 5]\n"
     ]
    }
   ],
   "source": [
    "# calculando b2\n",
    "b2 = np.dot(v2, m1)\n",
    "\n",
    "# print do b2\n",
    "print(b2)"
   ]
  },
  {
   "cell_type": "markdown",
   "metadata": {},
   "source": [
    "##   "
   ]
  },
  {
   "cell_type": "markdown",
   "metadata": {},
   "source": [
    "## Links, Artigos e Referências:"
   ]
  },
  {
   "cell_type": "markdown",
   "metadata": {},
   "source": [
    "- [Documentação do Numpy](https://numpy.org/doc/), documentação onde vocês podem encontrar mais informações sobre os métodos e funções do NumPy e descobrir novos métodos que não foram apresentados no curso;\n",
    "- [\"5 Smart Numpy Functions\",](https://towardsdatascience.com/5-smart-python-numpy-functions-dfd1072d2cb4) artigo escrito pelo Towards Data Science;\n",
    "- [\"Writing beautiful code with NumPy\"](https://medium.com/@zachary.bedell/writing-beautiful-code-with-numpy-505f3b353174), artigo escrito por Zach Bedell;"
   ]
  }
 ],
 "metadata": {
  "kernelspec": {
   "display_name": "Python 3",
   "language": "python",
   "name": "python3"
  },
  "language_info": {
   "codemirror_mode": {
    "name": "ipython",
    "version": 3
   },
   "file_extension": ".py",
   "mimetype": "text/x-python",
   "name": "python",
   "nbconvert_exporter": "python",
   "pygments_lexer": "ipython3",
   "version": "3.10.6 (main, Nov 14 2022, 16:10:14) [GCC 11.3.0]"
  },
  "vscode": {
   "interpreter": {
    "hash": "916dbcbb3f70747c44a77c7bcd40155683ae19c65e1c03b4aa3499c5328201f1"
   }
  }
 },
 "nbformat": 4,
 "nbformat_minor": 2
}
