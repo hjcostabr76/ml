{
 "cells": [
  {
   "attachments": {},
   "cell_type": "markdown",
   "id": "03019251",
   "metadata": {},
   "source": [
    "# Lista 1 - NumPy\n",
    "\n",
    "## Exercícios\n",
    "\n",
    "Para a resolução dos exercícios abaixo, utilize todas as ferramentas e métodos do NumPy aprendidos em aula e existe algumas outras métodos que podem ser úteis na documentação [_NumPy Documentation_](https://numpy.org/doc/). Durante a correção, não será considerado exercícios que não utilizar a ferramenta (muitos deles da pra responder apenas com Python, mas não é esse o intuito da lista).\n",
    "\n",
    "__Funcionamento dos Exercícios:__ todos os exercícios são do estilo onde será preciso criar uma função para resolver a proposta do enunciado. Será avaliado apenas a função, mas sugiro que crie casos de testes para avaliar se a função está operando corretamente.\n",
    "\n",
    "__Avaliação e Entrega:__ São 5 exercícios que valem 10 pontos, e a entrega vai ser na forma de um notebook através da tarefa criada no Class.\n",
    "\n",
    "__Data Limite para Entrega:__ Próxima aula 03/02\n"
   ]
  },
  {
   "cell_type": "code",
   "execution_count": 2,
   "id": "bed246d0",
   "metadata": {},
   "outputs": [],
   "source": [
    "import numpy as np"
   ]
  },
  {
   "attachments": {},
   "cell_type": "markdown",
   "id": "94bb8080",
   "metadata": {},
   "source": [
    "### 1) Restaurantes Mais Próximos\n",
    "\n",
    "Perto da casa de João existem vários restaurantes que entregam comida e João deseja fazer um pedido, mas ele tem um compromisso marcado e não pode esperar muito tempo. Então João quer saber qual é o restaurante mais próximo da residencial dele utilizando da distância Euclidiana, cuja a fórmula é dado pela equação a seguir:\n",
    "\n",
    "<img align=\"center\" src=\"https://i.upmath.me/svg/%20d(A%2C%20B)%20%3D%20%5Csqrt%7B(x_%7BA%2C%201%7D%20-%20x_%7BB%2C%201%7D)%5E%7B2%7D%20%2B%20(x_%7BA%2C%202%7D%20-%20x_%7BB%2C%202%7D)%5E%7B2%7D%20%2B%20...%20%2B%20(x_%7BA%2C%20n%7D%20-%20x_%7BB%2C%20n%7D)%5E%7B2%7D%7D\" alt=\" d(A, B) = \\sqrt{(x_{A, 1} - x_{B, 1})^{2} + (x_{A, 2} - x_{B, 2})^{2} + ... + (x_{A, n} - x_{B, n})^{2}}\" />\n",
    "\n",
    "Desenvolva uma função chamada `restaurante_mais_proximo` que irá receber como parâmetros respectivamente __uma lista de coordenadas da casa do João__ e __uma lista com 4 listas com as coordenadas dos restaurantes a verificar__ e o retorno da função deve ser __o número referente ao restaurante mais próximo__. Importante ressaltar que o número do restaurante começa pelo 1 e que em caso de empate, deve-se indicar __o primeiro restaurante a apresentar a menor distância__."
   ]
  },
  {
   "cell_type": "code",
   "execution_count": 9,
   "id": "cc8787b4",
   "metadata": {},
   "outputs": [],
   "source": [
    "# exemplo de entrada\n",
    "# lembrando que pode ter n coordenadas\n",
    "restaurantes = [[1, 3, 5], [2, 4, 0], [3, 3, 3], [1, 6, 6]]\n",
    "joao = [0, 1, 2]"
   ]
  },
  {
   "cell_type": "code",
   "execution_count": 21,
   "id": "3784fe0d",
   "metadata": {},
   "outputs": [],
   "source": [
    "def restaurante_mais_prodimo(coord_home: list, coord_restaurants: list) -> int:\n",
    "\n",
    "    coord_home = np.array(coord_home)\n",
    "    coord_restaurants = np.array(coord_restaurants)\n",
    "\n",
    "    dists = np.array([])\n",
    "    for coord in coord_restaurants:\n",
    "        dist = np.sqrt(np.sum(np.square(coord_home - coord)))\n",
    "        dists = np.append(dists, dist)\n",
    "\n",
    "    closest = np.argmin(dists) + 1\n",
    "    return closest\n",
    "\n",
    "# restaurante_mais_prodimo(coord_home=joao, coord_restaurants=restaurantes)"
   ]
  },
  {
   "cell_type": "code",
   "execution_count": 22,
   "id": "718129a0",
   "metadata": {},
   "outputs": [
    {
     "data": {
      "text/plain": [
       "1"
      ]
     },
     "execution_count": 22,
     "metadata": {},
     "output_type": "execute_result"
    }
   ],
   "source": [
    "restaurante_mais_prodimo(coord_home=joao, coord_restaurants=restaurantes)"
   ]
  },
  {
   "cell_type": "markdown",
   "id": "c4acd507",
   "metadata": {},
   "source": [
    "## 2) Ordenando pelo MMC\n",
    "\n",
    "O Mínimo Múltiplo Comum (MMC) de dois ou mais números é definido pelo múltiplo comum corresponde a todos os números observados. Por exemplo o MMC entre 6 e 10 é o 30 devido aos número 2, 3 e 5. O objetivo deste exercício, além de calcular o MMC será ordenar a lista utilizando o MMC. Portanto desenvolva a função `ordenar_mmc` onde como entrada irá receber uma lista de números e um número a parte de referência. A função deve calcular O MMC de cada um dos números da lista em relação ao de referência e em seguida ordenar os números originais de acordo com o MMC do menor valor para o maior, como o exemplo a seguir:\n",
    "\n",
    "```python\n",
    "# lista de entrada\n",
    "lista = [12, 8, 10]\n",
    "\n",
    "# numero de referência\n",
    "ref = 4\n",
    "\n",
    "# utilizando a função\n",
    "print(ordenar_mmc(lista, ref))\n",
    "\n",
    "# Resultado da função, pois o mmcs = [12, 8, 20] \n",
    "[8, 12, 10]\n",
    "```"
   ]
  },
  {
   "cell_type": "code",
   "execution_count": 23,
   "id": "6504a3e3",
   "metadata": {},
   "outputs": [],
   "source": [
    "lista = [12, 8, 10]\n",
    "ref = 4"
   ]
  },
  {
   "cell_type": "code",
   "execution_count": 28,
   "id": "b2b245d5",
   "metadata": {},
   "outputs": [],
   "source": [
    "def ordenar_mmc(numbers: list, ref: int) -> list:\n",
    "    \n",
    "    lcm_list = []\n",
    "\n",
    "    for n in numbers:\n",
    "        lcm_list.append(np.lcm(n, ref))\n",
    "\n",
    "    idx = np.argsort(np.array(lcm_list))\n",
    "    return np.array(numbers)[idx]\n",
    "\n",
    "# ordenar_mmc(numbers=lista, ref=ref)"
   ]
  },
  {
   "cell_type": "code",
   "execution_count": 29,
   "id": "1f23b052",
   "metadata": {},
   "outputs": [
    {
     "data": {
      "text/plain": [
       "array([ 8, 12, 10])"
      ]
     },
     "execution_count": 29,
     "metadata": {},
     "output_type": "execute_result"
    }
   ],
   "source": [
    "ordenar_mmc(numbers=lista, ref=ref)"
   ]
  },
  {
   "cell_type": "markdown",
   "id": "76d5dd27",
   "metadata": {},
   "source": [
    "### 3) Normalização ou Z-Score\n",
    "\n",
    "A normalização (também conhecido como Z-Score) é uma ferramenta muito importante da estatística onde para um conjunto de dados, calcula-se quais serão os respectivos valores se aquele conjunto de dados seguir uma dstribuição normal. O objetivo deste exercício será desenvolver a função `z_score`, onde dado uma lista de entrada com um conjunto de dados quaisquer, devolve a lista com os respectivos Z-Scores dos dados, seguindo a função $z = \\frac{x - \\mu}{\\sigma}$, onde $\\mu$ é a média do conjunto de dados e $\\sigma$ é o desvio padrão do mesmo (arredonde os valores para 4 casas decimais)."
   ]
  },
  {
   "cell_type": "code",
   "execution_count": 48,
   "id": "c358b5aa",
   "metadata": {},
   "outputs": [],
   "source": [
    "lista = [4, 6, 7, 8, 9]\n",
    "\n",
    "# primeiro passo = calcular a media da lista\n",
    "# segundo passo = calcular o desvio padrao\n",
    "# terceiro passo calcular o z = (x- media)/desvio padrao\n",
    "# por fim arredonda com o np.round(numero, 4)\n"
   ]
  },
  {
   "cell_type": "code",
   "execution_count": 46,
   "id": "32940c8a",
   "metadata": {},
   "outputs": [],
   "source": [
    "def z_score(numbers: list) -> float:\n",
    "\n",
    "    mean = np.mean(numbers)\n",
    "    std_dev = np.std(numbers)\n",
    "    # print(f'mean: {mean}; std_dev: {std_dev}')\n",
    "\n",
    "    z_scores = (numbers - mean) / std_dev\n",
    "    return np.round(z_scores,  4).tolist()\n"
   ]
  },
  {
   "cell_type": "code",
   "execution_count": 47,
   "id": "66f3bc67",
   "metadata": {},
   "outputs": [
    {
     "data": {
      "text/plain": [
       "[-1.6275, -0.465, 0.1162, 0.6975, 1.2787]"
      ]
     },
     "execution_count": 47,
     "metadata": {},
     "output_type": "execute_result"
    }
   ],
   "source": [
    "z_score(lista)"
   ]
  },
  {
   "cell_type": "markdown",
   "id": "8a0e5aa1",
   "metadata": {},
   "source": [
    "### 4) Escalonamento MinMaxScaler\n",
    "\n",
    "De forma anáçoga a normalização, o MinMaxScaler altera a escala a ser utilizada em um conjunto de dados, onde busca-se os valores máximo e mínimo de um conjunto de dados para depois transformar em uma escala que varia entre esses valores. O objetivo deste exercício será desenvolver uma função chamada `minmaxscaler` que irá receber como entrada um conjunto de dados e de saída será uma lista com os valores na nova escala seguindo a função $y = \\frac{x - min}{max - min}$ (arredonde para 3 casas decimais)."
   ]
  },
  {
   "cell_type": "code",
   "execution_count": 50,
   "id": "bcd35013",
   "metadata": {},
   "outputs": [],
   "source": [
    "# primeiro passo = calcula o min e max\n",
    "# segundo passo = calcula o y = (x-min)/(max-min)\n",
    "# por fim arredonda com 4 casas\n",
    "\n",
    "lista = [5, 10, 15, 20]"
   ]
  },
  {
   "cell_type": "code",
   "execution_count": 53,
   "id": "7e05a653",
   "metadata": {},
   "outputs": [],
   "source": [
    "def minmaxscaler(numbers: list) -> list:\n",
    "    min = np.min(numbers)\n",
    "    max = np.max(numbers)\n",
    "    scaled = (numbers - min) / (max - min)\n",
    "    return np.round(scaled, 3).tolist()\n"
   ]
  },
  {
   "cell_type": "code",
   "execution_count": 54,
   "id": "cae7f78b",
   "metadata": {},
   "outputs": [
    {
     "data": {
      "text/plain": [
       "[0.0, 0.333, 0.667, 1.0]"
      ]
     },
     "execution_count": 54,
     "metadata": {},
     "output_type": "execute_result"
    }
   ],
   "source": [
    "minmaxscaler(numbers=lista)"
   ]
  },
  {
   "cell_type": "markdown",
   "id": "d162de14",
   "metadata": {},
   "source": [
    "### 5) Matching entre Vetores\n",
    "\n",
    "No contexto de Machine Learning, um processo bem comum é de comparar respostas entre vetores para entender o quão acertivo foi um determinado modelo. Dado um contexto, desenvolva a função `vector_matching` que verifica posição a posição destes vetores, que valores de zeros e uns foram acertados. Para esta função têm-se como entrada __dois vetores de dimensões iguais__ preenchidos com 0 ou 1 e a saída da função será o percentual de acerto entre os vetores (arredonde o percentual para 1 casa decimal)."
   ]
  },
  {
   "cell_type": "code",
   "execution_count": 56,
   "id": "6ce1bdf6",
   "metadata": {},
   "outputs": [],
   "source": [
    "v1 = [0, 0, 0, 1, 1, 1, 1, 0]\n",
    "v2 = [1, 0, 0, 1, 1, 0, 0, 1]"
   ]
  },
  {
   "cell_type": "code",
   "execution_count": 60,
   "id": "500170b0",
   "metadata": {},
   "outputs": [],
   "source": [
    "def vector_matching(v1: list, v2: list) -> float:\n",
    "    \n",
    "    v1 = np.array(v1)\n",
    "    v2 = np.array(v2)\n",
    "\n",
    "    n_hits = np.sum(v1 == v2)\n",
    "    accuracy = n_hits / len(v1)\n",
    "    # print(f'n_hits: {n_hits}, accuracy: {accuracy}')\n",
    "    \n",
    "    return np.round(accuracy * 100, 1)\n"
   ]
  },
  {
   "cell_type": "code",
   "execution_count": 61,
   "id": "8a8e1c49",
   "metadata": {},
   "outputs": [
    {
     "data": {
      "text/plain": [
       "50.0"
      ]
     },
     "execution_count": 61,
     "metadata": {},
     "output_type": "execute_result"
    }
   ],
   "source": [
    "vector_matching(v1=v1, v2=v2)"
   ]
  }
 ],
 "metadata": {
  "kernelspec": {
   "display_name": "Python 3",
   "language": "python",
   "name": "python3"
  },
  "language_info": {
   "codemirror_mode": {
    "name": "ipython",
    "version": 3
   },
   "file_extension": ".py",
   "mimetype": "text/x-python",
   "name": "python",
   "nbconvert_exporter": "python",
   "pygments_lexer": "ipython3",
   "version": "3.10.6 (main, Nov 14 2022, 16:10:14) [GCC 11.3.0]"
  },
  "vscode": {
   "interpreter": {
    "hash": "916dbcbb3f70747c44a77c7bcd40155683ae19c65e1c03b4aa3499c5328201f1"
   }
  }
 },
 "nbformat": 4,
 "nbformat_minor": 5
}
