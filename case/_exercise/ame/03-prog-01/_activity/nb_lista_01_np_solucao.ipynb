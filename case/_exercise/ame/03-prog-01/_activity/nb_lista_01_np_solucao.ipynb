{
 "cells": [
  {
   "cell_type": "markdown",
   "id": "03019251",
   "metadata": {},
   "source": [
    "# Lista 1 - NumPy\n",
    "\n",
    "## Exercícios\n",
    "\n",
    "Para a resolução dos exercícios abaixo, utilize todas as ferramentas e métodos do NumPy aprendidos em aula e existe algumas outras métodos que podem ser úteis na documentação [_NumPy Documentation_](https://numpy.org/doc/). Durante a correção, não será considerado exercícios que não utilizar a ferramenta (muitos deles da pra responder apenas com Python, mas não é esse o intuito da lista).\n",
    "\n",
    "__Funcionamento dos Exercícios:__ todos os exercícios são do estilo onde será preciso criar uma função para resolver a proposta do enunciado. Será avaliado apenas a função, mas sugiro que crie casos de testes para avaliar se a função está operando corretamente.\n",
    "\n",
    "__Avaliação e Entrega:__ São 5 exercícios que valem 10 pontos, e a entrega vai ser na forma de um notebook através da tarefa criada no Class.\n",
    "\n",
    "__Data Limite para Entrega:__ Próxima aula 03/02\n",
    "\n",
    "\n",
    "### 1) Restaurantes Mais Próximos\n",
    "\n",
    "Perto da casa de João existem vários restaurantes que entregam comida e João deseja fazer um pedido, mas ele tem um compromisso marcado e não pode esperar muito tempo. Então João quer saber qual é o restaurante mais próximo da residencial dele utilizando da distância Euclidiana, cuja a fórmula é dado pela equação a seguir:\n",
    "\n",
    "<img align=\"center\" src=\"https://i.upmath.me/svg/%20d(A%2C%20B)%20%3D%20%5Csqrt%7B(x_%7BA%2C%201%7D%20-%20x_%7BB%2C%201%7D)%5E%7B2%7D%20%2B%20(x_%7BA%2C%202%7D%20-%20x_%7BB%2C%202%7D)%5E%7B2%7D%20%2B%20...%20%2B%20(x_%7BA%2C%20n%7D%20-%20x_%7BB%2C%20n%7D)%5E%7B2%7D%7D\" alt=\" d(A, B) = \\sqrt{(x_{A, 1} - x_{B, 1})^{2} + (x_{A, 2} - x_{B, 2})^{2} + ... + (x_{A, n} - x_{B, n})^{2}}\" />\n",
    "\n",
    "Desenvolva uma função chamada `restaurante_mais_proximo` que irá receber como parâmetros respectivamente __uma lista de coordenadas da casa do João__ e __uma lista com 4 listas com as coordenadas dos restaurantes a verificar__ e o retorno da função deve ser __o número referente ao restaurante mais próximo__. Importante ressaltar que o número do restaurante começa pelo 1 e que em caso de empate, deve-se indicar __o primeiro restaurante a apresentar a menor distância__."
   ]
  },
  {
   "cell_type": "code",
   "execution_count": 3,
   "id": "0c6cfde0",
   "metadata": {},
   "outputs": [],
   "source": [
    "import numpy as np"
   ]
  },
  {
   "cell_type": "code",
   "execution_count": 19,
   "id": "cc8787b4",
   "metadata": {},
   "outputs": [],
   "source": [
    "# exemplo de entrada\n",
    "# lembrando que pode ter n coordenadas\n",
    "restaurantes = [[1, 3, 5], [2, 4, 0], [3, 3, 3], [1, 6, 6]]\n",
    "joao = [0, 1, 2]"
   ]
  },
  {
   "cell_type": "code",
   "execution_count": 14,
   "id": "3784fe0d",
   "metadata": {},
   "outputs": [],
   "source": [
    "def restaurantes_mais_proximos(casa, restaurantes):\n",
    "    casa = np.array(casa)\n",
    "    restaurantes = np.array(restaurantes)\n",
    "    \n",
    "    distancia_euclidiana = np.sqrt(np.sum((restaurantes - casa)**2, axis = 1))\n",
    "    \n",
    "    indice = np.argmin(distancia_euclidiana)\n",
    "    \n",
    "    return indice + 1"
   ]
  },
  {
   "cell_type": "code",
   "execution_count": 15,
   "id": "718129a0",
   "metadata": {},
   "outputs": [
    {
     "name": "stdout",
     "output_type": "stream",
     "text": [
      "1\n"
     ]
    }
   ],
   "source": [
    "print(restaurantes_mais_proximos(joao, restaurantes))"
   ]
  },
  {
   "cell_type": "code",
   "execution_count": 16,
   "id": "f989f299",
   "metadata": {},
   "outputs": [
    {
     "name": "stdout",
     "output_type": "stream",
     "text": [
      "[[0.37454012 0.95071431 0.73199394]]\n",
      "[[0.59865848 0.15601864 0.15599452]\n",
      " [0.05808361 0.86617615 0.60111501]\n",
      " [0.70807258 0.02058449 0.96990985]\n",
      " [0.83244264 0.21233911 0.18182497]]\n"
     ]
    }
   ],
   "source": [
    "np.random.seed(42)\n",
    "\n",
    "joao = np.random.rand(1,3)\n",
    "print(joao)\n",
    "\n",
    "restaurantes = np.random.rand(4,3)\n",
    "print(restaurantes)"
   ]
  },
  {
   "cell_type": "code",
   "execution_count": 32,
   "id": "41678900",
   "metadata": {
    "scrolled": true
   },
   "outputs": [
    {
     "name": "stdout",
     "output_type": "stream",
     "text": [
      "1\n"
     ]
    }
   ],
   "source": [
    "print(restaurantes_mais_proximos2(joao, restaurantes))"
   ]
  },
  {
   "cell_type": "code",
   "execution_count": 25,
   "id": "93fd736e",
   "metadata": {},
   "outputs": [],
   "source": [
    "def restaurantes_mais_proximos2(casa, restaurantes):\n",
    "    ar_joao = np.array([casa]*len(restaurantes))\n",
    "    ar_rest = np.array(restaurantes)\n",
    "    \n",
    "    ar_dist = np.linalg.norm(ar_joao - ar_rest, axis = 1)\n",
    "    \n",
    "    return np.argmin(ar_dist) + 1"
   ]
  },
  {
   "cell_type": "code",
   "execution_count": 21,
   "id": "ba2db832",
   "metadata": {},
   "outputs": [
    {
     "name": "stdout",
     "output_type": "stream",
     "text": [
      "[[0 1 2]\n",
      " [0 1 2]\n",
      " [0 1 2]\n",
      " [0 1 2]]\n"
     ]
    }
   ],
   "source": [
    "ar_joao = np.array([joao]*len(restaurantes))\n",
    "print(ar_joao)"
   ]
  },
  {
   "cell_type": "code",
   "execution_count": 29,
   "id": "892a75cc",
   "metadata": {},
   "outputs": [],
   "source": [
    "def restaurantes_mais_proximos3(casa, restaurantes):\n",
    "    distancias = []\n",
    "    dist = 0\n",
    "    \n",
    "    for i in range(np.array(restaurantes).shape[0]):\n",
    "        dist = np.linalg.norm(np.array(casa) - np.array(restaurantes[i]))\n",
    "        distancias.append(dist)\n",
    "        \n",
    "    return np.argmin(np.array(distancias)) + 1   "
   ]
  },
  {
   "cell_type": "code",
   "execution_count": 31,
   "id": "bb95e865",
   "metadata": {},
   "outputs": [
    {
     "name": "stdout",
     "output_type": "stream",
     "text": [
      "1\n"
     ]
    }
   ],
   "source": [
    "print(restaurantes_mais_proximos3(joao, restaurantes))"
   ]
  },
  {
   "cell_type": "markdown",
   "id": "c4acd507",
   "metadata": {},
   "source": [
    "## 2) Ordenando pelo MMC\n",
    "\n",
    "O Mínimo Múltiplo Comum (MMC) de dois ou mais números é definido pelo múltiplo comum corresponde a todos os números observados. Por exemplo o MMC entre 6 e 10 é o 30 devido aos número 2, 3 e 5. O objetivo deste exercício, além de calcular o MMC será ordenar a lista utilizando o MMC. Portanto desenvolva a função `ordenar_mmc` onde como entrada irá receber uma lista de números e um número a parte de referência. A função deve calcular O MMC de cada um dos números da lista em relação ao de referência e em seguida ordenar os números originais de acordo com o MMC do menor valor para o maior, como o exemplo a seguir:\n",
    "\n",
    "```python\n",
    "# lista de entrada\n",
    "lista = [12, 8, 10]\n",
    "\n",
    "# numero de referência\n",
    "ref = 4\n",
    "\n",
    "# utilizando a função\n",
    "print(ordenar_mmc(lista, ref))\n",
    "\n",
    "# Resultado da função, pois o mmcs = [12, 8, 20] \n",
    "[8, 12, 10]\n",
    "```"
   ]
  },
  {
   "cell_type": "code",
   "execution_count": null,
   "id": "092c27f2",
   "metadata": {},
   "outputs": [],
   "source": [
    "def ordenar_mmc(lista, ref):\n",
    "    ar_lista = np.array(lista)\n",
    "    ar_ref = np.array([ref]*len(lista))\n",
    "    \n",
    "    mmcs = np.lcm(ar_lista, ar_ref)\n",
    "    \n",
    "    ord_idx = np.argsort(mmcs)\n",
    "    \n",
    "\n",
    "    return list(ar_lista[ord_idx])"
   ]
  },
  {
   "cell_type": "code",
   "execution_count": 61,
   "id": "6504a3e3",
   "metadata": {},
   "outputs": [],
   "source": [
    "def ordenar_mmc(lista, ref):\n",
    "    mmcs = np.lcm(lista, ref)\n",
    "    \n",
    "    ord_idx = np.argsort(mmcs)\n",
    "    \n",
    "    print(ord_idx)\n",
    "    return [lista[x] for x in ord_idx]"
   ]
  },
  {
   "cell_type": "code",
   "execution_count": 34,
   "id": "b2b245d5",
   "metadata": {},
   "outputs": [],
   "source": [
    "lista = [12, 20, 14, 25, 100, 50, 23]\n",
    "\n",
    "ref = 5"
   ]
  },
  {
   "cell_type": "code",
   "execution_count": 62,
   "id": "1f23b052",
   "metadata": {},
   "outputs": [
    {
     "name": "stdout",
     "output_type": "stream",
     "text": [
      "[1 3 5 0 2 4 6]\n",
      "[20, 25, 50, 12, 14, 100, 23]\n"
     ]
    }
   ],
   "source": [
    "print(ordenar_mmc(lista, ref))"
   ]
  },
  {
   "cell_type": "code",
   "execution_count": 47,
   "id": "fa113e29",
   "metadata": {},
   "outputs": [],
   "source": [
    "def ordenar_mmc2(lista, ref):\n",
    "    mmcs = []\n",
    "    \n",
    "    for num in lista:\n",
    "        mmcs.append(np.lcm(num, ref))\n",
    "        \n",
    "    return [x for _, x in sorted(zip(mmcs, lista))]"
   ]
  },
  {
   "cell_type": "code",
   "execution_count": 48,
   "id": "adc6d31a",
   "metadata": {},
   "outputs": [
    {
     "name": "stdout",
     "output_type": "stream",
     "text": [
      "[20, 25, 50, 12, 14, 100, 23]\n"
     ]
    }
   ],
   "source": [
    "print(ordenar_mmc2(lista, ref))"
   ]
  },
  {
   "cell_type": "code",
   "execution_count": null,
   "id": "842f1eef",
   "metadata": {},
   "outputs": [],
   "source": [
    "# Explicando o zip dos mmcs"
   ]
  },
  {
   "cell_type": "code",
   "execution_count": 37,
   "id": "870ce61f",
   "metadata": {},
   "outputs": [],
   "source": [
    "def ordenar_mmc3(lista, ref):\n",
    "    mmcs = []\n",
    "    \n",
    "    for num in lista:\n",
    "        mmcs.append(np.lcm(num, ref))\n",
    "        \n",
    "    return mmcs"
   ]
  },
  {
   "cell_type": "code",
   "execution_count": 39,
   "id": "36e5e3ab",
   "metadata": {},
   "outputs": [
    {
     "data": {
      "text/plain": [
       "[60, 20, 70, 25, 100, 50, 115]"
      ]
     },
     "execution_count": 39,
     "metadata": {},
     "output_type": "execute_result"
    }
   ],
   "source": [
    "mmcs = ordenar_mmc3(lista, ref)\n",
    "mmcs"
   ]
  },
  {
   "cell_type": "code",
   "execution_count": 42,
   "id": "99f6aafb",
   "metadata": {},
   "outputs": [
    {
     "name": "stdout",
     "output_type": "stream",
     "text": [
      "(60, 12)\n",
      "(20, 20)\n",
      "(70, 14)\n",
      "(25, 25)\n",
      "(100, 100)\n",
      "(50, 50)\n",
      "(115, 23)\n"
     ]
    }
   ],
   "source": [
    "for i in zip(mmcs, lista):\n",
    "    print(i)"
   ]
  },
  {
   "cell_type": "code",
   "execution_count": 43,
   "id": "755d12ad",
   "metadata": {},
   "outputs": [
    {
     "name": "stdout",
     "output_type": "stream",
     "text": [
      "(20, 20)\n",
      "(25, 25)\n",
      "(50, 50)\n",
      "(60, 12)\n",
      "(70, 14)\n",
      "(100, 100)\n",
      "(115, 23)\n"
     ]
    }
   ],
   "source": [
    "for i in sorted(zip(mmcs, lista)):\n",
    "    print(i)"
   ]
  },
  {
   "cell_type": "code",
   "execution_count": 46,
   "id": "2727e1b8",
   "metadata": {},
   "outputs": [
    {
     "name": "stdout",
     "output_type": "stream",
     "text": [
      "20\n",
      "25\n",
      "50\n",
      "12\n",
      "14\n",
      "100\n",
      "23\n"
     ]
    }
   ],
   "source": [
    "for _, x in sorted(zip(mmcs, lista)):\n",
    "    print(x)"
   ]
  },
  {
   "cell_type": "code",
   "execution_count": 44,
   "id": "57b6e4da",
   "metadata": {},
   "outputs": [
    {
     "name": "stdout",
     "output_type": "stream",
     "text": [
      "{(115, 23), (100, 100), (25, 25), (20, 20), (50, 50), (70, 14), (60, 12)}\n"
     ]
    }
   ],
   "source": [
    "print(set(zip(mmcs, lista)))"
   ]
  },
  {
   "cell_type": "markdown",
   "id": "76d5dd27",
   "metadata": {},
   "source": [
    "### 3) Normalização ou Z-Score\n",
    "\n",
    "A normalização (também conhecido como Z-Score) é uma ferramenta muito importante da estatística onde para um conjunto de dados, calcula-se quais serão os respectivos valores se aquele conjunto de dados seguir uma dstribuição normal. O objetivo deste exercício será desenvolver a função `z_score`, onde dado uma lista de entrada com um conjunto de dados quaisquer, devolve a lista com os respectivos Z-Scores dos dados, seguindo a função $z = \\frac{x - \\mu}{\\sigma}$, onde $\\mu$ é a média do conjunto de dados e $\\sigma$ é o desvio padrão do mesmo (arredonde os valores para 4 casas decimais)."
   ]
  },
  {
   "cell_type": "code",
   "execution_count": 63,
   "id": "c358b5aa",
   "metadata": {},
   "outputs": [],
   "source": [
    "lista = [4, 6, 7, 8, 9]\n",
    "\n",
    "# primeiro passo = calcular a media da lista\n",
    "# segundo passo = calcular o desvio padrao\n",
    "# terceiro passo calcular o z = (x- media)/desvio padrao\n",
    "# por fim arredonda com o np.round(numero, 4)"
   ]
  },
  {
   "cell_type": "code",
   "execution_count": 64,
   "id": "32940c8a",
   "metadata": {},
   "outputs": [],
   "source": [
    "def z_score(data):\n",
    "    arr1 = np.array(data)\n",
    "    \n",
    "    mean_arr = np.mean(arr1)\n",
    "    desvio = np.std(arr1)\n",
    "    \n",
    "    z = arr1 - mean_arr\n",
    "    z = z/desvio\n",
    "    \n",
    "    return list(np.round(z, 4))"
   ]
  },
  {
   "cell_type": "code",
   "execution_count": null,
   "id": "d62261c9",
   "metadata": {},
   "outputs": [],
   "source": [
    "def z_score2(data):\n",
    "    mu = np.mean(data)\n",
    "    sigma = np.std(data)\n",
    "    \n",
    "    zs = []\n",
    "    for x in data:\n",
    "        z = np.round((x - mu)/sigma, 4)\n",
    "        zs.append(z)\n",
    "        \n",
    "    return zs"
   ]
  },
  {
   "cell_type": "code",
   "execution_count": 65,
   "id": "66f3bc67",
   "metadata": {},
   "outputs": [
    {
     "name": "stdout",
     "output_type": "stream",
     "text": [
      "[-1.6275 -0.465   0.1162  0.6975  1.2787]\n"
     ]
    }
   ],
   "source": [
    "print(z_score(lista))"
   ]
  },
  {
   "cell_type": "markdown",
   "id": "8a0e5aa1",
   "metadata": {},
   "source": [
    "### 4) Escalonamento MinMaxScaler\n",
    "\n",
    "De forma anáçoga a normalização, o MinMaxScaler altera a escala a ser utilizada em um conjunto de dados, onde busca-se os valores máximo e mínimo de um conjunto de dados para depois transformar em uma escala que varia entre esses valores. O objetivo deste exercício será desenvolver uma função chamada `minmaxscaler` que irá receber como entrada um conjunto de dados e de saída será uma lista com os valores na nova escala seguindo a função $y = \\frac{x - min}{max - min}$ (arredonde para 3 casas decimais)."
   ]
  },
  {
   "cell_type": "code",
   "execution_count": null,
   "id": "bcd35013",
   "metadata": {},
   "outputs": [],
   "source": [
    "# primeiro passo = calcula o min e max\n",
    "# segundo passo = calcula o y = (x-min)/(max-min)\n",
    "# por fim arredonda com 4 casas"
   ]
  },
  {
   "cell_type": "code",
   "execution_count": 68,
   "id": "7e05a653",
   "metadata": {},
   "outputs": [],
   "source": [
    "def minmaxscaler(data):\n",
    "    minimo = np.min(data)\n",
    "    maximo = np.max(data)\n",
    "    \n",
    "    escalonamento =[]\n",
    "    \n",
    "    for x in data:\n",
    "        y = np.round((x - minimo)/(maximo - minimo), 3)\n",
    "        escalonamento.append(y)\n",
    "        \n",
    "    return escalonamento"
   ]
  },
  {
   "cell_type": "code",
   "execution_count": 69,
   "id": "cae7f78b",
   "metadata": {},
   "outputs": [
    {
     "name": "stdout",
     "output_type": "stream",
     "text": [
      "[0.0, 0.4, 0.6, 0.8, 1.0]\n"
     ]
    }
   ],
   "source": [
    "print(minmaxscaler(lista))"
   ]
  },
  {
   "cell_type": "markdown",
   "id": "d162de14",
   "metadata": {},
   "source": [
    "### 5) Matching entre Vetores\n",
    "\n",
    "No contexto de Machine Learning, um processo bem comum é de comparar respostas entre vetores para entender o quão acertivo foi um determinado modelo. Dado um contexto, desenvolva a função `vector_matching` que verifica posição a posição destes vetores, que valores de zeros e uns foram acertados. Para esta função têm-se como entrada __dois vetores de dimensões iguais__ preenchidos com 0 ou 1 e a saída da função será o percentual de acerto entre os vetores (arredonde o percentual para 1 casa decimal)."
   ]
  },
  {
   "cell_type": "code",
   "execution_count": 71,
   "id": "500170b0",
   "metadata": {},
   "outputs": [],
   "source": [
    "def vector_matching(v1, v2):\n",
    "    arr_v1 = np.array(v1)\n",
    "    arr_v2 = np.array(v2)\n",
    "    \n",
    "    mask = (arr_v1 == arr_v2).astype(int)\n",
    "    \n",
    "    return np.round((np.sum(mask)/len(v1))*100, 1)"
   ]
  },
  {
   "cell_type": "code",
   "execution_count": 72,
   "id": "8a8e1c49",
   "metadata": {},
   "outputs": [
    {
     "name": "stdout",
     "output_type": "stream",
     "text": [
      "50.0\n"
     ]
    }
   ],
   "source": [
    "print(vector_matching(v1, v2))"
   ]
  },
  {
   "cell_type": "code",
   "execution_count": 73,
   "id": "0b070254",
   "metadata": {},
   "outputs": [],
   "source": [
    "def vector_matching2(v1, v2):\n",
    "    return np.round((len(np.where(np.array(v1) == np.array(v2))[0])/len(np.array(v1)))*100, 1)"
   ]
  },
  {
   "cell_type": "code",
   "execution_count": 74,
   "id": "73309f6d",
   "metadata": {},
   "outputs": [
    {
     "name": "stdout",
     "output_type": "stream",
     "text": [
      "50.0\n"
     ]
    }
   ],
   "source": [
    "print(vector_matching2(v1, v2))"
   ]
  },
  {
   "cell_type": "code",
   "execution_count": 70,
   "id": "6ce1bdf6",
   "metadata": {},
   "outputs": [],
   "source": [
    "v1 = [0, 0, 0, 1, 1, 1, 1, 0]\n",
    "v2 = [1, 0, 0, 1, 1, 0, 0, 1]"
   ]
  },
  {
   "cell_type": "code",
   "execution_count": 75,
   "id": "d4836124",
   "metadata": {},
   "outputs": [],
   "source": [
    "def vector_matching3(v1, v2):\n",
    "    v1 = np.array(v1)\n",
    "    v2 = np.array(v2)\n",
    "    print('v1: ', v1)\n",
    "    print('v2: ', v2)\n",
    "\n",
    "    v1 = 1 - v1\n",
    "    print('v1 invertido: ', v1)\n",
    "    v2 = np.absolute(v2 - v1)\n",
    "    print('diferença entre v2 e v1 invertido: ', v2)\n",
    "\n",
    "    acertos = np.sum(v2)\n",
    "    print('total de acertos: ', acertos)\n",
    "    return np.round(acertos/v2.shape[0], 1)  "
   ]
  },
  {
   "cell_type": "code",
   "execution_count": 76,
   "id": "786f46d4",
   "metadata": {},
   "outputs": [
    {
     "name": "stdout",
     "output_type": "stream",
     "text": [
      "v1:  [0 0 0 1 1 1 1 0]\n",
      "v2:  [1 0 0 1 1 0 0 1]\n",
      "v1 invertido:  [1 1 1 0 0 0 0 1]\n",
      "diferença entre v2 e v1 invertido:  [0 1 1 1 1 0 0 0]\n",
      "total de acertos:  4\n",
      "0.5\n"
     ]
    }
   ],
   "source": [
    "print(vector_matching3(v1, v2))"
   ]
  },
  {
   "cell_type": "code",
   "execution_count": null,
   "id": "ef945f76",
   "metadata": {},
   "outputs": [],
   "source": [
    "def vector_matching4(v1, v2):\n",
    "    return np.round((((np.array(v1) == np.array(v2)).sum())/len(v1))*100, 1)"
   ]
  }
 ],
 "metadata": {
  "kernelspec": {
   "display_name": "Python 3",
   "language": "python",
   "name": "python3"
  },
  "language_info": {
   "codemirror_mode": {
    "name": "ipython",
    "version": 3
   },
   "file_extension": ".py",
   "mimetype": "text/x-python",
   "name": "python",
   "nbconvert_exporter": "python",
   "pygments_lexer": "ipython3",
   "version": "3.10.6 (main, Nov 14 2022, 16:10:14) [GCC 11.3.0]"
  },
  "vscode": {
   "interpreter": {
    "hash": "916dbcbb3f70747c44a77c7bcd40155683ae19c65e1c03b4aa3499c5328201f1"
   }
  }
 },
 "nbformat": 4,
 "nbformat_minor": 5
}
