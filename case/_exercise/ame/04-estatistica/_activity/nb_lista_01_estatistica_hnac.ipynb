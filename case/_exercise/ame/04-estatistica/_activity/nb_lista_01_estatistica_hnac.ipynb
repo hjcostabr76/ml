{
 "cells": [
  {
   "attachments": {},
   "cell_type": "markdown",
   "id": "6bbe1be8-11db-48e4-9bd6-d5e52c0a190e",
   "metadata": {},
   "source": [
    "# Lista de Exercícios I - Estatística I"
   ]
  },
  {
   "cell_type": "code",
   "execution_count": 92,
   "id": "d95b2a70",
   "metadata": {},
   "outputs": [],
   "source": [
    "import math\n",
    "\n",
    "import pandas as pd\n",
    "import numpy as np\n",
    "\n",
    "from scipy import stats"
   ]
  },
  {
   "cell_type": "code",
   "execution_count": 43,
   "id": "c897d248",
   "metadata": {},
   "outputs": [],
   "source": [
    "RANDOM_SEED = 2"
   ]
  },
  {
   "attachments": {},
   "cell_type": "markdown",
   "id": "3cd549e3",
   "metadata": {},
   "source": [
    "### 1"
   ]
  },
  {
   "attachments": {},
   "cell_type": "markdown",
   "id": "b03ee944",
   "metadata": {},
   "source": [
    "__Enunciado__\n",
    "\n",
    "A probabilidade de dado honesto é conhecido e igual a $1/6$, mas quando vamos testar isso com um dado físico, não necessariamente vai cair uma vez cada face do dado (se eu lançar ele 6 vezes). A ideia é que conforme fazermos vários testes a tendência é que a probabilidade de cada face irá convergir pro valor esperado. \n",
    "\n",
    "Vamos testar este conceito utilizando da programação seguintes os itens abaixo:"
   ]
  },
  {
   "attachments": {},
   "cell_type": "markdown",
   "id": "fc04d64c",
   "metadata": {},
   "source": [
    "__A)__ Desenvolva uma função que receba um valor n, onde n é a quantidade de elementos e o objetivo da função é retorna uma _Series_ com n elementos sendo esses elementos números variando de 1 e 6;"
   ]
  },
  {
   "cell_type": "code",
   "execution_count": 48,
   "id": "1a8702bd",
   "metadata": {},
   "outputs": [],
   "source": [
    "def get_series(n: int, seed: int = RANDOM_SEED) -> pd.Series:\n",
    "    np.random.seed(RANDOM_SEED)\n",
    "    numbers = np.random.randint(low=1, high=7, size=n)\n",
    "    return pd.Series(numbers)"
   ]
  },
  {
   "attachments": {},
   "cell_type": "markdown",
   "id": "c71a90b7",
   "metadata": {},
   "source": [
    "__B__ Teste a função para n igual a 10, 100, 1.000, 10.000 e 100.000 casos e para cada um deles calcule a proporção de vezes que aparece cada número;\n",
    "\n",
    "_Dica.:_ utilize a função do _Pandas_ `.value_counts`"
   ]
  },
  {
   "cell_type": "code",
   "execution_count": 67,
   "id": "40e57015",
   "metadata": {},
   "outputs": [
    {
     "name": "stdout",
     "output_type": "stream",
     "text": [
      "For n = 10\t, proportions are: [0.3, 0.3, 0.2, 0.1, 0.1]\n",
      "For n = 100\t, proportions are: [0.22, 0.18, 0.16, 0.15, 0.15, 0.14]\n",
      "For n = 10000\t, proportions are: [0.1755, 0.1683, 0.1668, 0.1665, 0.1623, 0.1606]\n",
      "For n = 100000\t, proportions are: [0.16906, 0.16891, 0.16697, 0.16696, 0.16441, 0.16369]\n"
     ]
    }
   ],
   "source": [
    "n_values = [10, 100, 10_000, 100_000]\n",
    "\n",
    "for n in n_values:\n",
    "    series = get_series(n=n)\n",
    "    val_counts = series.value_counts(normalize=True).to_list()\n",
    "    print(f'For n = {n}\\t, proportions are: {val_counts}')\n"
   ]
  },
  {
   "attachments": {},
   "cell_type": "markdown",
   "id": "ec69c289",
   "metadata": {},
   "source": [
    "__C)__ O que podermos dizer sobre a afirmação do enunciado, a tendência é que as probabilidades irâo convergir para $1/6$?"
   ]
  },
  {
   "attachments": {},
   "cell_type": "markdown",
   "id": "91cbf333",
   "metadata": {},
   "source": [
    "_Resposta:_\n",
    "\n",
    "Quanto maior a quantidade de amostras mais as proporções de ocorrência de cada valor possível se aproxima do valor esperado. Sendo o valor esperado equivalente a uma média dos valores possíveis ponderada pelas probabilidades de ocorrência de cada um deles."
   ]
  },
  {
   "attachments": {},
   "cell_type": "markdown",
   "id": "531fad0c",
   "metadata": {},
   "source": [
    "### 2"
   ]
  },
  {
   "attachments": {},
   "cell_type": "markdown",
   "id": "b8b7fc6c",
   "metadata": {},
   "source": [
    "__Enunciado__\n",
    "\n",
    "Um programa de computador gera uma pontuação aleatória para cada usuário, sendo que:\n",
    "\n",
    "- Em 1/2 dos casos, gera 0.5;\n",
    "- Em 1/4 dos casos, gera 0.25;\n",
    "- Em 1/8 dos casos, gera 0.125.\n",
    "\n",
    "E essa lógica segue assim por diante. Resolva os itens a seguir:"
   ]
  },
  {
   "attachments": {},
   "cell_type": "markdown",
   "id": "b1015ad7",
   "metadata": {},
   "source": [
    "__A)__ Calcule o __valor esperado__ utilizando apenas os 3 primeiros casos;"
   ]
  },
  {
   "cell_type": "code",
   "execution_count": 62,
   "id": "10c8c37c",
   "metadata": {},
   "outputs": [
    {
     "name": "stdout",
     "output_type": "stream",
     "text": [
      "Expected Value: 0.328125\n"
     ]
    }
   ],
   "source": [
    "expected_value = .5 * .5 + .25**2 + (1/8)*.125\n",
    "print(f'Expected Value: {expected_value}')"
   ]
  },
  {
   "attachments": {},
   "cell_type": "markdown",
   "id": "f4b08a62",
   "metadata": {},
   "source": [
    "__B)__ Faça um _loop_ para calcular o __valor esperado__ para 100 casos e avalie se só com os 3 primeiros casos temos uma boa aproximação ou não."
   ]
  },
  {
   "cell_type": "code",
   "execution_count": 63,
   "id": "97e6bb5a",
   "metadata": {},
   "outputs": [],
   "source": [
    "def get_expected_value(n_cases: int) -> float:\n",
    "\n",
    "    expected_value = 0\n",
    "\n",
    "    prob = 1\n",
    "    for i in range(n_cases):\n",
    "        prob /= 2\n",
    "        value = prob\n",
    "        \n",
    "        expected_value += value * prob\n",
    "    \n",
    "    return expected_value\n"
   ]
  },
  {
   "cell_type": "code",
   "execution_count": 64,
   "id": "76259d19",
   "metadata": {},
   "outputs": [
    {
     "data": {
      "text/plain": [
       "0.3333333333333333"
      ]
     },
     "execution_count": 64,
     "metadata": {},
     "output_type": "execute_result"
    }
   ],
   "source": [
    "get_expected_value(n_cases=100)"
   ]
  },
  {
   "attachments": {},
   "cell_type": "markdown",
   "id": "8d3bd662",
   "metadata": {},
   "source": [
    "Com apenas 3 valores já é possível obter uma boa aproximação do valor esperado."
   ]
  },
  {
   "attachments": {},
   "cell_type": "markdown",
   "id": "64f6ca7c",
   "metadata": {},
   "source": [
    "### 3"
   ]
  },
  {
   "attachments": {},
   "cell_type": "markdown",
   "id": "8bd11d66-b6c2-4706-8686-4e0047cded58",
   "metadata": {},
   "source": [
    "__Enunciado__\n",
    "\n",
    "Suponha que o limite de uma estrada é de 80km/h e, a partir da medição por radar, sabe-se que nessa rodovia a velocidade dos veículo $X$ segue uma distribuição normal com média de 72km/h e desvio padrão de 8 km/h.\n",
    "\n",
    " - Qual a probabilidade de um veículo ser multado?\n",
    " - Além da multa, se um veículo ultrapassar o limite em 30km/h, o motorista perde a carteira. Considerando apenas os infratores de velocidade, qual a probabilidade dele perder a carteira?\n",
    "    "
   ]
  },
  {
   "cell_type": "code",
   "execution_count": 85,
   "id": "e2261847",
   "metadata": {},
   "outputs": [
    {
     "name": "stdout",
     "output_type": "stream",
     "text": [
      "Probabilidade de multa ~= 15.87 %\n",
      "Probabilidade de perder a carteira ~= 0.0 %\n"
     ]
    }
   ],
   "source": [
    "prob_ok = stats.norm.cdf(x=80, loc=72, scale=8)\n",
    "prob_traffic_ticket = 1 - prob_ok\n",
    "\n",
    "prob_not_lose_license = stats.norm.cdf(x=110, loc=72, scale=8)\n",
    "prob_lose_license = 1 - prob_not_lose_license\n",
    "\n",
    "print(f'Probabilidade de multa ~= {np.round(100 * prob_traffic_ticket, 2)} %')\n",
    "print(f'Probabilidade de perder a carteira ~= {np.round(100 * prob_lose_license, 2)} %')"
   ]
  },
  {
   "attachments": {},
   "cell_type": "markdown",
   "id": "0c82c7ba",
   "metadata": {},
   "source": [
    "### 5"
   ]
  },
  {
   "attachments": {},
   "cell_type": "markdown",
   "id": "229db1ae-e7ac-47fb-9e35-d5e78ee24dd2",
   "metadata": {},
   "source": [
    "__Enunciado__\n",
    "\n",
    "Se a probabilidade de atingir um alvo com um único disparo é de 0.3. Qual é a probabilidade de, em 4 disparos, atingirmos o alvo ao menos 3 vezes?\n"
   ]
  },
  {
   "attachments": {},
   "cell_type": "markdown",
   "id": "c2209059",
   "metadata": {},
   "source": [
    "__Resposta__\n",
    "\n",
    "\n",
    "Possibilidades:\n",
    "\n",
    "- errar, acertar, acertar, acertar\n",
    "- acertar, errar, acertar, acertar\n",
    "- acertar, errar, acertar, acertar\n",
    "- acertar, acertar, errar, acertar\n",
    "- acertar, acertar, acertar, errar\n",
    "- etc.\n",
    "\n",
    "\n",
    "Em todos os casos a probabilidade final é o produto das probabilidades de ocorrência de um erro e 3 acertos em sequência (como no primeiro caso)."
   ]
  },
  {
   "cell_type": "code",
   "execution_count": 90,
   "id": "c7060b3e",
   "metadata": {},
   "outputs": [
    {
     "name": "stdout",
     "output_type": "stream",
     "text": [
      "Probabilidade final ~= 63.0%\n"
     ]
    }
   ],
   "source": [
    "prob_hit = .3\n",
    "prob_miss = 1 - prob_hit\n",
    "prob = prob_miss * 3*prob_hit\n",
    "\n",
    "print(f'Probabilidade final ~= {np.round(100 * prob, 3)}%')"
   ]
  },
  {
   "attachments": {},
   "cell_type": "markdown",
   "id": "4d8b8a93",
   "metadata": {},
   "source": [
    "### 6"
   ]
  },
  {
   "attachments": {},
   "cell_type": "markdown",
   "id": "7759d93d-5ea0-4c95-b059-3710133469d0",
   "metadata": {},
   "source": [
    "__Enunciado__\n",
    "\n",
    "Suponha que o número de meteoros registrados por um sistema de radares num intervalo qualquer de 30 segundos é de 1.81 em média. Assumindo que os meteoros aparecem aleatoriamente e de forma independente. Usando a distribuição de Poisson determine:"
   ]
  },
  {
   "attachments": {},
   "cell_type": "markdown",
   "id": "b9a78cd1",
   "metadata": {},
   "source": [
    "Distribuição de Poisson:\n",
    "\n",
    "$$ P(X = k) = \\frac{e^{-\\lambda}\\lambda^{k}}{k!} $$"
   ]
  },
  {
   "cell_type": "code",
   "execution_count": 97,
   "id": "78a679a4",
   "metadata": {},
   "outputs": [],
   "source": [
    "def poisson(lambd: float, k: int) -> float:\n",
    "    return (np.exp(-lambd) * (lambd**k)) / math.factorial(k)"
   ]
  },
  {
   "cell_type": "code",
   "execution_count": 119,
   "id": "8ee1195f",
   "metadata": {},
   "outputs": [],
   "source": [
    "meteors_per_sec = 1.81 / 30"
   ]
  },
  {
   "attachments": {},
   "cell_type": "markdown",
   "id": "c4114fab",
   "metadata": {},
   "source": [
    "- A probabilidade de que nenhum meteoro seja encontrado num intervalo de 1 minuto."
   ]
  },
  {
   "cell_type": "code",
   "execution_count": 120,
   "id": "6acebf93-fcee-4a4d-8303-b6cd1cd3b16e",
   "metadata": {},
   "outputs": [
    {
     "data": {
      "text/plain": [
       "0.026782676492638175"
      ]
     },
     "execution_count": 120,
     "metadata": {},
     "output_type": "execute_result"
    }
   ],
   "source": [
    "\n",
    "n_secs = 1 * 60 # 1 minute\n",
    "lambd = meteors_per_sec * n_secs\n",
    "n_meteors = 0\n",
    "\n",
    "prob = poisson(lambd=lambd, k=n_meteors)\n",
    "prob"
   ]
  },
  {
   "attachments": {},
   "cell_type": "markdown",
   "id": "e27a5676",
   "metadata": {},
   "source": [
    " - A probabilidade encontrarmos de 5 a 8 meteoros em 2 minutos."
   ]
  },
  {
   "cell_type": "code",
   "execution_count": 118,
   "id": "d3514b20",
   "metadata": {},
   "outputs": [
    {
     "data": {
      "text/plain": [
       "0.41080003750060745"
      ]
     },
     "execution_count": 118,
     "metadata": {},
     "output_type": "execute_result"
    }
   ],
   "source": [
    "n_secs = 2 * 60 # 2 minutes\n",
    "lambd = meteors_per_sec * n_secs\n",
    "\n",
    "prob = 0\n",
    "for k in range(5, 8):\n",
    "    prob += poisson(lambd=lambd, k=k)\n",
    "\n",
    "prob\n",
    "\n",
    "# Testing...\n",
    "# stats.poisson.cdf(k=8, mu=lambd) - stats.poisson.cdf(k=5, mu=lambd)"
   ]
  },
  {
   "attachments": {},
   "cell_type": "markdown",
   "id": "7029cc88",
   "metadata": {},
   "source": [
    "### 7"
   ]
  },
  {
   "attachments": {},
   "cell_type": "markdown",
   "id": "349bfc5c-671a-49f6-bc97-a4dac3643be7",
   "metadata": {},
   "source": [
    "__Enunciado__\n",
    "\n",
    "O número médio de jornais vendidos numa banca é 5 jornais por minuto. Qual é a probabilidade de vender ao menos 1 jornal em um minuto?"
   ]
  },
  {
   "cell_type": "code",
   "execution_count": 121,
   "id": "32249350",
   "metadata": {},
   "outputs": [],
   "source": [
    "paper_per_min = 5"
   ]
  },
  {
   "cell_type": "code",
   "execution_count": 126,
   "id": "47f462a5",
   "metadata": {},
   "outputs": [
    {
     "data": {
      "text/plain": [
       "0.9932620530009145"
      ]
     },
     "execution_count": 126,
     "metadata": {},
     "output_type": "execute_result"
    }
   ],
   "source": [
    "n_minutes = 1\n",
    "lambd = paper_per_min * n_minutes\n",
    "\n",
    "prob_zero = poisson(lambd=lambd, k=0)\n",
    "\n",
    "prob = 1 - prob_zero\n",
    "prob"
   ]
  },
  {
   "attachments": {},
   "cell_type": "markdown",
   "id": "b725bc83",
   "metadata": {},
   "source": [
    "### 8"
   ]
  },
  {
   "attachments": {},
   "cell_type": "markdown",
   "id": "83df7c47",
   "metadata": {},
   "source": [
    "__Enunciado__ (Monty-Hall)\n",
    "\n",
    "- Em um programa de auditório, havia 3 portas (A, B, C), dentro da qual uma continha um prêmio.\n",
    "- O participante escolheu a porta A;\n",
    "- Antes de abrir a porta escolhida o apresentador abriu a porta C;\n",
    "- Na qual não havia nada\n",
    "- O participante aumentará a probabilidade de acertar a porta caso mude a escolha dele da porta A para a B?\n",
    "- Demonstre a sua resposta utilizando o Teorema de Bayes? "
   ]
  },
  {
   "attachments": {},
   "cell_type": "markdown",
   "id": "210203fa",
   "metadata": {},
   "source": [
    "__Reposta__\n",
    "\n",
    "- Probabilidade de estar em A dado que não está em C: 50%;\n",
    "- Que é igual a probabilidade de estar em B, dado que não está em C;\n",
    "- Logo, trocar a escolha de A para B não faz diferença;"
   ]
  },
  {
   "attachments": {},
   "cell_type": "markdown",
   "id": "7e268bb6",
   "metadata": {},
   "source": [
    "Teorema de Bayes\n",
    "\n",
    "$$ P(A|B) = \\frac{P(B|A) \\ P(A)}{P(B|A) \\ P(A)  + P(B|\\tilde{A}) \\ P(\\tilde{A})}    $$"
   ]
  },
  {
   "cell_type": "code",
   "execution_count": 132,
   "id": "19065e94",
   "metadata": {},
   "outputs": [],
   "source": [
    "p_not = lambda p: 1 - p\n",
    "\n",
    "def bayes(pa: float, pb_a: float, pb_not_a: float) -> float:\n",
    "    num = pb_a * pa\n",
    "    den = (pb_a * pa) + (pb_not_a * p_not(pa))\n",
    "    pa_b = num / den\n",
    "    return pa_b"
   ]
  },
  {
   "attachments": {},
   "cell_type": "markdown",
   "id": "80a0a93a",
   "metadata": {},
   "source": [
    "Demonstrando: Probabilidade de estar em A dado que está em C (zero!)"
   ]
  },
  {
   "cell_type": "code",
   "execution_count": 134,
   "id": "d80d370c",
   "metadata": {},
   "outputs": [
    {
     "data": {
      "text/plain": [
       "0.0"
      ]
     },
     "execution_count": 134,
     "metadata": {},
     "output_type": "execute_result"
    }
   ],
   "source": [
    "pa = 1/3\n",
    "pc_a = 0\n",
    "\n",
    "pc_not_a = 1/2\n",
    "pa_c = bayes(pa=pa, pb_a=pc_a, pb_not_a=pc_not_a)\n",
    "pa_c"
   ]
  },
  {
   "attachments": {},
   "cell_type": "markdown",
   "id": "6f53b70b",
   "metadata": {},
   "source": [
    "Demonstrando: Probabilidade de estar em A dado que __não__ está em C (50%)"
   ]
  },
  {
   "cell_type": "code",
   "execution_count": 135,
   "id": "bd1bb71f",
   "metadata": {},
   "outputs": [
    {
     "data": {
      "text/plain": [
       "0.49999999999999994"
      ]
     },
     "execution_count": 135,
     "metadata": {},
     "output_type": "execute_result"
    }
   ],
   "source": [
    "pa = 1/3\n",
    "p_not_c_a = 1\n",
    "p_not_c_not_a = 1 / 2\n",
    "\n",
    "pa_not_c = bayes(pa=pa, pb_a=p_not_c_a, pb_not_a=p_not_c_not_a)\n",
    "pa_not_c"
   ]
  }
 ],
 "metadata": {
  "kernelspec": {
   "display_name": "Python 3",
   "language": "python",
   "name": "python3"
  },
  "language_info": {
   "codemirror_mode": {
    "name": "ipython",
    "version": 3
   },
   "file_extension": ".py",
   "mimetype": "text/x-python",
   "name": "python",
   "nbconvert_exporter": "python",
   "pygments_lexer": "ipython3",
   "version": "3.10.6"
  },
  "vscode": {
   "interpreter": {
    "hash": "916dbcbb3f70747c44a77c7bcd40155683ae19c65e1c03b4aa3499c5328201f1"
   }
  }
 },
 "nbformat": 4,
 "nbformat_minor": 5
}
