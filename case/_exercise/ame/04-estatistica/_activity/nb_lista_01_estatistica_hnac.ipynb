{
 "cells": [
  {
   "cell_type": "markdown",
   "id": "6bbe1be8-11db-48e4-9bd6-d5e52c0a190e",
   "metadata": {},
   "source": [
    "# Lista de Exercícios I - Estatística I\n",
    "\n",
    "<br>\n",
    "\n",
    "__Obs.:__ A presença da aula de exercícios está atrelada a entrega deles. Ou seja, caso o aula não queria ficar durante a aula, não tem problema desde que entregue os exercícios dentro do prazo estipulado.\n",
    "\n",
    "__Prazo:__ 05/03"
   ]
  },
  {
   "cell_type": "markdown",
   "id": "b03ee944",
   "metadata": {},
   "source": [
    "__1)__ A probabilidade de dado honesto é conhecido e igual a $1/6$, mas quando vamos testar isso com um dado físico, não necessariamente vai cair uma vez cada face do dado (se eu lançar ele 6 vezes). A ideia é que conforme fazermos vários testes a tendência é que a probabilidade de cada face irá convergir pro valor esperado. \n",
    "\n",
    "Vamos testar este conceito utilizando da programação seguintes os itens abaixo:]\n",
    "\n",
    "__A)__ Desenvolva uma função que receba um valor n, onde n é a quantidade de elementos e o objetivo da função é retorna uma _Series_ com n elementos sendo esses elementos números variando de 1 e 6;\n",
    "\n",
    "__B)__ Teste a função para n igual a 10, 100, 1.000, 10.000 e 100.000 casos e para cada um deles calcule a proporção de vezes que aparece cada número;\n",
    "\n",
    "__DIca.:__ utilize a função do _Pandas_ `.value_counts`\n",
    "\n",
    "__C)__ O que podermos dizer sobre a afirmação do enunciado, a tendência é que as probabilidades irâo convergir para $1/6$?"
   ]
  },
  {
   "cell_type": "code",
   "execution_count": null,
   "id": "a107d0b5",
   "metadata": {},
   "outputs": [],
   "source": []
  },
  {
   "cell_type": "code",
   "execution_count": null,
   "id": "caf3b124",
   "metadata": {},
   "outputs": [],
   "source": []
  },
  {
   "cell_type": "code",
   "execution_count": null,
   "id": "81c6c294",
   "metadata": {},
   "outputs": [],
   "source": []
  },
  {
   "cell_type": "markdown",
   "id": "b8b7fc6c",
   "metadata": {},
   "source": [
    "__2)__ Um programa de computador gera uma pontuação aleatória para cada usuário, sendo que:\n",
    "\n",
    "- Em 1/2 dos casos, gera 0.5;\n",
    "- Em 1/4 dos casos, gera 0.25;\n",
    "- Em 1/8 dos casos, gera 0.125.\n",
    "\n",
    "E essa lógica segue assim por diante. Resolva os itens a seguir:\n",
    "\n",
    "__A)__ Calcule o __valor esperado__ utilizando apenas os 3 primeiros casos;\n",
    "\n",
    "__B)__ Faça um _loop_ para calcular o __valor esperado__ para 100 casos e avalie se só com os 3 primeiros casos temos uma boa aproximação ou não."
   ]
  },
  {
   "cell_type": "code",
   "execution_count": null,
   "id": "97e6bb5a",
   "metadata": {},
   "outputs": [],
   "source": []
  },
  {
   "cell_type": "code",
   "execution_count": null,
   "id": "76259d19",
   "metadata": {},
   "outputs": [],
   "source": []
  },
  {
   "cell_type": "code",
   "execution_count": null,
   "id": "d7892d7b",
   "metadata": {},
   "outputs": [],
   "source": []
  },
  {
   "cell_type": "markdown",
   "id": "8bd11d66-b6c2-4706-8686-4e0047cded58",
   "metadata": {},
   "source": [
    "__3)__ Suponha que o limite de uma estrada é de 80km/h e, a partir da medição por radar, sabe-se que nessa rodovia a velocidade dos veículo $X$ segue uma distribuição normal com média de 72km/h e desvio padrão de 8 km/h.\n",
    " - Qual a probabilidade de um veículo ser multado?\n",
    " - Além da multa, se um veículo ultrapassar o limite em 30km/h, o motorista perde a carteira. Considerando apenas os infratores de velocidade, qual a probabilidade dele perder a carteira?\n",
    "    "
   ]
  },
  {
   "cell_type": "code",
   "execution_count": null,
   "id": "e2261847",
   "metadata": {},
   "outputs": [],
   "source": []
  },
  {
   "cell_type": "code",
   "execution_count": null,
   "id": "5fc46197",
   "metadata": {},
   "outputs": [],
   "source": []
  },
  {
   "cell_type": "code",
   "execution_count": null,
   "id": "74f6ad85-7e56-4e3e-a1ea-993de6171562",
   "metadata": {},
   "outputs": [],
   "source": []
  },
  {
   "cell_type": "markdown",
   "id": "17df2c74-5ecf-49ce-8118-4d10a7f618e0",
   "metadata": {},
   "source": [
    "__4)__ Suponha que a probabilidade de uma criança nascer loira é de 1/4. Se houverem 6 crianças na família, qual é a probabilidade de 3 dele serem loiros?"
   ]
  },
  {
   "cell_type": "code",
   "execution_count": null,
   "id": "3ae0ee2e",
   "metadata": {},
   "outputs": [],
   "source": []
  },
  {
   "cell_type": "code",
   "execution_count": null,
   "id": "4f4bc395",
   "metadata": {},
   "outputs": [],
   "source": []
  },
  {
   "cell_type": "code",
   "execution_count": null,
   "id": "0bbb476a-e6e4-44b7-87bf-c5c11b5615fe",
   "metadata": {},
   "outputs": [],
   "source": []
  },
  {
   "cell_type": "markdown",
   "id": "229db1ae-e7ac-47fb-9e35-d5e78ee24dd2",
   "metadata": {},
   "source": [
    "__5)__ Se a probabilidade de atingir um alvo com um único disparo é de 0.3. Qual é a probabilidade de, em 4 disparos, atingirmos o alvo ao menos 3 vezes?\n"
   ]
  },
  {
   "cell_type": "code",
   "execution_count": null,
   "id": "c7060b3e",
   "metadata": {},
   "outputs": [],
   "source": []
  },
  {
   "cell_type": "code",
   "execution_count": null,
   "id": "607779e1",
   "metadata": {},
   "outputs": [],
   "source": []
  },
  {
   "cell_type": "code",
   "execution_count": null,
   "id": "a88020b8-bd22-4b6b-82c1-373c4c491e38",
   "metadata": {},
   "outputs": [],
   "source": []
  },
  {
   "cell_type": "markdown",
   "id": "7759d93d-5ea0-4c95-b059-3710133469d0",
   "metadata": {},
   "source": [
    "__6)__ Suponha que o número de meteoros registrados por um sistema de radares num intervalo qualquer de 30 segundos é de 1.81 em média. Assumindo que os meteoros aparecem aleatoriamente e de forma independente. Usando a distribuição de Poisson determine:\n",
    " - A probabilidade de que nenhum meteoro seja encontrado num intervalo de 1 minuto.\n",
    " - A probabilidade encontrarmos de 5 a 8 meteoros em 2 minutos."
   ]
  },
  {
   "cell_type": "code",
   "execution_count": null,
   "id": "78a679a4",
   "metadata": {},
   "outputs": [],
   "source": []
  },
  {
   "cell_type": "code",
   "execution_count": null,
   "id": "8ee1195f",
   "metadata": {},
   "outputs": [],
   "source": []
  },
  {
   "cell_type": "code",
   "execution_count": null,
   "id": "6acebf93-fcee-4a4d-8303-b6cd1cd3b16e",
   "metadata": {},
   "outputs": [],
   "source": []
  },
  {
   "cell_type": "markdown",
   "id": "349bfc5c-671a-49f6-bc97-a4dac3643be7",
   "metadata": {},
   "source": [
    "__7)__ O número médio de jornais vendidos numa banca é 5 jornais por minuto. Qual é a probabilidade de vender ao menos 1 jornal em um minuto?"
   ]
  },
  {
   "cell_type": "code",
   "execution_count": null,
   "id": "32249350",
   "metadata": {},
   "outputs": [],
   "source": []
  },
  {
   "cell_type": "code",
   "execution_count": null,
   "id": "47f462a5",
   "metadata": {},
   "outputs": [],
   "source": []
  },
  {
   "cell_type": "code",
   "execution_count": null,
   "id": "7df828a2-5f30-469a-86fd-56d21f317946",
   "metadata": {},
   "outputs": [],
   "source": []
  },
  {
   "cell_type": "markdown",
   "id": "83df7c47",
   "metadata": {},
   "source": [
    "__8)__ (Monty-Hall) Em um programa de auditório, havia 3 portas (A, B, C), dentro da qual uma continha um prêmio. O participante escolheu a porta A e antes de abrir a porta escolhida o apresentador abriu a porta C, na qual não havia nada. O participante aumentará a probabilidade de acertar a porta caso mude a escolha dele da porta A para a B? Demonstre a sua resposta utilizando o Teorema de Bayes? "
   ]
  },
  {
   "cell_type": "code",
   "execution_count": null,
   "id": "7e268bb6",
   "metadata": {},
   "outputs": [],
   "source": []
  },
  {
   "cell_type": "code",
   "execution_count": null,
   "id": "19065e94",
   "metadata": {},
   "outputs": [],
   "source": []
  },
  {
   "cell_type": "code",
   "execution_count": null,
   "id": "d80d370c",
   "metadata": {},
   "outputs": [],
   "source": []
  }
 ],
 "metadata": {
  "kernelspec": {
   "display_name": "Python 3 (ipykernel)",
   "language": "python",
   "name": "python3"
  },
  "language_info": {
   "codemirror_mode": {
    "name": "ipython",
    "version": 3
   },
   "file_extension": ".py",
   "mimetype": "text/x-python",
   "name": "python",
   "nbconvert_exporter": "python",
   "pygments_lexer": "ipython3",
   "version": "3.9.13"
  }
 },
 "nbformat": 4,
 "nbformat_minor": 5
}
