{
 "cells": [
  {
   "cell_type": "markdown",
   "id": "948dcd6e",
   "metadata": {},
   "source": [
    "# 02 - Probabilidade\n",
    "\n",
    "Nessa aula, iremos tratar dos seguintes conteúdos:\n",
    "- Probabilidade\n",
    "- Variável Aleatória\n",
    "- Espaço Amostral\n",
    "- Probabilidade - Definição\n",
    "- Probabilidade da Uniâo de Eventos\n",
    "- Eventos Independentes\n",
    "- Teorema de Bayes"
   ]
  },
  {
   "cell_type": "markdown",
   "id": "c037c5b5",
   "metadata": {},
   "source": [
    "<img src = \"https://www.estudopratico.com.br/wp-content/uploads/2014/06/probabilidade-calcular-e1586431045913-1200x675.jpg\" width=800>"
   ]
  },
  {
   "cell_type": "markdown",
   "id": "5d12324b",
   "metadata": {},
   "source": [
    "## "
   ]
  },
  {
   "cell_type": "markdown",
   "id": "5ad7fe78",
   "metadata": {},
   "source": [
    "## Probabilidade\n",
    "\n",
    "Probabilidade é a área da matemática que estuda **eventos aleatórios**, cujos resultados são **probabilísticos** ou **estocásticos**.\n",
    "\n",
    "Existem poucos sistemas na natureza que são de fato inerentemente aleatórias e não-determinísticas. No entanto, uma descrição determinística pode ser muito complicada, de modo que **se torna conveniente** tratar o sistema como um sistema estocástico.\n",
    "\n",
    "Ex.: lançamento de moeda, lançamento de dados, etc.\n",
    "\n",
    "O objetivo da estatística é similar: analisar dados ou criar modelos que **generalizem relações** que não podem ser determinadas diretamente uma vez que não temos acesso à população. Neste sentido, há muita probabilidade envolvida em estatística, e é por isso que vamos olhar para os principais conceitos de probabilidade."
   ]
  },
  {
   "cell_type": "markdown",
   "id": "d0f7ccce",
   "metadata": {},
   "source": [
    "## "
   ]
  },
  {
   "cell_type": "markdown",
   "id": "b2265f1a",
   "metadata": {},
   "source": [
    "## Variável aleatória\n",
    "\n",
    "Uma **variável aleatória** é uma variável cujo valor depende de fatores **não-deterministícos**, isto é, **probabilísticos**. \n",
    "\n",
    "**Exemplo**: resultado do lançamento de um dado.\n",
    "\n",
    "<img src=\"data:image/png;base64,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\" width=300>"
   ]
  },
  {
   "cell_type": "markdown",
   "id": "9c945135",
   "metadata": {},
   "source": [
    "## "
   ]
  },
  {
   "cell_type": "markdown",
   "id": "3cd8cdac",
   "metadata": {},
   "source": [
    "## Espaço amostral\n",
    "\n",
    "Chamamos de **espaço amostral** o conjunto de **todos os resultados possíveis de um certo fenômeno aleatório**, ou seja, **os valores possíveis que a variável aleatória de interesse pode assumir**. Representamos o espaço amostral pela letra grega $\\omega$. \n",
    "\n",
    "Os subconjuntos de $\\omega$ são denominados **eventos** e representados pelas letras latinas maiúsculas A, B, etc. \n",
    "\n",
    "**Exemplo**: o espaço amostral dos resultados do lançamento de um dado é:\n",
    "\n",
    "$$ \\omega = \\{1, 2, 3, 4, 5, 6\\} $$\n",
    "\n",
    "Alguns eventos possíveis são:\n",
    "\n",
    "- Evento A = {3} : o resultado do lançamento do dado foi 3;\n",
    "- Evento B = {5} : o resultado do lançamento do dado foi 5.\n",
    "\n",
    "**Exemplo 2**: considere o lançamento de uma moeda:\n",
    "\n",
    "<img src=\"https://www.vertica.com/wp-content/uploads/2019/07/Coin_Flip_183981489-2160.jpg\" width=300>\n",
    "\n",
    "- Se lançarmos uma única moeda:\n",
    "    - A variável aleatória será **o resultado do lançamento da moeda**\n",
    "    - Portanto, o espaço amostral é: $$ \\omega = \\{ K, C \\} $$\n",
    "    \n",
    "- Se lançarmos uma does moedas:\n",
    "    - A variável aleatória será **o resultado do lançamento de cada moeda**\n",
    "    - Portanto, o espaço amostral é: $$ \\omega = \\{ (K, K), (K, C), (C, K), (C, C) \\} $$"
   ]
  },
  {
   "cell_type": "markdown",
   "id": "6e538018",
   "metadata": {},
   "source": [
    "## "
   ]
  },
  {
   "cell_type": "markdown",
   "id": "cc58543e",
   "metadata": {},
   "source": [
    "## Definição de probabilidade\n",
    "\n",
    "Definimos uma função $P(.)$ denominada **probabilidade** que deve satisfazer as seguintes propriedades:\n",
    "    \n",
    "- $0\\leq P(A) \\leq 1$ \n",
    "\n",
    "- $ P(\\omega)=1$\n",
    "\n",
    "- $ P(\\cup A_{j})= \\sum_{j=1}^{n}P(A_{j})$"
   ]
  },
  {
   "cell_type": "markdown",
   "id": "f27efe70",
   "metadata": {},
   "source": [
    "## "
   ]
  },
  {
   "cell_type": "markdown",
   "id": "6c7d3e60",
   "metadata": {},
   "source": [
    "## Atribuindo probabilidades aos elementos do espaço amostral\n",
    "\n",
    "Há, essencialmente, duas formas de se **atribuir a probabilidade de cada evento**:\n",
    "\n",
    "> 1) Baseando-se em características teóricas acerca do experimento.\n",
    "\n",
    "**Exemplo**: ao lançarmos um dado, temos o espaço amostral $\\omega=\\{1,2,3,4,5,6\\}$.\n",
    "\n",
    "Admitindo que o dado foi construído de forma homogênea e com medidas rigorosamente simétricas, não temos nenhuma razão para **privilegiar uma face em detrimento das demais**.\n",
    "\n",
    "Assim, consideramos: $p(1) = p(2) = p(3) = p(4) = p(5) = p(6) = \\frac{1}{6}$ \n",
    "\n",
    "> 2) Fazendo muitos experimentos.\n",
    "\n",
    "**Exemplo**: imagine que temos uma moeda não-honesta, que tende cair mais vezes cara do que coroa. Para descobrirmos qual é a probabilidade de cada um dos eventos ($\\omega = \\{K, C\\}$), podemos lançar a moeda muitas vezes, e anotar os resultados:\n"
   ]
  },
  {
   "cell_type": "code",
   "execution_count": 1,
   "id": "be90d65a",
   "metadata": {},
   "outputs": [],
   "source": [
    "import numpy as np\n",
    "import pandas as pd\n",
    "import matplotlib.pyplot as plt\n",
    "import seaborn as sns"
   ]
  },
  {
   "cell_type": "code",
   "execution_count": 2,
   "id": "544de707",
   "metadata": {},
   "outputs": [
    {
     "data": {
      "text/plain": [
       "array([0.18934001, 0.71348953, 0.62586805, 0.25401692, 0.5173264 ,\n",
       "       0.6024845 , 0.14764507, 0.38186476, 0.92279102, 0.34295163,\n",
       "       0.98179241, 0.2558504 , 0.82814172, 0.26401604, 0.90066405,\n",
       "       0.52711465, 0.27178671, 0.88505607, 0.55326526, 0.72586146,\n",
       "       0.00393532, 0.82353616, 0.96651328, 0.00955159, 0.07191598,\n",
       "       0.23853933, 0.78220448, 0.79924338, 0.45039903, 0.4217783 ,\n",
       "       0.08860556, 0.1303698 , 0.71762934, 0.25899935, 0.64654224,\n",
       "       0.06432177, 0.91975192, 0.42796139, 0.89025686, 0.63440339,\n",
       "       0.39422825, 0.01739918, 0.07711141, 0.09626657, 0.50982346,\n",
       "       0.17789448, 0.587819  , 0.156244  , 0.17036952, 0.81070166,\n",
       "       0.90330669, 0.80278396, 0.50555803, 0.16023848, 0.69451909,\n",
       "       0.88110027, 0.86923895, 0.49470992, 0.64590718, 0.15922918,\n",
       "       0.43904257, 0.21300592, 0.27907423, 0.06886249, 0.32054839,\n",
       "       0.60839511, 0.62440864, 0.28200633, 0.44147946, 0.91460916,\n",
       "       0.32270808, 0.41676262, 0.39382274, 0.21594965, 0.35000881,\n",
       "       0.43494242, 0.01358248, 0.96149612, 0.28549977, 0.49154408,\n",
       "       0.78831518, 0.54117389, 0.56606504, 0.80621506, 0.56405337,\n",
       "       0.18133435, 0.31731042, 0.78896585, 0.35305512, 0.18185297,\n",
       "       0.11498197, 0.69053644, 0.63844127, 0.91108476, 0.98109735,\n",
       "       0.60032588, 0.06299593, 0.3748329 , 0.11654714, 0.22052446])"
      ]
     },
     "execution_count": 2,
     "metadata": {},
     "output_type": "execute_result"
    }
   ],
   "source": [
    "# vou gerar valor aleatorios entre 0 e 1\n",
    "# usando uma distribuição uniform\n",
    "\n",
    "np.random.uniform(0, 1, 100)"
   ]
  },
  {
   "cell_type": "code",
   "execution_count": 3,
   "id": "5b79c661",
   "metadata": {},
   "outputs": [],
   "source": [
    "# DEfinir a probabilidade de sair K ou C\n",
    "p = 0.3"
   ]
  },
  {
   "cell_type": "code",
   "execution_count": 4,
   "id": "e7436a97",
   "metadata": {},
   "outputs": [],
   "source": [
    "# Experimento 1\n",
    "N = 100 #lnaçamentos de moeda\n",
    "\n",
    "# Gerando a nossa amostra aleatoria\n",
    "s100 = np.random.uniform(0, 1, N)\n",
    "\n",
    "# Definir a partir da probabilidade se é cara ou coroa\n",
    "# p <= 0.3 (C), senão (K)\n",
    "\n",
    "# gerando os resultados\n",
    "results100 = np.where(s100 <= p, \"C\", \"K\")"
   ]
  },
  {
   "cell_type": "code",
   "execution_count": 5,
   "id": "2e0df11f",
   "metadata": {},
   "outputs": [
    {
     "data": {
      "text/plain": [
       "array(['K', 'C', 'K', 'K', 'K', 'C', 'K', 'K', 'C', 'K', 'K', 'C', 'K',\n",
       "       'C', 'K', 'K', 'K', 'K', 'K', 'K', 'C', 'C', 'K', 'C', 'C', 'K',\n",
       "       'K', 'K', 'C', 'K', 'C', 'C', 'K', 'K', 'K', 'C', 'K', 'K', 'K',\n",
       "       'K', 'K', 'K', 'K', 'K', 'K', 'K', 'K', 'C', 'K', 'C', 'K', 'K',\n",
       "       'K', 'C', 'C', 'K', 'K', 'K', 'C', 'K', 'C', 'K', 'K', 'C', 'C',\n",
       "       'K', 'C', 'C', 'C', 'C', 'K', 'K', 'C', 'K', 'K', 'K', 'K', 'C',\n",
       "       'K', 'K', 'K', 'K', 'C', 'K', 'C', 'K', 'C', 'K', 'K', 'K', 'K',\n",
       "       'K', 'K', 'K', 'K', 'C', 'K', 'K', 'K', 'K'], dtype='<U1')"
      ]
     },
     "execution_count": 5,
     "metadata": {},
     "output_type": "execute_result"
    }
   ],
   "source": [
    "# Olhando so resultados\n",
    "results100"
   ]
  },
  {
   "cell_type": "code",
   "execution_count": 6,
   "id": "8a0b679d",
   "metadata": {},
   "outputs": [
    {
     "data": {
      "text/plain": [
       "K    0.69\n",
       "C    0.31\n",
       "dtype: float64"
      ]
     },
     "execution_count": 6,
     "metadata": {},
     "output_type": "execute_result"
    }
   ],
   "source": [
    "# value_counts\n",
    "pd.Series(results100).value_counts(normalize = True)"
   ]
  },
  {
   "cell_type": "code",
   "execution_count": 7,
   "id": "e5989011",
   "metadata": {},
   "outputs": [
    {
     "data": {
      "text/plain": [
       "K    0.696\n",
       "C    0.304\n",
       "dtype: float64"
      ]
     },
     "execution_count": 7,
     "metadata": {},
     "output_type": "execute_result"
    }
   ],
   "source": [
    "# Experimento 2\n",
    "# N = 1000\n",
    "N = 1000 #lnaçamentos de moeda\n",
    "\n",
    "# Gerando a nossa amostra aleatoria\n",
    "s1k = np.random.uniform(0, 1, N)\n",
    "\n",
    "# Definir a partir da probabilidade se é cara ou coroa\n",
    "# p <= 0.3 (C), senão (K)\n",
    "\n",
    "# gerando os resultados\n",
    "results1k = np.where(s1k <= p, \"C\", \"K\")\n",
    "\n",
    "# value_counts\n",
    "pd.Series(results1k).value_counts(normalize = True)"
   ]
  },
  {
   "cell_type": "code",
   "execution_count": 8,
   "id": "496cac11",
   "metadata": {},
   "outputs": [
    {
     "data": {
      "text/plain": [
       "K    0.69816\n",
       "C    0.30184\n",
       "dtype: float64"
      ]
     },
     "execution_count": 8,
     "metadata": {},
     "output_type": "execute_result"
    }
   ],
   "source": [
    "# Experimento 3\n",
    "# N = 100000\n",
    "N = 100000 #lnaçamentos de moeda\n",
    "\n",
    "# Gerando a nossa amostra aleatoria\n",
    "s100k = np.random.uniform(0, 1, N)\n",
    "\n",
    "# Definir a partir da probabilidade se é cara ou coroa\n",
    "# p <= 0.3 (C), senão (K)\n",
    "\n",
    "# gerando os resultados\n",
    "results100k = np.where(s100k <= p, \"C\", \"K\")\n",
    "\n",
    "# value_counts\n",
    "pd.Series(results100k).value_counts(normalize = True)"
   ]
  },
  {
   "cell_type": "markdown",
   "id": "1cca6352",
   "metadata": {},
   "source": [
    "Olhando o caso da moeda honesta agora:"
   ]
  },
  {
   "cell_type": "code",
   "execution_count": 9,
   "id": "324a9742",
   "metadata": {},
   "outputs": [],
   "source": [
    "# moeda honesta\n",
    "p = 0.5"
   ]
  },
  {
   "cell_type": "code",
   "execution_count": 10,
   "id": "ec850f03",
   "metadata": {},
   "outputs": [
    {
     "data": {
      "text/plain": [
       "K    0.56\n",
       "C    0.44\n",
       "dtype: float64"
      ]
     },
     "execution_count": 10,
     "metadata": {},
     "output_type": "execute_result"
    }
   ],
   "source": [
    "# Experimento 1\n",
    "# N = 100\n",
    "N = 100 #lnaçamentos de moeda\n",
    "\n",
    "# Gerando a nossa amostra aleatoria\n",
    "s100 = np.random.uniform(0, 1, N)\n",
    "\n",
    "# Definir a partir da probabilidade se é cara ou coroa\n",
    "# p <= 0.3 (C), senão (K)\n",
    "\n",
    "# gerando os resultados\n",
    "results100 = np.where(s100 <= p, \"C\", \"K\")\n",
    "\n",
    "# value_counts\n",
    "pd.Series(results100).value_counts(normalize = True)"
   ]
  },
  {
   "cell_type": "code",
   "execution_count": 11,
   "id": "a8af92ac",
   "metadata": {},
   "outputs": [
    {
     "data": {
      "text/plain": [
       "C    0.504\n",
       "K    0.496\n",
       "dtype: float64"
      ]
     },
     "execution_count": 11,
     "metadata": {},
     "output_type": "execute_result"
    }
   ],
   "source": [
    "# Experimento 2\n",
    "# N = 1000\n",
    "N = 1000 #lnaçamentos de moeda\n",
    "\n",
    "# Gerando a nossa amostra aleatoria\n",
    "s1k = np.random.uniform(0, 1, N)\n",
    "\n",
    "# Definir a partir da probabilidade se é cara ou coroa\n",
    "# p <= 0.3 (C), senão (K)\n",
    "\n",
    "# gerando os resultados\n",
    "results1k = np.where(s1k <= p, \"C\", \"K\")\n",
    "\n",
    "# value_counts\n",
    "pd.Series(results1k).value_counts(normalize = True)"
   ]
  },
  {
   "cell_type": "code",
   "execution_count": 12,
   "id": "ec6f1452",
   "metadata": {},
   "outputs": [
    {
     "data": {
      "text/plain": [
       "K    0.500116\n",
       "C    0.499884\n",
       "dtype: float64"
      ]
     },
     "execution_count": 12,
     "metadata": {},
     "output_type": "execute_result"
    }
   ],
   "source": [
    "# Experimento 3\n",
    "# N = 1000000\n",
    "N = 1000000 #lnaçamentos de moeda\n",
    "\n",
    "# Gerando a nossa amostra aleatoria\n",
    "s1m = np.random.uniform(0, 1, N)\n",
    "\n",
    "# Definir a partir da probabilidade se é cara ou coroa\n",
    "# p <= 0.3 (C), senão (K)\n",
    "\n",
    "# gerando os resultados\n",
    "results1m = np.where(s1m <= p, \"C\", \"K\")\n",
    "\n",
    "# value_counts\n",
    "pd.Series(results1m).value_counts(normalize = True)"
   ]
  },
  {
   "cell_type": "markdown",
   "id": "c197a0a5",
   "metadata": {},
   "source": [
    "## "
   ]
  },
  {
   "cell_type": "markdown",
   "id": "7720d627",
   "metadata": {},
   "source": [
    "## Probabilidade da União de Eventos"
   ]
  },
  {
   "cell_type": "markdown",
   "id": "e9a8f07c",
   "metadata": {},
   "source": [
    "Dados dois elementos $A$ e $B$, o cálculo da união desses eventos é determinada da seguinte forma:\n",
    "    \n",
    "$$ P(A ∪ B) = P(A) + P(B) - P(A ∩ B) $$"
   ]
  },
  {
   "cell_type": "markdown",
   "id": "00efb4e7",
   "metadata": {},
   "source": [
    "__Exemplo:__   Qual é a probabilidade de que em um lançamento de um dado saia um número par ou maior do que três?"
   ]
  },
  {
   "cell_type": "code",
   "execution_count": null,
   "id": "e607e52d",
   "metadata": {},
   "outputs": [],
   "source": [
    "#Espaço amostral\n",
    "S(dado) = {1, 2, 3, 4, 5, 6}\n",
    "\n",
    "# Evento A - numero par\n",
    "S(A) = {2, 4, 6}\n",
    "P(A) = cnt(S(A))/cnt(S(dado)) = 3/6 = 1/2\n",
    "\n",
    "# Evento B - maior que 3\n",
    "S(B) = {4, 5, 6}\n",
    "P(B) = cnt(S(B))/cnt(S(dado)) = 3/6 = 1/2\n",
    "\n",
    "# Evento A ∩ B\n",
    "S(A ∩ B) = {4, 6}\n",
    "P(A ∩ B) = cnt(S(A ∩ B))/cnt(S(dado)) = 2/6 = 1/3\n",
    "\n",
    "# Probabilidade de A U B\n",
    "P(A U B) = P(A) + P(B) - P(A ∩ B) = 1/2 + 1/2 - 1/3 = 2/3\n",
    "\n",
    "\n",
    "# Montar o Espaço amostral A U B\n",
    "S(A U B) = {2, 4, 5, 6}\n",
    "P(A U B) = cnt(S(A U B))/cnt(S(dado)) = 4/6 = 2/3"
   ]
  },
  {
   "cell_type": "markdown",
   "id": "5dc2157b",
   "metadata": {},
   "source": [
    "## "
   ]
  },
  {
   "cell_type": "markdown",
   "id": "8e1dc332",
   "metadata": {},
   "source": [
    "## Probabilidade Condicional\n",
    "\n",
    "Seja dois eventos A e B, a probabilidade condicional entre esses eventos é definada como:\n",
    "    \n",
    "$$ P(A | B) = \\frac{P(A ∩ B)}{P(B)} $$\n",
    "\n",
    "Lembrando que isso é possível se e somente se $ P(B) > 0$.\n",
    "\n",
    "A forma mais comum de ler um problema de probabilidade condicional seria __\"qual a probabilidade de ocorrer o evento A, dado que ocorreu o evento B\"__.\n",
    "\n",
    "__Exemplo:__  Qual a probabilidade de ao lançar um dado sair um número par, dado que o número que saiu é maior do que 1?"
   ]
  },
  {
   "cell_type": "code",
   "execution_count": null,
   "id": "5353849b",
   "metadata": {},
   "outputs": [],
   "source": [
    "# Espaço Amostral\n",
    "S(dado) = {1, 2, 3, 4, 5, 6}\n",
    "\n",
    "# Evento B - > 1\n",
    "S(B) = {2, 3, 4, 5, 6}\n",
    "P(B) = 5/6\n",
    "\n",
    "# Evento A - número par\n",
    "S(A) = {2, 4, 6}\n",
    "P(A) = 3/6 = 1/2\n",
    "\n",
    "# Evento A ∩ B\n",
    "S(A ∩ B) = {2, 4, 6}\n",
    "p(A ∩ B) = 3/6 = 1/2\n",
    "\n",
    "# Probabilidade Condicional\n",
    "P(A | B) = P(A ∩ B)/P(B) = (1/2)/(5/6) = 3/5"
   ]
  },
  {
   "cell_type": "markdown",
   "id": "1a23a01c",
   "metadata": {},
   "source": [
    "## "
   ]
  },
  {
   "cell_type": "markdown",
   "id": "90f51011",
   "metadata": {},
   "source": [
    "## Eventos Independentes"
   ]
  },
  {
   "cell_type": "markdown",
   "id": "65f11bcd",
   "metadata": {},
   "source": [
    "Dois eventos $A$ e $B$ são independentes, se e somente se acontecer a seguinte condição:\n",
    "    \n",
    "$$ P(A ∩ B) = P(A)P(B) $$"
   ]
  },
  {
   "cell_type": "markdown",
   "id": "a6cd54c0",
   "metadata": {},
   "source": [
    "__Exemplo 1:__   Foi lançado um dado e uma moeda, qual é a probabilidade de ocorrer um número ímpar e sai cara na moeda?"
   ]
  },
  {
   "cell_type": "code",
   "execution_count": null,
   "id": "b2f62900",
   "metadata": {},
   "outputs": [],
   "source": [
    "# Evento A - número impar no dado\n",
    "S(A) = {1, 3, 5}\n",
    "P(A) = 3/6 = 1/2\n",
    "\n",
    "# Evento B - Cara (K) na moeda\n",
    "S(B) = {'K', 'C'}\n",
    "P(B) = 1/2\n",
    "\n",
    "# Evento A ∩ B\n",
    "P(A ∩ B) = P(A)P(B) = 1/2 * 1/2 = 1/4\n",
    "\n",
    "# Verificação \n",
    "S(dado, moeda) = {(1, 'K'), (2, 'K'), (3, 'K'), (4, 'K'), (5, 'K'), (6, 'K'),\n",
    "                  (1, 'C'), (2, 'C'), (3, 'C'), (4, 'C'), (5, 'C'), (6, 'C')}\n",
    "\n",
    "S(A ∩ B) = {(1, 'K'), (3, 'K'), (5, 'K')}\n",
    "P(A ∩ B) = 3/12 = 1/4"
   ]
  },
  {
   "cell_type": "markdown",
   "id": "0dafbb0b",
   "metadata": {},
   "source": [
    "__Exemplo 2:__ Em uma caixa temos 8 bolas pretas e 12 brancas. Vamos calcular a probabilidade de alguns casos:\n",
    "\n",
    "__A)__ A primeira bola sorteada foi uma bola branca, qual a probabilidade disso ocorrer?"
   ]
  },
  {
   "cell_type": "code",
   "execution_count": null,
   "id": "80f05e94",
   "metadata": {},
   "outputs": [],
   "source": [
    "P(1 bola = branca) = (bolas brancas)/(total de bolas) = 12/20 = 3/5"
   ]
  },
  {
   "cell_type": "markdown",
   "id": "2948939e",
   "metadata": {},
   "source": [
    "__B)__ Depois do primeiro sorteio qual a probabilidade de sair uma bola preta, no caso que foi devolvida a bola do primeiro sorteio para a caixa"
   ]
  },
  {
   "cell_type": "code",
   "execution_count": null,
   "id": "e3bcaab5",
   "metadata": {},
   "outputs": [],
   "source": [
    "P(2 bola = preta) = (bolas pretas)/(total de bolas) = 8/20 = 2/5"
   ]
  },
  {
   "cell_type": "markdown",
   "id": "269d42cc",
   "metadata": {},
   "source": [
    "__C)__ Como ficaria essa probabilidade da bola preta caso a bola branca não seja devolvida a caixa?"
   ]
  },
  {
   "cell_type": "code",
   "execution_count": null,
   "id": "dacc1f05",
   "metadata": {},
   "outputs": [],
   "source": [
    "P(2 bola = preta | saiu 1 bola branca) = (bolas pretas)/(total de bolas - 1) = 8/19"
   ]
  },
  {
   "cell_type": "markdown",
   "id": "02c00271",
   "metadata": {},
   "source": [
    "__D)__ Qual a probabilidade de sortear primeiro uma bola preta e depois uma branca, com reposição neste caso?"
   ]
  },
  {
   "cell_type": "code",
   "execution_count": null,
   "id": "31a0c692",
   "metadata": {},
   "outputs": [],
   "source": [
    "P(1 preta ∩ 2 branca) = P(preta)*P(branca) = (2/5)*(3/5) = 6/25"
   ]
  },
  {
   "cell_type": "markdown",
   "id": "ec075025",
   "metadata": {},
   "source": [
    "__E)__ Repita o item __D__ agora aplicando para o caso sem reposição."
   ]
  },
  {
   "cell_type": "code",
   "execution_count": null,
   "id": "708b2de2",
   "metadata": {},
   "outputs": [],
   "source": [
    "P(1 preta ∩ 2 branca) = P(branca | preta)*P(preta) = (12/19)*(2/5) = 24/95"
   ]
  },
  {
   "cell_type": "markdown",
   "id": "35440a4f",
   "metadata": {},
   "source": [
    "Propriedade importante sobre a probabilidade condicional! Seja os eventos A e B e a definição da probabilidade condicional:\n",
    "\n",
    "$$ P(A | B) = \\frac{P(A ∩ B)}{P(B)} $$\n",
    "\n",
    "Se pegarmos a probabilidade condicional agora do evento B dado que ocorreu o A:\n",
    "\n",
    "$$ P(B | A) = \\frac{P(A ∩ B)}{P(A)} $$\n",
    "\n",
    "Dessa forma conseguimos tirar a seguinte relação:\n",
    "\n",
    "$$ P(A | B)P(B) = P(B | A)P(A) $$\n",
    "    \n"
   ]
  },
  {
   "cell_type": "markdown",
   "id": "9513d350",
   "metadata": {},
   "source": [
    "## "
   ]
  },
  {
   "cell_type": "markdown",
   "id": "7bdca32b",
   "metadata": {},
   "source": [
    "## Teorema de Bayes\n",
    "\n",
    "O **Teorema de Bayes** é um conceito importantíssimo da probabilidade e uma das ferramentas mais importantes de serem aprendidas para um Cientista de Dados, pois é a base de uma área com muitas aplicações práticas chamada [inferência bayesiana](https://en.wikipedia.org/wiki/Bayesian_inference).\n",
    "\n",
    "O Teorema de Bayes é uma forma **calcular probabilidades condicionais de forma reversa**.\n",
    "\n",
    "Vamos considerar o clássico exemplo para explicar o teorema. \n",
    "\n",
    "Temos uma determinada doença C, e um teste T utilizado para detectar esta doença. \n",
    "\n",
    "O teste não é 100% confiável, indicando pessoas que **não têm a doença como doentes (falsos positivos)** e **não detectando a doença em pessoas que a possuem (falsos negativos)**\n",
    "\n",
    "> Consideremos que 1% das pessoas possui a doença: $P(C) = 0.01$\n",
    "\n",
    "> Logo, 99% das pessoas não a possui: $P(¬C) = 0.99$\n",
    "\n",
    "O teste detecta a doença em pessoas efetivamente doentes 90% das vezes e, consequentemente, não detecta a doença em pessoas doentes em 10% dos casos. \n",
    "\n",
    "Em pessoas não doentes, o teste detecta a doença (erradamente) em 5% dos casos e não detecta em 95% dos casos. Podemos resumir desta forma:\n",
    "\n",
    "|                | Pessoa Doente | Pessoa Não Doente |\n",
    "|----------------|---------------|-------------------|\n",
    "| Teste positivo | 90 %          | 5 %               |\n",
    "| Teste Negativo | 10 %          | 95 %              |\n",
    "\n",
    "A tabela acima é chamada de **matriz de confusão**, indicando fora da diagonal os caos confusos (errados), e na diagonal os casos corretos\n",
    "\n",
    "<img src=\"https://miro.medium.com/max/2102/1*fxiTNIgOyvAombPJx5KGeA.png\" width=300>\n",
    "\n",
    "Agora, a chance de você **ter a doença e o teste detecta-la (verdadeiro positivo)** é igual **a chance de você ter a doença multiplicado pela chance do teste ter dado positivo corretamente**;\n",
    "\n",
    "Analogamente, a chance de você **não ter a doença e o teste detecta-la mesmo assim (falso positivo)** é igual **a chance de você não ter a doença multiplicado pela chance do teste ter dado positivo incorretamente**;\n",
    "\n",
    "E assim por diante, para todos os resultados. Atualizamos então a tabela, que fica assim:\n",
    "\n",
    "|                | Pessoa Doente                            | Pessoa Não Doente                               | Soma\n",
    "|----------------|------------------------------------------|-------------------------------------------------|-------|\n",
    "| **Teste positivo** | Prob Doente e teste pos: 1% × 90% = 0,9% | Prob Não Doente e teste pos: 99% × 5% = 4,95%   | 5,85%\n",
    "| **Teste Negativo** | Prob Doente e teste neg: 1% × 10% = 0,1% | Prob Não Doente e teste neg: 99% × 95% = 94,05% | 94,15%\n",
    "| **Soma** | 1% | 99% | 100%\n",
    "\n",
    "Estas então são nossas probabilidades para cada evento. Note que, se somadas, o resultado é 1, ou 100%. \n",
    "\n",
    "Agora, vamos supor que você fez o teste e o **resultado deu positivo**. \n",
    "\n",
    "Como devemos interpretar este resultado? Qual a chance de você de fato ter a doença? \n",
    "\n",
    "Considerando o cálculo básico de probabilidade, temos que a chance de ter a doença é igual à **chance do evento desejado dividido por todas as possibilidades**. \n",
    "\n",
    "O evento desejado é um positivo verdadeiro, ou seja, **teste positivo e a pessoa com doença**. Para este caso, a probabilidade é de 0,9% (olhe na tabela!) \n",
    "\n",
    "O **total de possibilidades com relação ao teste positivo** seria a **soma da probabilidade de “doente e teste pos”** (verdadeiro positivo) com **“não doente e teste pos” (falso positivo)**, que resultará em 0,9% + 4,95%, igual a 5,85%.\n",
    "\n",
    "Fazendo toda a conta, nossa chance de ter a doença se temos um teste positivo é de **0,9%/5,85% = 0.1538**, ou **15,38%**. \n",
    "\n",
    "É uma chance bem mais baixa do que imaginamos apenas ao olhar para o problema e para a suposta precisão do teste!\n",
    "\n",
    "#### Em equações, temos:\n",
    "\n",
    "* P(C|+) = Probabilidade de ter a doença dado um teste positivo (este é a probabilidade que desejamos saber)\n",
    "\n",
    "* P(C) = Probabilidade da pessoa ter a doença = 1%\n",
    "\n",
    "* P(+|C) = Probabilidade de um teste positivo se a pessoa tem a doença = 0,9% \n",
    "\n",
    "* P(+|¬C) = Probabilidade de um teste positivo se a pessoa não tem a doença = 4,95%\n",
    "\n",
    "    **O Teorema de bayes diz que :**\n",
    "    \n",
    "    \n",
    "$$ P(C|+) = \\frac{P(+|C) \\ P(C)}{P(+|C) \\ P(C)  + P(+|¬ C) \\ P(¬ C)}    $$"
   ]
  },
  {
   "cell_type": "markdown",
   "id": "4de99eae",
   "metadata": {},
   "source": [
    "## "
   ]
  },
  {
   "cell_type": "markdown",
   "id": "cd6fe91e",
   "metadata": {},
   "source": [
    "## Exercícios"
   ]
  },
  {
   "cell_type": "markdown",
   "id": "cbfe3b3c",
   "metadata": {},
   "source": [
    "__1)__ Um teste para identificação de malária na população amazônica possui uma taxa de 8% de falso positivo e 2% de falso negativo, ou seja, em 8% dos não-infectados acusa como infectados, e em 2% dos infectados acusa como não infectados. Sabendo que atualmente 0,4% da população amazônica está infectada, calcule a probabilidade de um paciente cujo teste apontou positivo estar realmente não infectado."
   ]
  },
  {
   "cell_type": "code",
   "execution_count": null,
   "id": "daad9080",
   "metadata": {},
   "outputs": [],
   "source": []
  },
  {
   "cell_type": "code",
   "execution_count": null,
   "id": "c5928735",
   "metadata": {},
   "outputs": [],
   "source": []
  },
  {
   "cell_type": "markdown",
   "id": "45ea2806",
   "metadata": {},
   "source": [
    "__2)__ Luiza tem um pote de cápsulas de café onde têm cápsulas de diversas cores. Então Luiza decidiu contar quantas cápsulas de cada ela tem:\n",
    "\n",
    "- Azul: 10 cápsulas\n",
    "- Roxo: 7 cápsulas\n",
    "- Preto: 8 cápsulas\n",
    "- Vermelho: 5 cápsulas\n",
    "\n",
    "Colocando todas as cápsulas de volta e escolhendo duas quaisquer para tomar, qual a probabilidade de Luiza pegar aleatoriamente primeiro uma cápsula azul e depois uma vermelha, dado que são eventos independentes?"
   ]
  },
  {
   "cell_type": "code",
   "execution_count": null,
   "id": "3e8dcbee",
   "metadata": {},
   "outputs": [],
   "source": []
  },
  {
   "cell_type": "code",
   "execution_count": null,
   "id": "256dcbab",
   "metadata": {},
   "outputs": [],
   "source": []
  },
  {
   "cell_type": "markdown",
   "id": "bc6beed4",
   "metadata": {},
   "source": [
    "__3)__ Se uma moeda for lançada 5 vezes, qual é a probabilidade de sair pelo menos 4 caras?"
   ]
  },
  {
   "cell_type": "code",
   "execution_count": null,
   "id": "250c9615",
   "metadata": {},
   "outputs": [],
   "source": []
  },
  {
   "cell_type": "code",
   "execution_count": null,
   "id": "b7011bcd",
   "metadata": {},
   "outputs": [],
   "source": []
  },
  {
   "cell_type": "markdown",
   "id": "1d1274c6",
   "metadata": {},
   "source": [
    "__4)__ Dois dados são lançados e vamos definir os eventos A e B como:\n",
    "    \n",
    "- __A__: a soma dos dados é igual a 6;\n",
    "    \n",
    "- __B__: saiu o valor 4 no primeiro dado.\n",
    "    \n",
    "Esses eventos são independentes?"
   ]
  },
  {
   "cell_type": "code",
   "execution_count": null,
   "id": "0c9b3b2e",
   "metadata": {},
   "outputs": [],
   "source": []
  },
  {
   "cell_type": "code",
   "execution_count": null,
   "id": "67c00f4b",
   "metadata": {},
   "outputs": [],
   "source": []
  },
  {
   "cell_type": "markdown",
   "id": "326b21f4",
   "metadata": {},
   "source": [
    "## "
   ]
  }
 ],
 "metadata": {
  "kernelspec": {
   "display_name": "Python 3 (ipykernel)",
   "language": "python",
   "name": "python3"
  },
  "language_info": {
   "codemirror_mode": {
    "name": "ipython",
    "version": 3
   },
   "file_extension": ".py",
   "mimetype": "text/x-python",
   "name": "python",
   "nbconvert_exporter": "python",
   "pygments_lexer": "ipython3",
   "version": "3.9.13"
  }
 },
 "nbformat": 4,
 "nbformat_minor": 5
}
