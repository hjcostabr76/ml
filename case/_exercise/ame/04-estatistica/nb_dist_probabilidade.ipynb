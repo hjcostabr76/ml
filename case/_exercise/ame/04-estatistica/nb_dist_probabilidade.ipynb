{
 "cells": [
  {
   "cell_type": "markdown",
   "id": "948dcd6e",
   "metadata": {},
   "source": [
    "# 03 - Distribuições de Probabilidade\n",
    "\n",
    "Nessa aula, iremos tratar dos seguintes conteúdos:\n",
    "- Tipos de Variáveis Aleatórias\n",
    "- Esperança e Variância\n",
    "- Distribuição de Probabilidade\n",
    "- Distribuição - Bernoulli e Binomial\n",
    "- Distribuição Poisson\n",
    "- Distribuição Exponencial\n",
    "- Distribuição Uniforme"
   ]
  },
  {
   "cell_type": "markdown",
   "id": "c037c5b5",
   "metadata": {},
   "source": [
    "<img src = \"http://storage.ning.com/topology/rest/1.0/file/get/1490420457?profile=original\" width=800>"
   ]
  },
  {
   "cell_type": "markdown",
   "id": "5d12324b",
   "metadata": {},
   "source": [
    "## "
   ]
  },
  {
   "cell_type": "code",
   "execution_count": 1,
   "id": "bddc08b0",
   "metadata": {},
   "outputs": [],
   "source": [
    "import pandas as pd\n",
    "import numpy as np\n",
    "import matplotlib.pyplot as plt\n",
    "import seaborn as sns"
   ]
  },
  {
   "cell_type": "markdown",
   "id": "b2265f1a",
   "metadata": {},
   "source": [
    "## Tipos de Variáveis Aleatórias\n",
    "\n",
    "\n",
    "<br>\n",
    "\n",
    "Vimos que uma __variável aleatória__ é uma variável cujo valor depende de fatores não determinísticos, ou melhor dizendo __probabilísticos__. Detalhando um pouco mais sobre as variáveis aleatórias, existem dois tipos mais comuns que vamos trabalhar no nosso curso, sendo elas:\n",
    "\n",
    "- __Discreta:__ são as variáveis aleatórias que a distribuição de probabilidade assume apenas valores enumeráveis;\n",
    "\n",
    "- __Contínua:__ são as variáveis aleatórias que a distribuição de probabilidade assume valores contínuos dentro de um intervalo pré-determinado.\n",
    "\n",
    "Mas para realmente entendermos a diferença entre cada uma delas, precisamos definir o que são __distribuições de probabilidade__."
   ]
  },
  {
   "cell_type": "markdown",
   "id": "9c945135",
   "metadata": {},
   "source": [
    "## "
   ]
  },
  {
   "cell_type": "markdown",
   "id": "81d9f9d7",
   "metadata": {},
   "source": [
    "## Distribuições de Probabilidade\n",
    "\n",
    "<br>\n",
    "\n",
    "Uma **distribuição de probabilidade** é uma função que descreve o comportamento aleatório de um fenômeno dependente do acaso.\n",
    "\n",
    "A distribuição de probabilidade pode **modelar incertezas** e descrever fenômenos físicos, biológicos, econômicos, entre outros.\n",
    "\n",
    "A representação matemática para a distribuição de probabilidade é feita utilizando o que chamamos de __função de densidade de probabilidade__. Para cada um dos casos de variáveis aleatórias temos uma definição de densidade de probabilidade, conforme veremos agora:\n",
    "\n",
    "- __Discretas:__ Para o caso das variáveis aleatórias discretas a definição matemática para a função de densidade de probabilidade, pode ser dada da seguinte forma:\n",
    "\n",
    "$$ P(X = x) = F(X) $$\n",
    "\n",
    "Ou seja, para o caso discreto, a variável aleatória assume é uma função que assume um valor real para cada elemento do espaço amostral. Partir das definições gerais para probabilidade, são conhecidas as seguintes são sempre válidas:\n",
    "\n",
    "- $ 0 \\leq P(X = x) \\leq 1 $;\n",
    "\n",
    "<br>\n",
    "\n",
    "- $ P(X = x) \\geq 0 $;\n",
    "\n",
    "<br>\n",
    "\n",
    "- $ \\sum_{i=1}^{\\infty} P(X = x_{i}) = 1 $ ;\n",
    "\n",
    "<br>\n",
    "\n",
    "- $ P(a \\leq X \\leq b) = \\sum_{x = a}^{x = b} P(X = x)$;"
   ]
  },
  {
   "cell_type": "markdown",
   "id": "ea61d446",
   "metadata": {},
   "source": [
    "## "
   ]
  },
  {
   "cell_type": "markdown",
   "id": "644febd0",
   "metadata": {},
   "source": [
    "- __Contínuas:__ Para o caso das variáveis aleatórias contínuas a definição matemática para a função de densidade de probabilidade, pode ser dada da seguinte forma:\n",
    "\n",
    "$$ P(X) = \\int p(x) \\,dx $$\n",
    "\n",
    "Da mesma forma que para o caso discreto, vamos definir algumas relações conhecidas as v. a. contínuas:\n",
    "\n",
    "- $ p(x) \\geq 0, \\forall x \\in \\mathbb{R}$;\n",
    "\n",
    "<br>\n",
    "\n",
    "- $ \\int_{-\\infty}^{\\infty} p(x) \\,dx = 1 $ ;\n",
    "\n",
    "<br>\n",
    "\n",
    "- $ P(a \\leq X \\leq b) = \\int_{a}^{b} p(x) \\,dx$;\n",
    "\n",
    "<br>\n",
    "\n",
    "Uma outra forma de interpretarmos a probabilidade de uma dada distribuição entre o intervalo $a$ e $b$, seria como a área abaixo ao gráfico da função de densidade de probabilidade:\n",
    "\n",
    "<img src=\"https://work.thaslwanter.at/Stats/html/_images/PDF.png\" width=400>\n"
   ]
  },
  {
   "cell_type": "markdown",
   "id": "9e47011b",
   "metadata": {},
   "source": [
    "## "
   ]
  },
  {
   "cell_type": "markdown",
   "id": "afd4c286",
   "metadata": {},
   "source": [
    "## Valor Esperado (Esperança) e Variância\n",
    "\n",
    "<br>\n",
    "\n",
    "Assim como no caso da Estatística Descritiva, no casos de modelos probabilísticos também existem parâmetros de posição e variabilidade utilizada para caracterizar uma distribuição de probabilidade:\n",
    "\n",
    "- __Valor Esperado (Esperança):__ O valor esperado seria o produto da variável aleatória $x$ e sua respectiva probabilidade, funcionando como se fosse uma média ponderada para as probabilidades. O cálculo do valor esperado é definido da seguinte forma:\n",
    "\n",
    "\n",
    "__Caso Discreto:__  $ E[X] = \\sum xP(X = x) $\n",
    "\n",
    "\n",
    "__Caso Contínuo:__  $ E[X] = \\int xp(x) dx $\n",
    "\n",
    "<br><br>\n",
    "\n",
    "- __Variância:__ A variância é o valor que mede a variabilidade, ou seja o quão dispersão estão as probabilidade em relação ao valor esperado. A variância é definida da seguinte forma:\n",
    "\n",
    "<br>\n",
    "\n",
    "$$ V[X] = \\sigma^{2} = E[(X - E[X])^2] = E[X^2] - E[X]^2$$\n",
    "\n",
    "<br>\n",
    "Onde, $ E[X^2] = \\sum x^2P(X = x)$."
   ]
  },
  {
   "cell_type": "markdown",
   "id": "4ca44d14",
   "metadata": {},
   "source": [
    "__Exemplo:__ Seja a variável aleatória X com distribuição abaixo, calcule $E[X]$ e $V[X]$:\n",
    " \n",
    "- P(X = 1) = 0.3\n",
    "- P(X = 2) = 0.4\n",
    "- P(X = 3) = 0.2 \n",
    "- P(X = 4) = 0.1"
   ]
  },
  {
   "cell_type": "code",
   "execution_count": 2,
   "id": "fbc7422e",
   "metadata": {},
   "outputs": [
    {
     "name": "stdout",
     "output_type": "stream",
     "text": [
      "Esperança:  2.1\n"
     ]
    }
   ],
   "source": [
    "# Definir o vetor de eventos\n",
    "X = [1, 2, 3, 4]\n",
    "\n",
    "# Definir o vetor de probabilidades\n",
    "P = [0.3, 0.4, 0.2, 0.1]\n",
    "\n",
    "# Calcular a esperança\n",
    "esp = np.dot(X, P)\n",
    "\n",
    "# Print da esperança\n",
    "print(\"Esperança: \", np.round(esp, 3))"
   ]
  },
  {
   "cell_type": "code",
   "execution_count": 3,
   "id": "38dd14f1",
   "metadata": {},
   "outputs": [
    {
     "name": "stdout",
     "output_type": "stream",
     "text": [
      "x^2:  [ 1  4  9 16]\n"
     ]
    }
   ],
   "source": [
    "# Calculo da esperança de x^2\n",
    "x2 = np.power(X, 2)\n",
    "\n",
    "# print do x2\n",
    "print(\"x^2: \", x2)"
   ]
  },
  {
   "cell_type": "code",
   "execution_count": 4,
   "id": "7e5e4f25",
   "metadata": {},
   "outputs": [
    {
     "name": "stdout",
     "output_type": "stream",
     "text": [
      "Variância:  0.89\n"
     ]
    }
   ],
   "source": [
    "# Calcular a esperança do x^2\n",
    "esp_x2 = np.dot(x2, P)\n",
    "\n",
    "# Calcular a variância = esp_x2 - (esP)^2\n",
    "var = esp_x2 - (esp)**2\n",
    "\n",
    "# Print da variancia\n",
    "print(\"Variância: \", np.round(var, 3))"
   ]
  },
  {
   "cell_type": "markdown",
   "id": "efd9edc5",
   "metadata": {},
   "source": [
    "__Exemplo:__ A variável X tem função de densidade de probabilidade dada por:\n",
    "\n",
    "- $f(x) = \\frac{x^2}{3}$, se $ -1 \\leq x \\leq 2$, caso contrário seria 0."
   ]
  },
  {
   "cell_type": "code",
   "execution_count": 5,
   "id": "844af435",
   "metadata": {},
   "outputs": [],
   "source": [
    "# biblioteca scipy\n",
    "# ! pip install scipy"
   ]
  },
  {
   "cell_type": "code",
   "execution_count": 6,
   "id": "c48703c9",
   "metadata": {},
   "outputs": [],
   "source": [
    "# carrega uma função que aproxime uma integral\n",
    "from scipy.integrate import quad"
   ]
  },
  {
   "cell_type": "code",
   "execution_count": 7,
   "id": "cb033592",
   "metadata": {},
   "outputs": [],
   "source": [
    "# Função para a esperança\n",
    "def f1(x):\n",
    "    return x*(x*x)/3"
   ]
  },
  {
   "cell_type": "code",
   "execution_count": 8,
   "id": "73032341",
   "metadata": {},
   "outputs": [
    {
     "name": "stdout",
     "output_type": "stream",
     "text": [
      "Esperança:  1.25\n",
      "Erro da Integral:  1.5728145305099745e-14\n"
     ]
    }
   ],
   "source": [
    "# Calculando a integral de -1, 2\n",
    "esp, erro1 = quad(f1, -1, 2)\n",
    "\n",
    "# Print da Esperança e do erro\n",
    "print(\"Esperança: \", esp)\n",
    "print(\"Erro da Integral: \", erro1)"
   ]
  },
  {
   "cell_type": "code",
   "execution_count": 9,
   "id": "580465d2",
   "metadata": {},
   "outputs": [],
   "source": [
    "# Definindo uma função para a esperança de x^2\n",
    "def f2(x):\n",
    "    return (x*x)*(x*x)/3"
   ]
  },
  {
   "cell_type": "code",
   "execution_count": 10,
   "id": "3df8d2e0",
   "metadata": {},
   "outputs": [],
   "source": [
    "# Calculando a integral de esp de x^2\n",
    "esp_x2, erro2 = quad(f2, -1, 2)"
   ]
  },
  {
   "cell_type": "code",
   "execution_count": 11,
   "id": "64692c80",
   "metadata": {},
   "outputs": [
    {
     "name": "stdout",
     "output_type": "stream",
     "text": [
      "Variância:  0.6375\n",
      "Erro da 2 integral:  2.4424906541753447e-14\n"
     ]
    }
   ],
   "source": [
    "# Calculando a variância\n",
    "var = esp_x2 - esp**2\n",
    "\n",
    "# Prints\n",
    "print(\"Variância: \", np.round(var, 4))\n",
    "print(\"Erro da 2 integral: \", erro2)"
   ]
  },
  {
   "cell_type": "markdown",
   "id": "f02e294e",
   "metadata": {},
   "source": [
    "## "
   ]
  },
  {
   "cell_type": "markdown",
   "id": "516ffd12",
   "metadata": {},
   "source": [
    "## Distribuições\n",
    "\n",
    "Nos próximos tópicos, vamos apresentar algumas das principais distribuições utilizadas!"
   ]
  },
  {
   "cell_type": "markdown",
   "id": "0e767ff6",
   "metadata": {},
   "source": [
    "## "
   ]
  },
  {
   "cell_type": "markdown",
   "id": "549ff76a",
   "metadata": {},
   "source": [
    "## Distribuição de Bernoulli/Binomial\n",
    "\n",
    "A distribuição de Bernoulli  é uma distribuição discreta para um espaço amostral $k \\in \\{0, 1\\}$, baseando a probabilidade em __sucessos__ e __falhas__. Onde a probabilidade de sucesso de um evento ($k = 1$) é igual a $p$ e a probabilidade de falha ($k = 0$) seria o valor complementar $1 - p$. A função que descreve a distribuição de Bernoulli pode ser definida como:\n",
    "\n",
    "<br>\n",
    "\n",
    "$$ P(X = k) = p^{k}(1-p)^{(1-k)} $$\n",
    "\n",
    "<br>\n",
    "Os valores para o valor esperado e a variância para a distribuição de Bernoulli serão respectivamente:\n",
    "\n",
    "- __Valor Esperado:__ $ E[X] = p $;\n",
    "\n",
    "- __Variância:__ $ V[X] = p(1-p)$.\n",
    "\n",
    "<br>\n",
    "\n",
    "Mas o caso da distribuição de Bernoulli, tratamos apenas para um evento isolado, como por exemplo o lançamento de uma moeda. Quando trabalhamos com eventos __com repetições__, utiliza-se o caso geral da distribuição de Bernoulli que seria uma __Distribuição Binomial.__\n"
   ]
  },
  {
   "cell_type": "markdown",
   "id": "82bee09e",
   "metadata": {},
   "source": [
    "### Distribuição Binomial\n",
    "\n",
    "Seja a variável aleatória baseado em $n$ repetições de Bernoulli, temos que a definição da distribuição Binomial é dada por:\n",
    "\n",
    "$$ P(X = k) = \\binom{n}{k}p^{k}(1-p)^{(n-k)} = \\frac{n!}{k!(n - k)!}p^{k}(1-p)^{(n-k)}$$\n",
    "\n",
    "<br>\n",
    "Os valores para o valor esperado e a variância para a distribuição Binomial serão respectivamente:\n",
    "\n",
    "- __Valor Esperado:__ $ E[X] = np $;\n",
    "\n",
    "- __Variância:__ $ V[X] = np(1-p)$."
   ]
  },
  {
   "cell_type": "code",
   "execution_count": 12,
   "id": "5b938b9a",
   "metadata": {},
   "outputs": [
    {
     "data": {
      "text/plain": [
       "array([0, 0, 1, 1, 0, 1, 0, 1, 1, 1, 1, 1, 1, 1, 1, 1, 0, 0, 1, 1])"
      ]
     },
     "execution_count": 12,
     "metadata": {},
     "output_type": "execute_result"
    }
   ],
   "source": [
    "# Gerando numero aleatorios de acordo com yma binomial\n",
    "np.random.binomial(1, 0.8, 20)"
   ]
  },
  {
   "cell_type": "code",
   "execution_count": 13,
   "id": "5c934bce",
   "metadata": {},
   "outputs": [
    {
     "data": {
      "text/plain": [
       "1    0.799794\n",
       "0    0.200206\n",
       "dtype: float64"
      ]
     },
     "execution_count": 13,
     "metadata": {},
     "output_type": "execute_result"
    }
   ],
   "source": [
    "# Calculando a proporção\n",
    "pd.Series(np.random.binomial(1, 0.8, 10000000)).value_counts(normalize = True)"
   ]
  },
  {
   "cell_type": "markdown",
   "id": "db10e97e",
   "metadata": {},
   "source": [
    "__Exemplo:__ Em uma caixa há 8 bolas brancas e 4 pretas. Retira-se 5 bolas com reposição. Calcule a probabilidade de que:\n",
    "\n",
    "__A)__ saiam duas bolas brancas:"
   ]
  },
  {
   "cell_type": "code",
   "execution_count": 14,
   "id": "b25e3a3c",
   "metadata": {},
   "outputs": [],
   "source": [
    "# Definindo uma função para o binomial\n",
    "# Carrega a função fatorial\n",
    "from math import factorial\n",
    "\n",
    "# Definir uma função\n",
    "def binomial(n, p, k):\n",
    "    # Criando a combinação\n",
    "    C = (factorial(n)/(factorial(k)*factorial(n-k)))\n",
    "    return C*(np.power(p, k))*(np.power(1-p, n-k))"
   ]
  },
  {
   "cell_type": "code",
   "execution_count": 15,
   "id": "10095cae",
   "metadata": {},
   "outputs": [
    {
     "name": "stdout",
     "output_type": "stream",
     "text": [
      "A probabilidade será:  16.461  %\n"
     ]
    }
   ],
   "source": [
    "# numero de repetições\n",
    "n = 5\n",
    "\n",
    "# numero de brancas\n",
    "k = 2\n",
    "\n",
    "# probabilidade da bola branca\n",
    "p = 8/12\n",
    "\n",
    "# calculo da probabilidade\n",
    "print(\"A probabilidade será: \", np.round(binomial(n, p, k)*100, 3), \" %\")"
   ]
  },
  {
   "cell_type": "markdown",
   "id": "80f9cbe5",
   "metadata": {},
   "source": [
    "__B)__ saiam pelo menos 3 pretas:"
   ]
  },
  {
   "cell_type": "code",
   "execution_count": 16,
   "id": "ccb64300",
   "metadata": {},
   "outputs": [
    {
     "name": "stdout",
     "output_type": "stream",
     "text": [
      "A probabilidade será:  20.988  %\n"
     ]
    }
   ],
   "source": [
    "# numero de repetições\n",
    "n = 5\n",
    "\n",
    "# probabilidade da bola preta\n",
    "p = 4/12\n",
    "\n",
    "# Calculando a probabilidade acumulada\n",
    "prop = 0\n",
    "for k in range(3, n+1):\n",
    "    prop += binomial(n,p,k)\n",
    "    \n",
    "# print do resultado\n",
    "print(\"A probabilidade será: \", np.round(prop*100, 3), \" %\")"
   ]
  },
  {
   "cell_type": "markdown",
   "id": "46b0cce8",
   "metadata": {},
   "source": [
    "## "
   ]
  },
  {
   "cell_type": "markdown",
   "id": "2e5389eb",
   "metadata": {},
   "source": [
    "## Distribuição de Poisson"
   ]
  },
  {
   "cell_type": "markdown",
   "id": "74a28c56",
   "metadata": {},
   "source": [
    "Uma variável aleatória tem distribuição de Poisson quando podemos descrever um evento em relação ao uma taxa/contagem de ocorrência, normalmente chamada de $ \\lambda $, sendo $ \\lambda > 0$. Dessa forma a equação para a distribuição de Poisson será definida como:\n",
    "\n",
    "$$ P(X = k) = \\frac{e^{-\\lambda}\\lambda^{k}}{k!} $$\n",
    "\n",
    "<br>\n",
    "Os valores para o valor esperado e a variância para a distribuição de Poisson serão respectivamente:\n",
    "\n",
    "- __Valor Esperado:__ $ E[X] = \\lambda $;\n",
    "\n",
    "- __Variância:__ $ V[X] = \\lambda$."
   ]
  },
  {
   "cell_type": "markdown",
   "id": "16712ed5",
   "metadata": {},
   "source": [
    "__Exemplo:__ Em uma central telefônica chegam 300 ligações por hora. Sabendo que segue uma distribuição de Poisson, qual é a probabilidade de que:\n",
    "   \n",
    "__A)__ Em um minuto não ocorra ligações;"
   ]
  },
  {
   "cell_type": "code",
   "execution_count": 17,
   "id": "13acc14f",
   "metadata": {},
   "outputs": [],
   "source": [
    "# Criando uma função para a poisson\n",
    "def poisson(lbd, k):\n",
    "    return (np.exp(-lbd)*(lbd**k))/factorial(k)"
   ]
  },
  {
   "cell_type": "code",
   "execution_count": 18,
   "id": "f97a4e82",
   "metadata": {},
   "outputs": [
    {
     "name": "stdout",
     "output_type": "stream",
     "text": [
      "A probabilidade será:  0.674  %\n"
     ]
    }
   ],
   "source": [
    "# Definir o valor de lambda para o exercicio\n",
    "lbd = 300/60 # 5 ligações por minuto\n",
    "\n",
    "# Frequencia procurada k = 0\n",
    "k = 0\n",
    "\n",
    "# Calcular a probabilidade\n",
    "print(\"A probabilidade será: \", np.round(poisson(lbd, k)*100, 3), \" %\")"
   ]
  },
  {
   "cell_type": "markdown",
   "id": "a1ec8942",
   "metadata": {},
   "source": [
    "__B)__ Em 2 minutos ocorram 2 chamadas;"
   ]
  },
  {
   "cell_type": "code",
   "execution_count": 19,
   "id": "6b042ec3",
   "metadata": {},
   "outputs": [
    {
     "name": "stdout",
     "output_type": "stream",
     "text": [
      "A probabilidade será:  0.227  %\n"
     ]
    }
   ],
   "source": [
    "# definindo o lambda\n",
    "lbd = 10 # 5 ligações por min = 10 ligações a cada 2 minutos\n",
    "\n",
    "# Frequencia procurada k = 2\n",
    "k = 2\n",
    "\n",
    "# Calcular a probabilidade\n",
    "print(\"A probabilidade será: \", np.round(poisson(lbd, k)*100, 3), \" %\")"
   ]
  },
  {
   "cell_type": "markdown",
   "id": "d8b5d5c6",
   "metadata": {},
   "source": [
    "## "
   ]
  },
  {
   "cell_type": "markdown",
   "id": "4a26860c",
   "metadata": {},
   "source": [
    "## Distribuição Exponencial"
   ]
  },
  {
   "cell_type": "markdown",
   "id": "aa60e89b",
   "metadata": {},
   "source": [
    "Uma variável aleatória continua tem uma distribuição Exponencial quando queremos avaliar o tempo decorrido entre dois eventos consecutivos, diferente do Poisson que avalia de acordo com uma contagem de ocorrências em um espaço de tempo. A função densidade de probabilidade que descreve a distribuição exponencial pode ser descrita como:\n",
    "\n",
    "$$ f(x) = \\alpha e^{-\\alpha x}, x \\geq 0 $$\n",
    "\n",
    "No caso para $x < 0$, a probabilidade de $f(x) = 0$\n",
    "\n",
    "<br>\n",
    "Os valores para o valor esperado e a variância para a distribuição exponencial serão respectivamente:\n",
    "\n",
    "- __Valor Esperado:__ $ E[X] = \\frac{1}{\\alpha} $;\n",
    "\n",
    "- __Variância:__ $ V[X] = \\frac{1}{\\alpha^2}$.\n"
   ]
  },
  {
   "cell_type": "markdown",
   "id": "9df7300e",
   "metadata": {},
   "source": [
    "__Exemplo:__ O intervalo de tempo, em minutos, entre emissões consecutivas de uma fonte radioativa é uma variável aleatória contínua que segue uma distribuição exponencial com parâmetro $\\alpha = 0.2$. Qual a probabilidade de que ocorra uma emissão em um intervalo inferior a 2 minutos?"
   ]
  },
  {
   "cell_type": "code",
   "execution_count": 20,
   "id": "a4c8a483",
   "metadata": {},
   "outputs": [],
   "source": [
    "# Criando a função exponencial\n",
    "def exponencial(x):\n",
    "    alpha = 0.2\n",
    "    return alpha*np.exp(-alpha*x)"
   ]
  },
  {
   "cell_type": "code",
   "execution_count": 21,
   "id": "dea20dbc",
   "metadata": {},
   "outputs": [
    {
     "name": "stdout",
     "output_type": "stream",
     "text": [
      "A probabilidade será:  32.968  %\n"
     ]
    }
   ],
   "source": [
    "# Calculando a integral da exponencial\n",
    "prob, erro = quad(exponencial, 0, 2)\n",
    "\n",
    "# Print da probabilidade\n",
    "print(\"A probabilidade será: \", np.round(prob*100, 3), \" %\")"
   ]
  },
  {
   "cell_type": "markdown",
   "id": "6b5c7e0a",
   "metadata": {},
   "source": [
    "## "
   ]
  },
  {
   "cell_type": "markdown",
   "id": "755be7e4",
   "metadata": {},
   "source": [
    "## Distribuição Uniforme"
   ]
  },
  {
   "cell_type": "markdown",
   "id": "7505349e",
   "metadata": {},
   "source": [
    "A distribuição uniforme é uma distribuição bem simples e não possui parâmetros, a única diferença é que só vai haver probabilidade para um determinado exento $x$, se $x \\in [a, b]$. Dessa forma a equação de densidade de probabilidade para a distribuição uniforme é dado por:\n",
    "\n",
    "$$ f(x) = \\frac{1}{b - a}, a \\leq x \\leq b $$\n",
    "\n",
    "E para o caso de $x \\notin [a, b]$, a função de densidade será $f(x) = 0$\n",
    "\n",
    "<br>\n",
    "Os valores para o valor esperado e a variância para a distribuição exponencial serão respectivamente:\n",
    "\n",
    "- __Valor Esperado:__ $ E[X] = \\frac{a + b}{2} $;\n",
    "\n",
    "- __Variância:__ $ V[X] = \\frac{(b - a)^2}{12}$.\n"
   ]
  },
  {
   "cell_type": "code",
   "execution_count": 22,
   "id": "da30147a",
   "metadata": {},
   "outputs": [
    {
     "data": {
      "text/plain": [
       "array([0.45088329, 0.22692104, 0.41623335, 0.32329961, 0.39656068,\n",
       "       0.16561616, 0.51456218, 0.0524953 , 0.12415302, 0.97393171,\n",
       "       0.48973656, 0.29660188, 0.97472534, 0.56505918, 0.77304662,\n",
       "       0.85822689, 0.94853815, 0.86502546, 0.44761471, 0.08185659,\n",
       "       0.58440869, 0.09783707, 0.62268227, 0.06786965, 0.67348812,\n",
       "       0.87889352, 0.74771989, 0.17265835, 0.00408655, 0.30140482,\n",
       "       0.60722344, 0.9166955 , 0.56612868, 0.84045956, 0.46054678,\n",
       "       0.16370824, 0.1701778 , 0.12407656, 0.52162439, 0.0154413 ,\n",
       "       0.49214779, 0.77256667, 0.4402334 , 0.40608206, 0.68672291,\n",
       "       0.72048803, 0.66452249, 0.06430593, 0.12453362, 0.26942299,\n",
       "       0.13756178, 0.84905051, 0.74035639, 0.8976881 , 0.733165  ,\n",
       "       0.00479535, 0.38490228, 0.060825  , 0.01657956, 0.76365329,\n",
       "       0.73422077, 0.97588607, 0.82915105, 0.9399801 , 0.87766345,\n",
       "       0.33307027, 0.418382  , 0.5699827 , 0.1791118 , 0.44612627,\n",
       "       0.15161902, 0.69335997, 0.6013319 , 0.57937599, 0.59895889,\n",
       "       0.44279812, 0.46530645, 0.75745769, 0.46000968, 0.95851161,\n",
       "       0.61253802, 0.822981  , 0.56133906, 0.46862536, 0.1670365 ,\n",
       "       0.3914163 , 0.55729876, 0.23739597, 0.990974  , 0.88020009,\n",
       "       0.64500755, 0.79731517, 0.05089812, 0.94203121, 0.24060902,\n",
       "       0.37076873, 0.30959602, 0.978338  , 0.69434723, 0.50784392])"
      ]
     },
     "execution_count": 22,
     "metadata": {},
     "output_type": "execute_result"
    }
   ],
   "source": [
    "# Definindo um numero de amostras\n",
    "N = 100\n",
    "\n",
    "#criando as amostras\n",
    "amostra = np.random.uniform(0, 1, N)\n",
    "\n",
    "amostra"
   ]
  },
  {
   "cell_type": "code",
   "execution_count": 23,
   "id": "cc7f14f3",
   "metadata": {},
   "outputs": [
    {
     "name": "stderr",
     "output_type": "stream",
     "text": [
      "C:\\Users\\ITX Gamer\\anaconda3\\lib\\site-packages\\seaborn\\distributions.py:2619: FutureWarning: `distplot` is a deprecated function and will be removed in a future version. Please adapt your code to use either `displot` (a figure-level function with similar flexibility) or `histplot` (an axes-level function for histograms).\n",
      "  warnings.warn(msg, FutureWarning)\n"
     ]
    },
    {
     "data": {
      "image/png": "[encoded data removed]",
      "text/plain": [
       "<Figure size 640x480 with 1 Axes>"
      ]
     },
     "metadata": {},
     "output_type": "display_data"
    }
   ],
   "source": [
    "# Definindo um numero de amostras\n",
    "N = 100\n",
    "\n",
    "#criando as amostras\n",
    "amostra = np.random.uniform(0, 1, N)\n",
    "\n",
    "# Mostrando a distribuição e o histograma\n",
    "sns.distplot(amostra)\n",
    "\n",
    "# mostrando o gráfico\n",
    "plt.show()"
   ]
  },
  {
   "cell_type": "code",
   "execution_count": 24,
   "id": "54fa43b4",
   "metadata": {},
   "outputs": [
    {
     "name": "stderr",
     "output_type": "stream",
     "text": [
      "C:\\Users\\ITX Gamer\\anaconda3\\lib\\site-packages\\seaborn\\distributions.py:2619: FutureWarning: `distplot` is a deprecated function and will be removed in a future version. Please adapt your code to use either `displot` (a figure-level function with similar flexibility) or `histplot` (an axes-level function for histograms).\n",
      "  warnings.warn(msg, FutureWarning)\n"
     ]
    },
    {
     "data": {
      "image/png": "[encoded data removed]",
      "text/plain": [
       "<Figure size 640x480 with 1 Axes>"
      ]
     },
     "metadata": {},
     "output_type": "display_data"
    }
   ],
   "source": [
    "# Definindo um numero de amostras\n",
    "N = 10000\n",
    "\n",
    "#criando as amostras\n",
    "amostra = np.random.uniform(0, 1, N)\n",
    "\n",
    "# Mostrando a distribuição e o histograma\n",
    "sns.distplot(amostra)\n",
    "\n",
    "# mostrando o gráfico\n",
    "plt.show()"
   ]
  },
  {
   "cell_type": "code",
   "execution_count": 25,
   "id": "e230f0a8",
   "metadata": {},
   "outputs": [
    {
     "name": "stderr",
     "output_type": "stream",
     "text": [
      "C:\\Users\\ITX Gamer\\anaconda3\\lib\\site-packages\\seaborn\\distributions.py:2619: FutureWarning: `distplot` is a deprecated function and will be removed in a future version. Please adapt your code to use either `displot` (a figure-level function with similar flexibility) or `histplot` (an axes-level function for histograms).\n",
      "  warnings.warn(msg, FutureWarning)\n"
     ]
    },
    {
     "data": {
      "image/png": "[encoded data removed]",
      "text/plain": [
       "<Figure size 640x480 with 1 Axes>"
      ]
     },
     "metadata": {},
     "output_type": "display_data"
    }
   ],
   "source": [
    "# Definindo um numero de amostras\n",
    "N = 1000000\n",
    "\n",
    "#criando as amostras\n",
    "amostra = np.random.uniform(0, 1, N)\n",
    "\n",
    "# Mostrando a distribuição e o histograma\n",
    "sns.distplot(amostra)\n",
    "\n",
    "# mostrando o gráfico\n",
    "plt.show()"
   ]
  },
  {
   "cell_type": "markdown",
   "id": "7fc17e95",
   "metadata": {},
   "source": [
    "## "
   ]
  },
  {
   "cell_type": "markdown",
   "id": "84c19815",
   "metadata": {},
   "source": [
    "## Exercícios"
   ]
  },
  {
   "cell_type": "markdown",
   "id": "bed5d17d",
   "metadata": {},
   "source": [
    "__1)__ Em uma caixa há 7 bolas brancas, 4 pretas e 5 vermelhas. Retira-se 6 bolas com reposição. Calcule a probabilidade de que:\n",
    "\n",
    "__A)__ saiam 4 bolas vermelhas:\n",
    "\n",
    "__B)__ pelo menos 3 bolas brancas:\n",
    "\n",
    "__C)__ 1 ou 2 bolas pretas."
   ]
  },
  {
   "cell_type": "markdown",
   "id": "840489b6",
   "metadata": {},
   "source": [
    "## "
   ]
  },
  {
   "cell_type": "markdown",
   "id": "e1753989",
   "metadata": {},
   "source": [
    "__2)__ Em um livro de 800 páginas há 800 erros de impressão. Qual a probabilidade de que uma página contenha pelo menos 3 erros?"
   ]
  },
  {
   "cell_type": "markdown",
   "id": "4ed57c97",
   "metadata": {},
   "source": [
    "## "
   ]
  },
  {
   "cell_type": "markdown",
   "id": "e1f55925",
   "metadata": {},
   "source": [
    "__3)__ Numa criação de coelhos, 45% são machos. Qual a probabilidade de nascerem pelo menos 5 coelhos machos num dia em que nasceram 15 coelhos?"
   ]
  },
  {
   "cell_type": "markdown",
   "id": "acd19444",
   "metadata": {},
   "source": [
    "## "
   ]
  },
  {
   "cell_type": "markdown",
   "id": "eb5be6f8",
   "metadata": {},
   "source": [
    "__4)__ Numa estrada há 2 acidentes para cada 100 km. Qual a probabilidade de que em:\n",
    "\n",
    "__A)__ 250 km pelo menos 3 acidentes?"
   ]
  },
  {
   "cell_type": "markdown",
   "id": "7b32130a",
   "metadata": {},
   "source": [
    "__B)__ 300 km ocorram 5 acidentes?"
   ]
  }
 ],
 "metadata": {
  "kernelspec": {
   "display_name": "Python 3 (ipykernel)",
   "language": "python",
   "name": "python3"
  },
  "language_info": {
   "codemirror_mode": {
    "name": "ipython",
    "version": 3
   },
   "file_extension": ".py",
   "mimetype": "text/x-python",
   "name": "python",
   "nbconvert_exporter": "python",
   "pygments_lexer": "ipython3",
   "version": "3.9.13"
  }
 },
 "nbformat": 4,
 "nbformat_minor": 5
}
