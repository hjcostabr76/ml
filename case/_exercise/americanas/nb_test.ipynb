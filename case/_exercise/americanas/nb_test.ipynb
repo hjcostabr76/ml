{
 "cells": [
  {
   "cell_type": "markdown",
   "metadata": {},
   "source": [
    "# Prova Americanas"
   ]
  },
  {
   "cell_type": "markdown",
   "metadata": {},
   "source": [
    "Imports"
   ]
  },
  {
   "cell_type": "markdown",
   "metadata": {},
   "source": [
    "## 01"
   ]
  },
  {
   "cell_type": "markdown",
   "metadata": {},
   "source": [
    "#### Enunciado"
   ]
  },
  {
   "cell_type": "markdown",
   "metadata": {},
   "source": [
    "\n",
    "Um parque de diversões tem 3 atrações principais: o carrossel, piscina de bolinhas e montanha-russa.\n",
    "\n",
    "Para poder participar de uma atração a pessoa deve cumprir as seguintes condições:\n",
    "\n",
    "- Carrossel: altura mínima de 1,00m e idade mínima de 3 anos.\n",
    "\n",
    "- Piscina de bolinhas: idade entre 4 e 9 anos e máximo de 1,30m de altura.\n",
    "\n",
    "- Montanha-russa: altura mínima de 1,10m.\n",
    "\n",
    "O fiscal de cada atração verificará o ano de nascimento da pessoa e altura para liberar o acesso para uma pessoa.\n",
    "\n",
    "Faça uma função em python que receba o ano de nascimento e altura da pessoa e informe quais as atrações que a pessoa pode participar."
   ]
  },
  {
   "cell_type": "markdown",
   "metadata": {},
   "source": [
    "#### Resolução"
   ]
  },
  {
   "cell_type": "code",
   "execution_count": 24,
   "metadata": {},
   "outputs": [
    {
     "data": {
      "text/plain": [
       "['carrossel', 'montanha russa']"
      ]
     },
     "execution_count": 24,
     "metadata": {},
     "output_type": "execute_result"
    }
   ],
   "source": [
    "ANO_ATUAL = 2022\n",
    "\n",
    "def get_atracoes_autorizadas(ano_nascimento: int, altura: float) -> list:\n",
    "    idade = ANO_ATUAL - ano_nascimento\n",
    "\n",
    "    permissoes = []\n",
    "    pode_carrossel = idade >= 3 and altura >= 1\n",
    "    if pode_carrossel:\n",
    "        permissoes.append('carrossel')\n",
    "\n",
    "    pode_piscina = 4 <= idade <= 9 and altura <= 1.3\n",
    "    if pode_piscina:\n",
    "        permissoes.append('piscina de bolinhas')\n",
    "\n",
    "    pode_montanha = altura >= 1.1\n",
    "    if pode_montanha:\n",
    "        permissoes.append('montanha russa')\n",
    "\n",
    "    return permissoes\n",
    "\n",
    "# get_atracoes_autorizadas(ano_nascimento=ANO_ATUAL, altura=.6)\n",
    "# get_atracoes_autorizadas(ano_nascimento=ANO_ATUAL-28, altura=1.85)\n",
    "# get_atracoes_autorizadas(ano_nascimento=ANO_ATUAL-3, altura=1.1)\n",
    "# get_atracoes_autorizadas(ano_nascimento=ANO_ATUAL-4, altura=1.1)\n",
    "# get_atracoes_autorizadas(ano_nascimento=ANO_ATUAL-9, altura=1.5)"
   ]
  },
  {
   "cell_type": "markdown",
   "metadata": {},
   "source": [
    "## 02"
   ]
  },
  {
   "cell_type": "markdown",
   "metadata": {},
   "source": [
    "#### Enunciado"
   ]
  },
  {
   "cell_type": "markdown",
   "metadata": {},
   "source": [
    "- Peça ao usuário para entrar com um número\n",
    "- e faça uma função que retorne o fatorial dele como resposta.\n",
    "\n",
    "O fatorial de um número é o resultado da multiplicação de todos os números que o antecedem a partir de 1 até o número fornecido. Atenção, fatorial só vale para números positivos!\n",
    "\n",
    "    Exemplo: fatorial de 4 = 1 * 2 * 3 * 4 = 24"
   ]
  },
  {
   "cell_type": "markdown",
   "metadata": {},
   "source": [
    "#### Resolução"
   ]
  },
  {
   "cell_type": "code",
   "execution_count": null,
   "metadata": {},
   "outputs": [],
   "source": [
    "def fatorial(numero: int) -> int:\n",
    "  if numero > 1:\n",
    "    return numero * fatorial(numero - 1)\n",
    "  return 1\n",
    "\n",
    "numero = int(input('Informe um número inteiro'))\n",
    "fatorial(numero=numero)"
   ]
  },
  {
   "cell_type": "markdown",
   "metadata": {},
   "source": [
    "## 03"
   ]
  },
  {
   "cell_type": "markdown",
   "metadata": {},
   "source": [
    "### Enunciado"
   ]
  },
  {
   "cell_type": "markdown",
   "metadata": {},
   "source": [
    "- Dado um número fornecido pelo usuário\n",
    "- faça um programa que teste se é número primo e imprima na tela.\n",
    "\n",
    "Além disso, exiba uma lista de divisores do número testado.\n",
    "\n",
    "    Um número primo é divisível somente por 1 e por ele mesmo. Seu programa deve ser funcional para qualquer número até o 100."
   ]
  },
  {
   "cell_type": "markdown",
   "metadata": {},
   "source": [
    "#### Resolução"
   ]
  },
  {
   "cell_type": "code",
   "execution_count": 64,
   "metadata": {},
   "outputs": [
    {
     "name": "stdout",
     "output_type": "stream",
     "text": [
      "O número 5 é primo\n",
      "Lista de divisores do número 5: \"5, 1\"\n",
      "\n"
     ]
    }
   ],
   "source": [
    "\n",
    "def get_divisores(numero: int) -> list:\n",
    "    ''' Retorna lista de divisores inteiros de um numero inteiro positivo. '''\n",
    "\n",
    "    if numero < 1:\n",
    "        return []\n",
    "    \n",
    "    if numero == 1:\n",
    "        return [1]\n",
    "    \n",
    "    divisores = [numero]\n",
    "    for n in range(numero-1, 1, -1):\n",
    "        if numero % n == 0:\n",
    "            divisores.append(n)\n",
    "    \n",
    "    divisores.append(1)\n",
    "    return divisores\n",
    "\n",
    "def avalia_numero_primo(numero: int) -> None:\n",
    "    ''' Executa procedimento de teste de número primo e a respectiva exposicao do seu resultado. '''\n",
    "    \n",
    "    # Avalia lista de divisores\n",
    "    divisores = get_divisores(numero=numero)\n",
    "    eh_primo = len(divisores) in [1, 2]\n",
    "\n",
    "    # Teste de numero primo\n",
    "    if eh_primo:\n",
    "        print(f'O número {numero} é primo')\n",
    "    else:\n",
    "        print(f'O número {numero} não é primo')\n",
    "\n",
    "    # Exibe lista de divisores\n",
    "    divisores_string = ''\n",
    "    for i, divisor in enumerate(divisores):\n",
    "        if i > 0:\n",
    "            divisores_string += ', '\n",
    "        divisores_string += str(divisor)\n",
    "\n",
    "    print(f'Lista de divisores do número {numero}: \"{divisores_string}\"')\n",
    "    print('')\n",
    "\n",
    "# numero = int(input('Informe um número: '))\n",
    "numero = 5\n",
    "avalia_numero_primo(numero=numero)\n",
    "\n",
    "# aux1 = [7, 8, 9]\n",
    "# aux2 = [0, 1, 2, 3, 4, 5, 6, 7, 8, 9, 10]\n",
    "# aux2 = [0, 1, 2, 3, 4, 5, 6, 7, 8]\n",
    "# aux2 = [9, 10]\n",
    "\n",
    "# for i in aux1:\n",
    "#     for j in aux2:\n",
    "#         n = 10*i + j\n",
    "#         avalia_numero_primo(numero=n)"
   ]
  },
  {
   "cell_type": "markdown",
   "metadata": {},
   "source": [
    "## 03"
   ]
  },
  {
   "cell_type": "markdown",
   "metadata": {},
   "source": [
    "#### Enunciado"
   ]
  },
  {
   "cell_type": "markdown",
   "metadata": {},
   "source": [
    "- Faça um script que leia 10 números do usuário\n",
    "- e informe se algum número foi inserido em sequência.\n",
    "- Se mais de um número for repetido, informe ao menos um (caso no Exemplo 3)."
   ]
  },
  {
   "cell_type": "markdown",
   "metadata": {},
   "source": [
    "##### Exemplos"
   ]
  },
  {
   "cell_type": "markdown",
   "metadata": {},
   "source": [
    "Exemplo 1\n",
    "```\n",
    "input 1: 3\n",
    "input 2: 5\n",
    "(etc...) 6.. 7.. 12.. 2... 43.. 5.. \n",
    "input 9: 1\n",
    "input 10: 8\n",
    "output: Nenhum número foi repetido em sequência\n",
    "```\n",
    "\n",
    "Exemplo 2\n",
    "```\n",
    "input 1: 9\n",
    "input 2: 4\n",
    "(etc...) 9.. 5.. 9.. 6... 3.. 1.. \n",
    "input 9: 6\n",
    "input 10: 6\n",
    "output: O número 6 foi repetido em sequência\n",
    "```\n",
    "\n",
    "Exemplo 3\n",
    "```\n",
    "input 1: 2\n",
    "input 2: 3\n",
    "(etc...) 9.. 9.. 4.. 6... 7.. 7.. \n",
    "input 9: 4\n",
    "input 10: 3\n",
    "output: O número 7 foi repetido em sequência\n",
    "```"
   ]
  },
  {
   "cell_type": "markdown",
   "metadata": {},
   "source": [
    "#### Resolução"
   ]
  },
  {
   "cell_type": "code",
   "execution_count": 72,
   "metadata": {},
   "outputs": [
    {
     "name": "stdout",
     "output_type": "stream",
     "text": [
      "O número 9 foi repetido em sequência\n"
     ]
    }
   ],
   "source": [
    "\n",
    "def get_repeticao_em_sequencia(numeros: list) -> int:\n",
    "    '''\n",
    "    Avalia lista de numeros e retorna o primeiro numero repetido em sequencia (se houver).\n",
    "    Caso contrario, retorna falso.\n",
    "    '''\n",
    "    repeticao = None\n",
    "    numero_anterior = numeros[0]\n",
    "    for i in range(1, len(numeros)):\n",
    "        numero_anterior = numeros[i - 1]\n",
    "        numero_atual = numeros[i]\n",
    "        eh_repeticao = numero_anterior == numero_atual\n",
    "        if eh_repeticao:\n",
    "            repeticao = numero_atual\n",
    "    \n",
    "    return repeticao\n",
    "            \n",
    "# Captura lista de numeros\n",
    "# numeros = [3, 5, 6, 7, 12, 2, 43, 5, 1, 8]\n",
    "# numeros = [9, 4, 9, 5, 9, 6, 3, 1, 6, 6]\n",
    "# numeros = [2, 3, 9, 9, 4, 6, 7, 7, 4, 3]\n",
    "\n",
    "numeros = []\n",
    "for i in range(10):\n",
    "    novo_numero = int(input(f'Informe {i + 1}o número: '))\n",
    "    numeros.append(novo_numero)\n",
    "print()\n",
    "\n",
    "# Avalia se ha elementos repetidos em sequencia\n",
    "repeticao_em_sequencia = get_repeticao_em_sequencia(numeros)\n",
    "if repeticao_em_sequencia != None:\n",
    "    print(f'O número {repeticao_em_sequencia} foi repetido em sequência')\n",
    "else:\n",
    "    print('Nenhum número foi repetido em sequência')\n"
   ]
  }
 ],
 "metadata": {
  "kernelspec": {
   "display_name": "Python 3.10.6 64-bit",
   "language": "python",
   "name": "python3"
  },
  "language_info": {
   "codemirror_mode": {
    "name": "ipython",
    "version": 3
   },
   "file_extension": ".py",
   "mimetype": "text/x-python",
   "name": "python",
   "nbconvert_exporter": "python",
   "pygments_lexer": "ipython3",
   "version": "3.10.6"
  },
  "orig_nbformat": 4,
  "vscode": {
   "interpreter": {
    "hash": "916dbcbb3f70747c44a77c7bcd40155683ae19c65e1c03b4aa3499c5328201f1"
   }
  }
 },
 "nbformat": 4,
 "nbformat_minor": 2
}
