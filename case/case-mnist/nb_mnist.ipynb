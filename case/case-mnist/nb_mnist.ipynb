{
  "cells": [
    {
      "cell_type": "markdown",
      "metadata": {
        "id": "EhCPywrF2TVr"
      },
      "source": [
        "# MNIST DATASET\n"
      ]
    },
    {
      "cell_type": "markdown",
      "metadata": {
        "id": "kcrRQaPjK8_r"
      },
      "source": [
        "imports"
      ]
    },
    {
      "cell_type": "code",
      "execution_count": 1,
      "metadata": {
        "id": "dVrHEUEi2qk8"
      },
      "outputs": [],
      "source": [
        "import torch\n",
        "import torchvision\n",
        "\n",
        "import matplotlib.pyplot as plt\n",
        "\n",
        "import torch.nn as nn\n",
        "import torch.nn.functional as F\n",
        "import torch.optim as optim\n",
        "\n",
        "from torch.utils.tensorboard import SummaryWriter"
      ]
    },
    {
      "cell_type": "markdown",
      "metadata": {
        "id": "P5Zq2XY8qFbe"
      },
      "source": [
        "Global tunnings"
      ]
    },
    {
      "cell_type": "code",
      "execution_count": 2,
      "metadata": {
        "id": "-N8a7rGLED8l"
      },
      "outputs": [
        {
          "data": {
            "text/plain": [
              "device(type='cpu')"
            ]
          },
          "execution_count": 2,
          "metadata": {},
          "output_type": "execute_result"
        }
      ],
      "source": [
        "DEVICE = torch.device(\"cuda:0\" if torch.cuda.is_available() else \"cpu\")\n",
        "DEVICE"
      ]
    },
    {
      "cell_type": "markdown",
      "metadata": {
        "id": "i1qlSNKs1XbS"
      },
      "source": [
        "### Import dataset"
      ]
    },
    {
      "cell_type": "markdown",
      "metadata": {},
      "source": [
        "Build PyTorch Data loaders"
      ]
    },
    {
      "cell_type": "code",
      "execution_count": 3,
      "metadata": {
        "colab": {
          "base_uri": "https://localhost:8080/",
          "height": 423,
          "referenced_widgets": [
            "9eb4730adf934a7c9f4e3a5c4d66604c",
            "dcb8a6641e4642a68951f21ab92e53f5",
            "e38125bc78964669b576095a21b00a0f",
            "90814210ad5b460db397840127adafc3",
            "5986acc455c3435bacbe900fac9e59c0",
            "277ba820bfae4e13b43048b73411d568",
            "4aff3a7e3e7746159e0197d8f3ab19ca",
            "18dda5c2e53540e2b2230d1824bb2787",
            "7c2cd65bc4d14232934cb8a46ade2be7",
            "a933df6460864ac7b71b5d406f2af910",
            "5ac5fea23296476faa7e5467eb864f4d",
            "4808fcd0fdd740c7bd33b6d87a328167",
            "914de3ede83143d9b4a124e731f8f6b8",
            "306e282f529d4ca3a324277b825285b0",
            "bc0cc94d30fd4313a97b3bb08c74423a",
            "79573c76436e4a3bb4739ef87883327e",
            "435b8b103840486fb2164ef4434f07e4",
            "abeb14b2948d438ab8cb89b8896dc66e",
            "5ad5dd81bbb24ee59099f88d2b198fc3",
            "3e792c89fd474f729041f2198e24e724",
            "3c9e71a073db49d98c6efcbb6bb14a28",
            "92533180b65c404ab97ccff15b78c241",
            "f0b93025e44b4303a0a192e10be56e28",
            "dc7f89a0668a4e409948a8d73d63cfc0",
            "84e371da88ef46f2b951df0a400cfd44",
            "054575a6a9c940098fce94e59db9effe",
            "d710d5fab2174614bdd372e15f3ed3d0",
            "bdfb5411468e4e41911300757a3ee8fd",
            "90dad5de5aaa47559c27c7272b242f04",
            "a2567b7660444a2785340920adceab81",
            "a5f490eecf7d4f8f943abe7f432355af",
            "bdd17f3f0d4e47dbbd40d07ce54c5ab3",
            "e3c4073ac2774c5f9c168df6278063e1",
            "27c5d29664a645729cc420b0f06da446",
            "753af47c66b443939110add98ba7a656",
            "d00a7c4bde7c4aa9bd78c677d5dbf005",
            "e2aa67b951f541c9a40330cedfb59bb3",
            "346cb2f11dde4032bc7f5c955b027c1c",
            "0d4abdc32fb64c92aeaaac30443baf81",
            "9e6a046e5bbf4413ae876e65d53b126a",
            "7d1687e486c0488dada3dd4eb66a25e2",
            "d44fcb14587e4588b503949ba0381776",
            "369db8d698fd44668ce5f66bfb002667",
            "8a0adf1872bc4fd1947c558bf1d67fea"
          ]
        },
        "id": "KpDYcCTwqST6",
        "outputId": "9622fc9e-5481-4d04-f887-abdae9265b41"
      },
      "outputs": [],
      "source": [
        "batch_size_train = 64\n",
        "batch_size_test = 1000\n",
        "\n",
        "train_loader = torch.utils.data.DataLoader(\n",
        "    torchvision.datasets.MNIST(\n",
        "        './file/',\n",
        "        train=True,\n",
        "        download=True,\n",
        "        transform=torchvision.transforms.Compose([\n",
        "            torchvision.transforms.ToTensor(),\n",
        "            torchvision.transforms.Normalize((0.1307,), (0.3081,))  # Normalization: Mean = 0.1307 ; Std deviation = 0.3081;\n",
        "        ])\n",
        "    ),\n",
        "    batch_size=batch_size_train,\n",
        "    shuffle=True,\n",
        ")\n",
        "\n",
        "test_loader = torch.utils.data.DataLoader(\n",
        "    torchvision.datasets.MNIST(\n",
        "        './file/',\n",
        "        train=False,\n",
        "        download=True,\n",
        "        transform=torchvision.transforms.Compose([\n",
        "            torchvision.transforms.ToTensor(),\n",
        "            torchvision.transforms.Normalize((0.1307,), (0.3081,))  # Normalization: Mean = 0.1307 ; Std deviation = 0.3081;\n",
        "        ])\n",
        "      ),\n",
        "      batch_size=batch_size_test,\n",
        "      shuffle=True,\n",
        ")"
      ]
    },
    {
      "cell_type": "markdown",
      "metadata": {
        "id": "rbs1q454rnDX"
      },
      "source": [
        "#### Visualization"
      ]
    },
    {
      "cell_type": "code",
      "execution_count": 14,
      "metadata": {
        "colab": {
          "base_uri": "https://localhost:8080/",
          "height": 551
        },
        "id": "qY5b8_VBrfK-",
        "outputId": "2fd6eac2-9e47-48ea-afde-4e78f3a400c0"
      },
      "outputs": [
        {
          "data": {
            "image/png": "[encoded data removed]",
            "text/plain": [
              "<Figure size 432x288 with 6 Axes>"
            ]
          },
          "metadata": {},
          "output_type": "display_data"
        }
      ],
      "source": [
        "examples = enumerate(test_loader)\n",
        "batch_idx, (example_data, example_targets) = next(examples)\n",
        "\n",
        "fig = plt.figure()\n",
        "for i in range(6):\n",
        "    plt.subplot(2, 3, i+1)\n",
        "    plt.tight_layout()\n",
        "    plt.imshow(example_data[i][0], cmap='gray', interpolation='none')\n",
        "    plt.title(\"Ground Truth: {}\".format(example_targets[i]))\n",
        "    plt.xticks([])\n",
        "    plt.yticks([])"
      ]
    },
    {
      "cell_type": "markdown",
      "metadata": {},
      "source": [
        "### Utils"
      ]
    },
    {
      "cell_type": "markdown",
      "metadata": {},
      "source": [
        "#### Trainer"
      ]
    },
    {
      "cell_type": "code",
      "execution_count": 10,
      "metadata": {},
      "outputs": [],
      "source": [
        "def train(\n",
        "    model: nn.Module, optimizer: optim.Optimizer, criterion: nn.CrossEntropyLoss,\n",
        "    loader: torch.utils.data.DataLoader, n_epochs: int, log_dir: str,\n",
        ") -> None:\n",
        "\n",
        "    n_train = len(loader.dataset)\n",
        "    writer = SummaryWriter(log_dir=log_dir)\n",
        "\n",
        "    loss_l = []\n",
        "    for epoch in range(n_epochs):\n",
        "        average_acc = 0\n",
        "        average_loss = 0\n",
        "        \n",
        "        for batch_idx, (data, target) in enumerate(loader):\n",
        "            data, target = data.to(DEVICE), target.to(DEVICE)\n",
        "            optimizer.zero_grad() # Zero the gradient so it doesn't get acumulated\n",
        "            output = model(data)  # Forward pass\n",
        "\n",
        "            # Train accuracy\n",
        "            y_hat = output.data.max(1, keepdim=True)[1]\n",
        "            train_acc = y_hat.eq(target.data.view_as(y_hat)).sum()\n",
        "            average_acc += train_acc\n",
        "            train_acc = train_acc / len(target.data)\n",
        "\n",
        "            # Update weights\n",
        "            loss = criterion(output, target) # Calculates loss function\n",
        "            average_loss += loss.item()\n",
        "            loss.backward()   # Backpropagation\n",
        "            optimizer.step()  # Update weights\n",
        "            \n",
        "            # Log progress\n",
        "            if batch_idx % 100 == 0:\n",
        "                \n",
        "                n_parsed_items = batch_idx * len(data)\n",
        "                progress = 100. * batch_idx / len(loader)\n",
        "                aux = (epoch - 1) * len(loader) + batch_idx # TODO: What does this number mean?\n",
        "                \n",
        "                print(f\"[epoch %d] [%d/%d (%.2f%%)]\\tLoss: %.6f\" % (epoch, n_parsed_items, n_train, progress, loss.item()))\n",
        "                writer.add_scalar('Loss/train', loss.item(), aux)\n",
        "                writer.add_scalar('Accuracy/train', train_acc, aux)\n",
        "            \n",
        "        writer.close()\n",
        "        loss_l.append(loss.item())\n",
        "\n",
        "        print(\"------------------- ---------------------- -----------------\")\n",
        "        print(f\"[epoch {epoch}] Average train loss: {average_loss / n_train}\")\n",
        "        print(f\"[epoch {epoch}] Average train accuracy: {average_acc / n_train}\\n\")\n",
        "            \n",
        "    plt.plot(loss_l)"
      ]
    },
    {
      "cell_type": "markdown",
      "metadata": {},
      "source": [
        "#### Tester"
      ]
    },
    {
      "cell_type": "code",
      "execution_count": 9,
      "metadata": {},
      "outputs": [],
      "source": [
        "def test(model: nn.Module, criterion: nn.CrossEntropyLoss, loader: torch.utils.data.DataLoader) -> None:\n",
        "\n",
        "    test_loss = 0\n",
        "    correct = 0\n",
        "    n_test = len(loader.dataset)\n",
        "\n",
        "    with torch.no_grad():\n",
        "        for data, target in loader:\n",
        "            data, target = data.to(DEVICE), target.to(DEVICE)\n",
        "            output = model(data)\n",
        "            test_loss += criterion(output, target)\n",
        "            pred = output.data.max(1, keepdim=True)[1]\n",
        "            correct += pred.eq(target.data.view_as(pred)).sum()\n",
        "        test_loss /= n_test\n",
        "\n",
        "    accuracy = 100. * correct / n_test\n",
        "    print(f'\\nTest set: Avg. loss: %.4f, Accuracy: %d/%d (%.2f%%)\\n' % (test_loss, correct, n_test, accuracy))"
      ]
    },
    {
      "cell_type": "markdown",
      "metadata": {
        "id": "D3uP74aRDdMQ"
      },
      "source": [
        "## Simple DNN"
      ]
    },
    {
      "cell_type": "markdown",
      "metadata": {},
      "source": [
        "Parameters & Hyper Parameters"
      ]
    },
    {
      "cell_type": "code",
      "execution_count": 14,
      "metadata": {},
      "outputs": [],
      "source": [
        "# Dimensions\n",
        "dim_in = 28 * 28 # Width x Height (pixels)\n",
        "dim_hidden = 100\n",
        "dim_out = 10\n",
        "\n",
        "# Hyper parameters\n",
        "num_epochs = 10\n",
        "learning_rate = 0.01\n",
        "w_decay = 1e-3\n",
        "momentum = 0.9"
      ]
    },
    {
      "cell_type": "markdown",
      "metadata": {},
      "source": [
        "### Define network"
      ]
    },
    {
      "cell_type": "code",
      "execution_count": 12,
      "metadata": {
        "id": "1G09dyXaEi-M"
      },
      "outputs": [],
      "source": [
        "class Net(nn.Module):\n",
        "\n",
        "  def __init__(self, dim_in: int, dim_hidden: int, dim_out: int):\n",
        "    super(Net, self).__init__()\n",
        "    self.fc1 = nn.Linear(dim_in, dim_hidden)\n",
        "    self.fc2 = nn.Linear(dim_hidden, dim_out)\n",
        "\n",
        "  def forward(self, x: torch.Tensor):\n",
        "    x = x.view(-1, 784) # TODO: What these values?\n",
        "    x = F.relu(self.fc1(x))\n",
        "    x = self.fc2(x)\n",
        "    return x"
      ]
    },
    {
      "cell_type": "markdown",
      "metadata": {
        "id": "CcEqLwoO3RW7"
      },
      "source": [
        "Initialisation\n"
      ]
    },
    {
      "cell_type": "code",
      "execution_count": 15,
      "metadata": {
        "id": "yhSdr6ii3OzE"
      },
      "outputs": [],
      "source": [
        "model = Net(dim_in=dim_in, dim_hidden=dim_hidden, dim_out=dim_out).to(DEVICE) # Use GPU (cuda)\n",
        "criterion = nn.CrossEntropyLoss()\n",
        "optimizer = optim.SGD(model.parameters(), lr=learning_rate, weight_decay=w_decay, momentum=momentum)"
      ]
    },
    {
      "cell_type": "markdown",
      "metadata": {
        "id": "aHOTKN6docrj"
      },
      "source": [
        "### Train $\\times$ Test"
      ]
    },
    {
      "cell_type": "markdown",
      "metadata": {},
      "source": [
        "Train"
      ]
    },
    {
      "cell_type": "code",
      "execution_count": 16,
      "metadata": {
        "colab": {
          "base_uri": "https://localhost:8080/",
          "height": 1000
        },
        "id": "1B_FuPFRogyX",
        "outputId": "77598c32-8581-4c8f-edd1-e074357d66b7"
      },
      "outputs": [
        {
          "name": "stdout",
          "output_type": "stream",
          "text": [
            "[epoch 0] [0/60000 (0.00%)]\tLoss: 2.276227\n",
            "[epoch 0] [6400/60000 (10.66%)]\tLoss: 0.318867\n",
            "[epoch 0] [12800/60000 (21.32%)]\tLoss: 0.295397\n",
            "[epoch 0] [19200/60000 (31.98%)]\tLoss: 0.167125\n",
            "[epoch 0] [25600/60000 (42.64%)]\tLoss: 0.319535\n",
            "[epoch 0] [32000/60000 (53.30%)]\tLoss: 0.157396\n",
            "[epoch 0] [38400/60000 (63.97%)]\tLoss: 0.151200\n",
            "[epoch 0] [44800/60000 (74.63%)]\tLoss: 0.090059\n",
            "[epoch 0] [51200/60000 (85.29%)]\tLoss: 0.135638\n",
            "[epoch 0] [57600/60000 (95.95%)]\tLoss: 0.127804\n",
            "------------------- ---------------------- -----------------\n",
            "[epoch 0] Average train loss: 0.004524655287588636\n",
            "[epoch 0] Average train accuracy: 0.9149666428565979\n",
            "\n",
            "[epoch 1] [0/60000 (0.00%)]\tLoss: 0.115798\n",
            "[epoch 1] [6400/60000 (10.66%)]\tLoss: 0.119967\n",
            "[epoch 1] [12800/60000 (21.32%)]\tLoss: 0.107541\n",
            "[epoch 1] [19200/60000 (31.98%)]\tLoss: 0.045280\n",
            "[epoch 1] [25600/60000 (42.64%)]\tLoss: 0.234205\n",
            "[epoch 1] [32000/60000 (53.30%)]\tLoss: 0.148154\n",
            "[epoch 1] [38400/60000 (63.97%)]\tLoss: 0.098275\n",
            "[epoch 1] [44800/60000 (74.63%)]\tLoss: 0.104105\n",
            "[epoch 1] [51200/60000 (85.29%)]\tLoss: 0.081607\n",
            "[epoch 1] [57600/60000 (95.95%)]\tLoss: 0.097546\n",
            "------------------- ---------------------- -----------------\n",
            "[epoch 1] Average train loss: 0.0019817648279170197\n",
            "[epoch 1] Average train accuracy: 0.9635166525840759\n",
            "\n",
            "[epoch 2] [0/60000 (0.00%)]\tLoss: 0.021952\n",
            "[epoch 2] [6400/60000 (10.66%)]\tLoss: 0.114178\n",
            "[epoch 2] [12800/60000 (21.32%)]\tLoss: 0.125591\n",
            "[epoch 2] [19200/60000 (31.98%)]\tLoss: 0.069460\n",
            "[epoch 2] [25600/60000 (42.64%)]\tLoss: 0.096627\n",
            "[epoch 2] [32000/60000 (53.30%)]\tLoss: 0.107615\n",
            "[epoch 2] [38400/60000 (63.97%)]\tLoss: 0.227212\n",
            "[epoch 2] [44800/60000 (74.63%)]\tLoss: 0.029072\n",
            "[epoch 2] [51200/60000 (85.29%)]\tLoss: 0.058203\n",
            "[epoch 2] [57600/60000 (95.95%)]\tLoss: 0.190451\n",
            "------------------- ---------------------- -----------------\n",
            "[epoch 2] Average train loss: 0.0014417615756392478\n",
            "[epoch 2] Average train accuracy: 0.9731833338737488\n",
            "\n",
            "[epoch 3] [0/60000 (0.00%)]\tLoss: 0.078773\n",
            "[epoch 3] [6400/60000 (10.66%)]\tLoss: 0.080276\n",
            "[epoch 3] [12800/60000 (21.32%)]\tLoss: 0.014662\n",
            "[epoch 3] [19200/60000 (31.98%)]\tLoss: 0.099809\n",
            "[epoch 3] [25600/60000 (42.64%)]\tLoss: 0.075087\n",
            "[epoch 3] [32000/60000 (53.30%)]\tLoss: 0.084270\n",
            "[epoch 3] [38400/60000 (63.97%)]\tLoss: 0.054325\n",
            "[epoch 3] [44800/60000 (74.63%)]\tLoss: 0.065707\n",
            "[epoch 3] [51200/60000 (85.29%)]\tLoss: 0.036873\n",
            "[epoch 3] [57600/60000 (95.95%)]\tLoss: 0.042808\n",
            "------------------- ---------------------- -----------------\n",
            "[epoch 3] Average train loss: 0.001186450362748777\n",
            "[epoch 3] Average train accuracy: 0.9776333570480347\n",
            "\n",
            "[epoch 4] [0/60000 (0.00%)]\tLoss: 0.029684\n",
            "[epoch 4] [6400/60000 (10.66%)]\tLoss: 0.053720\n",
            "[epoch 4] [12800/60000 (21.32%)]\tLoss: 0.065717\n",
            "[epoch 4] [19200/60000 (31.98%)]\tLoss: 0.009676\n",
            "[epoch 4] [25600/60000 (42.64%)]\tLoss: 0.018158\n",
            "[epoch 4] [32000/60000 (53.30%)]\tLoss: 0.080430\n",
            "[epoch 4] [38400/60000 (63.97%)]\tLoss: 0.157240\n",
            "[epoch 4] [44800/60000 (74.63%)]\tLoss: 0.108178\n",
            "[epoch 4] [51200/60000 (85.29%)]\tLoss: 0.037037\n",
            "[epoch 4] [57600/60000 (95.95%)]\tLoss: 0.076627\n",
            "------------------- ---------------------- -----------------\n",
            "[epoch 4] Average train loss: 0.0009923758791138728\n",
            "[epoch 4] Average train accuracy: 0.9817000031471252\n",
            "\n",
            "[epoch 5] [0/60000 (0.00%)]\tLoss: 0.041711\n",
            "[epoch 5] [6400/60000 (10.66%)]\tLoss: 0.036085\n",
            "[epoch 5] [12800/60000 (21.32%)]\tLoss: 0.109501\n",
            "[epoch 5] [19200/60000 (31.98%)]\tLoss: 0.061106\n",
            "[epoch 5] [25600/60000 (42.64%)]\tLoss: 0.036102\n",
            "[epoch 5] [32000/60000 (53.30%)]\tLoss: 0.061625\n",
            "[epoch 5] [38400/60000 (63.97%)]\tLoss: 0.069730\n",
            "[epoch 5] [44800/60000 (74.63%)]\tLoss: 0.044047\n",
            "[epoch 5] [51200/60000 (85.29%)]\tLoss: 0.028119\n",
            "[epoch 5] [57600/60000 (95.95%)]\tLoss: 0.080318\n",
            "------------------- ---------------------- -----------------\n",
            "[epoch 5] Average train loss: 0.0008653210965761294\n",
            "[epoch 5] Average train accuracy: 0.9843166470527649\n",
            "\n",
            "[epoch 6] [0/60000 (0.00%)]\tLoss: 0.034032\n",
            "[epoch 6] [6400/60000 (10.66%)]\tLoss: 0.048512\n",
            "[epoch 6] [12800/60000 (21.32%)]\tLoss: 0.152375\n",
            "[epoch 6] [19200/60000 (31.98%)]\tLoss: 0.037054\n",
            "[epoch 6] [25600/60000 (42.64%)]\tLoss: 0.029824\n",
            "[epoch 6] [32000/60000 (53.30%)]\tLoss: 0.014688\n",
            "[epoch 6] [38400/60000 (63.97%)]\tLoss: 0.032686\n",
            "[epoch 6] [44800/60000 (74.63%)]\tLoss: 0.033362\n",
            "[epoch 6] [51200/60000 (85.29%)]\tLoss: 0.104920\n",
            "[epoch 6] [57600/60000 (95.95%)]\tLoss: 0.040335\n",
            "------------------- ---------------------- -----------------\n",
            "[epoch 6] Average train loss: 0.0007840884502899523\n",
            "[epoch 6] Average train accuracy: 0.9864166378974915\n",
            "\n",
            "[epoch 7] [0/60000 (0.00%)]\tLoss: 0.017756\n",
            "[epoch 7] [6400/60000 (10.66%)]\tLoss: 0.062320\n",
            "[epoch 7] [12800/60000 (21.32%)]\tLoss: 0.031929\n",
            "[epoch 7] [19200/60000 (31.98%)]\tLoss: 0.029896\n",
            "[epoch 7] [25600/60000 (42.64%)]\tLoss: 0.055302\n",
            "[epoch 7] [32000/60000 (53.30%)]\tLoss: 0.069160\n",
            "[epoch 7] [38400/60000 (63.97%)]\tLoss: 0.083628\n",
            "[epoch 7] [44800/60000 (74.63%)]\tLoss: 0.022680\n",
            "[epoch 7] [51200/60000 (85.29%)]\tLoss: 0.035924\n",
            "[epoch 7] [57600/60000 (95.95%)]\tLoss: 0.037395\n",
            "------------------- ---------------------- -----------------\n",
            "[epoch 7] Average train loss: 0.0007228163879054288\n",
            "[epoch 7] Average train accuracy: 0.987500011920929\n",
            "\n",
            "[epoch 8] [0/60000 (0.00%)]\tLoss: 0.032966\n",
            "[epoch 8] [6400/60000 (10.66%)]\tLoss: 0.054432\n",
            "[epoch 8] [12800/60000 (21.32%)]\tLoss: 0.019067\n",
            "[epoch 8] [19200/60000 (31.98%)]\tLoss: 0.044451\n",
            "[epoch 8] [25600/60000 (42.64%)]\tLoss: 0.058575\n",
            "[epoch 8] [32000/60000 (53.30%)]\tLoss: 0.047846\n",
            "[epoch 8] [38400/60000 (63.97%)]\tLoss: 0.026318\n",
            "[epoch 8] [44800/60000 (74.63%)]\tLoss: 0.017555\n",
            "[epoch 8] [51200/60000 (85.29%)]\tLoss: 0.049834\n",
            "[epoch 8] [57600/60000 (95.95%)]\tLoss: 0.037445\n",
            "------------------- ---------------------- -----------------\n",
            "[epoch 8] Average train loss: 0.0006751129341932635\n",
            "[epoch 8] Average train accuracy: 0.9882833361625671\n",
            "\n",
            "[epoch 9] [0/60000 (0.00%)]\tLoss: 0.015718\n",
            "[epoch 9] [6400/60000 (10.66%)]\tLoss: 0.020103\n",
            "[epoch 9] [12800/60000 (21.32%)]\tLoss: 0.015678\n",
            "[epoch 9] [19200/60000 (31.98%)]\tLoss: 0.158177\n",
            "[epoch 9] [25600/60000 (42.64%)]\tLoss: 0.027943\n",
            "[epoch 9] [32000/60000 (53.30%)]\tLoss: 0.026154\n",
            "[epoch 9] [38400/60000 (63.97%)]\tLoss: 0.055763\n",
            "[epoch 9] [44800/60000 (74.63%)]\tLoss: 0.051068\n",
            "[epoch 9] [51200/60000 (85.29%)]\tLoss: 0.016544\n",
            "[epoch 9] [57600/60000 (95.95%)]\tLoss: 0.037568\n",
            "------------------- ---------------------- -----------------\n",
            "[epoch 9] Average train loss: 0.0006267722165328451\n",
            "[epoch 9] Average train accuracy: 0.9896666407585144\n",
            "\n"
          ]
        },
        {
          "data": {
            "image/png": "[encoded data removed]",
            "text/plain": [
              "<Figure size 432x288 with 1 Axes>"
            ]
          },
          "metadata": {},
          "output_type": "display_data"
        }
      ],
      "source": [
        "train(\n",
        "    model=model, optimizer=optimizer, criterion=criterion,\n",
        "    loader=train_loader, n_epochs=num_epochs, log_dir='file/log/simple_net_train',\n",
        ")"
      ]
    },
    {
      "cell_type": "markdown",
      "metadata": {
        "id": "aHr72Gpmpl7i"
      },
      "source": [
        "Test"
      ]
    },
    {
      "cell_type": "code",
      "execution_count": 17,
      "metadata": {
        "colab": {
          "base_uri": "https://localhost:8080/"
        },
        "id": "9K2YckSgplHC",
        "outputId": "242aa0ef-016e-4e29-9cf8-6b09897babce"
      },
      "outputs": [
        {
          "name": "stdout",
          "output_type": "stream",
          "text": [
            "\n",
            "Test set: Avg. loss: 0.0001, Accuracy: 9785/10000 (97.85%)\n",
            "\n"
          ]
        }
      ],
      "source": [
        "test(model=model, criterion=criterion, loader=test_loader)"
      ]
    },
    {
      "cell_type": "markdown",
      "metadata": {
        "id": "YexCZX8aD-0Z"
      },
      "source": [
        "## Convolutional NN"
      ]
    },
    {
      "cell_type": "markdown",
      "metadata": {},
      "source": [
        "Parameters & Hyper Parameters"
      ]
    },
    {
      "cell_type": "code",
      "execution_count": 4,
      "metadata": {},
      "outputs": [],
      "source": [
        "# Dimensions\n",
        "dim_out = 10\n",
        "\n",
        "# Hyper parameters\n",
        "num_epochs = 10\n",
        "learning_rate = 0.01\n",
        "w_decay = 1e-3\n",
        "momentum = 0.9"
      ]
    },
    {
      "cell_type": "markdown",
      "metadata": {},
      "source": [
        "### Define network"
      ]
    },
    {
      "cell_type": "code",
      "execution_count": 5,
      "metadata": {
        "id": "6-kgVtCD3B0d"
      },
      "outputs": [],
      "source": [
        "class CNN(nn.Module):\n",
        "    '''\n",
        "        01 channel (B&W images)\n",
        "        10 classes (10 digits in the MNIST set) \n",
        "    '''\n",
        "\n",
        "    def __init__(self, in_channels=1, num_classes=10):\n",
        "        super(CNN, self).__init__()\n",
        "        self.conv1 = nn.Conv2d(in_channels, out_channels=10, kernel_size=5) # 2D convolutional layer\n",
        "        self.conv2 = nn.Conv2d(10, 20, kernel_size=5)\n",
        "        self.conv2_drop = nn.Dropout2d()\n",
        "        self.fc1 = nn.Linear(320, 50) # Fully connected\n",
        "        self.fc2 = nn.Linear(50, 10)\n",
        "\n",
        "    def forward(self, x): # Step 01\n",
        "        \"\"\"\n",
        "            Input\n",
        "            > Step 01:  torch.Size([64, 1, 28, 28])\n",
        "\n",
        "            Convolution 01:\n",
        "            > Step 02:  torch.Size([64, 10, 24, 24])\n",
        "            > Step 03:  torch.Size([64, 10, 12, 12])\n",
        "\n",
        "            Convolution 02:\n",
        "            > Step 04:  torch.Size([64, 20, 8, 8])\n",
        "            > Step 05:  torch.Size([64, 20, 8, 8])\n",
        "            > Step 06:  torch.Size([64, 20, 4, 4])\n",
        "\n",
        "            Fully connected 01\n",
        "            > Step 07:  torch.Size([64, 320])\n",
        "            > Step 08:  torch.Size([64, 50])\n",
        "            > Step 09:  torch.Size([64, 50])\n",
        "\n",
        "            Fully connected 02\n",
        "            > Step 10:  torch.Size([64, 10])\n",
        "\n",
        "            Output:\n",
        "            > Step 11:  torch.Size([64, 10])\n",
        "            >> tensor([-2.6605, -2.4145, -1.9419, -2.5091, -2.3603, -1.7449, -2.4069, -2.3033, -2.4090, -2.7042])\n",
        "        \"\"\"\n",
        "\n",
        "        # Convolution 01\n",
        "        # x = F.relu(F.max_pool2d(self.conv1(x), 2))\n",
        "        x = self.conv1(x)               # Step 02\n",
        "        x = F.relu(F.max_pool2d(x, 2))  # Step 03\n",
        "\n",
        "        # Convolution 02\n",
        "        # x = F.relu(F.max_pool2d(self.conv2_drop(self.conv2(x)), 2))\n",
        "        x = self.conv2(x)               # Step 04\n",
        "        x = self.conv2_drop(x)          # Step 05\n",
        "        x = F.relu(F.max_pool2d(x, 2))  # Step 06\n",
        "        \n",
        "        # Fully connected 01\n",
        "        x = x.view(-1, 320) # Step 07\n",
        "        x = self.fc1(x)     # Step 08\n",
        "        x = F.dropout(F.relu(x), training=self.training) # Step 09\n",
        "\n",
        "        # Fully connected 02\n",
        "        x = self.fc2(x) # Step 10\n",
        "\n",
        "        # Output\n",
        "        return F.log_softmax(x, dim=-1) # Step 11"
      ]
    },
    {
      "cell_type": "markdown",
      "metadata": {},
      "source": [
        "Initialization"
      ]
    },
    {
      "cell_type": "code",
      "execution_count": 6,
      "metadata": {},
      "outputs": [],
      "source": [
        "model = CNN(in_channels=1, num_classes=dim_out).to(DEVICE) # Use GPU (cuda)\n",
        "criterion = nn.CrossEntropyLoss()\n",
        "optimizer = optim.SGD(model.parameters(), lr=learning_rate, weight_decay=w_decay, momentum=momentum)"
      ]
    },
    {
      "cell_type": "markdown",
      "metadata": {},
      "source": [
        "### Train $\\times$ Test"
      ]
    },
    {
      "cell_type": "markdown",
      "metadata": {},
      "source": [
        "Train"
      ]
    },
    {
      "cell_type": "code",
      "execution_count": null,
      "metadata": {},
      "outputs": [],
      "source": [
        "train(\n",
        "    model=model, optimizer=optimizer, criterion=criterion,\n",
        "    loader=train_loader, n_epochs=num_epochs, log_dir='file/log/cnn_train',\n",
        ")"
      ]
    },
    {
      "cell_type": "markdown",
      "metadata": {},
      "source": [
        "Test"
      ]
    },
    {
      "cell_type": "code",
      "execution_count": 11,
      "metadata": {},
      "outputs": [
        {
          "name": "stdout",
          "output_type": "stream",
          "text": [
            "\n",
            "Test set: Avg. loss: 0.0001, Accuracy: 9605/10000 (96.05%)\n",
            "\n"
          ]
        }
      ],
      "source": [
        "test(model=model, criterion=criterion, loader=test_loader)"
      ]
    }
  ],
  "metadata": {
    "accelerator": "GPU",
    "colab": {
      "collapsed_sections": [],
      "name": "exercise1.ipynb",
      "provenance": []
    },
    "kernelspec": {
      "display_name": "Python 3.8.10 64-bit",
      "language": "python",
      "name": "python3"
    },
    "language_info": {
      "codemirror_mode": {
        "name": "ipython",
        "version": 3
      },
      "file_extension": ".py",
      "mimetype": "text/x-python",
      "name": "python",
      "nbconvert_exporter": "python",
      "pygments_lexer": "ipython3",
      "version": "3.10.4"
    },
    "vscode": {
      "interpreter": {
        "hash": "916dbcbb3f70747c44a77c7bcd40155683ae19c65e1c03b4aa3499c5328201f1"
      }
    },
    "widgets": {
      "application/vnd.jupyter.widget-state+json": {
        "054575a6a9c940098fce94e59db9effe": {
          "model_module": "@jupyter-widgets/controls",
          "model_module_version": "1.5.0",
          "model_name": "HTMLModel",
          "state": {
            "_dom_classes": [],
            "_model_module": "@jupyter-widgets/controls",
            "_model_module_version": "1.5.0",
            "_model_name": "HTMLModel",
            "_view_count": null,
            "_view_module": "@jupyter-widgets/controls",
            "_view_module_version": "1.5.0",
            "_view_name": "HTMLView",
            "description": "",
            "description_tooltip": null,
            "layout": "IPY_MODEL_bdd17f3f0d4e47dbbd40d07ce54c5ab3",
            "placeholder": "​",
            "style": "IPY_MODEL_e3c4073ac2774c5f9c168df6278063e1",
            "value": " 1649664/? [00:00&lt;00:00, 19594672.33it/s]"
          }
        },
        "0d4abdc32fb64c92aeaaac30443baf81": {
          "model_module": "@jupyter-widgets/base",
          "model_module_version": "1.2.0",
          "model_name": "LayoutModel",
          "state": {
            "_model_module": "@jupyter-widgets/base",
            "_model_module_version": "1.2.0",
            "_model_name": "LayoutModel",
            "_view_count": null,
            "_view_module": "@jupyter-widgets/base",
            "_view_module_version": "1.2.0",
            "_view_name": "LayoutView",
            "align_content": null,
            "align_items": null,
            "align_self": null,
            "border": null,
            "bottom": null,
            "display": null,
            "flex": null,
            "flex_flow": null,
            "grid_area": null,
            "grid_auto_columns": null,
            "grid_auto_flow": null,
            "grid_auto_rows": null,
            "grid_column": null,
            "grid_gap": null,
            "grid_row": null,
            "grid_template_areas": null,
            "grid_template_columns": null,
            "grid_template_rows": null,
            "height": null,
            "justify_content": null,
            "justify_items": null,
            "left": null,
            "margin": null,
            "max_height": null,
            "max_width": null,
            "min_height": null,
            "min_width": null,
            "object_fit": null,
            "object_position": null,
            "order": null,
            "overflow": null,
            "overflow_x": null,
            "overflow_y": null,
            "padding": null,
            "right": null,
            "top": null,
            "visibility": null,
            "width": null
          }
        },
        "18dda5c2e53540e2b2230d1824bb2787": {
          "model_module": "@jupyter-widgets/base",
          "model_module_version": "1.2.0",
          "model_name": "LayoutModel",
          "state": {
            "_model_module": "@jupyter-widgets/base",
            "_model_module_version": "1.2.0",
            "_model_name": "LayoutModel",
            "_view_count": null,
            "_view_module": "@jupyter-widgets/base",
            "_view_module_version": "1.2.0",
            "_view_name": "LayoutView",
            "align_content": null,
            "align_items": null,
            "align_self": null,
            "border": null,
            "bottom": null,
            "display": null,
            "flex": null,
            "flex_flow": null,
            "grid_area": null,
            "grid_auto_columns": null,
            "grid_auto_flow": null,
            "grid_auto_rows": null,
            "grid_column": null,
            "grid_gap": null,
            "grid_row": null,
            "grid_template_areas": null,
            "grid_template_columns": null,
            "grid_template_rows": null,
            "height": null,
            "justify_content": null,
            "justify_items": null,
            "left": null,
            "margin": null,
            "max_height": null,
            "max_width": null,
            "min_height": null,
            "min_width": null,
            "object_fit": null,
            "object_position": null,
            "order": null,
            "overflow": null,
            "overflow_x": null,
            "overflow_y": null,
            "padding": null,
            "right": null,
            "top": null,
            "visibility": null,
            "width": null
          }
        },
        "277ba820bfae4e13b43048b73411d568": {
          "model_module": "@jupyter-widgets/base",
          "model_module_version": "1.2.0",
          "model_name": "LayoutModel",
          "state": {
            "_model_module": "@jupyter-widgets/base",
            "_model_module_version": "1.2.0",
            "_model_name": "LayoutModel",
            "_view_count": null,
            "_view_module": "@jupyter-widgets/base",
            "_view_module_version": "1.2.0",
            "_view_name": "LayoutView",
            "align_content": null,
            "align_items": null,
            "align_self": null,
            "border": null,
            "bottom": null,
            "display": null,
            "flex": null,
            "flex_flow": null,
            "grid_area": null,
            "grid_auto_columns": null,
            "grid_auto_flow": null,
            "grid_auto_rows": null,
            "grid_column": null,
            "grid_gap": null,
            "grid_row": null,
            "grid_template_areas": null,
            "grid_template_columns": null,
            "grid_template_rows": null,
            "height": null,
            "justify_content": null,
            "justify_items": null,
            "left": null,
            "margin": null,
            "max_height": null,
            "max_width": null,
            "min_height": null,
            "min_width": null,
            "object_fit": null,
            "object_position": null,
            "order": null,
            "overflow": null,
            "overflow_x": null,
            "overflow_y": null,
            "padding": null,
            "right": null,
            "top": null,
            "visibility": null,
            "width": null
          }
        },
        "27c5d29664a645729cc420b0f06da446": {
          "model_module": "@jupyter-widgets/controls",
          "model_module_version": "1.5.0",
          "model_name": "HBoxModel",
          "state": {
            "_dom_classes": [],
            "_model_module": "@jupyter-widgets/controls",
            "_model_module_version": "1.5.0",
            "_model_name": "HBoxModel",
            "_view_count": null,
            "_view_module": "@jupyter-widgets/controls",
            "_view_module_version": "1.5.0",
            "_view_name": "HBoxView",
            "box_style": "",
            "children": [
              "IPY_MODEL_753af47c66b443939110add98ba7a656",
              "IPY_MODEL_d00a7c4bde7c4aa9bd78c677d5dbf005",
              "IPY_MODEL_e2aa67b951f541c9a40330cedfb59bb3"
            ],
            "layout": "IPY_MODEL_346cb2f11dde4032bc7f5c955b027c1c"
          }
        },
        "306e282f529d4ca3a324277b825285b0": {
          "model_module": "@jupyter-widgets/controls",
          "model_module_version": "1.5.0",
          "model_name": "FloatProgressModel",
          "state": {
            "_dom_classes": [],
            "_model_module": "@jupyter-widgets/controls",
            "_model_module_version": "1.5.0",
            "_model_name": "FloatProgressModel",
            "_view_count": null,
            "_view_module": "@jupyter-widgets/controls",
            "_view_module_version": "1.5.0",
            "_view_name": "ProgressView",
            "bar_style": "success",
            "description": "",
            "description_tooltip": null,
            "layout": "IPY_MODEL_5ad5dd81bbb24ee59099f88d2b198fc3",
            "max": 28881,
            "min": 0,
            "orientation": "horizontal",
            "style": "IPY_MODEL_3e792c89fd474f729041f2198e24e724",
            "value": 28881
          }
        },
        "346cb2f11dde4032bc7f5c955b027c1c": {
          "model_module": "@jupyter-widgets/base",
          "model_module_version": "1.2.0",
          "model_name": "LayoutModel",
          "state": {
            "_model_module": "@jupyter-widgets/base",
            "_model_module_version": "1.2.0",
            "_model_name": "LayoutModel",
            "_view_count": null,
            "_view_module": "@jupyter-widgets/base",
            "_view_module_version": "1.2.0",
            "_view_name": "LayoutView",
            "align_content": null,
            "align_items": null,
            "align_self": null,
            "border": null,
            "bottom": null,
            "display": null,
            "flex": null,
            "flex_flow": null,
            "grid_area": null,
            "grid_auto_columns": null,
            "grid_auto_flow": null,
            "grid_auto_rows": null,
            "grid_column": null,
            "grid_gap": null,
            "grid_row": null,
            "grid_template_areas": null,
            "grid_template_columns": null,
            "grid_template_rows": null,
            "height": null,
            "justify_content": null,
            "justify_items": null,
            "left": null,
            "margin": null,
            "max_height": null,
            "max_width": null,
            "min_height": null,
            "min_width": null,
            "object_fit": null,
            "object_position": null,
            "order": null,
            "overflow": null,
            "overflow_x": null,
            "overflow_y": null,
            "padding": null,
            "right": null,
            "top": null,
            "visibility": null,
            "width": null
          }
        },
        "369db8d698fd44668ce5f66bfb002667": {
          "model_module": "@jupyter-widgets/base",
          "model_module_version": "1.2.0",
          "model_name": "LayoutModel",
          "state": {
            "_model_module": "@jupyter-widgets/base",
            "_model_module_version": "1.2.0",
            "_model_name": "LayoutModel",
            "_view_count": null,
            "_view_module": "@jupyter-widgets/base",
            "_view_module_version": "1.2.0",
            "_view_name": "LayoutView",
            "align_content": null,
            "align_items": null,
            "align_self": null,
            "border": null,
            "bottom": null,
            "display": null,
            "flex": null,
            "flex_flow": null,
            "grid_area": null,
            "grid_auto_columns": null,
            "grid_auto_flow": null,
            "grid_auto_rows": null,
            "grid_column": null,
            "grid_gap": null,
            "grid_row": null,
            "grid_template_areas": null,
            "grid_template_columns": null,
            "grid_template_rows": null,
            "height": null,
            "justify_content": null,
            "justify_items": null,
            "left": null,
            "margin": null,
            "max_height": null,
            "max_width": null,
            "min_height": null,
            "min_width": null,
            "object_fit": null,
            "object_position": null,
            "order": null,
            "overflow": null,
            "overflow_x": null,
            "overflow_y": null,
            "padding": null,
            "right": null,
            "top": null,
            "visibility": null,
            "width": null
          }
        },
        "3c9e71a073db49d98c6efcbb6bb14a28": {
          "model_module": "@jupyter-widgets/base",
          "model_module_version": "1.2.0",
          "model_name": "LayoutModel",
          "state": {
            "_model_module": "@jupyter-widgets/base",
            "_model_module_version": "1.2.0",
            "_model_name": "LayoutModel",
            "_view_count": null,
            "_view_module": "@jupyter-widgets/base",
            "_view_module_version": "1.2.0",
            "_view_name": "LayoutView",
            "align_content": null,
            "align_items": null,
            "align_self": null,
            "border": null,
            "bottom": null,
            "display": null,
            "flex": null,
            "flex_flow": null,
            "grid_area": null,
            "grid_auto_columns": null,
            "grid_auto_flow": null,
            "grid_auto_rows": null,
            "grid_column": null,
            "grid_gap": null,
            "grid_row": null,
            "grid_template_areas": null,
            "grid_template_columns": null,
            "grid_template_rows": null,
            "height": null,
            "justify_content": null,
            "justify_items": null,
            "left": null,
            "margin": null,
            "max_height": null,
            "max_width": null,
            "min_height": null,
            "min_width": null,
            "object_fit": null,
            "object_position": null,
            "order": null,
            "overflow": null,
            "overflow_x": null,
            "overflow_y": null,
            "padding": null,
            "right": null,
            "top": null,
            "visibility": null,
            "width": null
          }
        },
        "3e792c89fd474f729041f2198e24e724": {
          "model_module": "@jupyter-widgets/controls",
          "model_module_version": "1.5.0",
          "model_name": "ProgressStyleModel",
          "state": {
            "_model_module": "@jupyter-widgets/controls",
            "_model_module_version": "1.5.0",
            "_model_name": "ProgressStyleModel",
            "_view_count": null,
            "_view_module": "@jupyter-widgets/base",
            "_view_module_version": "1.2.0",
            "_view_name": "StyleView",
            "bar_color": null,
            "description_width": ""
          }
        },
        "435b8b103840486fb2164ef4434f07e4": {
          "model_module": "@jupyter-widgets/base",
          "model_module_version": "1.2.0",
          "model_name": "LayoutModel",
          "state": {
            "_model_module": "@jupyter-widgets/base",
            "_model_module_version": "1.2.0",
            "_model_name": "LayoutModel",
            "_view_count": null,
            "_view_module": "@jupyter-widgets/base",
            "_view_module_version": "1.2.0",
            "_view_name": "LayoutView",
            "align_content": null,
            "align_items": null,
            "align_self": null,
            "border": null,
            "bottom": null,
            "display": null,
            "flex": null,
            "flex_flow": null,
            "grid_area": null,
            "grid_auto_columns": null,
            "grid_auto_flow": null,
            "grid_auto_rows": null,
            "grid_column": null,
            "grid_gap": null,
            "grid_row": null,
            "grid_template_areas": null,
            "grid_template_columns": null,
            "grid_template_rows": null,
            "height": null,
            "justify_content": null,
            "justify_items": null,
            "left": null,
            "margin": null,
            "max_height": null,
            "max_width": null,
            "min_height": null,
            "min_width": null,
            "object_fit": null,
            "object_position": null,
            "order": null,
            "overflow": null,
            "overflow_x": null,
            "overflow_y": null,
            "padding": null,
            "right": null,
            "top": null,
            "visibility": null,
            "width": null
          }
        },
        "4808fcd0fdd740c7bd33b6d87a328167": {
          "model_module": "@jupyter-widgets/controls",
          "model_module_version": "1.5.0",
          "model_name": "HBoxModel",
          "state": {
            "_dom_classes": [],
            "_model_module": "@jupyter-widgets/controls",
            "_model_module_version": "1.5.0",
            "_model_name": "HBoxModel",
            "_view_count": null,
            "_view_module": "@jupyter-widgets/controls",
            "_view_module_version": "1.5.0",
            "_view_name": "HBoxView",
            "box_style": "",
            "children": [
              "IPY_MODEL_914de3ede83143d9b4a124e731f8f6b8",
              "IPY_MODEL_306e282f529d4ca3a324277b825285b0",
              "IPY_MODEL_bc0cc94d30fd4313a97b3bb08c74423a"
            ],
            "layout": "IPY_MODEL_79573c76436e4a3bb4739ef87883327e"
          }
        },
        "4aff3a7e3e7746159e0197d8f3ab19ca": {
          "model_module": "@jupyter-widgets/controls",
          "model_module_version": "1.5.0",
          "model_name": "DescriptionStyleModel",
          "state": {
            "_model_module": "@jupyter-widgets/controls",
            "_model_module_version": "1.5.0",
            "_model_name": "DescriptionStyleModel",
            "_view_count": null,
            "_view_module": "@jupyter-widgets/base",
            "_view_module_version": "1.2.0",
            "_view_name": "StyleView",
            "description_width": ""
          }
        },
        "5986acc455c3435bacbe900fac9e59c0": {
          "model_module": "@jupyter-widgets/base",
          "model_module_version": "1.2.0",
          "model_name": "LayoutModel",
          "state": {
            "_model_module": "@jupyter-widgets/base",
            "_model_module_version": "1.2.0",
            "_model_name": "LayoutModel",
            "_view_count": null,
            "_view_module": "@jupyter-widgets/base",
            "_view_module_version": "1.2.0",
            "_view_name": "LayoutView",
            "align_content": null,
            "align_items": null,
            "align_self": null,
            "border": null,
            "bottom": null,
            "display": null,
            "flex": null,
            "flex_flow": null,
            "grid_area": null,
            "grid_auto_columns": null,
            "grid_auto_flow": null,
            "grid_auto_rows": null,
            "grid_column": null,
            "grid_gap": null,
            "grid_row": null,
            "grid_template_areas": null,
            "grid_template_columns": null,
            "grid_template_rows": null,
            "height": null,
            "justify_content": null,
            "justify_items": null,
            "left": null,
            "margin": null,
            "max_height": null,
            "max_width": null,
            "min_height": null,
            "min_width": null,
            "object_fit": null,
            "object_position": null,
            "order": null,
            "overflow": null,
            "overflow_x": null,
            "overflow_y": null,
            "padding": null,
            "right": null,
            "top": null,
            "visibility": null,
            "width": null
          }
        },
        "5ac5fea23296476faa7e5467eb864f4d": {
          "model_module": "@jupyter-widgets/controls",
          "model_module_version": "1.5.0",
          "model_name": "DescriptionStyleModel",
          "state": {
            "_model_module": "@jupyter-widgets/controls",
            "_model_module_version": "1.5.0",
            "_model_name": "DescriptionStyleModel",
            "_view_count": null,
            "_view_module": "@jupyter-widgets/base",
            "_view_module_version": "1.2.0",
            "_view_name": "StyleView",
            "description_width": ""
          }
        },
        "5ad5dd81bbb24ee59099f88d2b198fc3": {
          "model_module": "@jupyter-widgets/base",
          "model_module_version": "1.2.0",
          "model_name": "LayoutModel",
          "state": {
            "_model_module": "@jupyter-widgets/base",
            "_model_module_version": "1.2.0",
            "_model_name": "LayoutModel",
            "_view_count": null,
            "_view_module": "@jupyter-widgets/base",
            "_view_module_version": "1.2.0",
            "_view_name": "LayoutView",
            "align_content": null,
            "align_items": null,
            "align_self": null,
            "border": null,
            "bottom": null,
            "display": null,
            "flex": null,
            "flex_flow": null,
            "grid_area": null,
            "grid_auto_columns": null,
            "grid_auto_flow": null,
            "grid_auto_rows": null,
            "grid_column": null,
            "grid_gap": null,
            "grid_row": null,
            "grid_template_areas": null,
            "grid_template_columns": null,
            "grid_template_rows": null,
            "height": null,
            "justify_content": null,
            "justify_items": null,
            "left": null,
            "margin": null,
            "max_height": null,
            "max_width": null,
            "min_height": null,
            "min_width": null,
            "object_fit": null,
            "object_position": null,
            "order": null,
            "overflow": null,
            "overflow_x": null,
            "overflow_y": null,
            "padding": null,
            "right": null,
            "top": null,
            "visibility": null,
            "width": null
          }
        },
        "753af47c66b443939110add98ba7a656": {
          "model_module": "@jupyter-widgets/controls",
          "model_module_version": "1.5.0",
          "model_name": "HTMLModel",
          "state": {
            "_dom_classes": [],
            "_model_module": "@jupyter-widgets/controls",
            "_model_module_version": "1.5.0",
            "_model_name": "HTMLModel",
            "_view_count": null,
            "_view_module": "@jupyter-widgets/controls",
            "_view_module_version": "1.5.0",
            "_view_name": "HTMLView",
            "description": "",
            "description_tooltip": null,
            "layout": "IPY_MODEL_0d4abdc32fb64c92aeaaac30443baf81",
            "placeholder": "​",
            "style": "IPY_MODEL_9e6a046e5bbf4413ae876e65d53b126a",
            "value": ""
          }
        },
        "79573c76436e4a3bb4739ef87883327e": {
          "model_module": "@jupyter-widgets/base",
          "model_module_version": "1.2.0",
          "model_name": "LayoutModel",
          "state": {
            "_model_module": "@jupyter-widgets/base",
            "_model_module_version": "1.2.0",
            "_model_name": "LayoutModel",
            "_view_count": null,
            "_view_module": "@jupyter-widgets/base",
            "_view_module_version": "1.2.0",
            "_view_name": "LayoutView",
            "align_content": null,
            "align_items": null,
            "align_self": null,
            "border": null,
            "bottom": null,
            "display": null,
            "flex": null,
            "flex_flow": null,
            "grid_area": null,
            "grid_auto_columns": null,
            "grid_auto_flow": null,
            "grid_auto_rows": null,
            "grid_column": null,
            "grid_gap": null,
            "grid_row": null,
            "grid_template_areas": null,
            "grid_template_columns": null,
            "grid_template_rows": null,
            "height": null,
            "justify_content": null,
            "justify_items": null,
            "left": null,
            "margin": null,
            "max_height": null,
            "max_width": null,
            "min_height": null,
            "min_width": null,
            "object_fit": null,
            "object_position": null,
            "order": null,
            "overflow": null,
            "overflow_x": null,
            "overflow_y": null,
            "padding": null,
            "right": null,
            "top": null,
            "visibility": null,
            "width": null
          }
        },
        "7c2cd65bc4d14232934cb8a46ade2be7": {
          "model_module": "@jupyter-widgets/controls",
          "model_module_version": "1.5.0",
          "model_name": "ProgressStyleModel",
          "state": {
            "_model_module": "@jupyter-widgets/controls",
            "_model_module_version": "1.5.0",
            "_model_name": "ProgressStyleModel",
            "_view_count": null,
            "_view_module": "@jupyter-widgets/base",
            "_view_module_version": "1.2.0",
            "_view_name": "StyleView",
            "bar_color": null,
            "description_width": ""
          }
        },
        "7d1687e486c0488dada3dd4eb66a25e2": {
          "model_module": "@jupyter-widgets/base",
          "model_module_version": "1.2.0",
          "model_name": "LayoutModel",
          "state": {
            "_model_module": "@jupyter-widgets/base",
            "_model_module_version": "1.2.0",
            "_model_name": "LayoutModel",
            "_view_count": null,
            "_view_module": "@jupyter-widgets/base",
            "_view_module_version": "1.2.0",
            "_view_name": "LayoutView",
            "align_content": null,
            "align_items": null,
            "align_self": null,
            "border": null,
            "bottom": null,
            "display": null,
            "flex": null,
            "flex_flow": null,
            "grid_area": null,
            "grid_auto_columns": null,
            "grid_auto_flow": null,
            "grid_auto_rows": null,
            "grid_column": null,
            "grid_gap": null,
            "grid_row": null,
            "grid_template_areas": null,
            "grid_template_columns": null,
            "grid_template_rows": null,
            "height": null,
            "justify_content": null,
            "justify_items": null,
            "left": null,
            "margin": null,
            "max_height": null,
            "max_width": null,
            "min_height": null,
            "min_width": null,
            "object_fit": null,
            "object_position": null,
            "order": null,
            "overflow": null,
            "overflow_x": null,
            "overflow_y": null,
            "padding": null,
            "right": null,
            "top": null,
            "visibility": null,
            "width": null
          }
        },
        "84e371da88ef46f2b951df0a400cfd44": {
          "model_module": "@jupyter-widgets/controls",
          "model_module_version": "1.5.0",
          "model_name": "FloatProgressModel",
          "state": {
            "_dom_classes": [],
            "_model_module": "@jupyter-widgets/controls",
            "_model_module_version": "1.5.0",
            "_model_name": "FloatProgressModel",
            "_view_count": null,
            "_view_module": "@jupyter-widgets/controls",
            "_view_module_version": "1.5.0",
            "_view_name": "ProgressView",
            "bar_style": "success",
            "description": "",
            "description_tooltip": null,
            "layout": "IPY_MODEL_a2567b7660444a2785340920adceab81",
            "max": 1648877,
            "min": 0,
            "orientation": "horizontal",
            "style": "IPY_MODEL_a5f490eecf7d4f8f943abe7f432355af",
            "value": 1648877
          }
        },
        "8a0adf1872bc4fd1947c558bf1d67fea": {
          "model_module": "@jupyter-widgets/controls",
          "model_module_version": "1.5.0",
          "model_name": "DescriptionStyleModel",
          "state": {
            "_model_module": "@jupyter-widgets/controls",
            "_model_module_version": "1.5.0",
            "_model_name": "DescriptionStyleModel",
            "_view_count": null,
            "_view_module": "@jupyter-widgets/base",
            "_view_module_version": "1.2.0",
            "_view_name": "StyleView",
            "description_width": ""
          }
        },
        "90814210ad5b460db397840127adafc3": {
          "model_module": "@jupyter-widgets/controls",
          "model_module_version": "1.5.0",
          "model_name": "HTMLModel",
          "state": {
            "_dom_classes": [],
            "_model_module": "@jupyter-widgets/controls",
            "_model_module_version": "1.5.0",
            "_model_name": "HTMLModel",
            "_view_count": null,
            "_view_module": "@jupyter-widgets/controls",
            "_view_module_version": "1.5.0",
            "_view_name": "HTMLView",
            "description": "",
            "description_tooltip": null,
            "layout": "IPY_MODEL_a933df6460864ac7b71b5d406f2af910",
            "placeholder": "​",
            "style": "IPY_MODEL_5ac5fea23296476faa7e5467eb864f4d",
            "value": " 9913344/? [00:00&lt;00:00, 44130576.05it/s]"
          }
        },
        "90dad5de5aaa47559c27c7272b242f04": {
          "model_module": "@jupyter-widgets/controls",
          "model_module_version": "1.5.0",
          "model_name": "DescriptionStyleModel",
          "state": {
            "_model_module": "@jupyter-widgets/controls",
            "_model_module_version": "1.5.0",
            "_model_name": "DescriptionStyleModel",
            "_view_count": null,
            "_view_module": "@jupyter-widgets/base",
            "_view_module_version": "1.2.0",
            "_view_name": "StyleView",
            "description_width": ""
          }
        },
        "914de3ede83143d9b4a124e731f8f6b8": {
          "model_module": "@jupyter-widgets/controls",
          "model_module_version": "1.5.0",
          "model_name": "HTMLModel",
          "state": {
            "_dom_classes": [],
            "_model_module": "@jupyter-widgets/controls",
            "_model_module_version": "1.5.0",
            "_model_name": "HTMLModel",
            "_view_count": null,
            "_view_module": "@jupyter-widgets/controls",
            "_view_module_version": "1.5.0",
            "_view_name": "HTMLView",
            "description": "",
            "description_tooltip": null,
            "layout": "IPY_MODEL_435b8b103840486fb2164ef4434f07e4",
            "placeholder": "​",
            "style": "IPY_MODEL_abeb14b2948d438ab8cb89b8896dc66e",
            "value": ""
          }
        },
        "92533180b65c404ab97ccff15b78c241": {
          "model_module": "@jupyter-widgets/controls",
          "model_module_version": "1.5.0",
          "model_name": "DescriptionStyleModel",
          "state": {
            "_model_module": "@jupyter-widgets/controls",
            "_model_module_version": "1.5.0",
            "_model_name": "DescriptionStyleModel",
            "_view_count": null,
            "_view_module": "@jupyter-widgets/base",
            "_view_module_version": "1.2.0",
            "_view_name": "StyleView",
            "description_width": ""
          }
        },
        "9e6a046e5bbf4413ae876e65d53b126a": {
          "model_module": "@jupyter-widgets/controls",
          "model_module_version": "1.5.0",
          "model_name": "DescriptionStyleModel",
          "state": {
            "_model_module": "@jupyter-widgets/controls",
            "_model_module_version": "1.5.0",
            "_model_name": "DescriptionStyleModel",
            "_view_count": null,
            "_view_module": "@jupyter-widgets/base",
            "_view_module_version": "1.2.0",
            "_view_name": "StyleView",
            "description_width": ""
          }
        },
        "9eb4730adf934a7c9f4e3a5c4d66604c": {
          "model_module": "@jupyter-widgets/controls",
          "model_module_version": "1.5.0",
          "model_name": "HBoxModel",
          "state": {
            "_dom_classes": [],
            "_model_module": "@jupyter-widgets/controls",
            "_model_module_version": "1.5.0",
            "_model_name": "HBoxModel",
            "_view_count": null,
            "_view_module": "@jupyter-widgets/controls",
            "_view_module_version": "1.5.0",
            "_view_name": "HBoxView",
            "box_style": "",
            "children": [
              "IPY_MODEL_dcb8a6641e4642a68951f21ab92e53f5",
              "IPY_MODEL_e38125bc78964669b576095a21b00a0f",
              "IPY_MODEL_90814210ad5b460db397840127adafc3"
            ],
            "layout": "IPY_MODEL_5986acc455c3435bacbe900fac9e59c0"
          }
        },
        "a2567b7660444a2785340920adceab81": {
          "model_module": "@jupyter-widgets/base",
          "model_module_version": "1.2.0",
          "model_name": "LayoutModel",
          "state": {
            "_model_module": "@jupyter-widgets/base",
            "_model_module_version": "1.2.0",
            "_model_name": "LayoutModel",
            "_view_count": null,
            "_view_module": "@jupyter-widgets/base",
            "_view_module_version": "1.2.0",
            "_view_name": "LayoutView",
            "align_content": null,
            "align_items": null,
            "align_self": null,
            "border": null,
            "bottom": null,
            "display": null,
            "flex": null,
            "flex_flow": null,
            "grid_area": null,
            "grid_auto_columns": null,
            "grid_auto_flow": null,
            "grid_auto_rows": null,
            "grid_column": null,
            "grid_gap": null,
            "grid_row": null,
            "grid_template_areas": null,
            "grid_template_columns": null,
            "grid_template_rows": null,
            "height": null,
            "justify_content": null,
            "justify_items": null,
            "left": null,
            "margin": null,
            "max_height": null,
            "max_width": null,
            "min_height": null,
            "min_width": null,
            "object_fit": null,
            "object_position": null,
            "order": null,
            "overflow": null,
            "overflow_x": null,
            "overflow_y": null,
            "padding": null,
            "right": null,
            "top": null,
            "visibility": null,
            "width": null
          }
        },
        "a5f490eecf7d4f8f943abe7f432355af": {
          "model_module": "@jupyter-widgets/controls",
          "model_module_version": "1.5.0",
          "model_name": "ProgressStyleModel",
          "state": {
            "_model_module": "@jupyter-widgets/controls",
            "_model_module_version": "1.5.0",
            "_model_name": "ProgressStyleModel",
            "_view_count": null,
            "_view_module": "@jupyter-widgets/base",
            "_view_module_version": "1.2.0",
            "_view_name": "StyleView",
            "bar_color": null,
            "description_width": ""
          }
        },
        "a933df6460864ac7b71b5d406f2af910": {
          "model_module": "@jupyter-widgets/base",
          "model_module_version": "1.2.0",
          "model_name": "LayoutModel",
          "state": {
            "_model_module": "@jupyter-widgets/base",
            "_model_module_version": "1.2.0",
            "_model_name": "LayoutModel",
            "_view_count": null,
            "_view_module": "@jupyter-widgets/base",
            "_view_module_version": "1.2.0",
            "_view_name": "LayoutView",
            "align_content": null,
            "align_items": null,
            "align_self": null,
            "border": null,
            "bottom": null,
            "display": null,
            "flex": null,
            "flex_flow": null,
            "grid_area": null,
            "grid_auto_columns": null,
            "grid_auto_flow": null,
            "grid_auto_rows": null,
            "grid_column": null,
            "grid_gap": null,
            "grid_row": null,
            "grid_template_areas": null,
            "grid_template_columns": null,
            "grid_template_rows": null,
            "height": null,
            "justify_content": null,
            "justify_items": null,
            "left": null,
            "margin": null,
            "max_height": null,
            "max_width": null,
            "min_height": null,
            "min_width": null,
            "object_fit": null,
            "object_position": null,
            "order": null,
            "overflow": null,
            "overflow_x": null,
            "overflow_y": null,
            "padding": null,
            "right": null,
            "top": null,
            "visibility": null,
            "width": null
          }
        },
        "abeb14b2948d438ab8cb89b8896dc66e": {
          "model_module": "@jupyter-widgets/controls",
          "model_module_version": "1.5.0",
          "model_name": "DescriptionStyleModel",
          "state": {
            "_model_module": "@jupyter-widgets/controls",
            "_model_module_version": "1.5.0",
            "_model_name": "DescriptionStyleModel",
            "_view_count": null,
            "_view_module": "@jupyter-widgets/base",
            "_view_module_version": "1.2.0",
            "_view_name": "StyleView",
            "description_width": ""
          }
        },
        "bc0cc94d30fd4313a97b3bb08c74423a": {
          "model_module": "@jupyter-widgets/controls",
          "model_module_version": "1.5.0",
          "model_name": "HTMLModel",
          "state": {
            "_dom_classes": [],
            "_model_module": "@jupyter-widgets/controls",
            "_model_module_version": "1.5.0",
            "_model_name": "HTMLModel",
            "_view_count": null,
            "_view_module": "@jupyter-widgets/controls",
            "_view_module_version": "1.5.0",
            "_view_name": "HTMLView",
            "description": "",
            "description_tooltip": null,
            "layout": "IPY_MODEL_3c9e71a073db49d98c6efcbb6bb14a28",
            "placeholder": "​",
            "style": "IPY_MODEL_92533180b65c404ab97ccff15b78c241",
            "value": " 29696/? [00:00&lt;00:00, 9094.21it/s]"
          }
        },
        "bdd17f3f0d4e47dbbd40d07ce54c5ab3": {
          "model_module": "@jupyter-widgets/base",
          "model_module_version": "1.2.0",
          "model_name": "LayoutModel",
          "state": {
            "_model_module": "@jupyter-widgets/base",
            "_model_module_version": "1.2.0",
            "_model_name": "LayoutModel",
            "_view_count": null,
            "_view_module": "@jupyter-widgets/base",
            "_view_module_version": "1.2.0",
            "_view_name": "LayoutView",
            "align_content": null,
            "align_items": null,
            "align_self": null,
            "border": null,
            "bottom": null,
            "display": null,
            "flex": null,
            "flex_flow": null,
            "grid_area": null,
            "grid_auto_columns": null,
            "grid_auto_flow": null,
            "grid_auto_rows": null,
            "grid_column": null,
            "grid_gap": null,
            "grid_row": null,
            "grid_template_areas": null,
            "grid_template_columns": null,
            "grid_template_rows": null,
            "height": null,
            "justify_content": null,
            "justify_items": null,
            "left": null,
            "margin": null,
            "max_height": null,
            "max_width": null,
            "min_height": null,
            "min_width": null,
            "object_fit": null,
            "object_position": null,
            "order": null,
            "overflow": null,
            "overflow_x": null,
            "overflow_y": null,
            "padding": null,
            "right": null,
            "top": null,
            "visibility": null,
            "width": null
          }
        },
        "bdfb5411468e4e41911300757a3ee8fd": {
          "model_module": "@jupyter-widgets/base",
          "model_module_version": "1.2.0",
          "model_name": "LayoutModel",
          "state": {
            "_model_module": "@jupyter-widgets/base",
            "_model_module_version": "1.2.0",
            "_model_name": "LayoutModel",
            "_view_count": null,
            "_view_module": "@jupyter-widgets/base",
            "_view_module_version": "1.2.0",
            "_view_name": "LayoutView",
            "align_content": null,
            "align_items": null,
            "align_self": null,
            "border": null,
            "bottom": null,
            "display": null,
            "flex": null,
            "flex_flow": null,
            "grid_area": null,
            "grid_auto_columns": null,
            "grid_auto_flow": null,
            "grid_auto_rows": null,
            "grid_column": null,
            "grid_gap": null,
            "grid_row": null,
            "grid_template_areas": null,
            "grid_template_columns": null,
            "grid_template_rows": null,
            "height": null,
            "justify_content": null,
            "justify_items": null,
            "left": null,
            "margin": null,
            "max_height": null,
            "max_width": null,
            "min_height": null,
            "min_width": null,
            "object_fit": null,
            "object_position": null,
            "order": null,
            "overflow": null,
            "overflow_x": null,
            "overflow_y": null,
            "padding": null,
            "right": null,
            "top": null,
            "visibility": null,
            "width": null
          }
        },
        "d00a7c4bde7c4aa9bd78c677d5dbf005": {
          "model_module": "@jupyter-widgets/controls",
          "model_module_version": "1.5.0",
          "model_name": "FloatProgressModel",
          "state": {
            "_dom_classes": [],
            "_model_module": "@jupyter-widgets/controls",
            "_model_module_version": "1.5.0",
            "_model_name": "FloatProgressModel",
            "_view_count": null,
            "_view_module": "@jupyter-widgets/controls",
            "_view_module_version": "1.5.0",
            "_view_name": "ProgressView",
            "bar_style": "success",
            "description": "",
            "description_tooltip": null,
            "layout": "IPY_MODEL_7d1687e486c0488dada3dd4eb66a25e2",
            "max": 4542,
            "min": 0,
            "orientation": "horizontal",
            "style": "IPY_MODEL_d44fcb14587e4588b503949ba0381776",
            "value": 4542
          }
        },
        "d44fcb14587e4588b503949ba0381776": {
          "model_module": "@jupyter-widgets/controls",
          "model_module_version": "1.5.0",
          "model_name": "ProgressStyleModel",
          "state": {
            "_model_module": "@jupyter-widgets/controls",
            "_model_module_version": "1.5.0",
            "_model_name": "ProgressStyleModel",
            "_view_count": null,
            "_view_module": "@jupyter-widgets/base",
            "_view_module_version": "1.2.0",
            "_view_name": "StyleView",
            "bar_color": null,
            "description_width": ""
          }
        },
        "d710d5fab2174614bdd372e15f3ed3d0": {
          "model_module": "@jupyter-widgets/base",
          "model_module_version": "1.2.0",
          "model_name": "LayoutModel",
          "state": {
            "_model_module": "@jupyter-widgets/base",
            "_model_module_version": "1.2.0",
            "_model_name": "LayoutModel",
            "_view_count": null,
            "_view_module": "@jupyter-widgets/base",
            "_view_module_version": "1.2.0",
            "_view_name": "LayoutView",
            "align_content": null,
            "align_items": null,
            "align_self": null,
            "border": null,
            "bottom": null,
            "display": null,
            "flex": null,
            "flex_flow": null,
            "grid_area": null,
            "grid_auto_columns": null,
            "grid_auto_flow": null,
            "grid_auto_rows": null,
            "grid_column": null,
            "grid_gap": null,
            "grid_row": null,
            "grid_template_areas": null,
            "grid_template_columns": null,
            "grid_template_rows": null,
            "height": null,
            "justify_content": null,
            "justify_items": null,
            "left": null,
            "margin": null,
            "max_height": null,
            "max_width": null,
            "min_height": null,
            "min_width": null,
            "object_fit": null,
            "object_position": null,
            "order": null,
            "overflow": null,
            "overflow_x": null,
            "overflow_y": null,
            "padding": null,
            "right": null,
            "top": null,
            "visibility": null,
            "width": null
          }
        },
        "dc7f89a0668a4e409948a8d73d63cfc0": {
          "model_module": "@jupyter-widgets/controls",
          "model_module_version": "1.5.0",
          "model_name": "HTMLModel",
          "state": {
            "_dom_classes": [],
            "_model_module": "@jupyter-widgets/controls",
            "_model_module_version": "1.5.0",
            "_model_name": "HTMLModel",
            "_view_count": null,
            "_view_module": "@jupyter-widgets/controls",
            "_view_module_version": "1.5.0",
            "_view_name": "HTMLView",
            "description": "",
            "description_tooltip": null,
            "layout": "IPY_MODEL_bdfb5411468e4e41911300757a3ee8fd",
            "placeholder": "​",
            "style": "IPY_MODEL_90dad5de5aaa47559c27c7272b242f04",
            "value": ""
          }
        },
        "dcb8a6641e4642a68951f21ab92e53f5": {
          "model_module": "@jupyter-widgets/controls",
          "model_module_version": "1.5.0",
          "model_name": "HTMLModel",
          "state": {
            "_dom_classes": [],
            "_model_module": "@jupyter-widgets/controls",
            "_model_module_version": "1.5.0",
            "_model_name": "HTMLModel",
            "_view_count": null,
            "_view_module": "@jupyter-widgets/controls",
            "_view_module_version": "1.5.0",
            "_view_name": "HTMLView",
            "description": "",
            "description_tooltip": null,
            "layout": "IPY_MODEL_277ba820bfae4e13b43048b73411d568",
            "placeholder": "​",
            "style": "IPY_MODEL_4aff3a7e3e7746159e0197d8f3ab19ca",
            "value": ""
          }
        },
        "e2aa67b951f541c9a40330cedfb59bb3": {
          "model_module": "@jupyter-widgets/controls",
          "model_module_version": "1.5.0",
          "model_name": "HTMLModel",
          "state": {
            "_dom_classes": [],
            "_model_module": "@jupyter-widgets/controls",
            "_model_module_version": "1.5.0",
            "_model_name": "HTMLModel",
            "_view_count": null,
            "_view_module": "@jupyter-widgets/controls",
            "_view_module_version": "1.5.0",
            "_view_name": "HTMLView",
            "description": "",
            "description_tooltip": null,
            "layout": "IPY_MODEL_369db8d698fd44668ce5f66bfb002667",
            "placeholder": "​",
            "style": "IPY_MODEL_8a0adf1872bc4fd1947c558bf1d67fea",
            "value": " 5120/? [00:00&lt;00:00, 75291.92it/s]"
          }
        },
        "e38125bc78964669b576095a21b00a0f": {
          "model_module": "@jupyter-widgets/controls",
          "model_module_version": "1.5.0",
          "model_name": "FloatProgressModel",
          "state": {
            "_dom_classes": [],
            "_model_module": "@jupyter-widgets/controls",
            "_model_module_version": "1.5.0",
            "_model_name": "FloatProgressModel",
            "_view_count": null,
            "_view_module": "@jupyter-widgets/controls",
            "_view_module_version": "1.5.0",
            "_view_name": "ProgressView",
            "bar_style": "success",
            "description": "",
            "description_tooltip": null,
            "layout": "IPY_MODEL_18dda5c2e53540e2b2230d1824bb2787",
            "max": 9912422,
            "min": 0,
            "orientation": "horizontal",
            "style": "IPY_MODEL_7c2cd65bc4d14232934cb8a46ade2be7",
            "value": 9912422
          }
        },
        "e3c4073ac2774c5f9c168df6278063e1": {
          "model_module": "@jupyter-widgets/controls",
          "model_module_version": "1.5.0",
          "model_name": "DescriptionStyleModel",
          "state": {
            "_model_module": "@jupyter-widgets/controls",
            "_model_module_version": "1.5.0",
            "_model_name": "DescriptionStyleModel",
            "_view_count": null,
            "_view_module": "@jupyter-widgets/base",
            "_view_module_version": "1.2.0",
            "_view_name": "StyleView",
            "description_width": ""
          }
        },
        "f0b93025e44b4303a0a192e10be56e28": {
          "model_module": "@jupyter-widgets/controls",
          "model_module_version": "1.5.0",
          "model_name": "HBoxModel",
          "state": {
            "_dom_classes": [],
            "_model_module": "@jupyter-widgets/controls",
            "_model_module_version": "1.5.0",
            "_model_name": "HBoxModel",
            "_view_count": null,
            "_view_module": "@jupyter-widgets/controls",
            "_view_module_version": "1.5.0",
            "_view_name": "HBoxView",
            "box_style": "",
            "children": [
              "IPY_MODEL_dc7f89a0668a4e409948a8d73d63cfc0",
              "IPY_MODEL_84e371da88ef46f2b951df0a400cfd44",
              "IPY_MODEL_054575a6a9c940098fce94e59db9effe"
            ],
            "layout": "IPY_MODEL_d710d5fab2174614bdd372e15f3ed3d0"
          }
        }
      }
    }
  },
  "nbformat": 4,
  "nbformat_minor": 0
}
