{
  "cells": [
    {
      "cell_type": "markdown",
      "metadata": {
        "id": "EhCPywrF2TVr"
      },
      "source": [
        "# **Exercise 1**\n",
        "étudiants : \n",
        "  João Pedro ARAUJO FERREIRA CAMPOS et Fabrício VELLONE\n",
        "\n",
        "\n"
      ]
    },
    {
      "cell_type": "markdown",
      "metadata": {
        "id": "kcrRQaPjK8_r"
      },
      "source": [
        "import libraries"
      ]
    },
    {
      "cell_type": "code",
      "execution_count": 2,
      "metadata": {
        "id": "dVrHEUEi2qk8"
      },
      "outputs": [],
      "source": [
        "import torch\n",
        "import torch.nn as nn\n",
        "import torch.nn.functional as F\n",
        "import torch.optim as optim\n",
        "import torchvision\n",
        "from torch.utils.tensorboard import SummaryWriter"
      ]
    },
    {
      "cell_type": "markdown",
      "metadata": {
        "id": "HdHSc74Ep2F4"
      },
      "source": [
        "# MNIST DATASET"
      ]
    },
    {
      "cell_type": "markdown",
      "metadata": {
        "id": "P5Zq2XY8qFbe"
      },
      "source": [
        "Définition des paramètres"
      ]
    },
    {
      "cell_type": "code",
      "execution_count": 4,
      "metadata": {
        "id": "-N8a7rGLED8l"
      },
      "outputs": [
        {
          "data": {
            "text/plain": [
              "device(type='cpu')"
            ]
          },
          "execution_count": 4,
          "metadata": {},
          "output_type": "execute_result"
        }
      ],
      "source": [
        "#parameters and hyper parameters\n",
        "# batch_size_train is batch size; D_in is input dimension;\n",
        "# H is hidden dimension; D_out is output dimension.\n",
        "#N, D_in, H, D_out = 64, 1000, 100, 10\n",
        "D_in = 28 * 28\n",
        "H = 100\n",
        "D_out = 10\n",
        "\n",
        "num_epochs = 10\n",
        "\n",
        "learning_rate = 0.01\n",
        "w_decay = 1e-3\n",
        "momentum = 0.9\n",
        "\n",
        "batch_size_train = 64\n",
        "batch_size_test = 1000\n",
        "\n",
        "DEVICE = torch.device(\"cuda:0\" if torch.cuda.is_available() else \"cpu\")\n",
        "DEVICE"
      ]
    },
    {
      "cell_type": "markdown",
      "metadata": {
        "id": "i1qlSNKs1XbS"
      },
      "source": [
        "On télécharge les données de MNIST:"
      ]
    },
    {
      "cell_type": "code",
      "execution_count": 4,
      "metadata": {
        "colab": {
          "base_uri": "https://localhost:8080/",
          "height": 423,
          "referenced_widgets": [
            "9eb4730adf934a7c9f4e3a5c4d66604c",
            "dcb8a6641e4642a68951f21ab92e53f5",
            "e38125bc78964669b576095a21b00a0f",
            "90814210ad5b460db397840127adafc3",
            "5986acc455c3435bacbe900fac9e59c0",
            "277ba820bfae4e13b43048b73411d568",
            "4aff3a7e3e7746159e0197d8f3ab19ca",
            "18dda5c2e53540e2b2230d1824bb2787",
            "7c2cd65bc4d14232934cb8a46ade2be7",
            "a933df6460864ac7b71b5d406f2af910",
            "5ac5fea23296476faa7e5467eb864f4d",
            "4808fcd0fdd740c7bd33b6d87a328167",
            "914de3ede83143d9b4a124e731f8f6b8",
            "306e282f529d4ca3a324277b825285b0",
            "bc0cc94d30fd4313a97b3bb08c74423a",
            "79573c76436e4a3bb4739ef87883327e",
            "435b8b103840486fb2164ef4434f07e4",
            "abeb14b2948d438ab8cb89b8896dc66e",
            "5ad5dd81bbb24ee59099f88d2b198fc3",
            "3e792c89fd474f729041f2198e24e724",
            "3c9e71a073db49d98c6efcbb6bb14a28",
            "92533180b65c404ab97ccff15b78c241",
            "f0b93025e44b4303a0a192e10be56e28",
            "dc7f89a0668a4e409948a8d73d63cfc0",
            "84e371da88ef46f2b951df0a400cfd44",
            "054575a6a9c940098fce94e59db9effe",
            "d710d5fab2174614bdd372e15f3ed3d0",
            "bdfb5411468e4e41911300757a3ee8fd",
            "90dad5de5aaa47559c27c7272b242f04",
            "a2567b7660444a2785340920adceab81",
            "a5f490eecf7d4f8f943abe7f432355af",
            "bdd17f3f0d4e47dbbd40d07ce54c5ab3",
            "e3c4073ac2774c5f9c168df6278063e1",
            "27c5d29664a645729cc420b0f06da446",
            "753af47c66b443939110add98ba7a656",
            "d00a7c4bde7c4aa9bd78c677d5dbf005",
            "e2aa67b951f541c9a40330cedfb59bb3",
            "346cb2f11dde4032bc7f5c955b027c1c",
            "0d4abdc32fb64c92aeaaac30443baf81",
            "9e6a046e5bbf4413ae876e65d53b126a",
            "7d1687e486c0488dada3dd4eb66a25e2",
            "d44fcb14587e4588b503949ba0381776",
            "369db8d698fd44668ce5f66bfb002667",
            "8a0adf1872bc4fd1947c558bf1d67fea"
          ]
        },
        "id": "KpDYcCTwqST6",
        "outputId": "9622fc9e-5481-4d04-f887-abdae9265b41"
      },
      "outputs": [
        {
          "name": "stdout",
          "output_type": "stream",
          "text": [
            "Downloading http://yann.lecun.com/exdb/mnist/train-images-idx3-ubyte.gz\n",
            "Downloading http://yann.lecun.com/exdb/mnist/train-images-idx3-ubyte.gz to /files/MNIST/raw/train-images-idx3-ubyte.gz\n"
          ]
        },
        {
          "data": {
            "application/vnd.jupyter.widget-view+json": {
              "model_id": "9eb4730adf934a7c9f4e3a5c4d66604c",
              "version_major": 2,
              "version_minor": 0
            },
            "text/plain": [
              "  0%|          | 0/9912422 [00:00<?, ?it/s]"
            ]
          },
          "metadata": {},
          "output_type": "display_data"
        },
        {
          "name": "stdout",
          "output_type": "stream",
          "text": [
            "Extracting /files/MNIST/raw/train-images-idx3-ubyte.gz to /files/MNIST/raw\n",
            "\n",
            "Downloading http://yann.lecun.com/exdb/mnist/train-labels-idx1-ubyte.gz\n",
            "Downloading http://yann.lecun.com/exdb/mnist/train-labels-idx1-ubyte.gz to /files/MNIST/raw/train-labels-idx1-ubyte.gz\n"
          ]
        },
        {
          "data": {
            "application/vnd.jupyter.widget-view+json": {
              "model_id": "4808fcd0fdd740c7bd33b6d87a328167",
              "version_major": 2,
              "version_minor": 0
            },
            "text/plain": [
              "  0%|          | 0/28881 [00:00<?, ?it/s]"
            ]
          },
          "metadata": {},
          "output_type": "display_data"
        },
        {
          "name": "stdout",
          "output_type": "stream",
          "text": [
            "Extracting /files/MNIST/raw/train-labels-idx1-ubyte.gz to /files/MNIST/raw\n",
            "\n",
            "Downloading http://yann.lecun.com/exdb/mnist/t10k-images-idx3-ubyte.gz\n",
            "Downloading http://yann.lecun.com/exdb/mnist/t10k-images-idx3-ubyte.gz to /files/MNIST/raw/t10k-images-idx3-ubyte.gz\n"
          ]
        },
        {
          "data": {
            "application/vnd.jupyter.widget-view+json": {
              "model_id": "f0b93025e44b4303a0a192e10be56e28",
              "version_major": 2,
              "version_minor": 0
            },
            "text/plain": [
              "  0%|          | 0/1648877 [00:00<?, ?it/s]"
            ]
          },
          "metadata": {},
          "output_type": "display_data"
        },
        {
          "name": "stdout",
          "output_type": "stream",
          "text": [
            "Extracting /files/MNIST/raw/t10k-images-idx3-ubyte.gz to /files/MNIST/raw\n",
            "\n",
            "Downloading http://yann.lecun.com/exdb/mnist/t10k-labels-idx1-ubyte.gz\n",
            "Downloading http://yann.lecun.com/exdb/mnist/t10k-labels-idx1-ubyte.gz to /files/MNIST/raw/t10k-labels-idx1-ubyte.gz\n"
          ]
        },
        {
          "data": {
            "application/vnd.jupyter.widget-view+json": {
              "model_id": "27c5d29664a645729cc420b0f06da446",
              "version_major": 2,
              "version_minor": 0
            },
            "text/plain": [
              "  0%|          | 0/4542 [00:00<?, ?it/s]"
            ]
          },
          "metadata": {},
          "output_type": "display_data"
        },
        {
          "name": "stdout",
          "output_type": "stream",
          "text": [
            "Extracting /files/MNIST/raw/t10k-labels-idx1-ubyte.gz to /files/MNIST/raw\n",
            "\n"
          ]
        }
      ],
      "source": [
        "#moyenne = 0.1307 ; std deviation = 0.3081 ; pour normalisation des données\n",
        "train_loader = torch.utils.data.DataLoader(\n",
        "  torchvision.datasets.MNIST('/files/', train=True, download=True,\n",
        "                             transform=torchvision.transforms.Compose([\n",
        "                               torchvision.transforms.ToTensor(),\n",
        "                               torchvision.transforms.Normalize(\n",
        "                                 (0.1307,), (0.3081,))\n",
        "                             ])),\n",
        "  batch_size=batch_size_train, shuffle=True)\n",
        "\n",
        "test_loader = torch.utils.data.DataLoader(\n",
        "  torchvision.datasets.MNIST('/files/', train=False, download=True,\n",
        "                             transform=torchvision.transforms.Compose([\n",
        "                               torchvision.transforms.ToTensor(),\n",
        "                               torchvision.transforms.Normalize(\n",
        "                                 (0.1307,), (0.3081,))\n",
        "                             ])),\n",
        "  batch_size=batch_size_test, shuffle=True)"
      ]
    },
    {
      "cell_type": "markdown",
      "metadata": {
        "id": "rbs1q454rnDX"
      },
      "source": [
        "Visualisation des données:"
      ]
    },
    {
      "cell_type": "code",
      "execution_count": 5,
      "metadata": {
        "colab": {
          "base_uri": "https://localhost:8080/",
          "height": 551
        },
        "id": "qY5b8_VBrfK-",
        "outputId": "2fd6eac2-9e47-48ea-afde-4e78f3a400c0"
      },
      "outputs": [
        {
          "data": {
            "image/png": "[encoded data removed]",
            "text/plain": [
              "<Figure size 432x288 with 6 Axes>"
            ]
          },
          "execution_count": 5,
          "metadata": {},
          "output_type": "execute_result"
        },
        {
          "data": {
            "image/png": "[encoded data removed]",
            "text/plain": [
              "<Figure size 432x288 with 6 Axes>"
            ]
          },
          "metadata": {},
          "output_type": "display_data"
        }
      ],
      "source": [
        "examples = enumerate(test_loader)\n",
        "batch_idx, (example_data, example_targets) = next(examples)\n",
        "\n",
        "import matplotlib.pyplot as plt\n",
        "\n",
        "fig = plt.figure()\n",
        "for i in range(6):\n",
        "  plt.subplot(2,3,i+1)\n",
        "  plt.tight_layout()\n",
        "  plt.imshow(example_data[i][0], cmap='gray', interpolation='none')\n",
        "  plt.title(\"Ground Truth: {}\".format(example_targets[i]))\n",
        "  plt.xticks([])\n",
        "  plt.yticks([])\n",
        "fig"
      ]
    },
    {
      "cell_type": "code",
      "execution_count": 5,
      "metadata": {
        "id": "IaSHERFIrf9u"
      },
      "outputs": [],
      "source": []
    },
    {
      "cell_type": "markdown",
      "metadata": {
        "id": "D3uP74aRDdMQ"
      },
      "source": [
        "# Simple DNN"
      ]
    },
    {
      "cell_type": "markdown",
      "metadata": {
        "id": "p484A_rWLDOQ"
      },
      "source": [
        "Define the simple network :"
      ]
    },
    {
      "cell_type": "code",
      "execution_count": 6,
      "metadata": {
        "id": "1G09dyXaEi-M"
      },
      "outputs": [],
      "source": [
        "class Net(nn.Module):\n",
        "\n",
        "  def __init__(self):\n",
        "    super(Net, self).__init__()\n",
        "    self.fc1 = nn.Linear(D_in, H) \n",
        "    self.fc2 = nn.Linear(H, D_out) \n",
        "\n",
        "  def forward(self, x):\n",
        "    #flatten\n",
        "    x = x.view(-1,784)\n",
        "\n",
        "    x = F.relu(self.fc1(x))\n",
        "    x = self.fc2(x)\n",
        "    return x"
      ]
    },
    {
      "cell_type": "markdown",
      "metadata": {
        "id": "CcEqLwoO3RW7"
      },
      "source": [
        "Initialisation\n"
      ]
    },
    {
      "cell_type": "code",
      "execution_count": 7,
      "metadata": {
        "id": "yhSdr6ii3OzE"
      },
      "outputs": [],
      "source": [
        "model = Net()\n",
        "model = model.to(DEVICE) #pour utiliser GPU (cuda)\n"
      ]
    },
    {
      "cell_type": "markdown",
      "metadata": {
        "id": "jJuqc1ln7Fkf"
      },
      "source": [
        "Lancer l'optimizer"
      ]
    },
    {
      "cell_type": "code",
      "execution_count": 8,
      "metadata": {
        "id": "1Puih-zX3XLX"
      },
      "outputs": [],
      "source": [
        "\n",
        "criterion = nn.CrossEntropyLoss()\n",
        "optimizer = optim.SGD(model.parameters(), lr=learning_rate, weight_decay = w_decay, momentum=momentum)"
      ]
    },
    {
      "cell_type": "markdown",
      "metadata": {
        "id": "aHOTKN6docrj"
      },
      "source": [
        "Train the simple net"
      ]
    },
    {
      "cell_type": "code",
      "execution_count": 9,
      "metadata": {
        "colab": {
          "base_uri": "https://localhost:8080/",
          "height": 1000
        },
        "id": "1B_FuPFRogyX",
        "outputId": "77598c32-8581-4c8f-edd1-e074357d66b7"
      },
      "outputs": [
        {
          "name": "stdout",
          "output_type": "stream",
          "text": [
            "Train Epoch: 0 [0/60000 (0%)]\tLoss: 2.306917\n",
            "Train Epoch: 0 [6400/60000 (11%)]\tLoss: 0.292545\n",
            "Train Epoch: 0 [12800/60000 (21%)]\tLoss: 0.617781\n",
            "Train Epoch: 0 [19200/60000 (32%)]\tLoss: 0.222362\n",
            "Train Epoch: 0 [25600/60000 (43%)]\tLoss: 0.179112\n",
            "Train Epoch: 0 [32000/60000 (53%)]\tLoss: 0.093295\n",
            "Train Epoch: 0 [38400/60000 (64%)]\tLoss: 0.154275\n",
            "Train Epoch: 0 [44800/60000 (75%)]\tLoss: 0.260904\n",
            "Train Epoch: 0 [51200/60000 (85%)]\tLoss: 0.264782\n",
            "Train Epoch: 0 [57600/60000 (96%)]\tLoss: 0.080932\n",
            "Epoch 0 average train loss: 0.00442905576856186\n",
            "Epoch 0 average train accuracy: 0.9161999821662903\n",
            "\n",
            "Train Epoch: 1 [0/60000 (0%)]\tLoss: 0.167023\n",
            "Train Epoch: 1 [6400/60000 (11%)]\tLoss: 0.238698\n",
            "Train Epoch: 1 [12800/60000 (21%)]\tLoss: 0.106350\n",
            "Train Epoch: 1 [19200/60000 (32%)]\tLoss: 0.145684\n",
            "Train Epoch: 1 [25600/60000 (43%)]\tLoss: 0.083965\n",
            "Train Epoch: 1 [32000/60000 (53%)]\tLoss: 0.088703\n",
            "Train Epoch: 1 [38400/60000 (64%)]\tLoss: 0.073235\n",
            "Train Epoch: 1 [44800/60000 (75%)]\tLoss: 0.115373\n",
            "Train Epoch: 1 [51200/60000 (85%)]\tLoss: 0.070957\n",
            "Train Epoch: 1 [57600/60000 (96%)]\tLoss: 0.107895\n",
            "Epoch 1 average train loss: 0.0019461193743782739\n",
            "Epoch 1 average train accuracy: 0.9635000228881836\n",
            "\n",
            "Train Epoch: 2 [0/60000 (0%)]\tLoss: 0.027991\n",
            "Train Epoch: 2 [6400/60000 (11%)]\tLoss: 0.048134\n",
            "Train Epoch: 2 [12800/60000 (21%)]\tLoss: 0.089059\n",
            "Train Epoch: 2 [19200/60000 (32%)]\tLoss: 0.098901\n",
            "Train Epoch: 2 [25600/60000 (43%)]\tLoss: 0.045048\n",
            "Train Epoch: 2 [32000/60000 (53%)]\tLoss: 0.164219\n",
            "Train Epoch: 2 [38400/60000 (64%)]\tLoss: 0.033424\n",
            "Train Epoch: 2 [44800/60000 (75%)]\tLoss: 0.099686\n",
            "Train Epoch: 2 [51200/60000 (85%)]\tLoss: 0.071420\n",
            "Train Epoch: 2 [57600/60000 (96%)]\tLoss: 0.090104\n",
            "Epoch 2 average train loss: 0.0014257516672369092\n",
            "Epoch 2 average train accuracy: 0.9739000201225281\n",
            "\n",
            "Train Epoch: 3 [0/60000 (0%)]\tLoss: 0.052952\n",
            "Train Epoch: 3 [6400/60000 (11%)]\tLoss: 0.066212\n",
            "Train Epoch: 3 [12800/60000 (21%)]\tLoss: 0.057936\n",
            "Train Epoch: 3 [19200/60000 (32%)]\tLoss: 0.122680\n",
            "Train Epoch: 3 [25600/60000 (43%)]\tLoss: 0.108927\n",
            "Train Epoch: 3 [32000/60000 (53%)]\tLoss: 0.077414\n",
            "Train Epoch: 3 [38400/60000 (64%)]\tLoss: 0.021745\n",
            "Train Epoch: 3 [44800/60000 (75%)]\tLoss: 0.036660\n",
            "Train Epoch: 3 [51200/60000 (85%)]\tLoss: 0.107155\n",
            "Train Epoch: 3 [57600/60000 (96%)]\tLoss: 0.035081\n",
            "Epoch 3 average train loss: 0.0011564970802050085\n",
            "Epoch 3 average train accuracy: 0.9785833358764648\n",
            "\n",
            "Train Epoch: 4 [0/60000 (0%)]\tLoss: 0.024290\n",
            "Train Epoch: 4 [6400/60000 (11%)]\tLoss: 0.032534\n",
            "Train Epoch: 4 [12800/60000 (21%)]\tLoss: 0.051640\n",
            "Train Epoch: 4 [19200/60000 (32%)]\tLoss: 0.068430\n",
            "Train Epoch: 4 [25600/60000 (43%)]\tLoss: 0.041326\n",
            "Train Epoch: 4 [32000/60000 (53%)]\tLoss: 0.024667\n",
            "Train Epoch: 4 [38400/60000 (64%)]\tLoss: 0.039722\n",
            "Train Epoch: 4 [44800/60000 (75%)]\tLoss: 0.050561\n",
            "Train Epoch: 4 [51200/60000 (85%)]\tLoss: 0.034882\n",
            "Train Epoch: 4 [57600/60000 (96%)]\tLoss: 0.043181\n",
            "Epoch 4 average train loss: 0.0009994649002949398\n",
            "Epoch 4 average train accuracy: 0.98089998960495\n",
            "\n",
            "Train Epoch: 5 [0/60000 (0%)]\tLoss: 0.014275\n",
            "Train Epoch: 5 [6400/60000 (11%)]\tLoss: 0.102083\n",
            "Train Epoch: 5 [12800/60000 (21%)]\tLoss: 0.082639\n",
            "Train Epoch: 5 [19200/60000 (32%)]\tLoss: 0.035144\n",
            "Train Epoch: 5 [25600/60000 (43%)]\tLoss: 0.040702\n",
            "Train Epoch: 5 [32000/60000 (53%)]\tLoss: 0.112952\n",
            "Train Epoch: 5 [38400/60000 (64%)]\tLoss: 0.019704\n",
            "Train Epoch: 5 [44800/60000 (75%)]\tLoss: 0.005701\n",
            "Train Epoch: 5 [51200/60000 (85%)]\tLoss: 0.019113\n",
            "Train Epoch: 5 [57600/60000 (96%)]\tLoss: 0.059955\n",
            "Epoch 5 average train loss: 0.0008864881028731664\n",
            "Epoch 5 average train accuracy: 0.98416668176651\n",
            "\n",
            "Train Epoch: 6 [0/60000 (0%)]\tLoss: 0.032065\n",
            "Train Epoch: 6 [6400/60000 (11%)]\tLoss: 0.030023\n",
            "Train Epoch: 6 [12800/60000 (21%)]\tLoss: 0.018316\n",
            "Train Epoch: 6 [19200/60000 (32%)]\tLoss: 0.035965\n",
            "Train Epoch: 6 [25600/60000 (43%)]\tLoss: 0.009007\n",
            "Train Epoch: 6 [32000/60000 (53%)]\tLoss: 0.077205\n",
            "Train Epoch: 6 [38400/60000 (64%)]\tLoss: 0.072748\n",
            "Train Epoch: 6 [44800/60000 (75%)]\tLoss: 0.080799\n",
            "Train Epoch: 6 [51200/60000 (85%)]\tLoss: 0.023433\n",
            "Train Epoch: 6 [57600/60000 (96%)]\tLoss: 0.053777\n",
            "Epoch 6 average train loss: 0.0007851737068422759\n",
            "Epoch 6 average train accuracy: 0.9856666922569275\n",
            "\n",
            "Train Epoch: 7 [0/60000 (0%)]\tLoss: 0.046430\n",
            "Train Epoch: 7 [6400/60000 (11%)]\tLoss: 0.037442\n",
            "Train Epoch: 7 [12800/60000 (21%)]\tLoss: 0.057059\n",
            "Train Epoch: 7 [19200/60000 (32%)]\tLoss: 0.019003\n",
            "Train Epoch: 7 [25600/60000 (43%)]\tLoss: 0.052766\n",
            "Train Epoch: 7 [32000/60000 (53%)]\tLoss: 0.114326\n",
            "Train Epoch: 7 [38400/60000 (64%)]\tLoss: 0.055221\n",
            "Train Epoch: 7 [44800/60000 (75%)]\tLoss: 0.023841\n",
            "Train Epoch: 7 [51200/60000 (85%)]\tLoss: 0.057522\n",
            "Train Epoch: 7 [57600/60000 (96%)]\tLoss: 0.032179\n",
            "Epoch 7 average train loss: 0.0007311401085384811\n",
            "Epoch 7 average train accuracy: 0.987416684627533\n",
            "\n",
            "Train Epoch: 8 [0/60000 (0%)]\tLoss: 0.052166\n",
            "Train Epoch: 8 [6400/60000 (11%)]\tLoss: 0.043166\n",
            "Train Epoch: 8 [12800/60000 (21%)]\tLoss: 0.015801\n",
            "Train Epoch: 8 [19200/60000 (32%)]\tLoss: 0.035252\n",
            "Train Epoch: 8 [25600/60000 (43%)]\tLoss: 0.055427\n",
            "Train Epoch: 8 [32000/60000 (53%)]\tLoss: 0.023127\n",
            "Train Epoch: 8 [38400/60000 (64%)]\tLoss: 0.013817\n",
            "Train Epoch: 8 [44800/60000 (75%)]\tLoss: 0.014353\n",
            "Train Epoch: 8 [51200/60000 (85%)]\tLoss: 0.027722\n",
            "Train Epoch: 8 [57600/60000 (96%)]\tLoss: 0.095045\n",
            "Epoch 8 average train loss: 0.0006796416427008807\n",
            "Epoch 8 average train accuracy: 0.9883000254631042\n",
            "\n",
            "Train Epoch: 9 [0/60000 (0%)]\tLoss: 0.033613\n",
            "Train Epoch: 9 [6400/60000 (11%)]\tLoss: 0.020812\n",
            "Train Epoch: 9 [12800/60000 (21%)]\tLoss: 0.023496\n",
            "Train Epoch: 9 [19200/60000 (32%)]\tLoss: 0.024345\n",
            "Train Epoch: 9 [25600/60000 (43%)]\tLoss: 0.070673\n",
            "Train Epoch: 9 [32000/60000 (53%)]\tLoss: 0.045192\n",
            "Train Epoch: 9 [38400/60000 (64%)]\tLoss: 0.029847\n",
            "Train Epoch: 9 [44800/60000 (75%)]\tLoss: 0.036212\n",
            "Train Epoch: 9 [51200/60000 (85%)]\tLoss: 0.066189\n",
            "Train Epoch: 9 [57600/60000 (96%)]\tLoss: 0.030474\n",
            "Epoch 9 average train loss: 0.0006505403221972908\n",
            "Epoch 9 average train accuracy: 0.988183319568634\n",
            "\n"
          ]
        },
        {
          "data": {
            "text/plain": [
              "[<matplotlib.lines.Line2D at 0x7f9d08336750>]"
            ]
          },
          "execution_count": 9,
          "metadata": {},
          "output_type": "execute_result"
        },
        {
          "data": {
            "image/png": "[encoded data removed]",
            "text/plain": [
              "<Figure size 432x288 with 1 Axes>"
            ]
          },
          "metadata": {
            "needs_background": "light"
          },
          "output_type": "display_data"
        }
      ],
      "source": [
        "train_losses = []\n",
        "train_counter = []\n",
        "writer = SummaryWriter('Res/Simple_net_train')\n",
        "loss_l = []\n",
        "for epoch in range(num_epochs):\n",
        "  average_acc = 0\n",
        "  average_loss = 0\n",
        "  for batch_idx, (data, target) in enumerate(train_loader):\n",
        "    data, target = data.to(DEVICE), target.to(DEVICE)\n",
        "    optimizer.zero_grad() #zero the gradient so it doesn't get acumulated\n",
        "    output = model(data) #forward pass\n",
        "\n",
        "    #train accuracy\n",
        "    y_hat = output.data.max(1, keepdim=True)[1]\n",
        "    train_acc = y_hat.eq(target.data.view_as(y_hat)).sum()\n",
        "    average_acc += train_acc\n",
        "    train_acc = train_acc /len(target.data)\n",
        "\n",
        "    loss = criterion(output, target) #calculates the loss function\n",
        "    average_loss += loss.item()\n",
        "\n",
        "    loss.backward() #backward pass (backpropagation)\n",
        "    optimizer.step() #updates the weights\n",
        "    if batch_idx % 100 == 0:\n",
        "      print('Train Epoch: {} [{}/{} ({:.0f}%)]\\tLoss: {:.6f}'.format(\n",
        "        epoch, batch_idx * len(data), len(train_loader.dataset),\n",
        "        100. * batch_idx / len(train_loader), loss.item()))\n",
        "      train_losses.append(loss.item())\n",
        "      train_counter.append(\n",
        "        (batch_idx*64) + ((epoch-1)*len(train_loader.dataset)))\n",
        "      writer.add_scalar('Loss/train', loss.item(),\n",
        "                        (epoch - 1) * len(train_loader) + batch_idx)\n",
        "      writer.add_scalar('Accuracy/train', train_acc,\n",
        "                        (epoch - 1) * len(train_loader) + batch_idx)\n",
        "      \n",
        "  writer.close()\n",
        "  loss_l.append(loss.item())\n",
        "  print(f\"Epoch {epoch} average train loss: {average_loss / len(train_loader.dataset)}\\n\" f\"Epoch {epoch} average train accuracy: {average_acc / len(train_loader.dataset)}\\n\")\n",
        "        \n",
        "# ----------------\n",
        "plt.plot(loss_l)"
      ]
    },
    {
      "cell_type": "markdown",
      "metadata": {
        "id": "aHr72Gpmpl7i"
      },
      "source": [
        "Test the net"
      ]
    },
    {
      "cell_type": "code",
      "execution_count": 10,
      "metadata": {
        "colab": {
          "base_uri": "https://localhost:8080/"
        },
        "id": "9K2YckSgplHC",
        "outputId": "242aa0ef-016e-4e29-9cf8-6b09897babce"
      },
      "outputs": [
        {
          "name": "stdout",
          "output_type": "stream",
          "text": [
            "\n",
            "Test set: Avg. loss: 0.0001, Accuracy: 9777/10000 (98%)\n",
            "\n"
          ]
        }
      ],
      "source": [
        "test_losses = []\n",
        "test_loss = 0\n",
        "correct = 0\n",
        "with torch.no_grad():\n",
        "  for data, target in test_loader:\n",
        "    data, target = data.to(DEVICE), target.to(DEVICE)\n",
        "    output = model(data)\n",
        "    test_loss += criterion(output, target)\n",
        "    pred = output.data.max(1, keepdim=True)[1]\n",
        "    correct += pred.eq(target.data.view_as(pred)).sum()\n",
        "test_loss /= len(test_loader.dataset)\n",
        "test_losses.append(test_loss)\n",
        "print('\\nTest set: Avg. loss: {:.4f}, Accuracy: {}/{} ({:.0f}%)\\n'.format(\n",
        "  test_loss, correct, len(test_loader.dataset),\n",
        "  100. * correct / len(test_loader.dataset)))"
      ]
    },
    {
      "cell_type": "code",
      "execution_count": null,
      "metadata": {
        "colab": {
          "base_uri": "https://localhost:8080/",
          "height": 163
        },
        "id": "KkxG73kvEnBr",
        "outputId": "694917de-07b1-4b8b-81c6-f3a54fcdf541"
      },
      "outputs": [
        {
          "ename": "NameError",
          "evalue": "ignored",
          "output_type": "error",
          "traceback": [
            "\u001b[0;31m---------------------------------------------------------------------------\u001b[0m",
            "\u001b[0;31mNameError\u001b[0m                                 Traceback (most recent call last)",
            "\u001b[0;32m<ipython-input-10-b7f558e4d176>\u001b[0m in \u001b[0;36m<module>\u001b[0;34m()\u001b[0m\n\u001b[0;32m----> 1\u001b[0;31m \u001b[0minterrupt\u001b[0m \u001b[0;31m#juste pour interrompre l'execution ici\u001b[0m\u001b[0;34m\u001b[0m\u001b[0;34m\u001b[0m\u001b[0m\n\u001b[0m",
            "\u001b[0;31mNameError\u001b[0m: name 'interrupt' is not defined"
          ]
        }
      ],
      "source": [
        "interrupt #juste pour interrompre l'execution ici"
      ]
    },
    {
      "cell_type": "markdown",
      "metadata": {
        "id": "YexCZX8aD-0Z"
      },
      "source": [
        "# Convolutional NN"
      ]
    },
    {
      "cell_type": "markdown",
      "metadata": {
        "id": "VLS7YddU3N58"
      },
      "source": [
        "Définition du réseau CNN simple"
      ]
    },
    {
      "cell_type": "code",
      "execution_count": null,
      "metadata": {
        "id": "6-kgVtCD3B0d"
      },
      "outputs": [],
      "source": [
        "class CNN(nn.Module):\n",
        "    #build the class, 1 channel and 10 classes (B&W images, 10 digits in the MNIST set) \n",
        "    def __init__(self, in_channels=1, num_classes=10):\n",
        "        super(Net, self).__init__()\n",
        "        self.conv1 = nn.Conv2d(in_channels, out_channels = 10, kernel_size=5) #2D convolutional layer\n",
        "        self.conv2 = nn.Conv2d(10, 20, kernel_size=5)\n",
        "        self.conv2_drop = nn.Dropout2d()\n",
        "        self.fc1 = nn.Linear(320, 50) #fully connected\n",
        "        self.fc2 = nn.Linear(50, 10)\n",
        "\n",
        "    def forward(self, x):\n",
        "        x = F.relu(F.max_pool2d(self.conv1(x), 2))\n",
        "        x = F.relu(F.max_pool2d(self.conv2_drop(self.conv2(x)), 2))\n",
        "        x = x.view(-1, 320)\n",
        "        x = F.relu(self.fc1(x))\n",
        "        x = F.dropout(x, training=self.training)\n",
        "        x = self.fc2(x)\n",
        "        return F.log_softmax(x)"
      ]
    },
    {
      "cell_type": "markdown",
      "metadata": {
        "id": "-EMJpBV0Q3kC"
      },
      "source": [
        "Implémentation de ResNet18"
      ]
    },
    {
      "cell_type": "code",
      "execution_count": null,
      "metadata": {
        "id": "ZcTFhPdHQ7nJ"
      },
      "outputs": [],
      "source": [
        "class Block(nn.Module):\n",
        "    def __init__(self, in_channels, out_channels, identity_downsample=None, stride=1):\n",
        "        \n",
        "        super(Block, self).__init__()\n",
        "        self.num_layers = 18\n",
        "\n",
        "        self.bn1 = nn.BatchNorm2d(out_channels)\n",
        "        self.conv1 = nn.Conv2d(in_channels, out_channels, kernel_size=3, stride=stride, padding=1)\n",
        "        self.bn2 = nn.BatchNorm2d(out_channels)\n",
        "        self.conv2 = nn.Conv2d(out_channels, out_channels, kernel_size=1, stride=1, padding=0)\n",
        "        self.bn3 = nn.BatchNorm2d(out_channels)\n",
        "        self.relu = nn.ReLU()\n",
        "        self.identity_downsample = identity_downsample\n",
        "\n",
        "    def forward(self, x):\n",
        "        identity = x\n",
        "\n",
        "        x = self.conv1(x)\n",
        "        x = self.bn2(x)\n",
        "        x = self.relu(x)\n",
        "        x = self.conv2(x)\n",
        "        x = self.bn3(x)\n",
        "\n",
        "        if self.identity_downsample is not None:\n",
        "            identity = self.identity_downsample(identity)\n",
        "\n",
        "        x += identity\n",
        "        x = self.relu(x)\n",
        "        return x\n",
        "\n",
        "\n",
        "class ResNet18(nn.Module):\n",
        "    def __init__(self, block, image_channels, num_classes):\n",
        "\n",
        "        super(ResNet18, self).__init__()\n",
        " \n",
        "        self.in_channels = 64\n",
        "        self.conv1 = nn.Conv2d(image_channels, 64, kernel_size=7, stride=2, padding=3)\n",
        "        self.bn1 = nn.BatchNorm2d(64)\n",
        "        self.relu = nn.ReLU()\n",
        "        self.maxpool = nn.MaxPool2d(kernel_size=3, stride=2, padding=1)\n",
        "\n",
        "        # ResNetLayers\n",
        "        self.layer1 = self.make_layers(block, 2, intermediate_channels=64, stride=1)\n",
        "        self.layer2 = self.make_layers(block, 2, intermediate_channels=128, stride=2)\n",
        "        self.layer3 = self.make_layers(block, 2, intermediate_channels=256, stride=2)\n",
        "        self.layer4 = self.make_layers(block, 2, intermediate_channels=512, stride=2)\n",
        "\n",
        "        self.avgpool = nn.AdaptiveAvgPool2d((1, 1))\n",
        "        self.fc = nn.Linear(512, num_classes)\n",
        "\n",
        "    def forward(self, x):\n",
        "        x = self.conv1(x)\n",
        "        x = self.bn1(x)\n",
        "        x = self.relu(x)\n",
        "        x = self.maxpool(x)\n",
        "\n",
        "        x = self.layer1(x)\n",
        "        x = self.layer2(x)\n",
        "        x = self.layer3(x)\n",
        "        x = self.layer4(x)\n",
        "\n",
        "        x = self.avgpool(x)\n",
        "        x = x.reshape(x.shape[0], -1)\n",
        "        x = self.fc(x)\n",
        "        return x\n",
        "\n",
        "    def make_layers(self, block, num_residual_blocks, intermediate_channels, stride):\n",
        "        layers = []\n",
        "\n",
        "        identity_downsample = nn.Sequential(nn.Conv2d(self.in_channels, intermediate_channels, kernel_size=1, stride=stride),\n",
        "                                            nn.BatchNorm2d(intermediate_channels))\n",
        "        layers.append(block(self.in_channels, intermediate_channels, identity_downsample, stride))\n",
        "        self.in_channels = intermediate_channels  # 256\n",
        "        for i in range(num_residual_blocks - 1):\n",
        "            layers.append(block(self.in_channels, intermediate_channels)) # 256 -> 64, 64*4 (256) again\n",
        "        return nn.Sequential(*layers)"
      ]
    },
    {
      "cell_type": "code",
      "execution_count": null,
      "metadata": {
        "colab": {
          "base_uri": "https://localhost:8080/"
        },
        "id": "1-a1lhERYVvP",
        "outputId": "3c1d7e9b-8724-438a-ed2f-79734782abe5"
      },
      "outputs": [
        {
          "name": "stdout",
          "output_type": "stream",
          "text": [
            "torch.Size([4, 1000])\n",
            "tensor([[-0.1420, -0.2695,  0.5869,  ..., -0.3288,  0.3506,  0.4209],\n",
            "        [-0.2983, -0.2310,  0.6669,  ..., -0.3002,  0.6345,  0.5241],\n",
            "        [-0.2494, -0.1921,  0.5339,  ..., -0.2300,  0.4833,  0.4644],\n",
            "        [-0.2014, -0.2371,  0.6730,  ..., -0.2191,  0.4419,  0.4853]],\n",
            "       device='cuda:0', grad_fn=<CopyBackwards>)\n"
          ]
        }
      ],
      "source": [
        "def test():\n",
        "    net = ResNet18(Block, 3, 1000)\n",
        "    y = net(torch.randn(4, 3, 224, 224)).to(DEVICE)\n",
        "    print(y.size())\n",
        "    print(y)\n",
        "\n",
        "test()\n",
        "\n"
      ]
    },
    {
      "cell_type": "code",
      "execution_count": null,
      "metadata": {
        "id": "-V2IzhVMGg0E"
      },
      "outputs": [],
      "source": []
    }
  ],
  "metadata": {
    "accelerator": "GPU",
    "colab": {
      "collapsed_sections": [],
      "name": "exercise1.ipynb",
      "provenance": []
    },
    "interpreter": {
      "hash": "916dbcbb3f70747c44a77c7bcd40155683ae19c65e1c03b4aa3499c5328201f1"
    },
    "kernelspec": {
      "display_name": "Python 3.8.10 64-bit",
      "language": "python",
      "name": "python3"
    },
    "language_info": {
      "codemirror_mode": {
        "name": "ipython",
        "version": 3
      },
      "file_extension": ".py",
      "mimetype": "text/x-python",
      "name": "python",
      "nbconvert_exporter": "python",
      "pygments_lexer": "ipython3",
      "version": "3.8.10"
    },
    "widgets": {
      "application/vnd.jupyter.widget-state+json": {
        "054575a6a9c940098fce94e59db9effe": {
          "model_module": "@jupyter-widgets/controls",
          "model_module_version": "1.5.0",
          "model_name": "HTMLModel",
          "state": {
            "_dom_classes": [],
            "_model_module": "@jupyter-widgets/controls",
            "_model_module_version": "1.5.0",
            "_model_name": "HTMLModel",
            "_view_count": null,
            "_view_module": "@jupyter-widgets/controls",
            "_view_module_version": "1.5.0",
            "_view_name": "HTMLView",
            "description": "",
            "description_tooltip": null,
            "layout": "IPY_MODEL_bdd17f3f0d4e47dbbd40d07ce54c5ab3",
            "placeholder": "​",
            "style": "IPY_MODEL_e3c4073ac2774c5f9c168df6278063e1",
            "value": " 1649664/? [00:00&lt;00:00, 19594672.33it/s]"
          }
        },
        "0d4abdc32fb64c92aeaaac30443baf81": {
          "model_module": "@jupyter-widgets/base",
          "model_module_version": "1.2.0",
          "model_name": "LayoutModel",
          "state": {
            "_model_module": "@jupyter-widgets/base",
            "_model_module_version": "1.2.0",
            "_model_name": "LayoutModel",
            "_view_count": null,
            "_view_module": "@jupyter-widgets/base",
            "_view_module_version": "1.2.0",
            "_view_name": "LayoutView",
            "align_content": null,
            "align_items": null,
            "align_self": null,
            "border": null,
            "bottom": null,
            "display": null,
            "flex": null,
            "flex_flow": null,
            "grid_area": null,
            "grid_auto_columns": null,
            "grid_auto_flow": null,
            "grid_auto_rows": null,
            "grid_column": null,
            "grid_gap": null,
            "grid_row": null,
            "grid_template_areas": null,
            "grid_template_columns": null,
            "grid_template_rows": null,
            "height": null,
            "justify_content": null,
            "justify_items": null,
            "left": null,
            "margin": null,
            "max_height": null,
            "max_width": null,
            "min_height": null,
            "min_width": null,
            "object_fit": null,
            "object_position": null,
            "order": null,
            "overflow": null,
            "overflow_x": null,
            "overflow_y": null,
            "padding": null,
            "right": null,
            "top": null,
            "visibility": null,
            "width": null
          }
        },
        "18dda5c2e53540e2b2230d1824bb2787": {
          "model_module": "@jupyter-widgets/base",
          "model_module_version": "1.2.0",
          "model_name": "LayoutModel",
          "state": {
            "_model_module": "@jupyter-widgets/base",
            "_model_module_version": "1.2.0",
            "_model_name": "LayoutModel",
            "_view_count": null,
            "_view_module": "@jupyter-widgets/base",
            "_view_module_version": "1.2.0",
            "_view_name": "LayoutView",
            "align_content": null,
            "align_items": null,
            "align_self": null,
            "border": null,
            "bottom": null,
            "display": null,
            "flex": null,
            "flex_flow": null,
            "grid_area": null,
            "grid_auto_columns": null,
            "grid_auto_flow": null,
            "grid_auto_rows": null,
            "grid_column": null,
            "grid_gap": null,
            "grid_row": null,
            "grid_template_areas": null,
            "grid_template_columns": null,
            "grid_template_rows": null,
            "height": null,
            "justify_content": null,
            "justify_items": null,
            "left": null,
            "margin": null,
            "max_height": null,
            "max_width": null,
            "min_height": null,
            "min_width": null,
            "object_fit": null,
            "object_position": null,
            "order": null,
            "overflow": null,
            "overflow_x": null,
            "overflow_y": null,
            "padding": null,
            "right": null,
            "top": null,
            "visibility": null,
            "width": null
          }
        },
        "277ba820bfae4e13b43048b73411d568": {
          "model_module": "@jupyter-widgets/base",
          "model_module_version": "1.2.0",
          "model_name": "LayoutModel",
          "state": {
            "_model_module": "@jupyter-widgets/base",
            "_model_module_version": "1.2.0",
            "_model_name": "LayoutModel",
            "_view_count": null,
            "_view_module": "@jupyter-widgets/base",
            "_view_module_version": "1.2.0",
            "_view_name": "LayoutView",
            "align_content": null,
            "align_items": null,
            "align_self": null,
            "border": null,
            "bottom": null,
            "display": null,
            "flex": null,
            "flex_flow": null,
            "grid_area": null,
            "grid_auto_columns": null,
            "grid_auto_flow": null,
            "grid_auto_rows": null,
            "grid_column": null,
            "grid_gap": null,
            "grid_row": null,
            "grid_template_areas": null,
            "grid_template_columns": null,
            "grid_template_rows": null,
            "height": null,
            "justify_content": null,
            "justify_items": null,
            "left": null,
            "margin": null,
            "max_height": null,
            "max_width": null,
            "min_height": null,
            "min_width": null,
            "object_fit": null,
            "object_position": null,
            "order": null,
            "overflow": null,
            "overflow_x": null,
            "overflow_y": null,
            "padding": null,
            "right": null,
            "top": null,
            "visibility": null,
            "width": null
          }
        },
        "27c5d29664a645729cc420b0f06da446": {
          "model_module": "@jupyter-widgets/controls",
          "model_module_version": "1.5.0",
          "model_name": "HBoxModel",
          "state": {
            "_dom_classes": [],
            "_model_module": "@jupyter-widgets/controls",
            "_model_module_version": "1.5.0",
            "_model_name": "HBoxModel",
            "_view_count": null,
            "_view_module": "@jupyter-widgets/controls",
            "_view_module_version": "1.5.0",
            "_view_name": "HBoxView",
            "box_style": "",
            "children": [
              "IPY_MODEL_753af47c66b443939110add98ba7a656",
              "IPY_MODEL_d00a7c4bde7c4aa9bd78c677d5dbf005",
              "IPY_MODEL_e2aa67b951f541c9a40330cedfb59bb3"
            ],
            "layout": "IPY_MODEL_346cb2f11dde4032bc7f5c955b027c1c"
          }
        },
        "306e282f529d4ca3a324277b825285b0": {
          "model_module": "@jupyter-widgets/controls",
          "model_module_version": "1.5.0",
          "model_name": "FloatProgressModel",
          "state": {
            "_dom_classes": [],
            "_model_module": "@jupyter-widgets/controls",
            "_model_module_version": "1.5.0",
            "_model_name": "FloatProgressModel",
            "_view_count": null,
            "_view_module": "@jupyter-widgets/controls",
            "_view_module_version": "1.5.0",
            "_view_name": "ProgressView",
            "bar_style": "success",
            "description": "",
            "description_tooltip": null,
            "layout": "IPY_MODEL_5ad5dd81bbb24ee59099f88d2b198fc3",
            "max": 28881,
            "min": 0,
            "orientation": "horizontal",
            "style": "IPY_MODEL_3e792c89fd474f729041f2198e24e724",
            "value": 28881
          }
        },
        "346cb2f11dde4032bc7f5c955b027c1c": {
          "model_module": "@jupyter-widgets/base",
          "model_module_version": "1.2.0",
          "model_name": "LayoutModel",
          "state": {
            "_model_module": "@jupyter-widgets/base",
            "_model_module_version": "1.2.0",
            "_model_name": "LayoutModel",
            "_view_count": null,
            "_view_module": "@jupyter-widgets/base",
            "_view_module_version": "1.2.0",
            "_view_name": "LayoutView",
            "align_content": null,
            "align_items": null,
            "align_self": null,
            "border": null,
            "bottom": null,
            "display": null,
            "flex": null,
            "flex_flow": null,
            "grid_area": null,
            "grid_auto_columns": null,
            "grid_auto_flow": null,
            "grid_auto_rows": null,
            "grid_column": null,
            "grid_gap": null,
            "grid_row": null,
            "grid_template_areas": null,
            "grid_template_columns": null,
            "grid_template_rows": null,
            "height": null,
            "justify_content": null,
            "justify_items": null,
            "left": null,
            "margin": null,
            "max_height": null,
            "max_width": null,
            "min_height": null,
            "min_width": null,
            "object_fit": null,
            "object_position": null,
            "order": null,
            "overflow": null,
            "overflow_x": null,
            "overflow_y": null,
            "padding": null,
            "right": null,
            "top": null,
            "visibility": null,
            "width": null
          }
        },
        "369db8d698fd44668ce5f66bfb002667": {
          "model_module": "@jupyter-widgets/base",
          "model_module_version": "1.2.0",
          "model_name": "LayoutModel",
          "state": {
            "_model_module": "@jupyter-widgets/base",
            "_model_module_version": "1.2.0",
            "_model_name": "LayoutModel",
            "_view_count": null,
            "_view_module": "@jupyter-widgets/base",
            "_view_module_version": "1.2.0",
            "_view_name": "LayoutView",
            "align_content": null,
            "align_items": null,
            "align_self": null,
            "border": null,
            "bottom": null,
            "display": null,
            "flex": null,
            "flex_flow": null,
            "grid_area": null,
            "grid_auto_columns": null,
            "grid_auto_flow": null,
            "grid_auto_rows": null,
            "grid_column": null,
            "grid_gap": null,
            "grid_row": null,
            "grid_template_areas": null,
            "grid_template_columns": null,
            "grid_template_rows": null,
            "height": null,
            "justify_content": null,
            "justify_items": null,
            "left": null,
            "margin": null,
            "max_height": null,
            "max_width": null,
            "min_height": null,
            "min_width": null,
            "object_fit": null,
            "object_position": null,
            "order": null,
            "overflow": null,
            "overflow_x": null,
            "overflow_y": null,
            "padding": null,
            "right": null,
            "top": null,
            "visibility": null,
            "width": null
          }
        },
        "3c9e71a073db49d98c6efcbb6bb14a28": {
          "model_module": "@jupyter-widgets/base",
          "model_module_version": "1.2.0",
          "model_name": "LayoutModel",
          "state": {
            "_model_module": "@jupyter-widgets/base",
            "_model_module_version": "1.2.0",
            "_model_name": "LayoutModel",
            "_view_count": null,
            "_view_module": "@jupyter-widgets/base",
            "_view_module_version": "1.2.0",
            "_view_name": "LayoutView",
            "align_content": null,
            "align_items": null,
            "align_self": null,
            "border": null,
            "bottom": null,
            "display": null,
            "flex": null,
            "flex_flow": null,
            "grid_area": null,
            "grid_auto_columns": null,
            "grid_auto_flow": null,
            "grid_auto_rows": null,
            "grid_column": null,
            "grid_gap": null,
            "grid_row": null,
            "grid_template_areas": null,
            "grid_template_columns": null,
            "grid_template_rows": null,
            "height": null,
            "justify_content": null,
            "justify_items": null,
            "left": null,
            "margin": null,
            "max_height": null,
            "max_width": null,
            "min_height": null,
            "min_width": null,
            "object_fit": null,
            "object_position": null,
            "order": null,
            "overflow": null,
            "overflow_x": null,
            "overflow_y": null,
            "padding": null,
            "right": null,
            "top": null,
            "visibility": null,
            "width": null
          }
        },
        "3e792c89fd474f729041f2198e24e724": {
          "model_module": "@jupyter-widgets/controls",
          "model_module_version": "1.5.0",
          "model_name": "ProgressStyleModel",
          "state": {
            "_model_module": "@jupyter-widgets/controls",
            "_model_module_version": "1.5.0",
            "_model_name": "ProgressStyleModel",
            "_view_count": null,
            "_view_module": "@jupyter-widgets/base",
            "_view_module_version": "1.2.0",
            "_view_name": "StyleView",
            "bar_color": null,
            "description_width": ""
          }
        },
        "435b8b103840486fb2164ef4434f07e4": {
          "model_module": "@jupyter-widgets/base",
          "model_module_version": "1.2.0",
          "model_name": "LayoutModel",
          "state": {
            "_model_module": "@jupyter-widgets/base",
            "_model_module_version": "1.2.0",
            "_model_name": "LayoutModel",
            "_view_count": null,
            "_view_module": "@jupyter-widgets/base",
            "_view_module_version": "1.2.0",
            "_view_name": "LayoutView",
            "align_content": null,
            "align_items": null,
            "align_self": null,
            "border": null,
            "bottom": null,
            "display": null,
            "flex": null,
            "flex_flow": null,
            "grid_area": null,
            "grid_auto_columns": null,
            "grid_auto_flow": null,
            "grid_auto_rows": null,
            "grid_column": null,
            "grid_gap": null,
            "grid_row": null,
            "grid_template_areas": null,
            "grid_template_columns": null,
            "grid_template_rows": null,
            "height": null,
            "justify_content": null,
            "justify_items": null,
            "left": null,
            "margin": null,
            "max_height": null,
            "max_width": null,
            "min_height": null,
            "min_width": null,
            "object_fit": null,
            "object_position": null,
            "order": null,
            "overflow": null,
            "overflow_x": null,
            "overflow_y": null,
            "padding": null,
            "right": null,
            "top": null,
            "visibility": null,
            "width": null
          }
        },
        "4808fcd0fdd740c7bd33b6d87a328167": {
          "model_module": "@jupyter-widgets/controls",
          "model_module_version": "1.5.0",
          "model_name": "HBoxModel",
          "state": {
            "_dom_classes": [],
            "_model_module": "@jupyter-widgets/controls",
            "_model_module_version": "1.5.0",
            "_model_name": "HBoxModel",
            "_view_count": null,
            "_view_module": "@jupyter-widgets/controls",
            "_view_module_version": "1.5.0",
            "_view_name": "HBoxView",
            "box_style": "",
            "children": [
              "IPY_MODEL_914de3ede83143d9b4a124e731f8f6b8",
              "IPY_MODEL_306e282f529d4ca3a324277b825285b0",
              "IPY_MODEL_bc0cc94d30fd4313a97b3bb08c74423a"
            ],
            "layout": "IPY_MODEL_79573c76436e4a3bb4739ef87883327e"
          }
        },
        "4aff3a7e3e7746159e0197d8f3ab19ca": {
          "model_module": "@jupyter-widgets/controls",
          "model_module_version": "1.5.0",
          "model_name": "DescriptionStyleModel",
          "state": {
            "_model_module": "@jupyter-widgets/controls",
            "_model_module_version": "1.5.0",
            "_model_name": "DescriptionStyleModel",
            "_view_count": null,
            "_view_module": "@jupyter-widgets/base",
            "_view_module_version": "1.2.0",
            "_view_name": "StyleView",
            "description_width": ""
          }
        },
        "5986acc455c3435bacbe900fac9e59c0": {
          "model_module": "@jupyter-widgets/base",
          "model_module_version": "1.2.0",
          "model_name": "LayoutModel",
          "state": {
            "_model_module": "@jupyter-widgets/base",
            "_model_module_version": "1.2.0",
            "_model_name": "LayoutModel",
            "_view_count": null,
            "_view_module": "@jupyter-widgets/base",
            "_view_module_version": "1.2.0",
            "_view_name": "LayoutView",
            "align_content": null,
            "align_items": null,
            "align_self": null,
            "border": null,
            "bottom": null,
            "display": null,
            "flex": null,
            "flex_flow": null,
            "grid_area": null,
            "grid_auto_columns": null,
            "grid_auto_flow": null,
            "grid_auto_rows": null,
            "grid_column": null,
            "grid_gap": null,
            "grid_row": null,
            "grid_template_areas": null,
            "grid_template_columns": null,
            "grid_template_rows": null,
            "height": null,
            "justify_content": null,
            "justify_items": null,
            "left": null,
            "margin": null,
            "max_height": null,
            "max_width": null,
            "min_height": null,
            "min_width": null,
            "object_fit": null,
            "object_position": null,
            "order": null,
            "overflow": null,
            "overflow_x": null,
            "overflow_y": null,
            "padding": null,
            "right": null,
            "top": null,
            "visibility": null,
            "width": null
          }
        },
        "5ac5fea23296476faa7e5467eb864f4d": {
          "model_module": "@jupyter-widgets/controls",
          "model_module_version": "1.5.0",
          "model_name": "DescriptionStyleModel",
          "state": {
            "_model_module": "@jupyter-widgets/controls",
            "_model_module_version": "1.5.0",
            "_model_name": "DescriptionStyleModel",
            "_view_count": null,
            "_view_module": "@jupyter-widgets/base",
            "_view_module_version": "1.2.0",
            "_view_name": "StyleView",
            "description_width": ""
          }
        },
        "5ad5dd81bbb24ee59099f88d2b198fc3": {
          "model_module": "@jupyter-widgets/base",
          "model_module_version": "1.2.0",
          "model_name": "LayoutModel",
          "state": {
            "_model_module": "@jupyter-widgets/base",
            "_model_module_version": "1.2.0",
            "_model_name": "LayoutModel",
            "_view_count": null,
            "_view_module": "@jupyter-widgets/base",
            "_view_module_version": "1.2.0",
            "_view_name": "LayoutView",
            "align_content": null,
            "align_items": null,
            "align_self": null,
            "border": null,
            "bottom": null,
            "display": null,
            "flex": null,
            "flex_flow": null,
            "grid_area": null,
            "grid_auto_columns": null,
            "grid_auto_flow": null,
            "grid_auto_rows": null,
            "grid_column": null,
            "grid_gap": null,
            "grid_row": null,
            "grid_template_areas": null,
            "grid_template_columns": null,
            "grid_template_rows": null,
            "height": null,
            "justify_content": null,
            "justify_items": null,
            "left": null,
            "margin": null,
            "max_height": null,
            "max_width": null,
            "min_height": null,
            "min_width": null,
            "object_fit": null,
            "object_position": null,
            "order": null,
            "overflow": null,
            "overflow_x": null,
            "overflow_y": null,
            "padding": null,
            "right": null,
            "top": null,
            "visibility": null,
            "width": null
          }
        },
        "753af47c66b443939110add98ba7a656": {
          "model_module": "@jupyter-widgets/controls",
          "model_module_version": "1.5.0",
          "model_name": "HTMLModel",
          "state": {
            "_dom_classes": [],
            "_model_module": "@jupyter-widgets/controls",
            "_model_module_version": "1.5.0",
            "_model_name": "HTMLModel",
            "_view_count": null,
            "_view_module": "@jupyter-widgets/controls",
            "_view_module_version": "1.5.0",
            "_view_name": "HTMLView",
            "description": "",
            "description_tooltip": null,
            "layout": "IPY_MODEL_0d4abdc32fb64c92aeaaac30443baf81",
            "placeholder": "​",
            "style": "IPY_MODEL_9e6a046e5bbf4413ae876e65d53b126a",
            "value": ""
          }
        },
        "79573c76436e4a3bb4739ef87883327e": {
          "model_module": "@jupyter-widgets/base",
          "model_module_version": "1.2.0",
          "model_name": "LayoutModel",
          "state": {
            "_model_module": "@jupyter-widgets/base",
            "_model_module_version": "1.2.0",
            "_model_name": "LayoutModel",
            "_view_count": null,
            "_view_module": "@jupyter-widgets/base",
            "_view_module_version": "1.2.0",
            "_view_name": "LayoutView",
            "align_content": null,
            "align_items": null,
            "align_self": null,
            "border": null,
            "bottom": null,
            "display": null,
            "flex": null,
            "flex_flow": null,
            "grid_area": null,
            "grid_auto_columns": null,
            "grid_auto_flow": null,
            "grid_auto_rows": null,
            "grid_column": null,
            "grid_gap": null,
            "grid_row": null,
            "grid_template_areas": null,
            "grid_template_columns": null,
            "grid_template_rows": null,
            "height": null,
            "justify_content": null,
            "justify_items": null,
            "left": null,
            "margin": null,
            "max_height": null,
            "max_width": null,
            "min_height": null,
            "min_width": null,
            "object_fit": null,
            "object_position": null,
            "order": null,
            "overflow": null,
            "overflow_x": null,
            "overflow_y": null,
            "padding": null,
            "right": null,
            "top": null,
            "visibility": null,
            "width": null
          }
        },
        "7c2cd65bc4d14232934cb8a46ade2be7": {
          "model_module": "@jupyter-widgets/controls",
          "model_module_version": "1.5.0",
          "model_name": "ProgressStyleModel",
          "state": {
            "_model_module": "@jupyter-widgets/controls",
            "_model_module_version": "1.5.0",
            "_model_name": "ProgressStyleModel",
            "_view_count": null,
            "_view_module": "@jupyter-widgets/base",
            "_view_module_version": "1.2.0",
            "_view_name": "StyleView",
            "bar_color": null,
            "description_width": ""
          }
        },
        "7d1687e486c0488dada3dd4eb66a25e2": {
          "model_module": "@jupyter-widgets/base",
          "model_module_version": "1.2.0",
          "model_name": "LayoutModel",
          "state": {
            "_model_module": "@jupyter-widgets/base",
            "_model_module_version": "1.2.0",
            "_model_name": "LayoutModel",
            "_view_count": null,
            "_view_module": "@jupyter-widgets/base",
            "_view_module_version": "1.2.0",
            "_view_name": "LayoutView",
            "align_content": null,
            "align_items": null,
            "align_self": null,
            "border": null,
            "bottom": null,
            "display": null,
            "flex": null,
            "flex_flow": null,
            "grid_area": null,
            "grid_auto_columns": null,
            "grid_auto_flow": null,
            "grid_auto_rows": null,
            "grid_column": null,
            "grid_gap": null,
            "grid_row": null,
            "grid_template_areas": null,
            "grid_template_columns": null,
            "grid_template_rows": null,
            "height": null,
            "justify_content": null,
            "justify_items": null,
            "left": null,
            "margin": null,
            "max_height": null,
            "max_width": null,
            "min_height": null,
            "min_width": null,
            "object_fit": null,
            "object_position": null,
            "order": null,
            "overflow": null,
            "overflow_x": null,
            "overflow_y": null,
            "padding": null,
            "right": null,
            "top": null,
            "visibility": null,
            "width": null
          }
        },
        "84e371da88ef46f2b951df0a400cfd44": {
          "model_module": "@jupyter-widgets/controls",
          "model_module_version": "1.5.0",
          "model_name": "FloatProgressModel",
          "state": {
            "_dom_classes": [],
            "_model_module": "@jupyter-widgets/controls",
            "_model_module_version": "1.5.0",
            "_model_name": "FloatProgressModel",
            "_view_count": null,
            "_view_module": "@jupyter-widgets/controls",
            "_view_module_version": "1.5.0",
            "_view_name": "ProgressView",
            "bar_style": "success",
            "description": "",
            "description_tooltip": null,
            "layout": "IPY_MODEL_a2567b7660444a2785340920adceab81",
            "max": 1648877,
            "min": 0,
            "orientation": "horizontal",
            "style": "IPY_MODEL_a5f490eecf7d4f8f943abe7f432355af",
            "value": 1648877
          }
        },
        "8a0adf1872bc4fd1947c558bf1d67fea": {
          "model_module": "@jupyter-widgets/controls",
          "model_module_version": "1.5.0",
          "model_name": "DescriptionStyleModel",
          "state": {
            "_model_module": "@jupyter-widgets/controls",
            "_model_module_version": "1.5.0",
            "_model_name": "DescriptionStyleModel",
            "_view_count": null,
            "_view_module": "@jupyter-widgets/base",
            "_view_module_version": "1.2.0",
            "_view_name": "StyleView",
            "description_width": ""
          }
        },
        "90814210ad5b460db397840127adafc3": {
          "model_module": "@jupyter-widgets/controls",
          "model_module_version": "1.5.0",
          "model_name": "HTMLModel",
          "state": {
            "_dom_classes": [],
            "_model_module": "@jupyter-widgets/controls",
            "_model_module_version": "1.5.0",
            "_model_name": "HTMLModel",
            "_view_count": null,
            "_view_module": "@jupyter-widgets/controls",
            "_view_module_version": "1.5.0",
            "_view_name": "HTMLView",
            "description": "",
            "description_tooltip": null,
            "layout": "IPY_MODEL_a933df6460864ac7b71b5d406f2af910",
            "placeholder": "​",
            "style": "IPY_MODEL_5ac5fea23296476faa7e5467eb864f4d",
            "value": " 9913344/? [00:00&lt;00:00, 44130576.05it/s]"
          }
        },
        "90dad5de5aaa47559c27c7272b242f04": {
          "model_module": "@jupyter-widgets/controls",
          "model_module_version": "1.5.0",
          "model_name": "DescriptionStyleModel",
          "state": {
            "_model_module": "@jupyter-widgets/controls",
            "_model_module_version": "1.5.0",
            "_model_name": "DescriptionStyleModel",
            "_view_count": null,
            "_view_module": "@jupyter-widgets/base",
            "_view_module_version": "1.2.0",
            "_view_name": "StyleView",
            "description_width": ""
          }
        },
        "914de3ede83143d9b4a124e731f8f6b8": {
          "model_module": "@jupyter-widgets/controls",
          "model_module_version": "1.5.0",
          "model_name": "HTMLModel",
          "state": {
            "_dom_classes": [],
            "_model_module": "@jupyter-widgets/controls",
            "_model_module_version": "1.5.0",
            "_model_name": "HTMLModel",
            "_view_count": null,
            "_view_module": "@jupyter-widgets/controls",
            "_view_module_version": "1.5.0",
            "_view_name": "HTMLView",
            "description": "",
            "description_tooltip": null,
            "layout": "IPY_MODEL_435b8b103840486fb2164ef4434f07e4",
            "placeholder": "​",
            "style": "IPY_MODEL_abeb14b2948d438ab8cb89b8896dc66e",
            "value": ""
          }
        },
        "92533180b65c404ab97ccff15b78c241": {
          "model_module": "@jupyter-widgets/controls",
          "model_module_version": "1.5.0",
          "model_name": "DescriptionStyleModel",
          "state": {
            "_model_module": "@jupyter-widgets/controls",
            "_model_module_version": "1.5.0",
            "_model_name": "DescriptionStyleModel",
            "_view_count": null,
            "_view_module": "@jupyter-widgets/base",
            "_view_module_version": "1.2.0",
            "_view_name": "StyleView",
            "description_width": ""
          }
        },
        "9e6a046e5bbf4413ae876e65d53b126a": {
          "model_module": "@jupyter-widgets/controls",
          "model_module_version": "1.5.0",
          "model_name": "DescriptionStyleModel",
          "state": {
            "_model_module": "@jupyter-widgets/controls",
            "_model_module_version": "1.5.0",
            "_model_name": "DescriptionStyleModel",
            "_view_count": null,
            "_view_module": "@jupyter-widgets/base",
            "_view_module_version": "1.2.0",
            "_view_name": "StyleView",
            "description_width": ""
          }
        },
        "9eb4730adf934a7c9f4e3a5c4d66604c": {
          "model_module": "@jupyter-widgets/controls",
          "model_module_version": "1.5.0",
          "model_name": "HBoxModel",
          "state": {
            "_dom_classes": [],
            "_model_module": "@jupyter-widgets/controls",
            "_model_module_version": "1.5.0",
            "_model_name": "HBoxModel",
            "_view_count": null,
            "_view_module": "@jupyter-widgets/controls",
            "_view_module_version": "1.5.0",
            "_view_name": "HBoxView",
            "box_style": "",
            "children": [
              "IPY_MODEL_dcb8a6641e4642a68951f21ab92e53f5",
              "IPY_MODEL_e38125bc78964669b576095a21b00a0f",
              "IPY_MODEL_90814210ad5b460db397840127adafc3"
            ],
            "layout": "IPY_MODEL_5986acc455c3435bacbe900fac9e59c0"
          }
        },
        "a2567b7660444a2785340920adceab81": {
          "model_module": "@jupyter-widgets/base",
          "model_module_version": "1.2.0",
          "model_name": "LayoutModel",
          "state": {
            "_model_module": "@jupyter-widgets/base",
            "_model_module_version": "1.2.0",
            "_model_name": "LayoutModel",
            "_view_count": null,
            "_view_module": "@jupyter-widgets/base",
            "_view_module_version": "1.2.0",
            "_view_name": "LayoutView",
            "align_content": null,
            "align_items": null,
            "align_self": null,
            "border": null,
            "bottom": null,
            "display": null,
            "flex": null,
            "flex_flow": null,
            "grid_area": null,
            "grid_auto_columns": null,
            "grid_auto_flow": null,
            "grid_auto_rows": null,
            "grid_column": null,
            "grid_gap": null,
            "grid_row": null,
            "grid_template_areas": null,
            "grid_template_columns": null,
            "grid_template_rows": null,
            "height": null,
            "justify_content": null,
            "justify_items": null,
            "left": null,
            "margin": null,
            "max_height": null,
            "max_width": null,
            "min_height": null,
            "min_width": null,
            "object_fit": null,
            "object_position": null,
            "order": null,
            "overflow": null,
            "overflow_x": null,
            "overflow_y": null,
            "padding": null,
            "right": null,
            "top": null,
            "visibility": null,
            "width": null
          }
        },
        "a5f490eecf7d4f8f943abe7f432355af": {
          "model_module": "@jupyter-widgets/controls",
          "model_module_version": "1.5.0",
          "model_name": "ProgressStyleModel",
          "state": {
            "_model_module": "@jupyter-widgets/controls",
            "_model_module_version": "1.5.0",
            "_model_name": "ProgressStyleModel",
            "_view_count": null,
            "_view_module": "@jupyter-widgets/base",
            "_view_module_version": "1.2.0",
            "_view_name": "StyleView",
            "bar_color": null,
            "description_width": ""
          }
        },
        "a933df6460864ac7b71b5d406f2af910": {
          "model_module": "@jupyter-widgets/base",
          "model_module_version": "1.2.0",
          "model_name": "LayoutModel",
          "state": {
            "_model_module": "@jupyter-widgets/base",
            "_model_module_version": "1.2.0",
            "_model_name": "LayoutModel",
            "_view_count": null,
            "_view_module": "@jupyter-widgets/base",
            "_view_module_version": "1.2.0",
            "_view_name": "LayoutView",
            "align_content": null,
            "align_items": null,
            "align_self": null,
            "border": null,
            "bottom": null,
            "display": null,
            "flex": null,
            "flex_flow": null,
            "grid_area": null,
            "grid_auto_columns": null,
            "grid_auto_flow": null,
            "grid_auto_rows": null,
            "grid_column": null,
            "grid_gap": null,
            "grid_row": null,
            "grid_template_areas": null,
            "grid_template_columns": null,
            "grid_template_rows": null,
            "height": null,
            "justify_content": null,
            "justify_items": null,
            "left": null,
            "margin": null,
            "max_height": null,
            "max_width": null,
            "min_height": null,
            "min_width": null,
            "object_fit": null,
            "object_position": null,
            "order": null,
            "overflow": null,
            "overflow_x": null,
            "overflow_y": null,
            "padding": null,
            "right": null,
            "top": null,
            "visibility": null,
            "width": null
          }
        },
        "abeb14b2948d438ab8cb89b8896dc66e": {
          "model_module": "@jupyter-widgets/controls",
          "model_module_version": "1.5.0",
          "model_name": "DescriptionStyleModel",
          "state": {
            "_model_module": "@jupyter-widgets/controls",
            "_model_module_version": "1.5.0",
            "_model_name": "DescriptionStyleModel",
            "_view_count": null,
            "_view_module": "@jupyter-widgets/base",
            "_view_module_version": "1.2.0",
            "_view_name": "StyleView",
            "description_width": ""
          }
        },
        "bc0cc94d30fd4313a97b3bb08c74423a": {
          "model_module": "@jupyter-widgets/controls",
          "model_module_version": "1.5.0",
          "model_name": "HTMLModel",
          "state": {
            "_dom_classes": [],
            "_model_module": "@jupyter-widgets/controls",
            "_model_module_version": "1.5.0",
            "_model_name": "HTMLModel",
            "_view_count": null,
            "_view_module": "@jupyter-widgets/controls",
            "_view_module_version": "1.5.0",
            "_view_name": "HTMLView",
            "description": "",
            "description_tooltip": null,
            "layout": "IPY_MODEL_3c9e71a073db49d98c6efcbb6bb14a28",
            "placeholder": "​",
            "style": "IPY_MODEL_92533180b65c404ab97ccff15b78c241",
            "value": " 29696/? [00:00&lt;00:00, 9094.21it/s]"
          }
        },
        "bdd17f3f0d4e47dbbd40d07ce54c5ab3": {
          "model_module": "@jupyter-widgets/base",
          "model_module_version": "1.2.0",
          "model_name": "LayoutModel",
          "state": {
            "_model_module": "@jupyter-widgets/base",
            "_model_module_version": "1.2.0",
            "_model_name": "LayoutModel",
            "_view_count": null,
            "_view_module": "@jupyter-widgets/base",
            "_view_module_version": "1.2.0",
            "_view_name": "LayoutView",
            "align_content": null,
            "align_items": null,
            "align_self": null,
            "border": null,
            "bottom": null,
            "display": null,
            "flex": null,
            "flex_flow": null,
            "grid_area": null,
            "grid_auto_columns": null,
            "grid_auto_flow": null,
            "grid_auto_rows": null,
            "grid_column": null,
            "grid_gap": null,
            "grid_row": null,
            "grid_template_areas": null,
            "grid_template_columns": null,
            "grid_template_rows": null,
            "height": null,
            "justify_content": null,
            "justify_items": null,
            "left": null,
            "margin": null,
            "max_height": null,
            "max_width": null,
            "min_height": null,
            "min_width": null,
            "object_fit": null,
            "object_position": null,
            "order": null,
            "overflow": null,
            "overflow_x": null,
            "overflow_y": null,
            "padding": null,
            "right": null,
            "top": null,
            "visibility": null,
            "width": null
          }
        },
        "bdfb5411468e4e41911300757a3ee8fd": {
          "model_module": "@jupyter-widgets/base",
          "model_module_version": "1.2.0",
          "model_name": "LayoutModel",
          "state": {
            "_model_module": "@jupyter-widgets/base",
            "_model_module_version": "1.2.0",
            "_model_name": "LayoutModel",
            "_view_count": null,
            "_view_module": "@jupyter-widgets/base",
            "_view_module_version": "1.2.0",
            "_view_name": "LayoutView",
            "align_content": null,
            "align_items": null,
            "align_self": null,
            "border": null,
            "bottom": null,
            "display": null,
            "flex": null,
            "flex_flow": null,
            "grid_area": null,
            "grid_auto_columns": null,
            "grid_auto_flow": null,
            "grid_auto_rows": null,
            "grid_column": null,
            "grid_gap": null,
            "grid_row": null,
            "grid_template_areas": null,
            "grid_template_columns": null,
            "grid_template_rows": null,
            "height": null,
            "justify_content": null,
            "justify_items": null,
            "left": null,
            "margin": null,
            "max_height": null,
            "max_width": null,
            "min_height": null,
            "min_width": null,
            "object_fit": null,
            "object_position": null,
            "order": null,
            "overflow": null,
            "overflow_x": null,
            "overflow_y": null,
            "padding": null,
            "right": null,
            "top": null,
            "visibility": null,
            "width": null
          }
        },
        "d00a7c4bde7c4aa9bd78c677d5dbf005": {
          "model_module": "@jupyter-widgets/controls",
          "model_module_version": "1.5.0",
          "model_name": "FloatProgressModel",
          "state": {
            "_dom_classes": [],
            "_model_module": "@jupyter-widgets/controls",
            "_model_module_version": "1.5.0",
            "_model_name": "FloatProgressModel",
            "_view_count": null,
            "_view_module": "@jupyter-widgets/controls",
            "_view_module_version": "1.5.0",
            "_view_name": "ProgressView",
            "bar_style": "success",
            "description": "",
            "description_tooltip": null,
            "layout": "IPY_MODEL_7d1687e486c0488dada3dd4eb66a25e2",
            "max": 4542,
            "min": 0,
            "orientation": "horizontal",
            "style": "IPY_MODEL_d44fcb14587e4588b503949ba0381776",
            "value": 4542
          }
        },
        "d44fcb14587e4588b503949ba0381776": {
          "model_module": "@jupyter-widgets/controls",
          "model_module_version": "1.5.0",
          "model_name": "ProgressStyleModel",
          "state": {
            "_model_module": "@jupyter-widgets/controls",
            "_model_module_version": "1.5.0",
            "_model_name": "ProgressStyleModel",
            "_view_count": null,
            "_view_module": "@jupyter-widgets/base",
            "_view_module_version": "1.2.0",
            "_view_name": "StyleView",
            "bar_color": null,
            "description_width": ""
          }
        },
        "d710d5fab2174614bdd372e15f3ed3d0": {
          "model_module": "@jupyter-widgets/base",
          "model_module_version": "1.2.0",
          "model_name": "LayoutModel",
          "state": {
            "_model_module": "@jupyter-widgets/base",
            "_model_module_version": "1.2.0",
            "_model_name": "LayoutModel",
            "_view_count": null,
            "_view_module": "@jupyter-widgets/base",
            "_view_module_version": "1.2.0",
            "_view_name": "LayoutView",
            "align_content": null,
            "align_items": null,
            "align_self": null,
            "border": null,
            "bottom": null,
            "display": null,
            "flex": null,
            "flex_flow": null,
            "grid_area": null,
            "grid_auto_columns": null,
            "grid_auto_flow": null,
            "grid_auto_rows": null,
            "grid_column": null,
            "grid_gap": null,
            "grid_row": null,
            "grid_template_areas": null,
            "grid_template_columns": null,
            "grid_template_rows": null,
            "height": null,
            "justify_content": null,
            "justify_items": null,
            "left": null,
            "margin": null,
            "max_height": null,
            "max_width": null,
            "min_height": null,
            "min_width": null,
            "object_fit": null,
            "object_position": null,
            "order": null,
            "overflow": null,
            "overflow_x": null,
            "overflow_y": null,
            "padding": null,
            "right": null,
            "top": null,
            "visibility": null,
            "width": null
          }
        },
        "dc7f89a0668a4e409948a8d73d63cfc0": {
          "model_module": "@jupyter-widgets/controls",
          "model_module_version": "1.5.0",
          "model_name": "HTMLModel",
          "state": {
            "_dom_classes": [],
            "_model_module": "@jupyter-widgets/controls",
            "_model_module_version": "1.5.0",
            "_model_name": "HTMLModel",
            "_view_count": null,
            "_view_module": "@jupyter-widgets/controls",
            "_view_module_version": "1.5.0",
            "_view_name": "HTMLView",
            "description": "",
            "description_tooltip": null,
            "layout": "IPY_MODEL_bdfb5411468e4e41911300757a3ee8fd",
            "placeholder": "​",
            "style": "IPY_MODEL_90dad5de5aaa47559c27c7272b242f04",
            "value": ""
          }
        },
        "dcb8a6641e4642a68951f21ab92e53f5": {
          "model_module": "@jupyter-widgets/controls",
          "model_module_version": "1.5.0",
          "model_name": "HTMLModel",
          "state": {
            "_dom_classes": [],
            "_model_module": "@jupyter-widgets/controls",
            "_model_module_version": "1.5.0",
            "_model_name": "HTMLModel",
            "_view_count": null,
            "_view_module": "@jupyter-widgets/controls",
            "_view_module_version": "1.5.0",
            "_view_name": "HTMLView",
            "description": "",
            "description_tooltip": null,
            "layout": "IPY_MODEL_277ba820bfae4e13b43048b73411d568",
            "placeholder": "​",
            "style": "IPY_MODEL_4aff3a7e3e7746159e0197d8f3ab19ca",
            "value": ""
          }
        },
        "e2aa67b951f541c9a40330cedfb59bb3": {
          "model_module": "@jupyter-widgets/controls",
          "model_module_version": "1.5.0",
          "model_name": "HTMLModel",
          "state": {
            "_dom_classes": [],
            "_model_module": "@jupyter-widgets/controls",
            "_model_module_version": "1.5.0",
            "_model_name": "HTMLModel",
            "_view_count": null,
            "_view_module": "@jupyter-widgets/controls",
            "_view_module_version": "1.5.0",
            "_view_name": "HTMLView",
            "description": "",
            "description_tooltip": null,
            "layout": "IPY_MODEL_369db8d698fd44668ce5f66bfb002667",
            "placeholder": "​",
            "style": "IPY_MODEL_8a0adf1872bc4fd1947c558bf1d67fea",
            "value": " 5120/? [00:00&lt;00:00, 75291.92it/s]"
          }
        },
        "e38125bc78964669b576095a21b00a0f": {
          "model_module": "@jupyter-widgets/controls",
          "model_module_version": "1.5.0",
          "model_name": "FloatProgressModel",
          "state": {
            "_dom_classes": [],
            "_model_module": "@jupyter-widgets/controls",
            "_model_module_version": "1.5.0",
            "_model_name": "FloatProgressModel",
            "_view_count": null,
            "_view_module": "@jupyter-widgets/controls",
            "_view_module_version": "1.5.0",
            "_view_name": "ProgressView",
            "bar_style": "success",
            "description": "",
            "description_tooltip": null,
            "layout": "IPY_MODEL_18dda5c2e53540e2b2230d1824bb2787",
            "max": 9912422,
            "min": 0,
            "orientation": "horizontal",
            "style": "IPY_MODEL_7c2cd65bc4d14232934cb8a46ade2be7",
            "value": 9912422
          }
        },
        "e3c4073ac2774c5f9c168df6278063e1": {
          "model_module": "@jupyter-widgets/controls",
          "model_module_version": "1.5.0",
          "model_name": "DescriptionStyleModel",
          "state": {
            "_model_module": "@jupyter-widgets/controls",
            "_model_module_version": "1.5.0",
            "_model_name": "DescriptionStyleModel",
            "_view_count": null,
            "_view_module": "@jupyter-widgets/base",
            "_view_module_version": "1.2.0",
            "_view_name": "StyleView",
            "description_width": ""
          }
        },
        "f0b93025e44b4303a0a192e10be56e28": {
          "model_module": "@jupyter-widgets/controls",
          "model_module_version": "1.5.0",
          "model_name": "HBoxModel",
          "state": {
            "_dom_classes": [],
            "_model_module": "@jupyter-widgets/controls",
            "_model_module_version": "1.5.0",
            "_model_name": "HBoxModel",
            "_view_count": null,
            "_view_module": "@jupyter-widgets/controls",
            "_view_module_version": "1.5.0",
            "_view_name": "HBoxView",
            "box_style": "",
            "children": [
              "IPY_MODEL_dc7f89a0668a4e409948a8d73d63cfc0",
              "IPY_MODEL_84e371da88ef46f2b951df0a400cfd44",
              "IPY_MODEL_054575a6a9c940098fce94e59db9effe"
            ],
            "layout": "IPY_MODEL_d710d5fab2174614bdd372e15f3ed3d0"
          }
        }
      }
    }
  },
  "nbformat": 4,
  "nbformat_minor": 0
}
